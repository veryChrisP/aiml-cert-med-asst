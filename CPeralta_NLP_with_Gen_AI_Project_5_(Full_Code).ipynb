{
  "cells": [
    {
      "cell_type": "markdown",
      "metadata": {
        "id": "3CNz35ia6Bz3"
      },
      "source": [
        "## Problem Statement"
      ]
    },
    {
      "cell_type": "markdown",
      "metadata": {
        "id": "CkRbhMJH6Bz3"
      },
      "source": [
        "### Business Context"
      ]
    },
    {
      "cell_type": "markdown",
      "metadata": {
        "id": "3PBm5xaj6Bz3"
      },
      "source": [
        "The healthcare industry is rapidly evolving, with professionals facing increasing challenges in managing vast volumes of medical data while delivering accurate and timely diagnoses. The need for quick access to comprehensive, reliable, and up-to-date medical knowledge is critical for improving patient outcomes and ensuring informed decision-making in a fast-paced environment.\n",
        "\n",
        "Healthcare professionals often encounter information overload, struggling to sift through extensive research and data to create accurate diagnoses and treatment plans. This challenge is amplified by the need for efficiency, particularly in emergencies, where time-sensitive decisions are vital. Furthermore, access to trusted, current medical information from renowned manuals and research papers is essential for maintaining high standards of care.\n",
        "\n",
        "To address these challenges, healthcare centers can focus on integrating systems that streamline access to medical knowledge, provide tools to support quick decision-making, and enhance efficiency. Leveraging centralized knowledge platforms and ensuring healthcare providers have continuous access to reliable resources can significantly improve patient care and operational effectiveness."
      ]
    },
    {
      "cell_type": "markdown",
      "metadata": {
        "id": "1xDPsqvO6Bz5"
      },
      "source": [
        "**Common Questions to Answer**\n",
        "\n",
        "**1. Diagnostic Assistance**: \"What are the common symptoms and treatments for pulmonary embolism?\"\n",
        "\n",
        "**2. Drug Information**: \"Can you provide the trade names of medications used for treating hypertension?\"\n",
        "\n",
        "**3. Treatment Plans**: \"What are the first-line options and alternatives for managing rheumatoid arthritis?\"\n",
        "\n",
        "**4. Specialty Knowledge**: \"What are the diagnostic steps for suspected endocrine disorders?\"\n",
        "\n",
        "**5. Critical Care Protocols**: \"What is the protocol for managing sepsis in a critical care unit?\""
      ]
    },
    {
      "cell_type": "markdown",
      "metadata": {
        "id": "CARPKFwm6Bz4"
      },
      "source": [
        "### Objective"
      ]
    },
    {
      "cell_type": "markdown",
      "metadata": {
        "id": "dOElOEXq6Bz4"
      },
      "source": [
        "As an AI specialist, your task is to develop a RAG-based AI solution using renowned medical manuals to address healthcare challenges. The objective is to **understand** issues like information overload, **apply** AI techniques to streamline decision-making, **analyze** its impact on diagnostics and patient outcomes, **evaluate** its potential to standardize care practices, and **create** a functional prototype demonstrating its feasibility and effectiveness."
      ]
    },
    {
      "cell_type": "markdown",
      "metadata": {
        "id": "by9EvAnkSpZf"
      },
      "source": [
        "### Data Description"
      ]
    },
    {
      "cell_type": "markdown",
      "metadata": {
        "id": "Jw5LievCSru2"
      },
      "source": [
        "The **Merck Manuals** are medical references published by the American pharmaceutical company Merck & Co., that cover a wide range of medical topics, including disorders, tests, diagnoses, and drugs. The manuals have been published since 1899, when Merck & Co. was still a subsidiary of the German company Merck.\n",
        "\n",
        "The manual is provided as a PDF with over 4,000 pages divided into 23 sections."
      ]
    },
    {
      "cell_type": "markdown",
      "metadata": {
        "id": "lnwETBOE6Bz5"
      },
      "source": [
        "## Installing and Importing Necessary Libraries and Dependencies"
      ]
    },
    {
      "cell_type": "code",
      "execution_count": null,
      "metadata": {
        "colab": {
          "base_uri": "https://localhost:8080/"
        },
        "id": "q4GgLhZhUM4V",
        "outputId": "67d1ae0f-53b4-4ef4-efe5-ecbdec55dac6"
      },
      "outputs": [
        {
          "output_type": "stream",
          "name": "stdout",
          "text": [
            "\u001b[?25l     \u001b[90m━━━━━━━━━━━━━━━━━━━━━━━━━━━━━━━━━━━━━━━━\u001b[0m \u001b[32m0.0/1.8 MB\u001b[0m \u001b[31m?\u001b[0m eta \u001b[36m-:--:--\u001b[0m\r\u001b[2K     \u001b[91m━━━\u001b[0m\u001b[91m╸\u001b[0m\u001b[90m━━━━━━━━━━━━━━━━━━━━━━━━━━━━━━━━━━━━\u001b[0m \u001b[32m0.2/1.8 MB\u001b[0m \u001b[31m4.6 MB/s\u001b[0m eta \u001b[36m0:00:01\u001b[0m\r\u001b[2K     \u001b[91m━━━━━━━━━━━━━━━━━━━━━━━━━━━━━\u001b[0m\u001b[91m╸\u001b[0m\u001b[90m━━━━━━━━━━\u001b[0m \u001b[32m1.3/1.8 MB\u001b[0m \u001b[31m19.4 MB/s\u001b[0m eta \u001b[36m0:00:01\u001b[0m\r\u001b[2K     \u001b[90m━━━━━━━━━━━━━━━━━━━━━━━━━━━━━━━━━━━━━━━━\u001b[0m \u001b[32m1.8/1.8 MB\u001b[0m \u001b[31m24.6 MB/s\u001b[0m eta \u001b[36m0:00:00\u001b[0m\n",
            "\u001b[?25h  Installing build dependencies ... \u001b[?25l\u001b[?25hdone\n",
            "  Getting requirements to build wheel ... \u001b[?25l\u001b[?25hdone\n",
            "  Preparing metadata (pyproject.toml) ... \u001b[?25l\u001b[?25hdone\n",
            "\u001b[2K     \u001b[90m━━━━━━━━━━━━━━━━━━━━━━━━━━━━━━━━━━━━━━━\u001b[0m \u001b[32m62.1/62.1 kB\u001b[0m \u001b[31m220.8 MB/s\u001b[0m eta \u001b[36m0:00:00\u001b[0m\n",
            "\u001b[2K   \u001b[90m━━━━━━━━━━━━━━━━━━━━━━━━━━━━━━━━━━━━━━━━\u001b[0m \u001b[32m45.5/45.5 kB\u001b[0m \u001b[31m244.8 MB/s\u001b[0m eta \u001b[36m0:00:00\u001b[0m\n",
            "\u001b[2K   \u001b[90m━━━━━━━━━━━━━━━━━━━━━━━━━━━━━━━━━━━━━━━━\u001b[0m \u001b[32m16.9/16.9 MB\u001b[0m \u001b[31m261.2 MB/s\u001b[0m eta \u001b[36m0:00:00\u001b[0m\n",
            "\u001b[2K   \u001b[90m━━━━━━━━━━━━━━━━━━━━━━━━━━━━━━━━━━━━━━━━\u001b[0m \u001b[32m43.9/43.9 kB\u001b[0m \u001b[31m254.7 MB/s\u001b[0m eta \u001b[36m0:00:00\u001b[0m\n",
            "\u001b[?25h  Building wheel for llama-cpp-python (pyproject.toml) ... \u001b[?25l\u001b[?25hdone\n",
            "\u001b[31mERROR: pip's dependency resolver does not currently take into account all the packages that are installed. This behaviour is the source of the following dependency conflicts.\n",
            "torch 2.6.0+cu124 requires nvidia-cublas-cu12==12.4.5.8; platform_system == \"Linux\" and platform_machine == \"x86_64\", but you have nvidia-cublas-cu12 12.5.3.2 which is incompatible.\n",
            "torch 2.6.0+cu124 requires nvidia-cuda-cupti-cu12==12.4.127; platform_system == \"Linux\" and platform_machine == \"x86_64\", but you have nvidia-cuda-cupti-cu12 12.5.82 which is incompatible.\n",
            "torch 2.6.0+cu124 requires nvidia-cuda-nvrtc-cu12==12.4.127; platform_system == \"Linux\" and platform_machine == \"x86_64\", but you have nvidia-cuda-nvrtc-cu12 12.5.82 which is incompatible.\n",
            "torch 2.6.0+cu124 requires nvidia-cuda-runtime-cu12==12.4.127; platform_system == \"Linux\" and platform_machine == \"x86_64\", but you have nvidia-cuda-runtime-cu12 12.5.82 which is incompatible.\n",
            "torch 2.6.0+cu124 requires nvidia-cudnn-cu12==9.1.0.70; platform_system == \"Linux\" and platform_machine == \"x86_64\", but you have nvidia-cudnn-cu12 9.3.0.75 which is incompatible.\n",
            "torch 2.6.0+cu124 requires nvidia-cufft-cu12==11.2.1.3; platform_system == \"Linux\" and platform_machine == \"x86_64\", but you have nvidia-cufft-cu12 11.2.3.61 which is incompatible.\n",
            "torch 2.6.0+cu124 requires nvidia-curand-cu12==10.3.5.147; platform_system == \"Linux\" and platform_machine == \"x86_64\", but you have nvidia-curand-cu12 10.3.6.82 which is incompatible.\n",
            "torch 2.6.0+cu124 requires nvidia-cusolver-cu12==11.6.1.9; platform_system == \"Linux\" and platform_machine == \"x86_64\", but you have nvidia-cusolver-cu12 11.6.3.83 which is incompatible.\n",
            "torch 2.6.0+cu124 requires nvidia-cusparse-cu12==12.3.1.170; platform_system == \"Linux\" and platform_machine == \"x86_64\", but you have nvidia-cusparse-cu12 12.5.1.3 which is incompatible.\n",
            "torch 2.6.0+cu124 requires nvidia-nccl-cu12==2.21.5; platform_system == \"Linux\" and platform_machine == \"x86_64\", but you have nvidia-nccl-cu12 2.23.4 which is incompatible.\n",
            "torch 2.6.0+cu124 requires nvidia-nvjitlink-cu12==12.4.127; platform_system == \"Linux\" and platform_machine == \"x86_64\", but you have nvidia-nvjitlink-cu12 12.5.82 which is incompatible.\n",
            "opencv-contrib-python 4.12.0.88 requires numpy<2.3.0,>=2; python_version >= \"3.9\", but you have numpy 2.3.2 which is incompatible.\n",
            "numba 0.60.0 requires numpy<2.1,>=1.22, but you have numpy 2.3.2 which is incompatible.\n",
            "opencv-python-headless 4.12.0.88 requires numpy<2.3.0,>=2; python_version >= \"3.9\", but you have numpy 2.3.2 which is incompatible.\n",
            "opencv-python 4.12.0.88 requires numpy<2.3.0,>=2; python_version >= \"3.9\", but you have numpy 2.3.2 which is incompatible.\n",
            "tensorflow 2.19.0 requires numpy<2.2.0,>=1.26.0, but you have numpy 2.3.2 which is incompatible.\n",
            "cupy-cuda12x 13.3.0 requires numpy<2.3,>=1.22, but you have numpy 2.3.2 which is incompatible.\u001b[0m\u001b[31m\n",
            "\u001b[0m"
          ]
        }
      ],
      "source": [
        "# Installation for GPU llama-cpp-python\n",
        "# uncomment and run the following code in case GPU is being used\n",
        "!CMAKE_ARGS=\"-DLLAMA_CUBLAS=on\" FORCE_CMAKE=1 pip install llama-cpp-python==0.1.85 --force-reinstall --no-cache-dir -q\n",
        "\n",
        "# Installation for CPU llama-cpp-python\n",
        "# uncomment and run the following code in case GPU is not being used\n",
        "#!CMAKE_ARGS=\"-DLLAMA_CUBLAS=off\" FORCE_CMAKE=1 pip install llama-cpp-python==0.1.85 --force-reinstall --no-cache-dir -q"
      ]
    },
    {
      "cell_type": "markdown",
      "metadata": {
        "id": "mDp-EYZH-69E"
      },
      "source": [
        "**Note**:\n",
        "- After running the above cell, kindly restart the runtime (for Google Colab) or notebook kernel (for Jupyter Notebook), and run all cells sequentially from the next cell.\n",
        "- On executing the above line of code, you might see a warning regarding package dependencies. This error message can be ignored as the above code ensures that all necessary libraries and their dependencies are maintained to successfully execute the code in ***this notebook***."
      ]
    },
    {
      "cell_type": "code",
      "execution_count": null,
      "metadata": {
        "colab": {
          "base_uri": "https://localhost:8080/"
        },
        "id": "0VOckDVkWGei",
        "outputId": "61d16bc9-87d6-4218-fd03-44e1121c68b8"
      },
      "outputs": [
        {
          "output_type": "stream",
          "name": "stdout",
          "text": [
            "\u001b[?25l     \u001b[90m━━━━━━━━━━━━━━━━━━━━━━━━━━━━━━━━━━━━━━━━\u001b[0m \u001b[32m0.0/67.3 kB\u001b[0m \u001b[31m?\u001b[0m eta \u001b[36m-:--:--\u001b[0m\r\u001b[2K     \u001b[90m━━━━━━━━━━━━━━━━━━━━━━━━━━━━━━━━━━━━━━━━\u001b[0m \u001b[32m67.3/67.3 kB\u001b[0m \u001b[31m3.0 MB/s\u001b[0m eta \u001b[36m0:00:00\u001b[0m\n",
            "\u001b[?25h  Installing build dependencies ... \u001b[?25l\u001b[?25hdone\n",
            "  Getting requirements to build wheel ... \u001b[?25l\u001b[?25hdone\n",
            "  Preparing metadata (pyproject.toml) ... \u001b[?25l\u001b[?25hdone\n",
            "\u001b[2K     \u001b[90m━━━━━━━━━━━━━━━━━━━━━━━━━━━━━━━━━━━━━━━━\u001b[0m \u001b[32m41.7/41.7 kB\u001b[0m \u001b[31m3.1 MB/s\u001b[0m eta \u001b[36m0:00:00\u001b[0m\n",
            "\u001b[2K     \u001b[90m━━━━━━━━━━━━━━━━━━━━━━━━━━━━━━━━━━━━━━━━\u001b[0m \u001b[32m41.7/41.7 kB\u001b[0m \u001b[31m3.3 MB/s\u001b[0m eta \u001b[36m0:00:00\u001b[0m\n",
            "\u001b[2K     \u001b[90m━━━━━━━━━━━━━━━━━━━━━━━━━━━━━━━━━━━━━━━━\u001b[0m \u001b[32m40.9/40.9 kB\u001b[0m \u001b[31m3.2 MB/s\u001b[0m eta \u001b[36m0:00:00\u001b[0m\n",
            "\u001b[2K     \u001b[90m━━━━━━━━━━━━━━━━━━━━━━━━━━━━━━━━━━━━━━━━\u001b[0m \u001b[32m40.9/40.9 kB\u001b[0m \u001b[31m3.2 MB/s\u001b[0m eta \u001b[36m0:00:00\u001b[0m\n",
            "\u001b[2K     \u001b[90m━━━━━━━━━━━━━━━━━━━━━━━━━━━━━━━━━━━━━━━━\u001b[0m \u001b[32m40.9/40.9 kB\u001b[0m \u001b[31m2.9 MB/s\u001b[0m eta \u001b[36m0:00:00\u001b[0m\n",
            "\u001b[2K     \u001b[90m━━━━━━━━━━━━━━━━━━━━━━━━━━━━━━━━━━━━━━━━\u001b[0m \u001b[32m40.2/40.2 kB\u001b[0m \u001b[31m2.7 MB/s\u001b[0m eta \u001b[36m0:00:00\u001b[0m\n",
            "\u001b[2K     \u001b[90m━━━━━━━━━━━━━━━━━━━━━━━━━━━━━━━━━━━━━━━━\u001b[0m \u001b[32m40.2/40.2 kB\u001b[0m \u001b[31m3.1 MB/s\u001b[0m eta \u001b[36m0:00:00\u001b[0m\n",
            "\u001b[2K     \u001b[90m━━━━━━━━━━━━━━━━━━━━━━━━━━━━━━━━━━━━━━━━\u001b[0m \u001b[32m44.0/44.0 kB\u001b[0m \u001b[31m3.5 MB/s\u001b[0m eta \u001b[36m0:00:00\u001b[0m\n",
            "\u001b[2K     \u001b[90m━━━━━━━━━━━━━━━━━━━━━━━━━━━━━━━━━━━━━━━━\u001b[0m \u001b[32m44.4/44.4 kB\u001b[0m \u001b[31m3.7 MB/s\u001b[0m eta \u001b[36m0:00:00\u001b[0m\n",
            "\u001b[2K     \u001b[90m━━━━━━━━━━━━━━━━━━━━━━━━━━━━━━━━━━━━━━━━\u001b[0m \u001b[32m44.4/44.4 kB\u001b[0m \u001b[31m3.6 MB/s\u001b[0m eta \u001b[36m0:00:00\u001b[0m\n",
            "\u001b[2K     \u001b[90m━━━━━━━━━━━━━━━━━━━━━━━━━━━━━━━━━━━━━━━━\u001b[0m \u001b[32m44.4/44.4 kB\u001b[0m \u001b[31m3.6 MB/s\u001b[0m eta \u001b[36m0:00:00\u001b[0m\n",
            "\u001b[2K     \u001b[90m━━━━━━━━━━━━━━━━━━━━━━━━━━━━━━━━━━━━━━━━\u001b[0m \u001b[32m44.4/44.4 kB\u001b[0m \u001b[31m3.7 MB/s\u001b[0m eta \u001b[36m0:00:00\u001b[0m\n",
            "\u001b[2K     \u001b[90m━━━━━━━━━━━━━━━━━━━━━━━━━━━━━━━━━━━━━━━━\u001b[0m \u001b[32m44.1/44.1 kB\u001b[0m \u001b[31m3.4 MB/s\u001b[0m eta \u001b[36m0:00:00\u001b[0m\n",
            "\u001b[2K     \u001b[90m━━━━━━━━━━━━━━━━━━━━━━━━━━━━━━━━━━━━━━━━\u001b[0m \u001b[32m43.5/43.5 kB\u001b[0m \u001b[31m3.5 MB/s\u001b[0m eta \u001b[36m0:00:00\u001b[0m\n",
            "\u001b[2K     \u001b[90m━━━━━━━━━━━━━━━━━━━━━━━━━━━━━━━━━━━━━━━━\u001b[0m \u001b[32m44.1/44.1 kB\u001b[0m \u001b[31m3.7 MB/s\u001b[0m eta \u001b[36m0:00:00\u001b[0m\n",
            "\u001b[2K   \u001b[90m━━━━━━━━━━━━━━━━━━━━━━━━━━━━━━━━━━━━━━━━\u001b[0m \u001b[32m401.7/401.7 kB\u001b[0m \u001b[31m11.1 MB/s\u001b[0m eta \u001b[36m0:00:00\u001b[0m\n",
            "\u001b[2K   \u001b[90m━━━━━━━━━━━━━━━━━━━━━━━━━━━━━━━━━━━━━━━━\u001b[0m \u001b[32m12.0/12.0 MB\u001b[0m \u001b[31m115.3 MB/s\u001b[0m eta \u001b[36m0:00:00\u001b[0m\n",
            "\u001b[2K   \u001b[90m━━━━━━━━━━━━━━━━━━━━━━━━━━━━━━━━━━━━━━━━\u001b[0m \u001b[32m1.8/1.8 MB\u001b[0m \u001b[31m80.9 MB/s\u001b[0m eta \u001b[36m0:00:00\u001b[0m\n",
            "\u001b[2K   \u001b[90m━━━━━━━━━━━━━━━━━━━━━━━━━━━━━━━━━━━━━━━━\u001b[0m \u001b[32m20.0/20.0 MB\u001b[0m \u001b[31m105.3 MB/s\u001b[0m eta \u001b[36m0:00:00\u001b[0m\n",
            "\u001b[2K   \u001b[90m━━━━━━━━━━━━━━━━━━━━━━━━━━━━━━━━━━━━━━━━\u001b[0m \u001b[32m284.0/284.0 kB\u001b[0m \u001b[31m24.8 MB/s\u001b[0m eta \u001b[36m0:00:00\u001b[0m\n",
            "\u001b[2K   \u001b[90m━━━━━━━━━━━━━━━━━━━━━━━━━━━━━━━━━━━━━━━━\u001b[0m \u001b[32m802.4/802.4 kB\u001b[0m \u001b[31m54.1 MB/s\u001b[0m eta \u001b[36m0:00:00\u001b[0m\n",
            "\u001b[2K   \u001b[90m━━━━━━━━━━━━━━━━━━━━━━━━━━━━━━━━━━━━━━━━\u001b[0m \u001b[32m1.6/1.6 MB\u001b[0m \u001b[31m75.0 MB/s\u001b[0m eta \u001b[36m0:00:00\u001b[0m\n",
            "\u001b[2K   \u001b[90m━━━━━━━━━━━━━━━━━━━━━━━━━━━━━━━━━━━━━━━━\u001b[0m \u001b[32m509.0/509.0 kB\u001b[0m \u001b[31m38.7 MB/s\u001b[0m eta \u001b[36m0:00:00\u001b[0m\n",
            "\u001b[2K   \u001b[90m━━━━━━━━━━━━━━━━━━━━━━━━━━━━━━━━━━━━━━━━\u001b[0m \u001b[32m132.8/132.8 kB\u001b[0m \u001b[31m12.3 MB/s\u001b[0m eta \u001b[36m0:00:00\u001b[0m\n",
            "\u001b[2K   \u001b[90m━━━━━━━━━━━━━━━━━━━━━━━━━━━━━━━━━━━━━━━━\u001b[0m \u001b[32m18.2/18.2 MB\u001b[0m \u001b[31m112.0 MB/s\u001b[0m eta \u001b[36m0:00:00\u001b[0m\n",
            "\u001b[2K   \u001b[90m━━━━━━━━━━━━━━━━━━━━━━━━━━━━━━━━━━━━━━━━\u001b[0m \u001b[32m2.4/2.4 MB\u001b[0m \u001b[31m86.9 MB/s\u001b[0m eta \u001b[36m0:00:00\u001b[0m\n",
            "\u001b[2K   \u001b[90m━━━━━━━━━━━━━━━━━━━━━━━━━━━━━━━━━━━━━━━━\u001b[0m \u001b[32m284.2/284.2 kB\u001b[0m \u001b[31m22.8 MB/s\u001b[0m eta \u001b[36m0:00:00\u001b[0m\n",
            "\u001b[2K   \u001b[90m━━━━━━━━━━━━━━━━━━━━━━━━━━━━━━━━━━━━━━━━\u001b[0m \u001b[32m1.9/1.9 MB\u001b[0m \u001b[31m80.0 MB/s\u001b[0m eta \u001b[36m0:00:00\u001b[0m\n",
            "\u001b[2K   \u001b[90m━━━━━━━━━━━━━━━━━━━━━━━━━━━━━━━━━━━━━━━━\u001b[0m \u001b[32m241.2/241.2 kB\u001b[0m \u001b[31m18.8 MB/s\u001b[0m eta \u001b[36m0:00:00\u001b[0m\n",
            "\u001b[2K   \u001b[90m━━━━━━━━━━━━━━━━━━━━━━━━━━━━━━━━━━━━━━━━\u001b[0m \u001b[32m55.4/55.4 kB\u001b[0m \u001b[31m4.5 MB/s\u001b[0m eta \u001b[36m0:00:00\u001b[0m\n",
            "\u001b[2K   \u001b[90m━━━━━━━━━━━━━━━━━━━━━━━━━━━━━━━━━━━━━━━━\u001b[0m \u001b[32m103.1/103.1 kB\u001b[0m \u001b[31m9.2 MB/s\u001b[0m eta \u001b[36m0:00:00\u001b[0m\n",
            "\u001b[2K   \u001b[90m━━━━━━━━━━━━━━━━━━━━━━━━━━━━━━━━━━━━━━━━\u001b[0m \u001b[32m16.5/16.5 MB\u001b[0m \u001b[31m55.8 MB/s\u001b[0m eta \u001b[36m0:00:00\u001b[0m\n",
            "\u001b[2K   \u001b[90m━━━━━━━━━━━━━━━━━━━━━━━━━━━━━━━━━━━━━━━━\u001b[0m \u001b[32m65.6/65.6 kB\u001b[0m \u001b[31m6.1 MB/s\u001b[0m eta \u001b[36m0:00:00\u001b[0m\n",
            "\u001b[2K   \u001b[90m━━━━━━━━━━━━━━━━━━━━━━━━━━━━━━━━━━━━━━━━\u001b[0m \u001b[32m72.5/72.5 kB\u001b[0m \u001b[31m6.8 MB/s\u001b[0m eta \u001b[36m0:00:00\u001b[0m\n",
            "\u001b[2K   \u001b[90m━━━━━━━━━━━━━━━━━━━━━━━━━━━━━━━━━━━━━━━━\u001b[0m \u001b[32m201.6/201.6 kB\u001b[0m \u001b[31m18.0 MB/s\u001b[0m eta \u001b[36m0:00:00\u001b[0m\n",
            "\u001b[2K   \u001b[90m━━━━━━━━━━━━━━━━━━━━━━━━━━━━━━━━━━━━━━━━\u001b[0m \u001b[32m120.0/120.0 kB\u001b[0m \u001b[31m10.9 MB/s\u001b[0m eta \u001b[36m0:00:00\u001b[0m\n",
            "\u001b[2K   \u001b[90m━━━━━━━━━━━━━━━━━━━━━━━━━━━━━━━━━━━━━━━━\u001b[0m \u001b[32m53.0/53.0 kB\u001b[0m \u001b[31m4.5 MB/s\u001b[0m eta \u001b[36m0:00:00\u001b[0m\n",
            "\u001b[2K   \u001b[90m━━━━━━━━━━━━━━━━━━━━━━━━━━━━━━━━━━━━━━━━\u001b[0m \u001b[32m116.7/116.7 kB\u001b[0m \u001b[31m9.8 MB/s\u001b[0m eta \u001b[36m0:00:00\u001b[0m\n",
            "\u001b[2K   \u001b[90m━━━━━━━━━━━━━━━━━━━━━━━━━━━━━━━━━━━━━━━━\u001b[0m \u001b[32m6.6/6.6 MB\u001b[0m \u001b[31m119.0 MB/s\u001b[0m eta \u001b[36m0:00:00\u001b[0m\n",
            "\u001b[2K   \u001b[90m━━━━━━━━━━━━━━━━━━━━━━━━━━━━━━━━━━━━━━━━\u001b[0m \u001b[32m363.4/363.4 MB\u001b[0m \u001b[31m2.9 MB/s\u001b[0m eta \u001b[36m0:00:00\u001b[0m\n",
            "\u001b[2K   \u001b[90m━━━━━━━━━━━━━━━━━━━━━━━━━━━━━━━━━━━━━━━━\u001b[0m \u001b[32m13.8/13.8 MB\u001b[0m \u001b[31m119.7 MB/s\u001b[0m eta \u001b[36m0:00:00\u001b[0m\n",
            "\u001b[2K   \u001b[90m━━━━━━━━━━━━━━━━━━━━━━━━━━━━━━━━━━━━━━━━\u001b[0m \u001b[32m24.6/24.6 MB\u001b[0m \u001b[31m99.0 MB/s\u001b[0m eta \u001b[36m0:00:00\u001b[0m\n",
            "\u001b[2K   \u001b[90m━━━━━━━━━━━━━━━━━━━━━━━━━━━━━━━━━━━━━━━━\u001b[0m \u001b[32m883.7/883.7 kB\u001b[0m \u001b[31m56.1 MB/s\u001b[0m eta \u001b[36m0:00:00\u001b[0m\n",
            "\u001b[2K   \u001b[90m━━━━━━━━━━━━━━━━━━━━━━━━━━━━━━━━━━━━━━━━\u001b[0m \u001b[32m664.8/664.8 MB\u001b[0m \u001b[31m2.6 MB/s\u001b[0m eta \u001b[36m0:00:00\u001b[0m\n",
            "\u001b[2K   \u001b[90m━━━━━━━━━━━━━━━━━━━━━━━━━━━━━━━━━━━━━━━━\u001b[0m \u001b[32m211.5/211.5 MB\u001b[0m \u001b[31m4.9 MB/s\u001b[0m eta \u001b[36m0:00:00\u001b[0m\n",
            "\u001b[2K   \u001b[90m━━━━━━━━━━━━━━━━━━━━━━━━━━━━━━━━━━━━━━━━\u001b[0m \u001b[32m56.3/56.3 MB\u001b[0m \u001b[31m41.3 MB/s\u001b[0m eta \u001b[36m0:00:00\u001b[0m\n",
            "\u001b[2K   \u001b[90m━━━━━━━━━━━━━━━━━━━━━━━━━━━━━━━━━━━━━━━━\u001b[0m \u001b[32m127.9/127.9 MB\u001b[0m \u001b[31m19.6 MB/s\u001b[0m eta \u001b[36m0:00:00\u001b[0m\n",
            "\u001b[2K   \u001b[90m━━━━━━━━━━━━━━━━━━━━━━━━━━━━━━━━━━━━━━━━\u001b[0m \u001b[32m207.5/207.5 MB\u001b[0m \u001b[31m4.2 MB/s\u001b[0m eta \u001b[36m0:00:00\u001b[0m\n",
            "\u001b[2K   \u001b[90m━━━━━━━━━━━━━━━━━━━━━━━━━━━━━━━━━━━━━━━━\u001b[0m \u001b[32m188.7/188.7 MB\u001b[0m \u001b[31m6.4 MB/s\u001b[0m eta \u001b[36m0:00:00\u001b[0m\n",
            "\u001b[2K   \u001b[90m━━━━━━━━━━━━━━━━━━━━━━━━━━━━━━━━━━━━━━━━\u001b[0m \u001b[32m21.1/21.1 MB\u001b[0m \u001b[31m100.3 MB/s\u001b[0m eta \u001b[36m0:00:00\u001b[0m\n",
            "\u001b[2K   \u001b[90m━━━━━━━━━━━━━━━━━━━━━━━━━━━━━━━━━━━━━━━━\u001b[0m \u001b[32m10.0/10.0 MB\u001b[0m \u001b[31m109.4 MB/s\u001b[0m eta \u001b[36m0:00:00\u001b[0m\n",
            "\u001b[2K   \u001b[90m━━━━━━━━━━━━━━━━━━━━━━━━━━━━━━━━━━━━━━━━\u001b[0m \u001b[32m3.0/3.0 MB\u001b[0m \u001b[31m96.7 MB/s\u001b[0m eta \u001b[36m0:00:00\u001b[0m\n",
            "\u001b[2K   \u001b[90m━━━━━━━━━━━━━━━━━━━━━━━━━━━━━━━━━━━━━━━━\u001b[0m \u001b[32m459.8/459.8 kB\u001b[0m \u001b[31m34.6 MB/s\u001b[0m eta \u001b[36m0:00:00\u001b[0m\n",
            "\u001b[2K   \u001b[90m━━━━━━━━━━━━━━━━━━━━━━━━━━━━━━━━━━━━━━━━\u001b[0m \u001b[32m50.9/50.9 kB\u001b[0m \u001b[31m3.8 MB/s\u001b[0m eta \u001b[36m0:00:00\u001b[0m\n",
            "\u001b[2K   \u001b[90m━━━━━━━━━━━━━━━━━━━━━━━━━━━━━━━━━━━━━━━━\u001b[0m \u001b[32m4.0/4.0 MB\u001b[0m \u001b[31m109.0 MB/s\u001b[0m eta \u001b[36m0:00:00\u001b[0m\n",
            "\u001b[2K   \u001b[90m━━━━━━━━━━━━━━━━━━━━━━━━━━━━━━━━━━━━━━━━\u001b[0m \u001b[32m453.1/453.1 kB\u001b[0m \u001b[31m33.4 MB/s\u001b[0m eta \u001b[36m0:00:00\u001b[0m\n",
            "\u001b[2K   \u001b[90m━━━━━━━━━━━━━━━━━━━━━━━━━━━━━━━━━━━━━━━━\u001b[0m \u001b[32m46.0/46.0 kB\u001b[0m \u001b[31m3.3 MB/s\u001b[0m eta \u001b[36m0:00:00\u001b[0m\n",
            "\u001b[2K   \u001b[90m━━━━━━━━━━━━━━━━━━━━━━━━━━━━━━━━━━━━━━━━\u001b[0m \u001b[32m86.8/86.8 kB\u001b[0m \u001b[31m7.3 MB/s\u001b[0m eta \u001b[36m0:00:00\u001b[0m\n",
            "\u001b[?25h  Building wheel for pypika (pyproject.toml) ... \u001b[?25l\u001b[?25hdone\n",
            "\u001b[31mERROR: pip's dependency resolver does not currently take into account all the packages that are installed. This behaviour is the source of the following dependency conflicts.\n",
            "google-colab 1.0.0 requires pandas==2.2.2, but you have pandas 1.5.3 which is incompatible.\n",
            "xarray 2025.7.1 requires numpy>=1.26, but you have numpy 1.25.2 which is incompatible.\n",
            "xarray 2025.7.1 requires packaging>=24.1, but you have packaging 23.2 which is incompatible.\n",
            "xarray 2025.7.1 requires pandas>=2.2, but you have pandas 1.5.3 which is incompatible.\n",
            "datasets 4.0.0 requires huggingface-hub>=0.24.0, but you have huggingface-hub 0.23.2 which is incompatible.\n",
            "arviz 0.22.0 requires numpy>=1.26.0, but you have numpy 1.25.2 which is incompatible.\n",
            "arviz 0.22.0 requires pandas>=2.1.0, but you have pandas 1.5.3 which is incompatible.\n",
            "opencv-contrib-python 4.12.0.88 requires numpy<2.3.0,>=2; python_version >= \"3.9\", but you have numpy 1.25.2 which is incompatible.\n",
            "dask-cudf-cu12 25.6.0 requires pandas<2.2.4dev0,>=2.0, but you have pandas 1.5.3 which is incompatible.\n",
            "plotnine 0.14.5 requires pandas>=2.2.0, but you have pandas 1.5.3 which is incompatible.\n",
            "mizani 0.13.5 requires pandas>=2.2.0, but you have pandas 1.5.3 which is incompatible.\n",
            "blosc2 3.6.1 requires numpy>=1.26, but you have numpy 1.25.2 which is incompatible.\n",
            "opencv-python-headless 4.12.0.88 requires numpy<2.3.0,>=2; python_version >= \"3.9\", but you have numpy 1.25.2 which is incompatible.\n",
            "opencv-python 4.12.0.88 requires numpy<2.3.0,>=2; python_version >= \"3.9\", but you have numpy 1.25.2 which is incompatible.\n",
            "cudf-cu12 25.6.0 requires pandas<2.2.4dev0,>=2.0, but you have pandas 1.5.3 which is incompatible.\n",
            "langchain-text-splitters 0.3.9 requires langchain-core<1.0.0,>=0.3.72, but you have langchain-core 0.1.23 which is incompatible.\n",
            "geopandas 1.1.1 requires pandas>=2.0.0, but you have pandas 1.5.3 which is incompatible.\n",
            "thinc 8.3.6 requires numpy<3.0.0,>=2.0.0, but you have numpy 1.25.2 which is incompatible.\n",
            "peft 0.17.0 requires huggingface_hub>=0.25.0, but you have huggingface-hub 0.23.2 which is incompatible.\n",
            "google-cloud-bigquery 3.35.1 requires packaging>=24.2.0, but you have packaging 23.2 which is incompatible.\n",
            "gradio 5.41.0 requires huggingface-hub<1.0,>=0.33.5, but you have huggingface-hub 0.23.2 which is incompatible.\n",
            "tensorflow 2.19.0 requires numpy<2.2.0,>=1.26.0, but you have numpy 1.25.2 which is incompatible.\n",
            "diffusers 0.34.0 requires huggingface-hub>=0.27.0, but you have huggingface-hub 0.23.2 which is incompatible.\n",
            "db-dtypes 1.4.3 requires packaging>=24.2.0, but you have packaging 23.2 which is incompatible.\u001b[0m\u001b[31m\n",
            "\u001b[0m"
          ]
        }
      ],
      "source": [
        "# For installing the libraries & downloading models from HF Hub\n",
        "#added pypdf\n",
        "!pip install huggingface_hub==0.23.2 pandas==1.5.3 tiktoken==0.6.0 pymupdf==1.25.1 pypdf==4.0.1 langchain==0.1.1 langchain-community==0.0.13 chromadb==0.4.22 sentence-transformers==2.3.1 numpy==1.25.2 -q"
      ]
    },
    {
      "cell_type": "markdown",
      "metadata": {
        "id": "y2EEYodpoUhW"
      },
      "source": [
        "**Note**:\n",
        "- After running the above cell, kindly restart the runtime (for Google Colab) or notebook kernel (for Jupyter Notebook), and run all cells sequentially from the next cell.\n",
        "- On executing the above line of code, you might see a warning regarding package dependencies. This error message can be ignored as the above code ensures that all necessary libraries and their dependencies are maintained to successfully execute the code in ***this notebook***."
      ]
    },
    {
      "cell_type": "code",
      "execution_count": null,
      "metadata": {
        "colab": {
          "base_uri": "https://localhost:8080/",
          "height": 34
        },
        "id": "9hVIRHuh28mI",
        "outputId": "5dcf74e5-285e-4275-d284-d4a32d6a17a9"
      },
      "outputs": [
        {
          "output_type": "display_data",
          "data": {
            "application/javascript": [
              "IPython.notebook.set_autosave_interval(0)"
            ]
          },
          "metadata": {}
        },
        {
          "output_type": "stream",
          "name": "stdout",
          "text": [
            "Autosave disabled\n"
          ]
        }
      ],
      "source": [
        "#disable autosave so it doesn't disrupt notebook execution\n",
        "%autosave 0"
      ]
    },
    {
      "cell_type": "code",
      "execution_count": null,
      "metadata": {
        "colab": {
          "base_uri": "https://localhost:8080/"
        },
        "id": "3_yViQ2JvL9i",
        "outputId": "128708dd-71cf-451e-a85f-1d1bda3c7f31"
      },
      "outputs": [
        {
          "output_type": "stream",
          "name": "stdout",
          "text": [
            "Mounted at /content/drive\n"
          ]
        }
      ],
      "source": [
        "from google.colab import drive\n",
        "drive.mount('/content/drive')"
      ]
    },
    {
      "cell_type": "code",
      "execution_count": null,
      "metadata": {
        "id": "RTY9GN4oWK3g"
      },
      "outputs": [],
      "source": [
        "#Libraries for processing dataframes,text\n",
        "import json,os\n",
        "import tiktoken\n",
        "import pandas as pd\n",
        "\n",
        "#Libraries for Loading Data, Chunking, Embedding, and Vector Databases\n",
        "from langchain.text_splitter import RecursiveCharacterTextSplitter\n",
        "from langchain_community.document_loaders import PyMuPDFLoader\n",
        "from langchain_community.embeddings.sentence_transformer import SentenceTransformerEmbeddings\n",
        "from langchain_community.vectorstores import Chroma\n",
        "from langchain_community.document_loaders import PyPDFDirectoryLoader, PyPDFLoader\n",
        "\n",
        "#Libraries for downloading and loading the llm\n",
        "from huggingface_hub import hf_hub_download\n",
        "from llama_cpp import Llama"
      ]
    },
    {
      "cell_type": "markdown",
      "metadata": {
        "id": "TtZWqj0wFTS1"
      },
      "source": [
        "## Question Answering using LLM"
      ]
    },
    {
      "cell_type": "markdown",
      "metadata": {
        "id": "Uq1lhM4WFTS2"
      },
      "source": [
        "#### Downloading and Loading the model"
      ]
    },
    {
      "cell_type": "markdown",
      "source": [
        "I tried using Llama 2 chat with 13 billion parameters, but Google Colab's T4 with high ram kept running out of memory, and upgrading to Colab Pro and using A100 and L4 resulted in a host of environment and library and dependencies issues. Academic advising instructed me to use Mistral Instruct with 7 billion parameters and the memory issues resolved, but I had to make adjustments to the system/user instructions and prompts because of Mistral Instruct's unique eccentricities."
      ],
      "metadata": {
        "id": "HuxkWnw006sX"
      }
    },
    {
      "cell_type": "code",
      "execution_count": null,
      "metadata": {
        "colab": {
          "base_uri": "https://localhost:8080/",
          "height": 173,
          "referenced_widgets": [
            "c48417efbfe249b0b919c525f9801317",
            "53276a3ec9c44136a430786692e49eea",
            "1693abc125bf4c3289e577e745ef0902",
            "090d6c273e91494280c3df6c6b755af5",
            "75176037769f4b8caaf71f3af2267594",
            "906b07c744a94863af59e98b65794ba1",
            "76992247c24e48a2bae57713ef51d7cb",
            "89488f61d61f4effba28515fc135a32c",
            "8cb67a584339429cbb0337b7fef7929b",
            "36e69a9d7e064329a2250748d11fd2d3",
            "940c1f926d514641abbdbf3dab2f7fe7"
          ]
        },
        "id": "dA3XQMWmQLJp",
        "outputId": "d940b796-934e-4105-fd30-30e16a2ae231"
      },
      "outputs": [
        {
          "output_type": "stream",
          "name": "stderr",
          "text": [
            "/usr/local/lib/python3.11/dist-packages/huggingface_hub/utils/_token.py:89: UserWarning: \n",
            "The secret `HF_TOKEN` does not exist in your Colab secrets.\n",
            "To authenticate with the Hugging Face Hub, create a token in your settings tab (https://huggingface.co/settings/tokens), set it as secret in your Google Colab and restart your session.\n",
            "You will be able to reuse this secret in all of your notebooks.\n",
            "Please note that authentication is recommended but still optional to access public models or datasets.\n",
            "  warnings.warn(\n"
          ]
        },
        {
          "output_type": "display_data",
          "data": {
            "text/plain": [
              "mistral-7b-instruct-v0.2.Q6_K.gguf:   0%|          | 0.00/5.94G [00:00<?, ?B/s]"
            ],
            "application/vnd.jupyter.widget-view+json": {
              "version_major": 2,
              "version_minor": 0,
              "model_id": "c48417efbfe249b0b919c525f9801317"
            }
          },
          "metadata": {}
        }
      ],
      "source": [
        "# loading model used in LLMs and prompt engineering lecture and extra case study\n",
        "model_name_or_path = \"TheBloke/Mistral-7B-Instruct-v0.2-GGUF\"\n",
        "model_basename = \"mistral-7b-instruct-v0.2.Q6_K.gguf\"\n",
        "model_path = hf_hub_download(\n",
        "    repo_id=model_name_or_path,\n",
        "    filename=model_basename\n",
        "    )"
      ]
    },
    {
      "cell_type": "code",
      "execution_count": null,
      "metadata": {
        "colab": {
          "base_uri": "https://localhost:8080/"
        },
        "id": "jndVgyOeFzaK",
        "outputId": "af8a0569-19d5-41a8-b8ed-476b2dc783ea"
      },
      "outputs": [
        {
          "output_type": "stream",
          "name": "stderr",
          "text": [
            "AVX = 1 | AVX2 = 1 | AVX512 = 0 | AVX512_VBMI = 0 | AVX512_VNNI = 0 | FMA = 1 | NEON = 0 | ARM_FMA = 0 | F16C = 1 | FP16_VA = 0 | WASM_SIMD = 0 | BLAS = 1 | SSE3 = 1 | SSSE3 = 1 | VSX = 0 | \n"
          ]
        }
      ],
      "source": [
        "llm = Llama(\n",
        "    model_path=model_path,\n",
        "    n_threads=2,  # CPU cores\n",
        "    n_batch=256,  # Should be between 1 and n_ctx, consider the amount of VRAM in your GPU.\n",
        "    n_gpu_layers=-1,  # Change this value based on your model and your GPU VRAM pool.\n",
        "    n_ctx=4096,  # Context window\n",
        ")"
      ]
    },
    {
      "cell_type": "markdown",
      "metadata": {
        "id": "EzzkvIXvFTS4"
      },
      "source": [
        "#### Response"
      ]
    },
    {
      "cell_type": "code",
      "execution_count": null,
      "metadata": {
        "id": "hG_IaZj0QLw4"
      },
      "outputs": [],
      "source": [
        "def response(query,max_tokens=128,temperature=0,top_p=0.95,top_k=50):\n",
        "    model_output = llm(\n",
        "      prompt=query,\n",
        "      max_tokens=max_tokens,\n",
        "      temperature=temperature,\n",
        "      top_p=top_p,\n",
        "      top_k=top_k\n",
        "    )\n",
        "\n",
        "    return model_output['choices'][0]['text']"
      ]
    },
    {
      "cell_type": "markdown",
      "metadata": {
        "id": "K8YgK91SFjVY"
      },
      "source": [
        "### Query 1: What is the protocol for managing sepsis in a critical care unit?"
      ]
    },
    {
      "cell_type": "markdown",
      "metadata": {
        "id": "kukEXffSeJCO"
      },
      "source": [
        "Various websites say to use [INST] and [/INST] when prompting Mistral Instruct, so I did that here."
      ]
    },
    {
      "cell_type": "code",
      "execution_count": null,
      "metadata": {
        "colab": {
          "base_uri": "https://localhost:8080/"
        },
        "id": "-JLIVmpPQH0f",
        "outputId": "3b6d9747-52ad-40b9-feee-2e52cafcb472"
      },
      "outputs": [
        {
          "output_type": "stream",
          "name": "stdout",
          "text": [
            " Sepsis is a life-threatening condition that can arise from an infection, and it requires prompt recognition and management in a critical care unit. The following are general steps for managing sepsis in a critical care unit:\n",
            "\n",
            "1. Early Recognition: Identify sepsis early by recognizing the signs and symptoms, which may include fever or hypothermia, tachycardia or bradycardia, altered mental status, respiratory distress, and lactic acidosis. Use validated scoring systems such as the Sequential Organ Failure Assessment (SOFA) score or\n"
          ]
        }
      ],
      "source": [
        "user_prompt = \"[INST]What is the protocol for managing sepsis in a critical care unit?[/INST]\"\n",
        "model_response = response(user_prompt)\n",
        "print(model_response)"
      ]
    },
    {
      "cell_type": "markdown",
      "source": [
        "The response was cut off, likely by the token limit. The response was also pretty technical, using some medical jargon, and less generic than I would have expected."
      ],
      "metadata": {
        "id": "ztoWSyFQ9HAv"
      }
    },
    {
      "cell_type": "markdown",
      "metadata": {
        "id": "J6yxICeVFjVc"
      },
      "source": [
        "### Query 2: What are the common symptoms for appendicitis, and can it be cured via medicine? If not, what surgical procedure should be followed to treat it?"
      ]
    },
    {
      "cell_type": "code",
      "execution_count": null,
      "metadata": {
        "colab": {
          "base_uri": "https://localhost:8080/"
        },
        "id": "BdiHRgEqQIP9",
        "outputId": "d745dd3a-dcd4-4992-8264-0c228a519017"
      },
      "outputs": [
        {
          "output_type": "stream",
          "name": "stderr",
          "text": [
            "Llama.generate: prefix-match hit\n"
          ]
        },
        {
          "output_type": "stream",
          "name": "stdout",
          "text": [
            " Appendicitis is a medical condition characterized by inflammation of the appendix, a small pouch-like structure that extends from the large intestine. The following are common symptoms of appendicitis:\n",
            "\n",
            "1. Abdominal pain: The pain is typically located in the lower right side of the abdomen and may be constant or come and go. It may start as a mild discomfort, but it can quickly become severe and sharp.\n",
            "2. Loss of appetite: People with appendicitis often lose their appetite due to abdominal pain and nausea.\n",
            "3. Nausea and\n"
          ]
        }
      ],
      "source": [
        "user_prompt = \"[INST]What are the common symptoms for appendicitis, and can it be cured via medicine? If not, what surgical procedure should be followed to treat it?[/INST]\"\n",
        "model_response = response(user_prompt)\n",
        "print(model_response)"
      ]
    },
    {
      "cell_type": "markdown",
      "source": [
        "The response was again cut off, so we didn't find out all the symptoms or the surgical procedure needed. This answer didn't feel as technical as the first."
      ],
      "metadata": {
        "id": "UBEVJCbh-KrT"
      }
    },
    {
      "cell_type": "markdown",
      "metadata": {
        "id": "oflaoOGiFjVd"
      },
      "source": [
        "### Query 3: What are the effective treatments or solutions for addressing sudden patchy hair loss, commonly seen as localized bald spots on the scalp, and what could be the possible causes behind it?"
      ]
    },
    {
      "cell_type": "code",
      "execution_count": null,
      "metadata": {
        "colab": {
          "base_uri": "https://localhost:8080/"
        },
        "id": "N-mx9yboQIt-",
        "outputId": "4b395020-0f84-4602-8589-83c4384dd7d6"
      },
      "outputs": [
        {
          "output_type": "stream",
          "name": "stderr",
          "text": [
            "Llama.generate: prefix-match hit\n"
          ]
        },
        {
          "output_type": "stream",
          "name": "stdout",
          "text": [
            " Sudden patchy hair loss, also known as alopecia areata, is an autoimmune condition that causes hair loss in small patches on the scalp or other parts of the body. The exact cause of alopecia areata is not known, but it's believed to be related to a problem with the immune system. Here are some effective treatments and possible causes:\n",
            "\n",
            "1. Corticosteroids: These medications can help reduce inflammation and suppress the immune system response that causes hair loss. They can be applied directly to the affected area as a cream or ointment, or taken or\n"
          ]
        }
      ],
      "source": [
        "user_prompt = \"[INST]What are the effective treatments or solutions for addressing sudden patchy hair loss, commonly seen as localized bald spots on the scalp, and what could be the possible causes behind it?[/INST]\"\n",
        "model_response = response(user_prompt)\n",
        "print(model_response)"
      ]
    },
    {
      "cell_type": "markdown",
      "source": [
        "The answer was cut off by the token limit again. The LLM answered the second part of the question (possible causes) first, then answered with the effective treatments."
      ],
      "metadata": {
        "id": "Uh53BaBfAy09"
      }
    },
    {
      "cell_type": "markdown",
      "metadata": {
        "id": "WUUqY4FbFjVe"
      },
      "source": [
        "### Query 4:  What treatments are recommended for a person who has sustained a physical injury to brain tissue, resulting in temporary or permanent impairment of brain function?"
      ]
    },
    {
      "cell_type": "code",
      "execution_count": null,
      "metadata": {
        "colab": {
          "base_uri": "https://localhost:8080/"
        },
        "id": "TEsVMaKaQJzh",
        "outputId": "1134a36e-d717-4bd9-ac69-6e497dc0847a"
      },
      "outputs": [
        {
          "output_type": "stream",
          "name": "stderr",
          "text": [
            "Llama.generate: prefix-match hit\n"
          ]
        },
        {
          "output_type": "stream",
          "name": "stdout",
          "text": [
            " Treatment for a physical injury to the brain tissue depends on the severity and location of the injury. Here are some common treatments that may be recommended:\n",
            "\n",
            "1. Emergency care: If the injury is recent, the first priority is to ensure the person's airway is clear, they are breathing, and their heart is beating. This may involve calling emergency services, providing CPR if necessary, and administering oxygen.\n",
            "2. Surgery: In some cases, surgery may be required to remove blood clots or repair skull fractures.\n",
            "3. Medications: Depending on the symptoms, medications may be\n"
          ]
        }
      ],
      "source": [
        "user_prompt = \"[INST]What treatments are recommended for a person who has sustained a physical injury to brain tissue, resulting in temporary or permanent impairment of brain function?[/INST]\"\n",
        "model_response = response(user_prompt)\n",
        "print(model_response)"
      ]
    },
    {
      "cell_type": "markdown",
      "source": [
        "This answer was also cut off. The recommended treatments were very general and wide-ranging (from surgery to medications), which makes sense since the question asks about \"physical injury to brain tissue\" without more specifics."
      ],
      "metadata": {
        "id": "mnNx6Kw2Bu3I"
      }
    },
    {
      "cell_type": "markdown",
      "metadata": {
        "id": "5laPFTHrFjVf"
      },
      "source": [
        "### Query 5: What are the necessary precautions and treatment steps for a person who has fractured their leg during a hiking trip, and what should be considered for their care and recovery?"
      ]
    },
    {
      "cell_type": "code",
      "execution_count": null,
      "metadata": {
        "colab": {
          "base_uri": "https://localhost:8080/"
        },
        "id": "VfrlmrP5QKJz",
        "outputId": "b907f417-537a-46fd-c18f-67c0ba9c96f1"
      },
      "outputs": [
        {
          "output_type": "stream",
          "name": "stderr",
          "text": [
            "Llama.generate: prefix-match hit\n"
          ]
        },
        {
          "output_type": "stream",
          "name": "stdout",
          "text": [
            " If a person has fractured their leg during a hiking trip, it is important to take the following necessary precautions and treatment steps:\n",
            "\n",
            "1. Assess the situation: Check the severity of the injury and ensure the safety of both the injured person and any companions. If the fracture is open or the person is in severe pain, shock, or unable to move, call for emergency medical help immediately.\n",
            "\n",
            "2. Immobilize the leg: Use a splint, sling, or other immobilizing device to prevent further movement of the fractured bone. This will help reduce pain and prevent complic\n"
          ]
        }
      ],
      "source": [
        "user_prompt = \"[INST]What are the necessary precautions and treatment steps for a person who has fractured their leg during a hiking trip, and what should be considered for their care and recovery?[/INST]\"\n",
        "model_response = response(user_prompt)\n",
        "print(model_response)"
      ]
    },
    {
      "cell_type": "markdown",
      "source": [
        "This answer was also cut off by the token limit, so the LLM never got to answer the part of the question on care and recovery."
      ],
      "metadata": {
        "id": "2PvvtUUGDMxD"
      }
    },
    {
      "cell_type": "markdown",
      "metadata": {
        "id": "g5myZ5dOOefc"
      },
      "source": [
        "## Question Answering using LLM with Prompt Engineering"
      ]
    },
    {
      "cell_type": "markdown",
      "metadata": {
        "id": "LVXWvAtqRoAZ"
      },
      "source": [
        "Parameter tuning testing strategy to run on each query:\n",
        "- Set max tokens to 500 -- see more of what the \"vanilla\" answer would be\n",
        "- max tokens 500, temperature = 0.7, top_p = 0.5 (higher temp, lower top p)\n",
        "- max tokens 500, temperature = 0.7, top_p = 1.0 (higher temp, higher top p)\n",
        "- max tokens 500, temperature = 0.7, top_k =  20 (higher temp, lower top k)\n",
        "- max tokens 500, temperature = 0.7, top_k = 100 (higher temp, higher top k)"
      ]
    },
    {
      "cell_type": "markdown",
      "metadata": {
        "id": "9Jg3r_LWOeff"
      },
      "source": [
        "### Query 1: What is the protocol for managing sepsis in a critical care unit?"
      ]
    },
    {
      "cell_type": "code",
      "execution_count": null,
      "metadata": {
        "colab": {
          "base_uri": "https://localhost:8080/"
        },
        "id": "YqM4VMw5ROhX",
        "outputId": "56379f3a-cfa4-49de-ad71-ba472e45df64"
      },
      "outputs": [
        {
          "output_type": "stream",
          "name": "stderr",
          "text": [
            "Llama.generate: prefix-match hit\n"
          ]
        },
        {
          "output_type": "stream",
          "name": "stdout",
          "text": [
            " The protocol for managing sepsis in a critical care unit is called the \"Sepsis Resuscitation Protocol\" or \"Septic Shock Protocol.\" This protocol focuses on early recognition and rapid response to sepsis, with the goal of improving outcomes by ensuring adequate tissue perfusion through the administration of fluids and vasopressors if needed. It also includes monitoring and treatment of lactate levels, urine output, and other vital signs. The most commonly used protocol is the Surviving Sepsis Campaign guidelines.\n"
          ]
        }
      ],
      "source": [
        "#fill in the blank\n",
        "\n",
        "user_prompt = \"[INST]Fill in the blank: the protocol for managing sepsis in a critical care unit is: ___[/INST]\"\n",
        "model_response = response(user_prompt)\n",
        "print(model_response)"
      ]
    },
    {
      "cell_type": "markdown",
      "source": [
        "The length of the response was surprising; I expected the LLM to deliver a short answer because of the prompt format. The answer was also pretty technical, like the LLM's first answer to the sepsis question."
      ],
      "metadata": {
        "id": "ne45VtOiEztN"
      }
    },
    {
      "cell_type": "code",
      "execution_count": null,
      "metadata": {
        "colab": {
          "base_uri": "https://localhost:8080/"
        },
        "id": "6qnauoiHh1Wi",
        "outputId": "6dbe1ffe-9e12-4cbd-b203-afd0baff4c3c"
      },
      "outputs": [
        {
          "output_type": "stream",
          "name": "stderr",
          "text": [
            "Llama.generate: prefix-match hit\n"
          ]
        },
        {
          "output_type": "stream",
          "name": "stdout",
          "text": [
            " Sepsis is a life-threatening condition that can arise from an infection. It occurs when the body's response to an infection causes widespread inflammation, leading to damage to various organs in the body. The symptoms of sepsis can include fever, chills, rapid heart rate, rapid breathing, low blood pressure, confusion or disorientation, and in severe cases, organ failure and even death.\n",
            "\n",
            "Sepsis is typically caused by an infection that enters the body through a wound, urinary tract, respiratory system, or gastrointestinal tract. The most common bacteria that\n"
          ]
        }
      ],
      "source": [
        "#iterative\n",
        "user_prompt = \"[INST]What is sepsis?[/INST]\"\n",
        "model_response = response(user_prompt)\n",
        "print(model_response)"
      ]
    },
    {
      "cell_type": "code",
      "execution_count": null,
      "metadata": {
        "colab": {
          "base_uri": "https://localhost:8080/"
        },
        "id": "L2PFkgF2hqOf",
        "outputId": "d517c0d2-325f-4a7e-99a6-01ce151d3636"
      },
      "outputs": [
        {
          "output_type": "stream",
          "name": "stderr",
          "text": [
            "Llama.generate: prefix-match hit\n"
          ]
        },
        {
          "output_type": "stream",
          "name": "stdout",
          "text": [
            " Sepsis is a serious condition that requires prompt medical attention. If you suspect that you or someone else may have sepsis, it's important to seek medical help right away. Here are some steps you can take:\n",
            "\n",
            "1. Call your doctor or healthcare provider: Explain your symptoms and concerns, and follow their instructions. They may recommend coming in for an evaluation or providing guidance on how to manage your symptoms at home.\n",
            "2. Go to the emergency room: If you're experiencing severe symptoms such as difficulty breathing, rapid heartbeat, confusion, or decreased urine output, go to the emergency room\n"
          ]
        }
      ],
      "source": [
        "user_prompt = \"[INST]What should someone who thinks they may be dealing with sepsis do?[/INST]\"\n",
        "model_response = response(user_prompt)\n",
        "print(model_response)"
      ]
    },
    {
      "cell_type": "code",
      "execution_count": null,
      "metadata": {
        "colab": {
          "base_uri": "https://localhost:8080/"
        },
        "id": "gaoZehiAhS8i",
        "outputId": "b7d679f4-f4a3-4d28-8fa5-ee18ae50bd2c"
      },
      "outputs": [
        {
          "output_type": "stream",
          "name": "stderr",
          "text": [
            "Llama.generate: prefix-match hit\n"
          ]
        },
        {
          "output_type": "stream",
          "name": "stdout",
          "text": [
            " Sepsis is a life-threatening condition that occurs when the body's response to an infection causes damage to its own tissues and organs. Here are some general steps that emergency room (ER) staff may take to care for a patient dealing with sepsis:\n",
            "\n",
            "1. Recognition and assessment: ER staff will first assess the patient's vital signs, such as heart rate, respiratory rate, blood pressure, temperature, and oxygen saturation levels. They will also evaluate the patient's level of consciousness and look for signs of infection, such as redness, swelling, or\n"
          ]
        }
      ],
      "source": [
        "user_prompt = \"[INST]What steps does emergency room staff take to care for a patient dealing with sepsis?[/INST]\"\n",
        "model_response = response(user_prompt)\n",
        "print(model_response)"
      ]
    },
    {
      "cell_type": "markdown",
      "source": [
        "Some of the responses to the iterative prompt engineering were cut off. They also felt a little repetitive at the beginning-- the LLM set each answer up with a short explainer on sepsis and how it's a serious condition. This made each answer feel separate and unrelated to the previous, rather than a series of related prompts and answers."
      ],
      "metadata": {
        "id": "eSt-yUprHOye"
      }
    },
    {
      "cell_type": "markdown",
      "metadata": {
        "id": "CsvF6INwU6yA"
      },
      "source": [
        "#### Parameter Tuning"
      ]
    },
    {
      "cell_type": "code",
      "execution_count": null,
      "metadata": {
        "colab": {
          "base_uri": "https://localhost:8080/"
        },
        "id": "4l0f16fMNejK",
        "outputId": "a7a26bef-82bf-4a8b-f43c-504cb9d8a70b"
      },
      "outputs": [
        {
          "output_type": "stream",
          "name": "stderr",
          "text": [
            "Llama.generate: prefix-match hit\n"
          ]
        },
        {
          "output_type": "stream",
          "name": "stdout",
          "text": [
            " Sepsis is a life-threatening condition that can arise from an infection, and it requires prompt recognition and management in a critical care unit. The following are general steps for managing sepsis in a critical care unit:\n",
            "\n",
            "1. Early Recognition: Identify sepsis early by recognizing the signs and symptoms, which may include fever or hypothermia, tachycardia or bradycardia, altered mental status, respiratory distress, and lactic acidosis. Use validated scoring systems such as the Sequential Organ Failure Assessment (SOFA) score or Quick Sequential Organ Failure Assessment (qSOFA) to help identify patients at risk for sepsis.\n",
            "2. Immediate Fluid Resuscitation: Administer intravenous fluids to maintain adequate tissue perfusion and prevent hypotension. The goal is to achieve a mean arterial pressure (MAP) of 65 mmHg or higher, and a central venous pressure (CVP) between 8-12 mmHg in mechanically ventilated patients.\n",
            "3. Antibiotics: Administer broad-spectrum antibiotics as soon as possible based on the suspected source of infection and local microbiology data. Consider obtaining cultures before administering antibiotics if the source of infection is unclear or contaminated.\n",
            "4. Source Control: Identify and address the source of infection, which may include surgical intervention, drainage, or debridement.\n",
            "5. Vasopressors: If fluid resuscitation fails to maintain adequate tissue perfusion, administer vasopressors to maintain MAP above 65 mmHg.\n",
            "6. Corticosteroids: Consider using corticosteroids in patients with septic shock who have not responded to fluid resuscitation and vasopressor therapy within an hour.\n",
            "7. Inotropes: Use inotropic agents to improve cardiac output in patients with sepsis-induced cardiomyopathy.\n",
            "8. Mechanical Ventilation: Provide mechanical ventilation as needed to support respiratory function and maintain adequate oxygenation and ventilation.\n",
            "9. Renal Replacement Therapy: Consider initiating renal replacement therapy in patients with sepsis-induced acute kidney injury or those who are at high risk for developing\n"
          ]
        }
      ],
      "source": [
        "#increasing max tokens\n",
        "user_prompt = \"[INST]What is the protocol for managing sepsis in a critical care unit?[/INST]\"\n",
        "model_response = response(user_prompt, max_tokens = 500)\n",
        "print(model_response)"
      ]
    },
    {
      "cell_type": "code",
      "execution_count": null,
      "metadata": {
        "colab": {
          "base_uri": "https://localhost:8080/"
        },
        "id": "kaDwuVyQXLQm",
        "outputId": "ab4d1e72-7f49-4c8c-8d0a-ebe07c98fab5"
      },
      "outputs": [
        {
          "output_type": "stream",
          "name": "stderr",
          "text": [
            "Llama.generate: prefix-match hit\n"
          ]
        },
        {
          "output_type": "stream",
          "name": "stdout",
          "text": [
            " Sepsis is a life-threatening condition that can arise from an infection, and it requires prompt recognition and aggressive management in a critical care unit. Here are the general steps for managing sepsis in a critical care unit:\n",
            "\n",
            "1. Early Recognition: Identify sepsis early by recognizing the signs and symptoms, which may include fever or hypothermia, tachycardia or bradycardia, altered mental status, respiratory distress, and lactic acidosis. Use validated scoring systems such as the Sequential Organ Failure Assessment (SOFA) score or Quick Sequential Organ Failure Assessment (qSOFA) to help identify patients at risk for sepsis.\n",
            "2. Fluid Resuscitation: Administer intravenous fluids to maintain adequate tissue perfusion and prevent hypotension. The goal is to achieve a mean arterial pressure (MAP) of 65 mmHg or higher and a central venous pressure (CVP) of 8-12 mmHg in mechanically ventilated patients.\n",
            "3. Antibiotics: Administer broad-spectrum antibiotics as soon as possible based on the suspected source of infection and local microbiology data. Consider obtaining cultures before administering antibiotics if the source of infection is unclear or contaminated.\n",
            "4. Source Control: Identify and address the source of infection, which may involve surgical intervention, drainage, or other interventions.\n",
            "5. Vasopressors: If fluid resuscitation fails to maintain adequate tissue perfusion, administer vasopressors to maintain MAP and prevent organ dysfunction.\n",
            "6. Corticosteroids: Consider using corticosteroids in patients with septic shock who do not respond to initial fluid resuscitation and vasopressor therapy.\n",
            "7. Inotropes: Use inotropic agents to improve cardiac output in patients with sepsis-induced cardiomyopathy.\n",
            "8. Mechanical Ventilation: Provide mechanical ventilation as needed to support respiratory function and prevent respiratory failure.\n",
            "9. Renal Replacement Therapy: Consider using renal replacement therapy in patients with sepsis-induced acute kidney injury or those who are at risk for developing it.\n",
            "10. Infection Control:\n"
          ]
        }
      ],
      "source": [
        "#increasing max tokens, higher temp, lower top p\n",
        "user_prompt = \"[INST]What is the protocol for managing sepsis in a critical care unit?[/INST]\"\n",
        "model_response = response(user_prompt, max_tokens = 500, temperature = 0.7, top_p = 0.5)\n",
        "print(model_response)"
      ]
    },
    {
      "cell_type": "code",
      "execution_count": null,
      "metadata": {
        "colab": {
          "base_uri": "https://localhost:8080/"
        },
        "id": "NhyoQ8QzXjcC",
        "outputId": "db4f99e8-68bf-4248-ea9b-6e6e18e5fb8a"
      },
      "outputs": [
        {
          "output_type": "stream",
          "name": "stderr",
          "text": [
            "Llama.generate: prefix-match hit\n"
          ]
        },
        {
          "output_type": "stream",
          "name": "stdout",
          "text": [
            " Sepsis is a life-threatening condition caused by the body's response to an infection. Managing sepsis in a critical care unit requires a multidisciplinary approach and prompt recognition and intervention. Here are the general steps for managing sepsis in a critical care unit:\n",
            "\n",
            "1. Early recognition: Identify patients who may be at risk for sepsis based on clinical signs and laboratory results, such as fever or hypothermia, tachycardia or bradycardia, respiratory distress, altered mental status, and lactic acidosis.\n",
            "2. Initiate resuscitation: Provide appropriate fluid resuscitation to maintain adequate tissue perfusion. Intravenous fluids should be administered quickly to restore intravascular volume and improve blood pressure.\n",
            "3. Give antibiotics: Start broad-spectrum antibiotics as soon as possible based on the patient's clinical presentation, suspected infection source, and local microbiology data.\n",
            "4. Monitor vital signs: Close monitoring of vital signs is essential, including heart rate, blood pressure, respiratory rate, oxygen saturation, temperature, and urine output.\n",
            "5. Provide adequate oxygenation and ventilation: Supplemental oxygen and mechanical ventilation may be required to maintain adequate oxygenation and ventilation.\n",
            "6. Adjust fluid resuscitation: Fluid resuscitation should be titrated based on the patient's response to treatment, including clinical signs, urine output, and lactic acid levels.\n",
            "7. Provide vasopressor support: If hypotension persists despite adequate fluid resuscitation, vasopressors may be necessary to maintain blood pressure.\n",
            "8. Monitor coagulation: Coagulopathy is a common complication of sepsis. Monitor coagulation parameters and provide appropriate treatment if needed.\n",
            "9. Provide source control: Address the underlying infection source as soon as possible, such as drainage of an abscess or debridement of necrotic tissue.\n",
            "10. Close monitoring: Continuous monitoring is essential to detect any deterioration in the patient's condition and initiate appropriate interventions promptly.\n",
            "11. Support organ function: Provide support to other organ systems as needed, such as renal replacement therapy or vasopressor support for cardiovascular inst\n"
          ]
        }
      ],
      "source": [
        "#increasing max tokens, higher temp, higher top p\n",
        "user_prompt = \"[INST]What is the protocol for managing sepsis in a critical care unit?[/INST]\"\n",
        "model_response = response(user_prompt, max_tokens = 500, temperature = 0.7, top_p = 1.0)\n",
        "print(model_response)"
      ]
    },
    {
      "cell_type": "code",
      "execution_count": null,
      "metadata": {
        "colab": {
          "base_uri": "https://localhost:8080/"
        },
        "id": "BbJgXZMHXnJG",
        "outputId": "f0f60527-d0f6-441d-d403-f17ab18070de"
      },
      "outputs": [
        {
          "output_type": "stream",
          "name": "stderr",
          "text": [
            "Llama.generate: prefix-match hit\n"
          ]
        },
        {
          "output_type": "stream",
          "name": "stdout",
          "text": [
            " Sepsis is a life-threatening condition that can lead to organ failure if not recognized and treated promptly. Here are the general steps for managing sepsis in a critical care unit:\n",
            "\n",
            "1. Early recognition and suspicion: Healthcare professionals should be vigilant for signs and symptoms of sepsis, including fever or hypothermia, tachycardia or bradycardia, altered mental status, respiratory distress, and lactic acidosis. A high index of suspicion is necessary, especially in patients with risk factors such as advanced age, chronic illness, and recent infections.\n",
            "2. Rapid assessment and resuscitation: Once sepsis is suspected, prompt action should be taken to assess the patient's vital signs, level of consciousness, and organ function. Fluid resuscitation is an essential component of initial management, with the goal of restoring adequate tissue perfusion and maintaining mean arterial pressure (MAP) above 65 mmHg.\n",
            "3. Antibiotic therapy: Broad-spectrum antibiotics should be initiated as soon as possible based on the patient's clinical presentation and suspected source of infection. The choice of antibiotics may depend on local microbial patterns, drug sensitivities, and specific patient characteristics.\n",
            "4. Source control: Identifying and addressing the underlying source of infection is critical to successful sepsis management. This may involve surgical intervention, drainage, or other interventions depending on the nature of the infection.\n",
            "5. Ongoing support and monitoring: Patients with sepsis often require close monitoring in the critical care unit. This may include mechanical ventilation, vasopressor support, renal replacement therapy, and other forms of organ support as needed. Close attention should be paid to fluid balance, electrolytes, and hemodynamic status.\n",
            "6. Goal-directed therapy: Use of protocols such as sepsis bundles or goal-directed therapy can help ensure that key interventions are implemented in a timely and effective manner. These protocols may include targets for lactate clearance, central venous pressure, and mean arterial pressure.\n",
            "7. Prevention of complications: Patients with sepsis are at risk for various complications, including cardiac dysfunction, coagulopathy, and secondary infections\n"
          ]
        }
      ],
      "source": [
        "#increasing max tokens, higher temp, lower top k\n",
        "user_prompt = \"[INST]What is the protocol for managing sepsis in a critical care unit?[/INST]\"\n",
        "model_response = response(user_prompt, max_tokens = 500, temperature = 0.7, top_k = 20)\n",
        "print(model_response)"
      ]
    },
    {
      "cell_type": "code",
      "execution_count": null,
      "metadata": {
        "colab": {
          "base_uri": "https://localhost:8080/"
        },
        "id": "aEve7eJqXr1a",
        "outputId": "c7b195b4-e50f-4434-d329-3b4112714090"
      },
      "outputs": [
        {
          "output_type": "stream",
          "name": "stderr",
          "text": [
            "Llama.generate: prefix-match hit\n"
          ]
        },
        {
          "output_type": "stream",
          "name": "stdout",
          "text": [
            " Sepsis is a life-threatening condition that requires prompt recognition and management in a critical care unit. The following are general steps for managing sepsis in a critical care setting:\n",
            "\n",
            "1. Early recognition: Recognize sepsis early by identifying the signs and symptoms such as fever, chills, tachycardia, respiratory distress, altered mental status, and lactic acidosis. Consider using tools like the Sequential Organ Failure Assessment (SOFA) score or Quick Sequential Organ Failure Assessment (qSOFA) to help identify patients at risk for sepsis.\n",
            "2. Resuscitation: Begin resuscitation as soon as possible. This includes administering oxygen, fluids, and vasopressors if necessary to maintain adequate blood pressure and organ perfusion.\n",
            "3. Source control: Identify and address the source of infection as quickly as possible. This may involve drainage of abscesses or removal of catheters or other invasive devices.\n",
            "4. Antibiotics: Administer broad-spectrum antibiotics as soon as possible based on the suspected source of infection and local microbiology data.\n",
            "5. Hemodynamic support: Monitor and manage hemodynamics closely, including fluid resuscitation, vasopressor therapy, and inotropic support as needed to maintain adequate tissue perfusion.\n",
            "6. Glucose control: Maintain strict glucose control to prevent hyperglycemia, which can worsen inflammation and organ damage.\n",
            "7. Corticosteroids: Consider using corticosteroids in certain situations, such as septic shock or severe sepsis with multiorgan dysfunction.\n",
            "8. Other supportive measures: Provide other supportive measures as needed, such as vasopressor therapy for hypotension, mechanical ventilation for respiratory failure, or renal replacement therapy for acute kidney injury.\n",
            "9. Continuous monitoring: Monitor patients closely for signs of worsening sepsis or organ dysfunction, and adjust treatment plans accordingly.\n",
            "10. Prevention: Implement infection prevention measures to reduce the risk of sepsis in critically ill patients, such as hand hygiene, proper use of sterile technique during invasive procedures, and prompt identification and management of infections.\n"
          ]
        }
      ],
      "source": [
        "#increasing max tokens, higher temp, higher top k\n",
        "user_prompt = \"[INST]What is the protocol for managing sepsis in a critical care unit?[/INST]\"\n",
        "model_response = response(user_prompt, max_tokens = 500, temperature = 0.7, top_k = 100)\n",
        "print(model_response)"
      ]
    },
    {
      "cell_type": "markdown",
      "source": [
        "The last set of tuned parameters worked the best, as the LLM was finally able to output a full response."
      ],
      "metadata": {
        "id": "hHgwsSBsJ_L0"
      }
    },
    {
      "cell_type": "markdown",
      "metadata": {
        "id": "iYpyw4HjOeff"
      },
      "source": [
        "### Query 2: What are the common symptoms for appendicitis, and can it be cured via medicine? If not, what surgical procedure should be followed to treat it?"
      ]
    },
    {
      "cell_type": "code",
      "execution_count": null,
      "metadata": {
        "colab": {
          "base_uri": "https://localhost:8080/"
        },
        "id": "GXl09pFfRPBr",
        "outputId": "87b6d75a-97b7-430d-ef2a-c349db73ef01"
      },
      "outputs": [
        {
          "output_type": "stream",
          "name": "stderr",
          "text": [
            "Llama.generate: prefix-match hit\n"
          ]
        },
        {
          "output_type": "stream",
          "name": "stdout",
          "text": [
            "1. Sudden sharp pain in the lower right abdomen, often starting around the navel and moving to the right side.\n",
            "2. Loss of appetite and feeling sick to your stomach.\n",
            "3. Fever, which may be low-grade at first but can rise as high as 102 degrees Fahrenheit (38.9 degrees Celsius) or higher.\n",
            "4. Swelling and tenderness in the lower right abdomen.\n",
            "5. Constipation or diarrhea.\n",
            "\n",
            "These symptoms are common for appendicitis, but it's important to note that\n"
          ]
        }
      ],
      "source": [
        "#few shot\n",
        "user_prompt = \"\"\"\n",
        "[INST]\n",
        "Below we have three diseases and 5 common symptoms\n",
        "\n",
        "Heart attack\n",
        "1. Chest discomfort\n",
        "2. Discomfort in arms, back, neck, jaw, or stomach\n",
        "3. Shortness of breath\n",
        "4. Feeling tired, fait, or lightheaded\n",
        "5. Nausea or vomiting\n",
        "\n",
        "Tuberculosis\n",
        "1. Cough lasting 3 weeks or longer\n",
        "2. Chest pain\n",
        "3. Coughing up blood or sputum\n",
        "4. Fever\n",
        "5. Weakness or fatigue\n",
        "\n",
        "Heat stroke\n",
        "1. High body temperature typically above 104 degrees Fahrenheit\n",
        "2. Confusion or altered mental status, like slurred speech, disorientation\n",
        "3. Flushed skin\n",
        "4. Rapid breathing\n",
        "5. Nausea and vomiting\n",
        "\n",
        "Give me 5 common symptoms for appendicitis.\n",
        "[/INST]\n",
        "\"\"\"\n",
        "model_response = response(user_prompt)\n",
        "print(model_response)"
      ]
    },
    {
      "cell_type": "markdown",
      "source": [
        "The answer was cut off again. The LLM followed the few-shot example, though some of the listed symptoms were a little more detailed than most of the examples."
      ],
      "metadata": {
        "id": "bKCe8OeHLACr"
      }
    },
    {
      "cell_type": "markdown",
      "metadata": {
        "id": "4XaqGBohU_7Y"
      },
      "source": [
        "#### Parameter Tuning"
      ]
    },
    {
      "cell_type": "code",
      "execution_count": null,
      "metadata": {
        "colab": {
          "base_uri": "https://localhost:8080/"
        },
        "id": "uqPw1LftX72r",
        "outputId": "93e69d59-6f9a-43fc-bb9a-d4f5e7463dfd"
      },
      "outputs": [
        {
          "output_type": "stream",
          "name": "stderr",
          "text": [
            "Llama.generate: prefix-match hit\n"
          ]
        },
        {
          "output_type": "stream",
          "name": "stdout",
          "text": [
            " Appendicitis is a medical condition characterized by inflammation of the appendix, a small pouch-like structure that extends from the large intestine. The following are common symptoms of appendicitis:\n",
            "\n",
            "1. Abdominal pain: The pain is typically located in the lower right side of the abdomen and may be constant or come and go. It may start as a mild discomfort, but it can quickly become severe and sharp.\n",
            "2. Loss of appetite: People with appendicitis often lose their appetite due to abdominal pain and nausea.\n",
            "3. Nausea and vomiting: Vomiting is common in appendicitis, especially if the inflammation presses on the stomach.\n",
            "4. Fever: A fever may develop as a result of the infection.\n",
            "5. Constipation or diarrhea: Some people with appendicitis experience constipation, while others have diarrhea.\n",
            "6. Abdominal swelling: The abdomen may become swollen and tender to the touch.\n",
            "7. Inability to pass gas: Passing gas can be difficult due to the inflammation pressing on the intestines.\n",
            "\n",
            "Appendicitis cannot be cured with medicine alone, as it requires surgical intervention to remove the infected appendix. The most common surgical procedure used to treat appendicitis is an appendectomy, which involves making a small incision in the abdomen and removing the appendix. In some cases, laparoscopic surgery may be used instead of open surgery, which involves making several small incisions and using a camera to guide the surgeon's instruments.\n",
            "\n",
            "It is important to seek medical attention as soon as possible if you suspect that you have appendicitis, as delaying treatment can increase the risk of complications such as rupture of the appendix or peritonitis (inflammation of the abdominal cavity).\n"
          ]
        }
      ],
      "source": [
        "#increasing max tokens\n",
        "user_prompt = \"[INST]What are the common symptoms for appendicitis, and can it be cured via medicine? If not, what surgical procedure should be followed to treat it?[/INST]\"\n",
        "model_response = response(user_prompt, max_tokens = 500)\n",
        "print(model_response)"
      ]
    },
    {
      "cell_type": "code",
      "execution_count": null,
      "metadata": {
        "colab": {
          "base_uri": "https://localhost:8080/"
        },
        "id": "wxjgNixQX72s",
        "outputId": "2f2e294b-ebf8-4df7-d3eb-e321008f48a3"
      },
      "outputs": [
        {
          "output_type": "stream",
          "name": "stderr",
          "text": [
            "Llama.generate: prefix-match hit\n"
          ]
        },
        {
          "output_type": "stream",
          "name": "stdout",
          "text": [
            " Appendicitis is a medical condition characterized by inflammation of the appendix, a small tube-shaped organ located in the lower right side of the abdomen. The following are common symptoms of appendicitis:\n",
            "\n",
            "1. Abdominal pain: The pain typically starts as a mild discomfort around the navel and then shifts to the lower right side of the abdomen. The pain may be constant or intermittent, and it may worsen with movement, coughing, or sneezing.\n",
            "2. Loss of appetite: People with appendicitis often lose their appetite due to abdominal pain and discomfort.\n",
            "3. Nausea and vomiting: Vomiting is a common symptom of appendicitis, especially as the condition progresses.\n",
            "4. Fever: A fever may be present in some cases of appendicitis.\n",
            "5. Constipation or diarrhea: Both constipation and diarrhea can occur with appendicitis.\n",
            "\n",
            "Appendicitis cannot be cured via medicine alone. Antibiotics may be used to treat any accompanying infection, but they will not resolve the inflammation in the appendix. Surgery is the only effective treatment for appendicitis. The most common surgical procedure used to treat appendicitis is an appendectomy, which involves removing the appendix through a small incision in the abdomen. This procedure can be performed as an open surgery or laparoscopically (using small incisions and a camera).\n",
            "\n",
            "It's important to note that if you suspect you have appendicitis, you should seek medical attention right away. Appendicitis can be a serious condition, and timely treatment is essential to prevent complications such as rupture of the appendix or peritonitis (inflammation of the abdominal cavity).\n"
          ]
        }
      ],
      "source": [
        "#increasing max tokens, higher temp, lower top p\n",
        "user_prompt = \"[INST]What are the common symptoms for appendicitis, and can it be cured via medicine? If not, what surgical procedure should be followed to treat it?[/INST]\"\n",
        "model_response = response(user_prompt, max_tokens = 500, temperature = 0.7, top_p = 0.5)\n",
        "print(model_response)"
      ]
    },
    {
      "cell_type": "code",
      "execution_count": null,
      "metadata": {
        "colab": {
          "base_uri": "https://localhost:8080/"
        },
        "id": "zNImUTzHX72s",
        "outputId": "7c617a68-19e0-4e49-83d5-bb345a0a07d0"
      },
      "outputs": [
        {
          "output_type": "stream",
          "name": "stderr",
          "text": [
            "Llama.generate: prefix-match hit\n"
          ]
        },
        {
          "output_type": "stream",
          "name": "stdout",
          "text": [
            " Appendicitis is a medical condition characterized by inflammation of the appendix, a small tube-shaped organ located in the lower right abdomen. The common symptoms of appendicitis include:\n",
            "\n",
            "1. Abdominal pain: The pain typically starts around the navel area and moves to the lower right side of the abdomen. The pain may be constant or come and go, and it may worsen with movement, coughing, or sneezing.\n",
            "2. Loss of appetite: A loss of interest in food and a feeling of nausea are common symptoms of appendicitis.\n",
            "3. Fever: A fever is often present when the appendix becomes inflamed and infected.\n",
            "4. Vomiting: Nausea and vomiting may occur due to the inflammation and infection in the body.\n",
            "5. Abdominal swelling: The abdomen may become swollen as the inflammation progresses.\n",
            "6. Constipation or diarrhea: Some people with appendicitis experience constipation, while others have diarrhea.\n",
            "7. Inability to pass gas: A feeling of being bloated and an inability to pass gas can be a sign of appendicitis.\n",
            "\n",
            "Appendicitis cannot be cured via medicine alone as the inflammation and infection require surgical intervention. The standard treatment for appendicitis is appendectomy, which involves removing the inflamed appendix through a surgical incision. This procedure can typically be performed laparoscopically using small incisions and minimally invasive techniques, leading to faster recovery times. In cases where the appendix has ruptured or perforated, an open appendectomy may be necessary, which involves making a larger incision to remove the infected tissue and repair any damage to the abdominal wall. It is important to seek medical attention promptly if you suspect you have appendicitis as delaying treatment can increase the risk of complications such as perforation or sepsis.\n"
          ]
        }
      ],
      "source": [
        "#increasing max tokens, higher temp, higher top p\n",
        "user_prompt = \"[INST]What are the common symptoms for appendicitis, and can it be cured via medicine? If not, what surgical procedure should be followed to treat it?[/INST]\"\n",
        "model_response = response(user_prompt, max_tokens = 500, temperature = 0.7, top_p = 1.0)\n",
        "print(model_response)"
      ]
    },
    {
      "cell_type": "code",
      "execution_count": null,
      "metadata": {
        "colab": {
          "base_uri": "https://localhost:8080/"
        },
        "id": "KvruH6yeX72s",
        "outputId": "660d24b9-54c8-4edd-d4f7-973fb80ed3bb"
      },
      "outputs": [
        {
          "output_type": "stream",
          "name": "stderr",
          "text": [
            "Llama.generate: prefix-match hit\n"
          ]
        },
        {
          "output_type": "stream",
          "name": "stdout",
          "text": [
            " Appendicitis is a medical condition characterized by inflammation of the appendix, a small pouch-like structure that extends from the large intestine. The common symptoms of appendicitis include:\n",
            "\n",
            "1. Abdominal pain, usually starting around the navel area and then moving to the lower right side of the abdomen.\n",
            "2. Loss of appetite and feeling sick to your stomach (nausea).\n",
            "3. Vomiting.\n",
            "4. Fever and chills.\n",
            "5. Constipation or diarrhea.\n",
            "6. Abdominal swelling and bloating.\n",
            "7. Painful urination or frequent urination.\n",
            "8. Inability to pass gas or have a bowel movement.\n",
            "9. Feeling restless or unable to get comfortable due to the pain.\n",
            "\n",
            " Appendicitis cannot be cured with medicine alone, as it requires surgical intervention to remove the inflamed appendix. The standard treatment for appendicitis is an appendectomy, which is a surgical procedure to remove the appendix. This can be performed as an open surgery or laparoscopically (keyhole surgery).\n",
            "\n",
            "During an appendectomy, the surgeon makes an incision in the abdomen and removes the inflamed appendix. The incision is then closed with stitches or staples. After the procedure, patients are typically advised to rest and avoid heavy lifting or strenuous activities for several weeks while they recover.\n",
            "\n",
            "It's important to note that if you suspect you have appendicitis, it's essential to seek medical attention as soon as possible, as a ruptured appendix can be life-threatening. If left untreated, the appendix can burst and release infectious material into the abdominal cavity, leading to peritonitis – a potentially fatal condition.\n"
          ]
        }
      ],
      "source": [
        "#increasing max tokens, higher temp, lower top k\n",
        "user_prompt = \"[INST]What are the common symptoms for appendicitis, and can it be cured via medicine? If not, what surgical procedure should be followed to treat it?[/INST]\"\n",
        "model_response = response(user_prompt, max_tokens = 500, temperature = 0.7, top_k = 20)\n",
        "print(model_response)"
      ]
    },
    {
      "cell_type": "code",
      "execution_count": null,
      "metadata": {
        "colab": {
          "base_uri": "https://localhost:8080/"
        },
        "id": "d-MkT5BZX72s",
        "outputId": "3cda3e78-1eb2-4e5a-e658-c17addc339ec"
      },
      "outputs": [
        {
          "output_type": "stream",
          "name": "stderr",
          "text": [
            "Llama.generate: prefix-match hit\n"
          ]
        },
        {
          "output_type": "stream",
          "name": "stdout",
          "text": [
            "Appendicitis is a medical condition characterized by inflammation of the appendix, a small tube-shaped organ attached to the large intestine in the lower right abdomen. The symptoms of appendicitis can vary from person to person, but the following are the most common signs and symptoms:\n",
            "\n",
            "1. Abdominal pain, usually starting around the navel area and then shifting to the lower right side. The pain may be constant or come and go, and it may worsen with coughing, sneezing, or movement.\n",
            "2. Loss of appetite\n",
            "3. Nausea and vomiting\n",
            "4. Fever (often a temperature above 101°F or 38.3°C)\n",
            "5. Diarrhea or constipation\n",
            "6. Feeling bloated or swollen in the abdomen\n",
            "7. Inability to pass gas or have a bowel movement\n",
            "\n",
            "Appendicitis is usually treated with surgery, as antibiotics alone are not sufficient to cure the condition. The standard surgical procedure for appendicitis is an appendectomy, which involves removing the inflamed appendix through an incision in the abdomen. This procedure can be performed using traditional open surgery or laparoscopically, which involves making several small incisions and inserting a camera and instruments to remove the appendix.\n",
            "\n",
            "It's important to note that appendicitis is a medical emergency, as a ruptured appendix can lead to severe complications, including peritonitis (an infection of the abdominal cavity) and sepsis (a potentially life-threatening condition caused by a widespread bacterial infection). Therefore, if you suspect that you or someone else may have appendicitis, it's crucial to seek medical attention right away. Delaying treatment can increase the risk of complications and potentially lead to more extensive surgery or longer recovery times.\n"
          ]
        }
      ],
      "source": [
        "#increasing max tokens, higher temp, higher top k\n",
        "user_prompt = \"[INST]What are the common symptoms for appendicitis, and can it be cured via medicine? If not, what surgical procedure should be followed to treat it?[/INST]?\"\n",
        "model_response = response(user_prompt, max_tokens = 500, temperature = 0.7, top_k = 100)\n",
        "print(model_response)"
      ]
    },
    {
      "cell_type": "markdown",
      "source": [
        "The LLM was able to deliver full responses to all the prompts this time. Reducing top_p to 0.5 resulted in the shorted symptoms list, and reducing top_k to 20 resulted in the longest symptoms list."
      ],
      "metadata": {
        "id": "kXwPfW0AM0FX"
      }
    },
    {
      "cell_type": "markdown",
      "metadata": {
        "id": "dRp92JQZOeff"
      },
      "source": [
        "### Query 3: What are the effective treatments or solutions for addressing sudden patchy hair loss, commonly seen as localized bald spots on the scalp, and what could be the possible causes behind it?"
      ]
    },
    {
      "cell_type": "code",
      "execution_count": null,
      "metadata": {
        "colab": {
          "base_uri": "https://localhost:8080/"
        },
        "id": "JOgATEpMRPve",
        "outputId": "0218ab5a-f9e3-49d2-bfc1-e61429f15156"
      },
      "outputs": [
        {
          "output_type": "stream",
          "name": "stderr",
          "text": [
            "Llama.generate: prefix-match hit\n"
          ]
        },
        {
          "output_type": "stream",
          "name": "stdout",
          "text": [
            "| Treatment/Solution | Description | Effectiveness (1-5) |\n",
            "|--------------------|-------------|----------------------|\n",
            "| Minoxidil Topical Solution | A medication applied directly to the scalp, which has been shown to stimulate hair growth and slow down hair loss. It is available over-the-counter in liquid or foam form. | 4 |\n",
            "| Finasteride Oral Tablets | An oral medication that works by inhibiting the conversion of testosterone to dihydrotestosterone, which is a hormone that contributes to hair loss. Prescription required. |\n"
          ]
        }
      ],
      "source": [
        "#instructional, asking for structured output\n",
        "user_prompt = \"\"\"\n",
        "[INST]\n",
        "In a table, please provide five effective treatments or solutions for addressing sudden patchy hair loss, commonly seen as localized bald spots on the scalp.\n",
        "The first column of the table should be the name of the treatment or solution,  the second column should explain what it is, and the third column should rate how effective it is on a scale of 1 to 5.\n",
        "[/INST]\n",
        "\"\"\"\n",
        "model_response = response(user_prompt)\n",
        "print(model_response)"
      ]
    },
    {
      "cell_type": "markdown",
      "source": [
        "The response was cut off, but the response the LLM generated followed the directions in the prompts."
      ],
      "metadata": {
        "id": "-ZNgMfn4Nq6x"
      }
    },
    {
      "cell_type": "markdown",
      "metadata": {
        "id": "YJ8OHfwqVCjY"
      },
      "source": [
        "#### Parameter Tuning"
      ]
    },
    {
      "cell_type": "code",
      "execution_count": null,
      "metadata": {
        "colab": {
          "base_uri": "https://localhost:8080/"
        },
        "id": "2zzP6HAFYQs1",
        "outputId": "565fecc4-e092-45bc-c14d-6f1b490ed16d"
      },
      "outputs": [
        {
          "output_type": "stream",
          "name": "stderr",
          "text": [
            "Llama.generate: prefix-match hit\n"
          ]
        },
        {
          "output_type": "stream",
          "name": "stdout",
          "text": [
            " Sudden patchy hair loss, also known as alopecia areata, is an autoimmune condition that causes hair loss in small patches on the scalp or other parts of the body. The exact cause of alopecia areata is not known, but it's believed to be related to a problem with the immune system. Here are some effective treatments and possible causes:\n",
            "\n",
            "1. Corticosteroids: These medications can help reduce inflammation and suppress the immune system response that causes hair loss. They can be applied directly to the affected area as a cream or ointment, or taken orally in pill form.\n",
            "2. Immunotherapy: This treatment involves using substances that stimulate an immune response to help the body fight off the condition. One common immunotherapy treatment for alopecia areata is diphenylcyclopropenone (DPCP), which is applied to the scalp once a week.\n",
            "3. Minoxidil: This medication, which is available over-the-counter, can help stimulate hair growth in some people with alopecia areata. It's applied directly to the affected area twice a day.\n",
            "4. Hair transplantation: In severe cases of alopecia areata, hair transplantation may be an option. This involves taking healthy hair from one part of the scalp and transplanting it to the bald spots.\n",
            "5. Nutritional deficiencies: In some cases, sudden patchy hair loss can be caused by nutritional deficiencies, such as iron deficiency or vitamin B12 deficiency. Addressing these deficiencies through dietary changes or supplements may help improve hair growth.\n",
            "6. Stress: Stress can trigger alopecia areata in some people. Managing stress through relaxation techniques, exercise, or counseling may help prevent or reduce the severity of hair loss.\n",
            "7. Infections: Certain infections, such as ringworm or folliculitis, can cause patchy hair loss. Treating the underlying infection with antifungal or antibacterial medications may help restore hair growth.\n",
            "8. Hormonal imbalances: Hormonal imbalances, such as those caused by thyroid disorders or polycystic ovary syndrome (PCOS), can cause patchy hair loss. Treat\n"
          ]
        }
      ],
      "source": [
        "#increasing max tokens\n",
        "user_prompt = \"[INST]What are the effective treatments or solutions for addressing sudden patchy hair loss, commonly seen as localized bald spots on the scalp, and what could be the possible causes behind it?[/INST]\"\n",
        "model_response = response(user_prompt, max_tokens = 500)\n",
        "print(model_response)"
      ]
    },
    {
      "cell_type": "code",
      "execution_count": null,
      "metadata": {
        "colab": {
          "base_uri": "https://localhost:8080/"
        },
        "id": "ji_J_iVDYQzu",
        "outputId": "987b1b70-a3d8-4204-9749-1cff798145a1"
      },
      "outputs": [
        {
          "output_type": "stream",
          "name": "stderr",
          "text": [
            "Llama.generate: prefix-match hit\n"
          ]
        },
        {
          "output_type": "stream",
          "name": "stdout",
          "text": [
            " Sudden patchy hair loss, also known as alopecia areata, is an autoimmune condition that causes hair loss in small patches on the scalp or other parts of the body. The exact cause of alopecia areata is not known, but it's believed to be related to a problem with the immune system. Here are some effective treatments and possible causes for this condition:\n",
            "\n",
            "1. Corticosteroids: Corticosteroids are the most common treatment for alopecia areata. They can be applied directly to the affected area in the form of creams, ointments, or solutions, or taken orally. Corticosteroids work by reducing inflammation and suppressing the immune system's attack on hair follicles.\n",
            "\n",
            "2. Immunotherapies: Immunotherapies such as minoxidil, anthralin, and contact sensitizers are also used to treat alopecia areata. Minoxidil is a topical medication that can stimulate hair growth, while anthralin and contact sensitizers work by altering the immune response.\n",
            "\n",
            "3. Hair transplantation: In severe cases of alopecia areata, hair transplantation may be an option. This involves taking healthy hair follicles from one part of the body and transplanting them to the affected area on the scalp.\n",
            "\n",
            "4. Nutritional supplements: Certain nutritional supplements such as biotin, iron, zinc, and vitamin D have been shown to promote hair growth and may help improve hair health in people with alopecia areata.\n",
            "\n",
            "5. Stress management: Stress can trigger or worsen alopecia areata. Practicing stress management techniques such as meditation, yoga, or deep breathing exercises may help reduce stress levels and improve hair loss.\n",
            "\n",
            "6. Possible causes: The exact cause of alopecia areata is not known, but it's believed to be related to a problem with the immune system. Other possible triggers include genetics, stress, viruses, or trauma to the affected area. In some cases, alopecia areata may be associated with other autoimmune conditions such as thyroid disease or vitiligo. It's important to note that not all cases of sudden patchy hair loss\n"
          ]
        }
      ],
      "source": [
        "#increasing max tokens, higher temp, lower top p\n",
        "user_prompt = \"[INST]What are the effective treatments or solutions for addressing sudden patchy hair loss, commonly seen as localized bald spots on the scalp, and what could be the possible causes behind it?[/INST]\"\n",
        "model_response = response(user_prompt, max_tokens = 500, temperature = 0.7, top_p = 0.5)\n",
        "print(model_response)"
      ]
    },
    {
      "cell_type": "code",
      "execution_count": null,
      "metadata": {
        "colab": {
          "base_uri": "https://localhost:8080/"
        },
        "id": "Sh9bgY21YQzu",
        "outputId": "58b25809-9577-402b-eb3a-ba6dbaf1c1b4"
      },
      "outputs": [
        {
          "output_type": "stream",
          "name": "stderr",
          "text": [
            "Llama.generate: prefix-match hit\n"
          ]
        },
        {
          "output_type": "stream",
          "name": "stdout",
          "text": [
            " Sudden patchy hair loss, also known as alopecia areata, can be distressing and concerning. Alopecia areata is an autoimmune disorder where the immune system attacks hair follicles, causing hair loss in round or oval patches on the scalp, beard, eyebrows, or other areas of the body.\n",
            "\n",
            "There are several treatments for alopecia areata that may help promote hair regrowth:\n",
            "\n",
            "1. Topical Corticosteroids: These anti-inflammatory medications can be applied directly to the affected area to reduce inflammation and suppress the immune system's attack on the hair follicles.\n",
            "2. Injected Corticosteroids: Corticosteroid injections into the scalp can help stimulate hair regrowth by reducing inflammation and increasing blood flow to the area.\n",
            "3. Minoxidil: This medication, applied topically, has been shown to increase hair density in some people with alopecia areata.\n",
            "4. Diphenylcyclopropenone (DPCP): This immunotherapy medication is applied to the scalp once a week, and it can help promote hair regrowth by changing the immune response in the affected area.\n",
            "5. JAK inhibitors: Oral JAK inhibitors, such as tofacitinib and baricitinib, have shown promising results in clinical trials for the treatment of alopecia areata. These drugs work by suppressing the immune system's attack on the hair follicles.\n",
            "6. Wigs or Hairpieces: For those who experience significant hair loss or prefer not to wait for medical treatments to take effect, wigs or hairpieces can be an effective solution.\n",
            "\n",
            "Possible causes of sudden patchy hair loss include:\n",
            "\n",
            "1. Autoimmune disorders: Alopecia areata is an autoimmune disorder where the immune system attacks hair follicles. Other autoimmune conditions, such as lupus or rheumatoid arthritis, can also cause hair loss.\n",
            "2. Stress: Physical or emotional stress can trigger alopecia areata or worsen existing hair loss.\n",
            "3. Genetics: A family history of alopecia areata increases the risk of developing the condition.\n",
            "4. Vitamin def\n"
          ]
        }
      ],
      "source": [
        "#increasing max tokens, higher temp, higher top p\n",
        "user_prompt = \"[INST]What are the effective treatments or solutions for addressing sudden patchy hair loss, commonly seen as localized bald spots on the scalp, and what could be the possible causes behind it?[/INST]\"\n",
        "model_response = response(user_prompt, max_tokens = 500, temperature = 0.7, top_p = 1.0)\n",
        "print(model_response)"
      ]
    },
    {
      "cell_type": "code",
      "execution_count": null,
      "metadata": {
        "colab": {
          "base_uri": "https://localhost:8080/"
        },
        "id": "X7xU4CE7YQzu",
        "outputId": "fe699641-d6fd-482f-b4a9-4f0ef2fa1396"
      },
      "outputs": [
        {
          "output_type": "stream",
          "name": "stderr",
          "text": [
            "Llama.generate: prefix-match hit\n"
          ]
        },
        {
          "output_type": "stream",
          "name": "stdout",
          "text": [
            " Sudden patchy hair loss, also known as alopecia areata, is an autoimmune condition where your immune system attacks hair follicles, leading to hair loss. Here are some effective treatments or solutions for addressing sudden patchy hair loss:\n",
            "\n",
            "1. Topical corticosteroids: These medications are applied directly to the affected area to reduce inflammation and promote hair regrowth. They can be prescribed by a doctor or purchased over-the-counter in milder forms.\n",
            "\n",
            "2. Injections of corticosteroids: In some cases, injections of corticosteroids may be used to stimulate hair growth. This treatment is typically administered by a healthcare professional.\n",
            "\n",
            "3. Minoxidil: A medication that is applied topically, minoxidil can help promote hair regrowth. It works by increasing blood flow to the affected area and extending the growth phase of hair follicles.\n",
            "\n",
            "4. DHT blockers: Dihydrotestosterone (DHT) is a hormone that contributes to hair loss. DHT blockers, such as finasteride or dutasteride, can be prescribed by a doctor to help slow down the progression of hair loss and potentially promote regrowth.\n",
            "\n",
            "5. Immunotherapy: This treatment involves using substances that alter the immune response to stimulate hair growth. It is typically administered under the supervision of a healthcare professional.\n",
            "\n",
            "6. Wigs or hairpieces: For those experiencing significant hair loss, wigs or hairpieces can be an effective solution for hiding bald spots and restoring a more natural appearance.\n",
            "\n",
            "Possible causes behind sudden patchy hair loss include:\n",
            "\n",
            "1. Autoimmune conditions: Alopecia areata is the most common cause of sudden patchy hair loss. Other autoimmune conditions, such as lupus or rheumatoid arthritis, can also lead to hair loss.\n",
            "\n",
            "2. Stress: Physical or emotional stress can trigger alopecia areata or aggravate existing hair loss.\n",
            "\n",
            "3. Genetics: A family history of hair loss can increase the risk of developing alopecia areata.\n",
            "\n",
            "4. Infections: Certain infections, such as ringworm, can cause patchy hair loss.\n",
            "\n",
            "5. Nutr\n"
          ]
        }
      ],
      "source": [
        "#increasing max tokens, higher temp, lower top k\n",
        "user_prompt = \"[INST]What are the effective treatments or solutions for addressing sudden patchy hair loss, commonly seen as localized bald spots on the scalp, and what could be the possible causes behind it?[/INST]\"\n",
        "model_response = response(user_prompt, max_tokens = 500, temperature = 0.7, top_k = 20)\n",
        "print(model_response)"
      ]
    },
    {
      "cell_type": "code",
      "execution_count": null,
      "metadata": {
        "colab": {
          "base_uri": "https://localhost:8080/"
        },
        "id": "lTv8AupXYQzv",
        "outputId": "14388289-3af5-4dc8-e9d5-82ad2e36e31f"
      },
      "outputs": [
        {
          "output_type": "stream",
          "name": "stderr",
          "text": [
            "Llama.generate: prefix-match hit\n"
          ]
        },
        {
          "output_type": "stream",
          "name": "stdout",
          "text": [
            " Sudden patchy hair loss, also known as alopecia areata, is an autoimmune condition that results in the sudden appearance of smooth, round patches of baldness on the scalp or other areas of the body. The exact cause of alopecia areata is not fully understood, but it's believed to be related to a dysfunction of the immune system that attacks hair follicles.\n",
            "\n",
            "There are several treatments for alopecia areata that may help promote hair regrowth:\n",
            "\n",
            "1. Topical corticosteroids: These anti-inflammatory creams or ointments can reduce inflammation and suppress the immune response, allowing hair to grow back. They are typically applied directly to the affected areas once or twice a day.\n",
            "2. Injected corticosteroids: Corticosteroid injections into the bald spots may be more effective than topical treatments for larger areas of hair loss. The injections can help stimulate hair growth and reduce inflammation.\n",
            "3. Immunotherapies: Certain medications, such as minoxidil or anthralin, can be used to suppress the immune response and promote hair regrowth. These treatments are typically applied topically and may take several months to show results.\n",
            "4. Hair transplantation: In severe cases of alopecia areata where there is extensive hair loss, a hair transplant may be an option. This involves removing healthy hair follicles from one area of the scalp and grafting them onto the bald spots.\n",
            "5. Alternative therapies: Some people with alopecia areata find that certain alternative therapies, such as acupuncture or herbal remedies, help to improve their symptoms. However, it's important to discuss these options with a healthcare provider before trying them.\n",
            "\n",
            "Some possible causes of sudden patchy hair loss include:\n",
            "\n",
            "1. Autoimmune conditions: As mentioned above, alopecia areata is an autoimmune condition that can cause hair loss. Other autoimmune conditions, such as lupus or rheumatoid arthritis, can also affect the hair.\n",
            "2. Stress: Physical or emotional stress can trigger alopecia areata or worsen existing symptoms.\n",
            "3. Genetics: There may be a genetic component to al\n"
          ]
        }
      ],
      "source": [
        "#increasing max tokens, higher temp, higher top k\n",
        "user_prompt = \"[INST]What are the effective treatments or solutions for addressing sudden patchy hair loss, commonly seen as localized bald spots on the scalp, and what could be the possible causes behind it?[/INST]\"\n",
        "model_response = response(user_prompt, max_tokens = 500, temperature = 0.7, top_k = 100)\n",
        "print(model_response)"
      ]
    },
    {
      "cell_type": "markdown",
      "source": [
        "Regardless of the parameter adjustments, the LLM always concisely answered with the second part of the question (possible causes) before discussing effective treatments and solutions. The discussion of the possible cause is almost always the same. Interestingly, the responses with the higher top_p and both top_k adjustments discussed the causes even further after discussing treatment options -- meaning they didn't spend as many tokens discussing the treatments. Also interesting to note is that some of the answers had additional spacing between lines."
      ],
      "metadata": {
        "id": "7AcK6tcuqUQC"
      }
    },
    {
      "cell_type": "markdown",
      "metadata": {
        "id": "AA45zwyUOefg"
      },
      "source": [
        "### Query 4:  What treatments are recommended for a person who has sustained a physical injury to brain tissue, resulting in temporary or permanent impairment of brain function?"
      ]
    },
    {
      "cell_type": "code",
      "execution_count": null,
      "metadata": {
        "colab": {
          "base_uri": "https://localhost:8080/"
        },
        "id": "VA7G8FOnRQZY",
        "outputId": "fc9f4008-4f31-4940-d7f5-cff177f12d28"
      },
      "outputs": [
        {
          "output_type": "stream",
          "name": "stderr",
          "text": [
            "Llama.generate: prefix-match hit\n"
          ]
        },
        {
          "output_type": "stream",
          "name": "stdout",
          "text": [
            "Immediate response:\n",
            "a. Bystanders should ensure the safety of the unconscious player by keeping him lying flat on his back with his head slightly tilted to the side to help drain any potential saliva or blood from his mouth. They should also try to keep the player warm and prevent any external injuries. If the player is not breathing, initiate CPR if trained to do so. Do not move the player unless there is an imminent danger.\n",
            "b. Key points to mention to EMS include the player's age, weight, any known medical conditions, the cause of the injury (helmet-\n"
          ]
        }
      ],
      "source": [
        "#teach AI how to think, use a long and specific prompt, use delimteres to specify sections\n",
        "user_prompt = \"\"\"\n",
        "[INST]\n",
        "You are a medical professional consulting in a mock scenario, there are no real injuries involved. The scenario involves a football player whose helmet had fallen off and took a hard hit to the head from another football player who was wearing a helmet. The player is unconscious. Your goal is to treat the player. Consider the following factors in your analysis and provide your recommendations:\n",
        "\n",
        "Immediate response:\n",
        "a. Provide instructions for bystanders while EMS responds\n",
        "b. List key points to mention to EMS\n",
        "\n",
        "At the hospital:\n",
        "a. What should doctors in the ER do to treat the injury upon the patient's arrival?\n",
        "b. What procedures may need to be conducted in the first 24 hours?\n",
        "\n",
        "Recovery:\n",
        "a. After stabilizing the patient, what tests should be done?\n",
        "b. What further treatments should be done to ensure recovery?\n",
        "\n",
        "Considering all this, please provide a well-reasoned treatment recommendation for the player.\n",
        "[/INST]\n",
        "\"\"\"\n",
        "model_response = response(user_prompt)\n",
        "print(model_response)"
      ]
    },
    {
      "cell_type": "markdown",
      "source": [
        "While the LLM did run out of tokens, it did follow the instructions and began to provide an action plan to treat the player."
      ],
      "metadata": {
        "id": "oXpTKobwrsv9"
      }
    },
    {
      "cell_type": "markdown",
      "metadata": {
        "id": "54BRUbJlVFpy"
      },
      "source": [
        "#### Parameter Tuning"
      ]
    },
    {
      "cell_type": "code",
      "execution_count": null,
      "metadata": {
        "colab": {
          "base_uri": "https://localhost:8080/"
        },
        "id": "kR90NP3mYlwf",
        "outputId": "d1d01404-38eb-40a9-afe2-fd9d715b0e6e"
      },
      "outputs": [
        {
          "output_type": "stream",
          "name": "stderr",
          "text": [
            "Llama.generate: prefix-match hit\n"
          ]
        },
        {
          "output_type": "stream",
          "name": "stdout",
          "text": [
            " Treatment for a physical injury to the brain tissue depends on the severity and location of the injury. Here are some common treatments that may be recommended:\n",
            "\n",
            "1. Emergency care: If the injury is recent, the first priority is to ensure the person's airway is clear, they are breathing, and their heart is beating. This may involve calling emergency services, providing CPR if necessary, and administering oxygen.\n",
            "2. Surgery: In some cases, surgery may be required to remove blood clots or repair skull fractures.\n",
            "3. Medications: Depending on the symptoms, medications may be prescribed to manage conditions such as seizures, pain, or swelling in the brain.\n",
            "4. Rehabilitation: Rehabilitation is an essential part of treatment for brain injuries. This may include physical therapy to help with mobility and strength, occupational therapy to help with daily living skills, speech therapy to improve communication, and cognitive rehabilitation to help with memory and thinking skills.\n",
            "5. Assistive devices: Depending on the extent of the injury, assistive devices such as wheelchairs, walkers, or braces may be necessary to help with mobility.\n",
            "6. Lifestyle modifications: Making lifestyle modifications, such as getting enough rest, eating a healthy diet, and avoiding alcohol and drugs, can help improve brain function and overall health.\n",
            "7. Support groups: Joining a support group can provide emotional support and help individuals connect with others who have experienced similar injuries.\n",
            "8. Psychological counseling: Brain injuries can be emotionally challenging, and psychological counseling may be helpful in managing anxiety, depression, or other emotional issues.\n",
            "9. Vocational counseling: If the injury affects a person's ability to work, vocational counseling can help them explore new career options or find accommodations in their current job.\n",
            "10. Social support: Having a strong social support network can be essential for recovery from a brain injury. This may include family, friends, and community resources.\n"
          ]
        }
      ],
      "source": [
        "#increasing max tokens\n",
        "user_prompt = \"[INST]What treatments are recommended for a person who has sustained a physical injury to brain tissue, resulting in temporary or permanent impairment of brain function?[/INST]\"\n",
        "model_response = response(user_prompt, max_tokens = 500)\n",
        "print(model_response)"
      ]
    },
    {
      "cell_type": "code",
      "execution_count": null,
      "metadata": {
        "colab": {
          "base_uri": "https://localhost:8080/"
        },
        "id": "DzRvVQo1Ylwf",
        "outputId": "50da4e9b-1f33-4eb1-d977-2ff892714c97"
      },
      "outputs": [
        {
          "output_type": "stream",
          "name": "stderr",
          "text": [
            "Llama.generate: prefix-match hit\n"
          ]
        },
        {
          "output_type": "stream",
          "name": "stdout",
          "text": [
            " Treatment for a physical injury to the brain tissue depends on the severity and location of the injury. Here are some common treatments that may be recommended:\n",
            "\n",
            "1. Emergency care: If the injury is recent, the first priority is to ensure the person's airway is clear, they are breathing, and their heart is beating. They may need emergency surgery or other interventions to prevent further damage or address life-threatening conditions.\n",
            "\n",
            "2. Medications: Depending on the symptoms, medications may be prescribed to manage seizures, control pain, reduce swelling in the brain, or improve cognitive function.\n",
            "\n",
            "3. Rehabilitation: Rehabilitation is an essential part of treatment for brain injuries. It can include physical therapy to help with mobility and strength, occupational therapy to address daily living skills, speech-language therapy to improve communication, and cognitive rehabilitation to help with memory, attention, and problem-solving abilities.\n",
            "\n",
            "4. Assistive devices: Depending on the extent of the injury, assistive devices such as wheelchairs, walkers, or braces may be necessary to help with mobility. Communication aids like speech-generating devices or text-to-speech software may also be helpful for those with communication difficulties.\n",
            "\n",
            "5. Lifestyle modifications: Making lifestyle modifications can help improve overall health and support brain function recovery. This may include getting enough rest, eating a healthy diet, avoiding alcohol and drugs, and engaging in regular physical activity.\n",
            "\n",
            "6. Support groups: Joining a support group can provide emotional and social support for individuals with brain injuries and their families. These groups offer opportunities to connect with others who have had similar experiences and learn from each other.\n",
            "\n",
            "7. Alternative therapies: Some alternative therapies, such as acupuncture, massage therapy, or transcranial magnetic stimulation, may help improve brain function and reduce symptoms in some individuals with brain injuries. However, it's essential to discuss these options with a healthcare provider before trying them.\n",
            "\n",
            "8. Psychological support: Brain injuries can have significant emotional and psychological effects on individuals and their families. Counseling or therapy can help address anxiety, depression, and other mental health concerns related to the injury.\n",
            "\n",
            "9. Vocational rehabilitation: For those with brain injuries who are unable to return to their previous employment, voc\n"
          ]
        }
      ],
      "source": [
        "#increasing max tokens, higher temp, lower top p\n",
        "user_prompt = \"[INST]What treatments are recommended for a person who has sustained a physical injury to brain tissue, resulting in temporary or permanent impairment of brain function?[/INST]\"\n",
        "model_response = response(user_prompt, max_tokens = 500, temperature = 0.7, top_p = 0.5)\n",
        "print(model_response)"
      ]
    },
    {
      "cell_type": "code",
      "execution_count": null,
      "metadata": {
        "colab": {
          "base_uri": "https://localhost:8080/"
        },
        "id": "Dq7ii69tYlwf",
        "outputId": "307bd482-f962-4cfc-d763-0027a4689686"
      },
      "outputs": [
        {
          "output_type": "stream",
          "name": "stderr",
          "text": [
            "Llama.generate: prefix-match hit\n"
          ]
        },
        {
          "output_type": "stream",
          "name": "stdout",
          "text": [
            " Treatment for a physical injury to the brain depends on the severity and location of the injury. Here are some common treatments that may be recommended:\n",
            "\n",
            "1. Medical stabilization: This includes treating any life-threatening conditions, such as controlling bleeding, managing airway and breathing, or addressing infections.\n",
            "\n",
            "2. Surgery: In some cases, surgery might be necessary to remove blood clots or repair skull fractures that are putting pressure on the brain.\n",
            "\n",
            "3. Rehabilitation: This can include physical therapy to address mobility issues, speech therapy to improve communication skills, occupational therapy for daily living activities, and cognitive rehabilitation to help improve memory, attention, and other cognitive functions.\n",
            "\n",
            "4. Medications: Depending on the injury and associated symptoms, medications may be prescribed to manage conditions such as seizures, pain, or depression.\n",
            "\n",
            "5. Assistive devices: Devices like wheelchairs, walkers, or braces can help individuals regain mobility and independence.\n",
            "\n",
            "6. Nutritional support: Proper nutrition is important for brain recovery, especially if an individual has difficulty swallowing or feeding themselves.\n",
            "\n",
            "7. Support groups: Connecting with others who have experienced similar injuries can provide emotional support and practical advice.\n",
            "\n",
            "8. Lifestyle modifications: Making changes to daily routines, such as getting enough sleep, reducing stress, and engaging in regular physical activity, can help support brain recovery.\n",
            "\n",
            "It's important to note that every individual's injury and recovery are unique, so treatments may vary based on the specific circumstances of the case. Consulting with a healthcare professional is essential for developing an appropriate treatment plan.\n"
          ]
        }
      ],
      "source": [
        "#increasing max tokens, higher temp, higher top p\n",
        "user_prompt = \"[INST]What treatments are recommended for a person who has sustained a physical injury to brain tissue, resulting in temporary or permanent impairment of brain function?[/INST]\"\n",
        "model_response = response(user_prompt, max_tokens = 500, temperature = 0.7, top_p = 1.0)\n",
        "print(model_response)"
      ]
    },
    {
      "cell_type": "code",
      "execution_count": null,
      "metadata": {
        "colab": {
          "base_uri": "https://localhost:8080/"
        },
        "id": "xN_yJsNfYlwg",
        "outputId": "10e74b0c-97b3-47e5-c1ff-6af45f7aa899"
      },
      "outputs": [
        {
          "output_type": "stream",
          "name": "stderr",
          "text": [
            "Llama.generate: prefix-match hit\n"
          ]
        },
        {
          "output_type": "stream",
          "name": "stdout",
          "text": [
            " Treatment for a physical injury to the brain can depend on the severity and location of the injury. Here are some common treatments that may be recommended:\n",
            "\n",
            "1. Emergency care: For severe brain injuries, the first priority is to provide emergency care to ensure the person's airway is clear, they are breathing, and their heart is beating. This may involve intubation, oxygen therapy, or cardiopulmonary resuscitation (CPR).\n",
            "2. Surgery: Depending on the location and severity of the injury, surgery may be necessary to remove blood clots, repair skull fractures, or relieve pressure on the brain.\n",
            "3. Medications: Various medications may be prescribed to manage symptoms associated with a brain injury, such as pain, swelling, seizures, or infections.\n",
            "4. Rehabilitation: Depending on the extent of the injury and resulting impairments, rehabilitation may be necessary to help the person regain lost skills and functions. This may include physical therapy, occupational therapy, speech therapy, and cognitive rehabilitation.\n",
            "5. Assistive devices: People with brain injuries may require assistive devices to help them with daily activities. These may include wheelchairs, walkers, braces, or communication aids.\n",
            "6. Support groups: Joining a support group can provide emotional support and practical advice for people with brain injuries and their families.\n",
            "7. Lifestyle modifications: Making lifestyle modifications, such as getting enough rest, eating a healthy diet, avoiding alcohol and drugs, and engaging in regular physical activity, can help improve overall health and support recovery from a brain injury.\n"
          ]
        }
      ],
      "source": [
        "#increasing max tokens, higher temp, lower top k\n",
        "user_prompt = \"[INST]What treatments are recommended for a person who has sustained a physical injury to brain tissue, resulting in temporary or permanent impairment of brain function?[/INST]\"\n",
        "model_response = response(user_prompt, max_tokens = 500, temperature = 0.7, top_k = 20)\n",
        "print(model_response)"
      ]
    },
    {
      "cell_type": "code",
      "execution_count": null,
      "metadata": {
        "colab": {
          "base_uri": "https://localhost:8080/"
        },
        "id": "z9Q3DqaAYlwg",
        "outputId": "716eccc7-882c-43ae-ab02-e24a9d58637c"
      },
      "outputs": [
        {
          "output_type": "stream",
          "name": "stderr",
          "text": [
            "Llama.generate: prefix-match hit\n"
          ]
        },
        {
          "output_type": "stream",
          "name": "stdout",
          "text": [
            " Treatment for a physical injury to the brain tissue depends on the severity and extent of the damage. Here are some common interventions that may be recommended:\n",
            "\n",
            "1. Medical stabilization: This is the first priority in treating a brain injury, which includes managing airway, breathing, circulation, and preventing further injury.\n",
            "\n",
            "2. Surgical intervention: In some cases, surgery may be needed to remove hematomas (clots) or decompress swelling in the brain.\n",
            "\n",
            "3. Rehabilitation: Rehabilitation can help a person recover from a brain injury through various therapies like physical therapy, occupational therapy, speech therapy, and cognitive rehabilitation.\n",
            "\n",
            "4. Medications: Certain medications may be prescribed to manage symptoms, such as anti-seizure drugs, pain relievers, or medications to improve cognition or attention.\n",
            "\n",
            "5. Nutritional support: A person with a brain injury may require nutritional support through a feeding tube or intravenous nutrition if they cannot eat or drink on their own.\n",
            "\n",
            "6. Assistive devices: Depending on the extent of impairment, a person might need assistive devices such as wheelchairs, walkers, braces, or communication aids to help them regain independence and function.\n",
            "\n",
            "7. Psychological support: Brain injuries can lead to emotional, behavioral, and cognitive changes. Counseling and psychotherapy may be necessary to address these issues and help the person cope with their injury and its impact on their life.\n",
            "\n",
            "8. Vocational training: If a brain injury affects a person's ability to work, they might need vocational training or job placement assistance to return to employment or find alternative employment opportunities.\n",
            "\n",
            "9. Social support: Family involvement and social support are crucial for the recovery process following a brain injury. Encouraging active participation in rehabilitation programs and providing emotional support can help improve outcomes.\n",
            "\n",
            "10. Lifestyle modifications: Making lifestyle changes, such as getting enough rest, practicing stress management techniques, and maintaining a healthy diet, can also contribute to better recovery and overall wellbeing for someone with a brain injury.\n"
          ]
        }
      ],
      "source": [
        "#increasing max tokens, higher temp, higher top k\n",
        "user_prompt = \"[INST]What treatments are recommended for a person who has sustained a physical injury to brain tissue, resulting in temporary or permanent impairment of brain function?[/INST]\"\n",
        "model_response = response(user_prompt, max_tokens = 500, temperature = 0.7, top_k = 100)\n",
        "print(model_response)"
      ]
    },
    {
      "cell_type": "markdown",
      "source": [
        "The LLM was able to complete several respones without hitting the token limit. The opening line for the responses was mostly similar, but the first with the default parameters but higher token limit and the last with the top_k increase had exhaustive intervention lists."
      ],
      "metadata": {
        "id": "szGgMYn8sP97"
      }
    },
    {
      "cell_type": "markdown",
      "metadata": {
        "id": "TYXxiSuBOefg"
      },
      "source": [
        "### Query 5: What are the necessary precautions and treatment steps for a person who has fractured their leg during a hiking trip, and what should be considered for their care and recovery?"
      ]
    },
    {
      "cell_type": "code",
      "execution_count": null,
      "metadata": {
        "colab": {
          "base_uri": "https://localhost:8080/"
        },
        "id": "mE2GMQk8RQ_p",
        "outputId": "d71c1307-f75d-4a26-ae98-c9a3d22997cd"
      },
      "outputs": [
        {
          "output_type": "stream",
          "name": "stderr",
          "text": [
            "Llama.generate: prefix-match hit\n"
          ]
        },
        {
          "output_type": "stream",
          "name": "stdout",
          "text": [
            " Before providing an answer, I'd need some more information about the leg injury. Here are some questions that could help:\n",
            "\n",
            "1. What is the nature of the injury? (e.g., fracture, sprain, strain, contusion)\n",
            "2. Where on the leg is the injury located? (e.g., thigh, calf, ankle, foot)\n",
            "3. How severe is the pain? (on a scale of 1-10)\n",
            "4. Is there any swelling or bruising?\n",
            "5. Can you put weight on the injured leg?\n",
            "6. Have\n"
          ]
        }
      ],
      "source": [
        "#ask the user questions\n",
        "\n",
        "user_prompt = \"[INST]What should someone with a leg injury do? Ask me relevant questions before answering[/INST]\"\n",
        "model_response = response(user_prompt)\n",
        "print(model_response)"
      ]
    },
    {
      "cell_type": "code",
      "execution_count": null,
      "metadata": {
        "colab": {
          "base_uri": "https://localhost:8080/"
        },
        "id": "zubaTaxCrmLG",
        "outputId": "0ed0fc6f-c5ad-4a50-ba2b-81eb78e1302a"
      },
      "outputs": [
        {
          "output_type": "stream",
          "name": "stderr",
          "text": [
            "Llama.generate: prefix-match hit\n"
          ]
        },
        {
          "output_type": "stream",
          "name": "stdout",
          "text": [
            " To provide an accurate answer, I'd need to ask some questions first:\n",
            "\n",
            "1. What is the exact nature of the leg injury? Is it a fracture, sprain, strain, or something else?\n",
            "2. Was the injury caused by an accident or trauma, or did it develop gradually over time?\n",
            "3. Is there any swelling, bruising, or visible deformity in the affected leg?\n",
            "4. Is the person able to walk or bear weight on the injured leg, or do they need assistance?\n",
            "5. Are there any other injuries or health conditions that could affect the care and\n"
          ]
        }
      ],
      "source": [
        "user_prompt = \"[INST]What should be done for the care and recovery of someone with a leg injury? Ask me relevant questions before answering[/INST]\"\n",
        "model_response = response(user_prompt)\n",
        "print(model_response)"
      ]
    },
    {
      "cell_type": "markdown",
      "source": [
        "After providing the LLM with an intentionally-vague version of the query and offering it an opportunity to ask relevant questions before answering, it did provide lists of questions for the user to answer, so it can provide better responses."
      ],
      "metadata": {
        "id": "Ejsl1wfws_ha"
      }
    },
    {
      "cell_type": "markdown",
      "metadata": {
        "id": "psew9Mk9VOvA"
      },
      "source": [
        "#### Parameter Tuning"
      ]
    },
    {
      "cell_type": "code",
      "execution_count": null,
      "metadata": {
        "colab": {
          "base_uri": "https://localhost:8080/"
        },
        "id": "-G3FExJUYoeo",
        "outputId": "8a7df8ed-38e7-4a89-d18b-0b28f03e356e"
      },
      "outputs": [
        {
          "output_type": "stream",
          "name": "stderr",
          "text": [
            "Llama.generate: prefix-match hit\n"
          ]
        },
        {
          "output_type": "stream",
          "name": "stdout",
          "text": [
            " If a person has fractured their leg during a hiking trip, it is important to take the following necessary precautions and treatment steps:\n",
            "\n",
            "1. Assess the situation: Check the severity of the injury and ensure the safety of both the injured person and any companions. If the fracture is open or the person is in severe pain, shock, or unable to move, call for emergency medical help immediately.\n",
            "\n",
            "2. Immobilize the leg: Use a splint, sling, or other immobilizing device to prevent further movement of the fractured bone. This will help reduce pain and prevent complications such as swelling or damage to surrounding tissues.\n",
            "\n",
            "3. Control bleeding: Apply direct pressure to any visible wounds with a clean cloth to control bleeding. Elevate the injured leg above heart level if possible to help reduce swelling and promote blood flow.\n",
            "\n",
            "4. Provide comfort: Keep the person warm, calm, and hydrated. Offer them water or other fluids to prevent dehydration, and provide blankets or insulation to keep them warm.\n",
            "\n",
            "5. Transport the person: If the injury is not severe enough to require emergency medical help, carefully transport the person back to civilization using a stretcher or other carrying device if necessary. Make sure they are as comfortable as possible during transportation.\n",
            "\n",
            "6. Seek medical attention: Once you have returned to civilization, seek medical attention from a healthcare professional. They will be able to properly diagnose and treat the fracture, as well as provide any necessary follow-up care or rehabilitation.\n",
            "\n",
            "7. Recovery: The recovery process for a fractured leg can vary depending on the severity of the injury and individual factors such as age and overall health. Follow your healthcare provider's instructions carefully, including taking prescribed medications, attending physical therapy sessions, and avoiding weight-bearing activities until the bone has fully healed.\n",
            "\n",
            "8. Prevention: To prevent future fractures while hiking, make sure to wear appropriate footwear with good traction, stay on marked trails, and avoid risky behaviors such as hiking alone or in extreme weather conditions. Additionally, maintain a healthy diet and regular exercise routine to keep your bones strong and resilient.\n"
          ]
        }
      ],
      "source": [
        "#increasing max tokens\n",
        "user_prompt = \"[INST]What are the necessary precautions and treatment steps for a person who has fractured their leg during a hiking trip, and what should be considered for their care and recovery?[/INST]\"\n",
        "model_response = response(user_prompt, max_tokens = 500)\n",
        "print(model_response)"
      ]
    },
    {
      "cell_type": "code",
      "execution_count": null,
      "metadata": {
        "colab": {
          "base_uri": "https://localhost:8080/"
        },
        "id": "zA_1XpNgYoeo",
        "outputId": "32efc68f-51ef-46ff-82eb-ada97230356d"
      },
      "outputs": [
        {
          "output_type": "stream",
          "name": "stderr",
          "text": [
            "Llama.generate: prefix-match hit\n"
          ]
        },
        {
          "output_type": "stream",
          "name": "stdout",
          "text": [
            " A fractured leg is a serious injury that requires prompt medical attention. Here are some necessary precautions and treatment steps for a person who has fractured their leg during a hiking trip:\n",
            "\n",
            "1. Assess the situation: Check the severity of the injury and assess if the person can be moved safely. If there are any signs of severe bleeding, open wounds, or other injuries, prioritize stabilizing the area and providing first aid before moving the person.\n",
            "2. Immobilize the leg: Use a splint, sling, or other immobilizing device to prevent movement of the fractured leg. This will help reduce pain and prevent further damage.\n",
            "3. Provide pain relief: Administer over-the-counter pain medication as directed by a healthcare professional. If the pain is severe, consider using a prescription pain reliever under medical supervision.\n",
            "4. Seek medical attention: Arrange for transportation to a hospital or urgent care center as soon as possible. A fractured leg may require surgery, and prompt medical attention can help ensure proper healing and reduce the risk of complications.\n",
            "5. Follow doctor's instructions: Once you have received medical treatment, follow your healthcare provider's instructions carefully. This may include wearing a cast or brace, taking prescribed medications, attending physical therapy sessions, and avoiding certain activities.\n",
            "6. Consider transportation and logistics: If the person is unable to walk, consider how they will be transported back to civilization. You may need to arrange for a ride or helicopter evacuation. Additionally, make sure you have all necessary medical records and insurance information on hand.\n",
            "7. Provide emotional support: A fractured leg can be both physically and emotionally challenging. Offer words of encouragement and provide emotional support as needed.\n",
            "8. Plan for recovery: Once the person is home and recovering, help them create a plan for getting back to their normal activities. This may include modifying their living space, arranging for assistance with daily tasks, and setting goals for gradual reintroduction of physical activity.\n",
            "9. Follow up appointments: Attend all follow-up appointments with healthcare providers to ensure proper healing and address any concerns or complications that may arise.\n"
          ]
        }
      ],
      "source": [
        "#increasing max tokens, higher temp, lower top p\n",
        "user_prompt = \"[INST]What are the necessary precautions and treatment steps for a person who has fractured their leg during a hiking trip, and what should be considered for their care and recovery?[/INST]\"\n",
        "model_response = response(user_prompt, max_tokens = 500, temperature = 0.7, top_p = 0.5)\n",
        "print(model_response)"
      ]
    },
    {
      "cell_type": "code",
      "execution_count": null,
      "metadata": {
        "colab": {
          "base_uri": "https://localhost:8080/"
        },
        "id": "2FdVL3NGYoeo",
        "outputId": "fe098ab3-6762-46c0-d910-6350dd661ded"
      },
      "outputs": [
        {
          "output_type": "stream",
          "name": "stderr",
          "text": [
            "Llama.generate: prefix-match hit\n"
          ]
        },
        {
          "output_type": "stream",
          "name": "stdout",
          "text": [
            " If a person has fractured their leg while hiking, it is important to take the following necessary precautions and treatment steps:\n",
            "\n",
            "1. Assess the situation: Check if the area is safe for you and the injured person. If possible, try to keep the person calm and still to prevent further injury or discomfort. Avoid moving them unnecessarily.\n",
            "\n",
            "2. Call for help: If the injury is severe or if you are unable to provide adequate care, call for emergency medical assistance.\n",
            "\n",
            "3. Immobilize the leg: Use a splint, a makeshift sling, or a commercially available brace to immobilize the fractured leg. This will help prevent further damage and provide support. Be careful not to apply too much pressure on the injury.\n",
            "\n",
            "4. Control bleeding: If there is heavy bleeding, use a clean cloth or bandage to apply gentle pressure on the wound. Do not remove the cloth or bandage until it is time for a medical professional to check the injury.\n",
            "\n",
            "5. Provide first aid: Clean the injury gently with water and mild soap if it is safe to do so. Apply an antiseptic ointment to prevent infection. Cover the wound with a sterile dressing.\n",
            "\n",
            "6. Monitor vital signs: Keep a close eye on the person's pulse, breathing rate, and level of consciousness. Check for signs of shock, such as pale skin, rapid heartbeat, or shallow breathing.\n",
            "\n",
            "7. Prepare for transportation: If possible, carry the person to a safe location for transportation. If you are unable to move them, stay with them and wait for help to arrive.\n",
            "\n",
            "8. Consider the environment: If the hiking trail is remote, be prepared for an extended wait for medical assistance. Bring warm clothing, water, and food for both the injured person and yourself.\n",
            "\n",
            "9. Seek professional care: Once you have provided first aid and ensured the person's safety, seek medical attention as soon as possible. A fracture requires proper diagnosis and treatment from a healthcare professional to ensure proper healing and recovery.\n",
            "\n",
            "10. Follow the healthcare provider's instructions: After receiving a diagnosis and initial treatment, follow your healthcare provider's instructions for care and recovery. This may include wearing a cast or brace, taking pain medication, undergoing physical therapy, or following a specific diet or activity plan. It\n"
          ]
        }
      ],
      "source": [
        "#increasing max tokens, higher temp, higher top p\n",
        "user_prompt = \"[INST]What are the necessary precautions and treatment steps for a person who has fractured their leg during a hiking trip, and what should be considered for their care and recovery?[/INST]\"\n",
        "model_response = response(user_prompt, max_tokens = 500, temperature = 0.7, top_p = 1.0)\n",
        "print(model_response)"
      ]
    },
    {
      "cell_type": "code",
      "execution_count": null,
      "metadata": {
        "colab": {
          "base_uri": "https://localhost:8080/"
        },
        "id": "6lr1by7FYoeo",
        "outputId": "516a1e44-e4ef-4d08-95e1-429d7b2a6de4"
      },
      "outputs": [
        {
          "output_type": "stream",
          "name": "stderr",
          "text": [
            "Llama.generate: prefix-match hit\n"
          ]
        },
        {
          "output_type": "stream",
          "name": "stdout",
          "text": [
            " A fractured leg is a serious injury that requires prompt medical attention. Here are some necessary precautions and treatment steps for a person who has fractured their leg during a hiking trip:\n",
            "\n",
            "1. Assess the situation: If you suspect someone has fractured their leg, try to ensure the safety of both the injured person and yourself. Check if the area is safe from any further danger or risks before approaching.\n",
            "2. Provide first aid: Comfort the person by speaking calmly and reassuring them. Try to keep them warm and still to reduce pain. Apply a sterile dressing or cloth to control any bleeding. Do not attempt to realign the bone or move the leg unless absolutely necessary, as it could cause further damage.\n",
            "3. Immobilize the leg: Use a splint, sling, or other immobilizing device to prevent any movement of the leg. This will help reduce pain and prevent further injury. If you don't have a splint, use whatever is available such as sticks, branches, or clothing to create makeshift immobilization.\n",
            "4. Transportation: Arrange for transportation to a medical facility as soon as possible. If the injured person is unable to walk, they may need to be carried out on a stretcher or using a makeshift stretcher. Be sure to keep the leg still and immobilized during transport.\n",
            "5. Medical attention: Once you reach a medical facility, the healthcare professionals will assess the extent of the fracture and provide appropriate treatment. This may include setting the bone in place with pins or plates, casting the leg, or surgery to repair the fracture. The person may also need pain medication to manage their discomfort.\n",
            "6. Recovery: The recovery process for a fractured leg can be lengthy, depending on the severity of the injury and the treatment required. The person may need to use crutches or a walker for several weeks or months, and physical therapy may be necessary to help restore full mobility and strength. It's important for the injured person to follow their healthcare provider's instructions carefully during the recovery process to ensure proper healing and prevent complications.\n",
            "7. Prevention: To prevent similar injuries in the future, consider taking some precautions before going on hiking trips. Wear appropriate footwear with good traction, stay on marked trails, and be aware of your surroundings to avoid\n"
          ]
        }
      ],
      "source": [
        "#increasing max tokens, higher temp, lower top k\n",
        "user_prompt = \"[INST]What are the necessary precautions and treatment steps for a person who has fractured their leg during a hiking trip, and what should be considered for their care and recovery?[/INST]\"\n",
        "model_response = response(user_prompt, max_tokens = 500, temperature = 0.7, top_k = 20)\n",
        "print(model_response)"
      ]
    },
    {
      "cell_type": "code",
      "execution_count": null,
      "metadata": {
        "colab": {
          "base_uri": "https://localhost:8080/"
        },
        "id": "IbJDIK8nYoeo",
        "outputId": "ce5a1d5b-d088-4a17-ca9d-ffb95e8808e9"
      },
      "outputs": [
        {
          "output_type": "stream",
          "name": "stderr",
          "text": [
            "Llama.generate: prefix-match hit\n"
          ]
        },
        {
          "output_type": "stream",
          "name": "stdout",
          "text": [
            " If a person has fractured their leg while hiking, it is important to take the following precautions and steps:\n",
            "\n",
            "1. Assess the severity of the injury: Before providing any first aid or treatment, assess the extent of the injury. Check for signs of open wounds, swelling, bruising, deformities, numbness, or inability to move the leg. If you suspect that the fracture is severe or if there are other injuries, do not try to move the person and call for emergency medical help immediately.\n",
            "2. Provide first aid: If the fracture appears to be stable and the person can be moved, follow these steps:\n",
            "   - Keep the person as comfortable as possible by lying them down on a flat surface.\n",
            "   - Apply a sterile dressing or clean cloth over any wounds to prevent infection.\n",
            "   - Use a splint or sling to immobilize the leg and prevent further injury.\n",
            "   - Elevate the injured leg above heart level to reduce swelling.\n",
            "3. Seek medical help: Even if the fracture appears to be stable, it is important to seek medical attention as soon as possible. A healthcare professional will be able to diagnose the extent of the fracture and provide appropriate treatment, such as setting the bone in place or applying a cast.\n",
            "4. Follow the healthcare provider's instructions: Once you have received medical care, follow your healthcare provider's instructions for caring for your leg during recovery. This may include taking pain medications, avoiding weight-bearing activities, and attending physical therapy sessions to regain strength and mobility.\n",
            "5. Consider other factors: During the recovery process, consider other factors that can help support your healing and overall wellbeing. These may include:\n",
            "   - Proper nutrition and hydration to promote healing and energy.\n",
            "   - Getting enough rest and avoiding activities that could re-injure the leg.\n",
            "   - Keeping the area clean and dry to prevent infection.\n",
            "   - Staying positive and maintaining a good attitude to help cope with the recovery process.\n",
            "6. Plan for transportation: Depending on the severity of the injury, you may need assistance getting back home or to your accommodation after seeking medical care. Make arrangements for transportation before leaving the healthcare facility or ask someone to help you.\n"
          ]
        }
      ],
      "source": [
        "#increasing max tokens, higher temp, higher top k\n",
        "user_prompt = \"[INST]What are the necessary precautions and treatment steps for a person who has fractured their leg during a hiking trip, and what should be considered for their care and recovery?[/INST]\"\n",
        "model_response = response(user_prompt, max_tokens = 500, temperature = 0.7, top_k = 100)\n",
        "print(model_response)"
      ]
    },
    {
      "cell_type": "markdown",
      "source": [
        "The response with the higher top_k was very well structured, with specific, listed steps to take for first aid and recovery. This response was also complete. Some of the responses also had the extra spacing we saw in the responses for the question on brain injury."
      ],
      "metadata": {
        "id": "tt74RgXdwN56"
      }
    },
    {
      "cell_type": "markdown",
      "metadata": {
        "id": "t_O1PGdNO2M9"
      },
      "source": [
        "## Data Preparation for RAG"
      ]
    },
    {
      "cell_type": "markdown",
      "metadata": {
        "id": "uTpWESc53dL9"
      },
      "source": [
        "### Loading the Data"
      ]
    },
    {
      "cell_type": "code",
      "execution_count": null,
      "metadata": {
        "id": "ybj2cEnzRSXq"
      },
      "outputs": [],
      "source": [
        "#grab the pdf from google drive\n",
        "pdf_file = \"/content/drive/My Drive/AI Cert Course/NLP with AI/Project 4/medical_diagnosis_manual.pdf\""
      ]
    },
    {
      "cell_type": "code",
      "execution_count": null,
      "metadata": {
        "colab": {
          "base_uri": "https://localhost:8080/"
        },
        "id": "Ge_K5gJduqgj",
        "outputId": "2723b075-98e4-4010-a0b7-6a5ce6c48364"
      },
      "outputs": [
        {
          "output_type": "stream",
          "name": "stderr",
          "text": [
            "/usr/local/lib/python3.11/dist-packages/pypdf/_crypt_providers/_cryptography.py:32: CryptographyDeprecationWarning: ARC4 has been moved to cryptography.hazmat.decrepit.ciphers.algorithms.ARC4 and will be removed from this module in 48.0.0.\n",
            "  from cryptography.hazmat.primitives.ciphers.algorithms import AES, ARC4\n"
          ]
        }
      ],
      "source": [
        "#initialize loader object\n",
        "pdf_loader = PyPDFLoader(pdf_file)"
      ]
    },
    {
      "cell_type": "code",
      "execution_count": null,
      "metadata": {
        "id": "VYSjzSXn4dKJ"
      },
      "outputs": [],
      "source": [
        "#load the pdf\n",
        "documents = pdf_loader.load()"
      ]
    },
    {
      "cell_type": "markdown",
      "metadata": {
        "id": "ffj0ca3eZT4u"
      },
      "source": [
        "### Data Overview"
      ]
    },
    {
      "cell_type": "markdown",
      "metadata": {
        "id": "f9weTDzMxRRS"
      },
      "source": [
        "#### Checking the first 5 pages"
      ]
    },
    {
      "cell_type": "code",
      "execution_count": null,
      "metadata": {
        "id": "-NuC-6SNRT7K"
      },
      "outputs": [],
      "source": [
        "#the documents object is a list containing the contents of each page in the pdf\n",
        "#create a new list with the first 5 pages\n",
        "first_five_pages = documents[:5]"
      ]
    },
    {
      "cell_type": "code",
      "execution_count": null,
      "metadata": {
        "colab": {
          "base_uri": "https://localhost:8080/"
        },
        "id": "EaQ1SiuG_H_5",
        "outputId": "b22ef58e-cbd5-444c-e649-d8f763e058df"
      },
      "outputs": [
        {
          "output_type": "stream",
          "name": "stdout",
          "text": [
            "{'source': '/content/drive/My Drive/AI Cert Course/NLP with AI/Project 4/medical_diagnosis_manual.pdf', 'page': 0}\n",
            "\n",
            "christopher.a.peralta@gmail.com\n",
            "J8VR75WB2D\n",
            "This file is meant for personal use by christopher.a.peralta@gmail.com only.\n",
            "Sharing or publishing the contents in part or full is liable for legal action.\n",
            "\n",
            "{'source': '/content/drive/My Drive/AI Cert Course/NLP with AI/Project 4/medical_diagnosis_manual.pdf', 'page': 1}\n",
            "\n",
            "christopher.a.peralta@gmail.com\n",
            "J8VR75WB2D\n",
            "This file is meant for personal use by christopher.a.peralta@gmail.com only.\n",
            "Sharing or publishing the contents in part or full is liable for legal action.\n",
            "\n",
            "{'source': '/content/drive/My Drive/AI Cert Course/NLP with AI/Project 4/medical_diagnosis_manual.pdf', 'page': 2}\n",
            "\n",
            "Table of Contents\n",
            "1\n",
            "Front  \n",
            "  ................................................................................................................................................................................................................\n",
            "1\n",
            "Cover  \n",
            "  .......................................................................................................................................................................................................\n",
            "2\n",
            "Front Matter  \n",
            "  ...........................................................................................................................................................................................\n",
            "53\n",
            "1 - Nutritional Disorders  \n",
            "  ...............................................................................................................................................................\n",
            "53\n",
            "Chapter 1. Nutrition: General Considerations  \n",
            "  .....................................................................................................................\n",
            "59\n",
            "Chapter 2. Undernutrition  \n",
            "  .............................................................................................................................................................\n",
            "69\n",
            "Chapter 3. Nutritional Support  \n",
            "  ...................................................................................................................................................\n",
            "76\n",
            "Chapter 4. Vitamin Deficiency, Dependency & Toxicity  \n",
            "  ..................................................................................................\n",
            "99\n",
            "Chapter 5. Mineral Deficiency & Toxicity  \n",
            "  ..............................................................................................................................\n",
            "108\n",
            "Chapter 6. Obesity & the Metabolic Syndrome  \n",
            "  ...............................................................................................................\n",
            "120\n",
            "2 - Gastrointestinal Disorders  \n",
            "  ..............................................................................................................................................\n",
            "120\n",
            "Chapter 7. Approach to the Patient With Upper GI Complaints  \n",
            "  ...............................................................................\n",
            "132\n",
            "Chapter 8. Approach to the Patient With Lower GI Complaints  \n",
            "  ...............................................................................\n",
            "143\n",
            "Chapter 9. Diagnostic & Therapeutic GI Procedures  \n",
            "  ....................................................................................................\n",
            "150\n",
            "Chapter 10. GI Bleeding  \n",
            "  ............................................................................................................................................................\n",
            "158\n",
            "Chapter 11. Acute Abdomen & Surgical Gastroenterology  \n",
            "  .........................................................................................\n",
            "172\n",
            "Chapter 12. Esophageal & Swallowing Disorders  \n",
            "  ..........................................................................................................\n",
            "183\n",
            "Chapter 13. Gastritis & Peptic Ulcer Disease  \n",
            "  ..................................................................................................................\n",
            "196\n",
            "Chapter 14. Bezoars & Foreign Bodies  \n",
            "  ..............................................................................................................................\n",
            "199\n",
            "Chapter 15. Pancreatitis  \n",
            "  ............................................................................................................................................................\n",
            "206\n",
            "Chapter 16. Gastroenteritis  \n",
            "  ......................................................................................................................................................\n",
            "213\n",
            "Chapter 17. Malabsorption Syndromes  \n",
            "  ..............................................................................................................................\n",
            "225\n",
            "Chapter 18. Irritable Bowel Syndrome  \n",
            "  ................................................................................................................................\n",
            "229\n",
            "Chapter 19. Inflammatory Bowel Disease  \n",
            "  .........................................................................................................................\n",
            "241\n",
            "Chapter 20. Diverticular Disease  \n",
            "  ...........................................................................................................................................\n",
            "246\n",
            "Chapter 21. Anorectal Disorders  \n",
            "  ............................................................................................................................................\n",
            "254\n",
            "Chapter 22. Tumors of the GI Tract  \n",
            "  ......................................................................................................................................\n",
            "275\n",
            "3 - Hepatic & Biliary Disorders  \n",
            "  ............................................................................................................................................\n",
            "275\n",
            "Chapter 23. Approach to the Patient With Liver Disease  \n",
            "  ...........................................................................................\n",
            "294\n",
            "Chapter 24. Testing for Hepatic & Biliary Disorders  \n",
            "  ......................................................................................................\n",
            "305\n",
            "Chapter 25. Drugs & the Liver  \n",
            "  ................................................................................................................................................\n",
            "308\n",
            "Chapter 26. Alcoholic Liver Disease  \n",
            "  ....................................................................................................................................\n",
            "314\n",
            "Chapter 27. Fibrosis & Cirrhosis  \n",
            "  ............................................................................................................................................\n",
            "322\n",
            "Chapter 28. Hepatitis  \n",
            "  ..................................................................................................................................................................\n",
            "333\n",
            "Chapter 29. Vascular Disorders of the Liver  \n",
            "  .....................................................................................................................\n",
            "341\n",
            "Chapter 30. Liver Masses & Granulomas  \n",
            "  ..........................................................................................................................\n",
            "348\n",
            "Chapter 31. Gallbladder & Bile Duct Disorders  \n",
            "  ...............................................................................................................\n",
            "362\n",
            "4 - Musculoskeletal & Connective Tissue Disorders  \n",
            "  .........................................................................................\n",
            "362\n",
            "Chapter 32. Approach to the Patient With Joint Disease  \n",
            "  ............................................................................................\n",
            "373\n",
            "Chapter 33. Autoimmune Rheumatic Disorders  \n",
            "  ..............................................................................................................\n",
            "391\n",
            "Chapter 34. Vasculitis  \n",
            "  .................................................................................................................................................................\n",
            "416\n",
            "Chapter 35. Joint Disorders  \n",
            "  .....................................................................................................................................................\n",
            "435\n",
            "Chapter 36. Crystal-Induced Arthritides  \n",
            "  ..............................................................................................................................\n",
            "443\n",
            "Chapter 37. Osteoporosis  \n",
            "  .........................................................................................................................................................\n",
            "448\n",
            "Chapter 38. Paget's Disease of Bone  \n",
            "  ..................................................................................................................................\n",
            "451\n",
            "Chapter 39. Osteonecrosis  \n",
            "  .......................................................................................................................................................\n",
            "455\n",
            "Chapter 40. Infections of Joints & Bones  \n",
            "  ...........................................................................................................................\n",
            "463\n",
            "Chapter 41. Bursa, Muscle & Tendon Disorders  \n",
            "  .............................................................................................................\n",
            "470\n",
            "Chapter 42. Neck & Back Pain  \n",
            "  ...............................................................................................................................................\n",
            "481\n",
            "Chapter 43. Hand Disorders  \n",
            "  ....................................................................................................................................................christopher.a.peralta@gmail.com\n",
            "J8VR75WB2D\n",
            "This file is meant for personal use by christopher.a.peralta@gmail.com only.\n",
            "Sharing or publishing the contents in part or full is liable for legal action.\n",
            "\n",
            "{'source': '/content/drive/My Drive/AI Cert Course/NLP with AI/Project 4/medical_diagnosis_manual.pdf', 'page': 3}\n",
            "\n",
            "491\n",
            "Chapter 44. Foot & Ankle Disorders  \n",
            "  .....................................................................................................................................\n",
            "502\n",
            "Chapter 45. Tumors of Bones & Joints  \n",
            "  ...............................................................................................................................\n",
            "510\n",
            "5 - Ear, Nose, Throat & Dental Disorders  \n",
            "  ..................................................................................................................\n",
            "510\n",
            "Chapter 46. Approach to the Patient With Ear Problems  \n",
            "  ...........................................................................................\n",
            "523\n",
            "Chapter 47. Hearing Loss  \n",
            "  .........................................................................................................................................................\n",
            "535\n",
            "Chapter 48. Inner Ear Disorders  \n",
            "  ............................................................................................................................................\n",
            "542\n",
            "Chapter 49. Middle Ear & Tympanic Membrane Disorders  \n",
            "  ........................................................................................\n",
            "550\n",
            "Chapter 50. External Ear Disorders  \n",
            "  .....................................................................................................................................\n",
            "554\n",
            "Chapter 51. Approach to the Patient With Nasal & Pharyngeal Symptoms  \n",
            "  .......................................................\n",
            "567\n",
            "Chapter 52. Oral & Pharyngeal Disorders  \n",
            "  .........................................................................................................................\n",
            "578\n",
            "Chapter 53. Nose & Paranasal Sinus Disorders  \n",
            "  .............................................................................................................\n",
            "584\n",
            "Chapter 54. Laryngeal Disorders  \n",
            "  ...........................................................................................................................................\n",
            "590\n",
            "Chapter 55. Tumors of the Head & Neck  \n",
            "  ...........................................................................................................................\n",
            "600\n",
            "Chapter 56. Approach to Dental & Oral Symptoms  \n",
            "  .......................................................................................................\n",
            "619\n",
            "Chapter 57. Common Dental Disorders  \n",
            "  .............................................................................................................................\n",
            "629\n",
            "Chapter 58. Dental Emergencies  \n",
            "  ..........................................................................................................................................\n",
            "635\n",
            "Chapter 59. Temporomandibular Disorders  \n",
            "  ......................................................................................................................\n",
            "641\n",
            "6 - Eye Disorders  \n",
            "  ............................................................................................................................................................................\n",
            "641\n",
            "Chapter 60. Approach to the Ophthalmologic Patient  \n",
            "  ..................................................................................................\n",
            "669\n",
            "Chapter 61. Refractive Error  \n",
            "  ...................................................................................................................................................\n",
            "674\n",
            "Chapter 62. Eyelid & Lacrimal Disorders  \n",
            "  ...........................................................................................................................\n",
            "680\n",
            "Chapter 63. Conjunctival & Scleral Disorders  \n",
            "  .................................................................................................................\n",
            "690\n",
            "Chapter 64. Corneal Disorders  \n",
            "  ...............................................................................................................................................\n",
            "703\n",
            "Chapter 65. Glaucoma  \n",
            "  ...............................................................................................................................................................\n",
            "710\n",
            "Chapter 66. Cataract  \n",
            "  ...................................................................................................................................................................\n",
            "713\n",
            "Chapter 67. Uveitis  \n",
            "  ......................................................................................................................................................................\n",
            "719\n",
            "Chapter 68. Retinal Disorders  \n",
            "  .................................................................................................................................................\n",
            "731\n",
            "Chapter 69. Optic Nerve Disorders  \n",
            "  ......................................................................................................................................\n",
            "737\n",
            "Chapter 70. Orbital Diseases  \n",
            "  ..................................................................................................................................................\n",
            "742\n",
            "7 - Dermatologic Disorders  \n",
            "  ....................................................................................................................................................\n",
            "742\n",
            "Chapter 71. Approach to the Dermatologic Patient  \n",
            "  .......................................................................................................\n",
            "755\n",
            "Chapter 72. Principles of Topical Dermatologic Therapy  \n",
            "  ............................................................................................\n",
            "760\n",
            "Chapter 73. Acne & Related Disorders  \n",
            "  ...............................................................................................................................\n",
            "766\n",
            "Chapter 74. Bullous Diseases  \n",
            "  .................................................................................................................................................\n",
            "771\n",
            "Chapter 75. Cornification Disorders  \n",
            "  .....................................................................................................................................\n",
            "775\n",
            "Chapter 76. Dermatitis  \n",
            "  ...............................................................................................................................................................\n",
            "786\n",
            "Chapter 77. Reactions to Sunlight  \n",
            "  ........................................................................................................................................\n",
            "791\n",
            "Chapter 78. Psoriasis & Scaling Diseases  \n",
            "  ........................................................................................................................\n",
            "799\n",
            "Chapter 79. Hypersensitivity & Inflammatory Disorders  \n",
            "  .............................................................................................\n",
            "808\n",
            "Chapter 80. Sweating Disorders  \n",
            "  ............................................................................................................................................\n",
            "811\n",
            "Chapter 81. Bacterial Skin Infections  \n",
            "  ...................................................................................................................................\n",
            "822\n",
            "Chapter 82. Fungal Skin Infections  \n",
            "  ......................................................................................................................................\n",
            "831\n",
            "Chapter 83. Parasitic Skin Infections  \n",
            "  ...................................................................................................................................\n",
            "836\n",
            "Chapter 84. Viral Skin Diseases  \n",
            "  ............................................................................................................................................\n",
            "841\n",
            "Chapter 85. Pigmentation Disorders  \n",
            "  ....................................................................................................................................\n",
            "846\n",
            "Chapter 86. Hair Disorders  \n",
            "  .......................................................................................................................................................\n",
            "855\n",
            "Chapter 87. Nail Disorders  \n",
            "  .......................................................................................................................................................\n",
            "861\n",
            "Chapter 88. Pressure Ulcers  \n",
            "  ...................................................................................................................................................\n",
            "867\n",
            "Chapter 89. Benign Tumors  \n",
            "  .....................................................................................................................................................\n",
            "874\n",
            "Chapter 90. Cancers of the Skin  \n",
            "  ............................................................................................................................................\n",
            "882\n",
            "8 - Endocrine & Metabolic Disorders  \n",
            "  .............................................................................................................................\n",
            "882\n",
            "Chapter 91. Principles of Endocrinology  \n",
            "  ............................................................................................................................\n",
            "887\n",
            "Chapter 92. Pituitary Disorders  \n",
            "  ..............................................................................................................................................\n",
            "901\n",
            "Chapter 93. Thyroid Disorders  \n",
            "  ................................................................................................................................................christopher.a.peralta@gmail.com\n",
            "J8VR75WB2D\n",
            "This file is meant for personal use by christopher.a.peralta@gmail.com only.\n",
            "Sharing or publishing the contents in part or full is liable for legal action.\n",
            "\n",
            "{'source': '/content/drive/My Drive/AI Cert Course/NLP with AI/Project 4/medical_diagnosis_manual.pdf', 'page': 4}\n",
            "\n",
            "921\n",
            "Chapter 94. Adrenal Disorders  \n",
            "  ................................................................................................................................................\n",
            "936\n",
            "Chapter 95. Polyglandular Deficiency Syndromes  \n",
            "  ........................................................................................................\n",
            "939\n",
            "Chapter 96. Porphyrias  \n",
            "  ..............................................................................................................................................................\n",
            "949\n",
            "Chapter 97. Fluid & Electrolyte Metabolism  \n",
            "  .....................................................................................................................\n",
            "987\n",
            "Chapter 98. Acid-Base Regulation & Disorders  \n",
            "  ..............................................................................................................\n",
            "1001\n",
            "Chapter 99. Diabetes Mellitus & Disorders of Carbohydrate Metabolism  \n",
            "  ........................................................\n",
            "1024\n",
            "Chapter 100. Lipid Disorders  \n",
            "  ................................................................................................................................................\n",
            "1034\n",
            "Chapter 101. Amyloidosis  \n",
            "  ......................................................................................................................................................\n",
            "1037\n",
            "Chapter 102. Carcinoid Tumors  \n",
            "  ..........................................................................................................................................\n",
            "1040\n",
            "Chapter 103. Multiple Endocrine Neoplasia Syndromes  \n",
            "  .........................................................................................\n",
            "1046\n",
            "9 - Hematology & Oncology  \n",
            "  ...............................................................................................................................................\n",
            "1046\n",
            "Chapter 104. Approach to the Patient With Anemia  \n",
            "  ..................................................................................................\n",
            "1050\n",
            "Chapter 105. Anemias Caused by Deficient Erythropoiesis  \n",
            "  ...................................................................................\n",
            "1061\n",
            "Chapter 106. Anemias Caused by Hemolysis  \n",
            "  ...............................................................................................................\n",
            "1078\n",
            "Chapter 107. Neutropenia & Lymphocytopenia  \n",
            "  ...........................................................................................................\n",
            "1086\n",
            "Chapter 108. Thrombocytopenia & Platelet Dysfunction  \n",
            "  .........................................................................................\n",
            "1097\n",
            "Chapter 109. Hemostasis  \n",
            "  ......................................................................................................................................................\n",
            "1104\n",
            "Chapter 110. Thrombotic Disorders  \n",
            "  ...................................................................................................................................\n",
            "1107\n",
            "Chapter 111. Coagulation Disorders  \n",
            "  ..................................................................................................................................\n",
            "1113\n",
            "Chapter 112. Bleeding Due to Abnormal Blood Vessels  \n",
            "  ...........................................................................................\n",
            "1116\n",
            "Chapter 113. Spleen Disorders  \n",
            "  ............................................................................................................................................\n",
            "1120\n",
            "Chapter 114. Eosinophilic Disorders  \n",
            "  .................................................................................................................................\n",
            "1126\n",
            "Chapter 115. Histiocytic Syndromes  \n",
            "  .................................................................................................................................\n",
            "1131\n",
            "Chapter 116. Myeloproliferative Disorders  \n",
            "  .....................................................................................................................\n",
            "1141\n",
            "Chapter 117. Leukemias  \n",
            "  .........................................................................................................................................................\n",
            "1154\n",
            "Chapter 118. Lymphomas  \n",
            "  ......................................................................................................................................................\n",
            "1164\n",
            "Chapter 119. Plasma Cell Disorders  \n",
            "  .................................................................................................................................\n",
            "1172\n",
            "Chapter 120. Iron Overload  \n",
            "  ...................................................................................................................................................\n",
            "1177\n",
            "Chapter 121. Transfusion Medicine  \n",
            "  ...................................................................................................................................\n",
            "1186\n",
            "Chapter 122. Overview of Cancer  \n",
            "  ......................................................................................................................................\n",
            "1198\n",
            "Chapter 123. Tumor Immunology  \n",
            "  .......................................................................................................................................\n",
            "1204\n",
            "Chapter 124. Principles of Cancer Therapy  \n",
            "  ...................................................................................................................\n",
            "1215\n",
            "10 - Immunology; Allergic Disorders  \n",
            "  ...........................................................................................................................\n",
            "1215\n",
            "Chapter 125. Biology of the Immune System  \n",
            "  ...............................................................................................................\n",
            "1227\n",
            "Chapter 126. Immunodeficiency Disorders  \n",
            "  ....................................................................................................................\n",
            "1243\n",
            "Chapter 127. Allergic & Other Hypersensitivity Disorders  \n",
            "  .......................................................................................\n",
            "1263\n",
            "Chapter 128. Transplantation  \n",
            "  ...............................................................................................................................................\n",
            "1281\n",
            "11 - Infectious Diseases  \n",
            "  ........................................................................................................................................................\n",
            "1281\n",
            "Chapter 129. Biology of Infectious Disease  \n",
            "  ...................................................................................................................\n",
            "1300\n",
            "Chapter 130. Laboratory Diagnosis of Infectious Disease  \n",
            "  ......................................................................................\n",
            "1306\n",
            "Chapter 131. Immunization  \n",
            "  ...................................................................................................................................................\n",
            "1313\n",
            "Chapter 132. Bacteria & Antibacterial Drugs  \n",
            "  .................................................................................................................\n",
            "1353\n",
            "Chapter 133. Gram-Positive Cocci  \n",
            "  ....................................................................................................................................\n",
            "1366\n",
            "Chapter 134. Gram-Positive Bacilli  \n",
            "  ...................................................................................................................................\n",
            "1376\n",
            "Chapter 135. Gram-Negative Bacilli  \n",
            "  .................................................................................................................................\n",
            "1405\n",
            "Chapter 136. Spirochetes  \n",
            "  ......................................................................................................................................................\n",
            "1413\n",
            "Chapter 137. Neisseriaceae  \n",
            "  .................................................................................................................................................\n",
            "1419\n",
            "Chapter 138. Chlamydia & Mycoplasmas  \n",
            "  ......................................................................................................................\n",
            "1421\n",
            "Chapter 139. Rickettsiae & Related Organisms  \n",
            "  ..........................................................................................................\n",
            "1431\n",
            "Chapter 140. Anaerobic Bacteria  \n",
            "  ........................................................................................................................................\n",
            "1450\n",
            "Chapter 141. Mycobacteria  \n",
            "  ...................................................................................................................................................\n",
            "1470\n",
            "Chapter 142. Fungi  \n",
            "  ...................................................................................................................................................................\n",
            "1493\n",
            "Chapter 143. Approach to Parasitic Infections  \n",
            "  .............................................................................................................\n",
            "1496\n",
            "Chapter 144. Nematodes (Roundworms)  \n",
            "  .......................................................................................................................christopher.a.peralta@gmail.com\n",
            "J8VR75WB2D\n",
            "This file is meant for personal use by christopher.a.peralta@gmail.com only.\n",
            "Sharing or publishing the contents in part or full is liable for legal action.\n",
            "\n"
          ]
        }
      ],
      "source": [
        "#a loop to print the page number and contents of the first 5 pages\n",
        "for i, doc in enumerate(first_five_pages):\n",
        "  print(f\"{documents[i].metadata}\\n\")\n",
        "  print(documents[i].page_content)"
      ]
    },
    {
      "cell_type": "markdown",
      "metadata": {
        "id": "7-wNNalNxPKT"
      },
      "source": [
        "#### Checking the number of pages"
      ]
    },
    {
      "cell_type": "code",
      "execution_count": null,
      "metadata": {
        "colab": {
          "base_uri": "https://localhost:8080/"
        },
        "id": "MSEiL--bRTZT",
        "outputId": "ee08aaa4-9057-46a3-94d6-520cc0e5677a"
      },
      "outputs": [
        {
          "output_type": "stream",
          "name": "stdout",
          "text": [
            "4114\n"
          ]
        }
      ],
      "source": [
        "print(len(documents))"
      ]
    },
    {
      "cell_type": "markdown",
      "metadata": {
        "id": "xHOUZ4Zh6sEf"
      },
      "source": [
        "The PDF has 4,114 pages."
      ]
    },
    {
      "cell_type": "markdown",
      "metadata": {
        "id": "LECMxTH-zB-R"
      },
      "source": [
        "### Data Chunking"
      ]
    },
    {
      "cell_type": "code",
      "execution_count": null,
      "metadata": {
        "id": "ir9Zi8rKRUmG"
      },
      "outputs": [],
      "source": [
        "#set up text splitter using cl100k_base tiktoken encoding, with 512 token chunks and overlaps of 16 tokens\n",
        "text_splitter = RecursiveCharacterTextSplitter.from_tiktoken_encoder(\n",
        "    encoding_name='cl100k_base',\n",
        "    chunk_size=512,\n",
        "    chunk_overlap=16\n",
        ")"
      ]
    },
    {
      "cell_type": "code",
      "execution_count": null,
      "metadata": {
        "id": "HFBLTNmbaAaz"
      },
      "outputs": [],
      "source": [
        "#set up second text splitter for fine tuning, smaller chunk size and bigger overlap\n",
        "text_splitter2 = RecursiveCharacterTextSplitter.from_tiktoken_encoder(\n",
        "    encoding_name='cl100k_base',\n",
        "    chunk_size=350,\n",
        "    chunk_overlap=40\n",
        ")"
      ]
    },
    {
      "cell_type": "code",
      "execution_count": null,
      "metadata": {
        "id": "KHYybWajvocz"
      },
      "outputs": [],
      "source": [
        "#use text splitter on documents\n",
        "document_chunks = pdf_loader.load_and_split(text_splitter)"
      ]
    },
    {
      "cell_type": "code",
      "execution_count": null,
      "metadata": {
        "id": "yVbNh6zTavQU"
      },
      "outputs": [],
      "source": [
        "#use second text splitter on documents\n",
        "document_chunks2 = pdf_loader.load_and_split(text_splitter2)"
      ]
    },
    {
      "cell_type": "code",
      "execution_count": null,
      "metadata": {
        "id": "HY96lNj9wSFt",
        "colab": {
          "base_uri": "https://localhost:8080/"
        },
        "outputId": "f89a80b9-3f3a-4576-dc7e-a477593b30c3"
      },
      "outputs": [
        {
          "output_type": "stream",
          "name": "stdout",
          "text": [
            "8568\n"
          ]
        }
      ],
      "source": [
        "#see how many chunks there are\n",
        "print(len(document_chunks))"
      ]
    },
    {
      "cell_type": "code",
      "execution_count": null,
      "metadata": {
        "id": "JKK_sXBga0fA",
        "colab": {
          "base_uri": "https://localhost:8080/"
        },
        "outputId": "a5d7361d-510f-42a2-bbe8-5bb4ac3bc3da"
      },
      "outputs": [
        {
          "output_type": "stream",
          "name": "stdout",
          "text": [
            "12541\n"
          ]
        }
      ],
      "source": [
        "#see how many chunks there are\n",
        "print(len(document_chunks2))"
      ]
    },
    {
      "cell_type": "code",
      "execution_count": null,
      "metadata": {
        "id": "kELaQT1PwHjX",
        "colab": {
          "base_uri": "https://localhost:8080/"
        },
        "outputId": "d022ba73-8db9-4aa9-a57a-a65221e416db"
      },
      "outputs": [
        {
          "output_type": "execute_result",
          "data": {
            "text/plain": [
              "Document(page_content='491\\nChapter 44. Foot & Ankle Disorders  \\n  .....................................................................................................................................\\n502\\nChapter 45. Tumors of Bones & Joints  \\n  ...............................................................................................................................\\n510\\n5 - Ear, Nose, Throat & Dental Disorders  \\n  ..................................................................................................................\\n510\\nChapter 46. Approach to the Patient With Ear Problems  \\n  ...........................................................................................\\n523\\nChapter 47. Hearing Loss  \\n  .........................................................................................................................................................\\n535\\nChapter 48. Inner Ear Disorders  \\n  ............................................................................................................................................\\n542\\nChapter 49. Middle Ear & Tympanic Membrane Disorders  \\n  ........................................................................................\\n550\\nChapter 50. External Ear Disorders  \\n  .....................................................................................................................................\\n554\\nChapter 51. Approach to the Patient With Nasal & Pharyngeal Symptoms  \\n  .......................................................\\n567\\nChapter 52. Oral & Pharyngeal Disorders  \\n  .........................................................................................................................\\n578\\nChapter 53. Nose & Paranasal Sinus Disorders  \\n  .............................................................................................................\\n584\\nChapter 54. Laryngeal Disorders  \\n  ...........................................................................................................................................\\n590\\nChapter 55. Tumors of the Head & Neck  \\n  ...........................................................................................................................\\n600\\nChapter 56. Approach to Dental & Oral Symptoms  \\n  .......................................................................................................\\n619\\nChapter 57. Common Dental Disorders  \\n  .............................................................................................................................\\n629\\nChapter 58. Dental Emergencies  \\n  ..........................................................................................................................................\\n635\\nChapter 59. Temporomandibular Disorders  \\n  ......................................................................................................................\\n641\\n6 - Eye Disorders  \\n  ............................................................................................................................................................................\\n641\\nChapter 60. Approach to the Ophthalmologic Patient  \\n  ..................................................................................................\\n669\\nChapter 61. Refractive Error  \\n  ...................................................................................................................................................\\n674\\nChapter 62. Eyelid & Lacrimal Disorders  \\n  ...........................................................................................................................\\n680\\nChapter 63. Conjunctival & Scleral Disorders  \\n  .................................................................................................................\\n690\\nChapter 64. Corneal Disorders  \\n  ...............................................................................................................................................\\n703\\nChapter 65. Glaucoma  \\n  ...............................................................................................................................................................\\n710\\nChapter 66. Cataract  \\n  ...................................................................................................................................................................\\n713\\nChapter 67. Uveitis  \\n  ......................................................................................................................................................................\\n719\\nChapter 68. Retinal Disorders', metadata={'source': '/content/drive/My Drive/AI Cert Course/NLP with AI/Project 4/medical_diagnosis_manual.pdf', 'page': 3})"
            ]
          },
          "metadata": {},
          "execution_count": 58
        }
      ],
      "source": [
        "#inspect chunks\n",
        "i = 4\n",
        "document_chunks[i]"
      ]
    },
    {
      "cell_type": "code",
      "execution_count": null,
      "metadata": {
        "id": "xBhMG2Y0wLRw",
        "colab": {
          "base_uri": "https://localhost:8080/"
        },
        "outputId": "89a559f1-32bd-48be-9eac-66251ce6a1be"
      },
      "outputs": [
        {
          "output_type": "execute_result",
          "data": {
            "text/plain": [
              "Document(page_content='719\\nChapter 68. Retinal Disorders  \\n  .................................................................................................................................................\\n731\\nChapter 69. Optic Nerve Disorders  \\n  ......................................................................................................................................\\n737\\nChapter 70. Orbital Diseases  \\n  ..................................................................................................................................................\\n742\\n7 - Dermatologic Disorders  \\n  ....................................................................................................................................................\\n742\\nChapter 71. Approach to the Dermatologic Patient  \\n  .......................................................................................................\\n755\\nChapter 72. Principles of Topical Dermatologic Therapy  \\n  ............................................................................................\\n760\\nChapter 73. Acne & Related Disorders  \\n  ...............................................................................................................................\\n766\\nChapter 74. Bullous Diseases  \\n  .................................................................................................................................................\\n771\\nChapter 75. Cornification Disorders  \\n  .....................................................................................................................................\\n775\\nChapter 76. Dermatitis  \\n  ...............................................................................................................................................................\\n786\\nChapter 77. Reactions to Sunlight  \\n  ........................................................................................................................................\\n791\\nChapter 78. Psoriasis & Scaling Diseases  \\n  ........................................................................................................................\\n799\\nChapter 79. Hypersensitivity & Inflammatory Disorders  \\n  .............................................................................................\\n808\\nChapter 80. Sweating Disorders  \\n  ............................................................................................................................................\\n811\\nChapter 81. Bacterial Skin Infections  \\n  ...................................................................................................................................\\n822\\nChapter 82. Fungal Skin Infections  \\n  ......................................................................................................................................\\n831\\nChapter 83. Parasitic Skin Infections  \\n  ...................................................................................................................................\\n836\\nChapter 84. Viral Skin Diseases  \\n  ............................................................................................................................................\\n841\\nChapter 85. Pigmentation Disorders  \\n  ....................................................................................................................................\\n846\\nChapter 86. Hair Disorders  \\n  .......................................................................................................................................................\\n855\\nChapter 87. Nail Disorders  \\n  .......................................................................................................................................................\\n861\\nChapter 88. Pressure Ulcers  \\n  ...................................................................................................................................................\\n867\\nChapter 89. Benign Tumors  \\n  .....................................................................................................................................................\\n874\\nChapter 90. Cancers of the Skin  \\n  ............................................................................................................................................\\n882\\n8 - Endocrine & Metabolic Disorders  \\n  .............................................................................................................................\\n882\\nChapter 91. Principles of Endocrinology  \\n  ............................................................................................................................\\n887\\nChapter 92. Pituitary Disorders  \\n  ..............................................................................................................................................\\n901\\nChapter 93. Thyroid Disorders  \\n  ................................................................................................................................................christopher.a.peralta@gmail.com\\nJ8VR75WB2D', metadata={'source': '/content/drive/My Drive/AI Cert Course/NLP with AI/Project 4/medical_diagnosis_manual.pdf', 'page': 3})"
            ]
          },
          "metadata": {},
          "execution_count": 59
        }
      ],
      "source": [
        "document_chunks[i + 1]"
      ]
    },
    {
      "cell_type": "code",
      "execution_count": null,
      "metadata": {
        "id": "2YnqLoEEa4pG",
        "colab": {
          "base_uri": "https://localhost:8080/"
        },
        "outputId": "19217efe-b9a2-492b-d9ea-ec93b435876e"
      },
      "outputs": [
        {
          "output_type": "execute_result",
          "data": {
            "text/plain": [
              "Document(page_content=\"322\\nChapter 28. Hepatitis  \\n  ..................................................................................................................................................................\\n333\\nChapter 29. Vascular Disorders of the Liver  \\n  .....................................................................................................................\\n341\\nChapter 30. Liver Masses & Granulomas  \\n  ..........................................................................................................................\\n348\\nChapter 31. Gallbladder & Bile Duct Disorders  \\n  ...............................................................................................................\\n362\\n4 - Musculoskeletal & Connective Tissue Disorders  \\n  .........................................................................................\\n362\\nChapter 32. Approach to the Patient With Joint Disease  \\n  ............................................................................................\\n373\\nChapter 33. Autoimmune Rheumatic Disorders  \\n  ..............................................................................................................\\n391\\nChapter 34. Vasculitis  \\n  .................................................................................................................................................................\\n416\\nChapter 35. Joint Disorders  \\n  .....................................................................................................................................................\\n435\\nChapter 36. Crystal-Induced Arthritides  \\n  ..............................................................................................................................\\n443\\nChapter 37. Osteoporosis  \\n  .........................................................................................................................................................\\n448\\nChapter 38. Paget's Disease of Bone  \\n  ..................................................................................................................................\\n451\\nChapter 39. Osteonecrosis  \\n  .......................................................................................................................................................\\n455\\nChapter 40. Infections of Joints & Bones  \\n  ...........................................................................................................................\\n463\\nChapter 41. Bursa, Muscle & Tendon Disorders  \\n  .............................................................................................................\\n470\\nChapter 42. Neck & Back Pain  \\n  ...............................................................................................................................................\\n481\\nChapter 43. Hand Disorders  \\n  ....................................................................................................................................................christopher.a.peralta@gmail.com\\nJ8VR75WB2D\", metadata={'source': '/content/drive/My Drive/AI Cert Course/NLP with AI/Project 4/medical_diagnosis_manual.pdf', 'page': 2})"
            ]
          },
          "metadata": {},
          "execution_count": 60
        }
      ],
      "source": [
        "#inspect chunks\n",
        "i = 4\n",
        "document_chunks2[i]"
      ]
    },
    {
      "cell_type": "code",
      "execution_count": null,
      "metadata": {
        "id": "ePv9ZlVha6tR",
        "colab": {
          "base_uri": "https://localhost:8080/"
        },
        "outputId": "8fdb1306-b1f0-45af-ef7b-8b1fcec31e7a"
      },
      "outputs": [
        {
          "output_type": "execute_result",
          "data": {
            "text/plain": [
              "Document(page_content='...............................................................................................................................................\\n481\\nChapter 43. Hand Disorders  \\n  ....................................................................................................................................................christopher.a.peralta@gmail.com\\nJ8VR75WB2D\\nThis file is meant for personal use by christopher.a.peralta@gmail.com only.\\nSharing or publishing the contents in part or full is liable for legal action.', metadata={'source': '/content/drive/My Drive/AI Cert Course/NLP with AI/Project 4/medical_diagnosis_manual.pdf', 'page': 2})"
            ]
          },
          "metadata": {},
          "execution_count": 61
        }
      ],
      "source": [
        "document_chunks2[i + 1]"
      ]
    },
    {
      "cell_type": "markdown",
      "metadata": {
        "id": "ycBBns7I9lV_"
      },
      "source": [
        "We can see there is some overlap between the two inspected chunks."
      ]
    },
    {
      "cell_type": "markdown",
      "metadata": {
        "id": "BvHVejcWz0Bl"
      },
      "source": [
        "### Embedding"
      ]
    },
    {
      "cell_type": "code",
      "execution_count": null,
      "metadata": {
        "id": "R3CAgoUeRVLa",
        "colab": {
          "base_uri": "https://localhost:8080/",
          "height": 406,
          "referenced_widgets": [
            "a424678168794b8282757f6579ed6a19",
            "1192cc3fa925486aa5d60d8f72fc22bb",
            "078f83017f4a49a8a058f6bb7cc27b07",
            "1505be541c114468816da831a82d84a7",
            "669a94cd580343aa8d0bb891091a8fe9",
            "ad1a030706d346da839c01c5c31b0c07",
            "d5e811b4d70841dca1c02474e5c6ad58",
            "9f466d8fa3f34439824d75628650c2cf",
            "ebce877352fa4469acbacdcd48311b4b",
            "88f2637877d54ff5bd3988d10204d77e",
            "913a5c7ff6c942e0a763023d0e3e519b",
            "c82f49a2588b464485226e98fa647e8f",
            "052d321ff8a549c79648e257e30e897d",
            "e5d45a7aab614a74aedc115c990ee88f",
            "9b092276492a49daa49180f4214fae0c",
            "192b3412e5ce45a2b65be479ed80b076",
            "fcc54752114a4dc3b18d3c9fac935e93",
            "236a5bb676454df086f3eefc40413916",
            "20279636e8f74fbe82a466fb5dbb115c",
            "b5e0be3fd82f4ad19b30c1d9355b5fa9",
            "7cc85b42275640b48fa5325cbfa5e020",
            "645b07e409ac4d5fbac3cd85e86fa955",
            "ec72f4c724c34132942b929d0823ac9c",
            "51c66877d57645b8a851eed75bc40e03",
            "7b4bee1730214964843bdcb90372a8cc",
            "632d272811384dfc8ce7598d6ba791a2",
            "8c11fccd213f4adfa481193f2564cc41",
            "81498c9cdc604c588f117cd317c4b9f0",
            "885408ae9d9645e599614994d23d6835",
            "308a7c0184cb4bddb4621ffc585846b5",
            "c5182dc2cc0c451cb0c264ae9d1cf37e",
            "4d4e8ead78b84856801ae0823100e4fd",
            "35e9fa884ba248e0bfb440323ada1e88",
            "dda521006b5a4acdab96815d0e69fd60",
            "720cc285b1c84d3aa366d76ac1c754bb",
            "d575302ef71247d6afd3cd4e818aeda9",
            "eb8368484e8e4b30ae0f64a844a5a987",
            "a80d03e2680d4e138bc89d171568612f",
            "cd70a2087d4d46628425d5386874af59",
            "f4de034d3d91456a88cec95a37a96d16",
            "eaea174cc7a44be282d134296c82c555",
            "59fa0bb8b1544e87919a75472c9f4fa9",
            "b6c919d839224e9d99b8868471fb1f35",
            "e9927a57be1f489aa50a8c8a0bc0ea51",
            "7c096af60e3947de8a049d4627a64648",
            "8cc7d13a09e043dab100b624973dd477",
            "ccf5bb3a04654c4f867a6fd44b5bbf7c",
            "fb23e0cef16c45cda5760bf8f438d180",
            "02f8d714be694d48a1dd968e7d4c3ed5",
            "acea319242134bf09616a24ab11802ab",
            "76f9a020895843279ac6d98cda707fc0",
            "090ce69a9f684b9699bad03e479c22e2",
            "ca3736d1a1e847b3b341077fe42b722b",
            "cf6bc604534d413882664477651e1dbf",
            "259f1c1a1a43400f90c4873d677d4bc0",
            "04ac4f2d568043c89b3f6c8c8c90f070",
            "409633a5c2a244b1920b73309809292f",
            "19a99fb0766343df8803ea0e02582174",
            "aca3de71f64a443483371326eba22710",
            "671169d629564a43be6960db8397c8fd",
            "c3cfd26e22144d8e8d2fd61e12ba682b",
            "6686312e6c5a419b8e6a2d1a49eaccf2",
            "0fe1de3d38b8488d8b4e82d070a90c55",
            "00c2b7bc67024438a3cacddeaa79fc18",
            "5223efc107634641975f9df77f5d59cc",
            "21c10847e0e34a9998945aafadbb9082",
            "f3bcc15e94654b06a5e363b88975c7d2",
            "ade5c52edb2d48eeaf23b443913fbdf0",
            "9338eee58fe748a7ba19368a066cc2a5",
            "c34d64176f2148688c57d362e6e0bc58",
            "496d013fc1e741a885929dbf8ce3781a",
            "683fff1c0644438aa6f059f161e5bc7f",
            "e70a4f63f59946af8cdd09d6a1aef39b",
            "55d4f89b520c491dadd9caba6f6adffb",
            "0be2b5ec7e6547079fac4a7beddaf004",
            "7c03ae55b77c4712b45dd581f88a76fb",
            "bc6e4d01d7f34967b696574349242e54",
            "fa78e8beb325481abadf50fd5363ead8",
            "f5d98527c77d47a28c49b42de3056b37",
            "634d71698bff47c4ac58d23e09be2b3a",
            "972a399f6d55445c90cc439d96cc8607",
            "713e24999193441a9533dced810257fe",
            "480d875412a74c618f0144ec1f8cbcaa",
            "938651bd56f74afbb5c721cd3adcfeab",
            "ba98129d17a24af09455cc9f2e990115",
            "6d4894deb5ab439f98dea8acf878a971",
            "3b7550ceb61c40d29fa4e79382407823",
            "c1063435df334ebd835c926656636606",
            "1dfab2a35d8448b3a8bc2d9543cb8878",
            "a618c5f5df1a4cac826e2fdcaf2ce863",
            "3cec19904e644a3e979eb1821a6f7e99",
            "52ab88942a974f80b2e27576b01b8bc1",
            "30db2e680de241209ecc2560222a8ece",
            "5cb09cd9154d4b6aaf570088a048f45a",
            "1f6b8149387d458eb3aa26fa8ead43a9",
            "052df1b4bdc6434cb5c37cc9b428f3a9",
            "6d7d3fb73d9841a28cd3b664eb384908",
            "90c10abbc215416c95ccb463ef30efb4",
            "baef53d53c884854bb5bde6279ae823d",
            "be15f9883609449bbd1874f06ef87881",
            "ced21927a81c4a769e8084a4e7506e5a",
            "24b6084c56854647a1c813892673b108",
            "079d3f242689412c877678908a564c73",
            "3505a58ca90d4727833547ff0d0f7276",
            "90b83c798ef0458a8419ffbf2b2ec60b",
            "ddfb74610f8848518c7ccc6d3ad124ea",
            "9e03c7aee72b41ba81f9c850aab34b1d",
            "37162380eead4baca3d4b0af348a1737",
            "757063b1d9b348b78b889612f8246025",
            "20e5367f2ff64a8e928d76455086cec4",
            "a3f7d2f4674e4577b22e1a2575f5210e",
            "ed98d695c3264299a2277e9d75073f78",
            "ee94b9e0f6d14a28821d265e7a5992c0",
            "4fbcf1d9e23d424185dfe59586b009b8",
            "cc07519eb8864085b21d8b1493658c45",
            "db20bf74ae3447beb903cf76756887fe",
            "61d68383ff804e97ba74caf52911fd30",
            "f1ca7e542a5447f1861cf2b7945bca07",
            "c69304474c404525885fb760dfdf1bd8",
            "a06bd0d2387b4d3ebc30fbff228219db",
            "eeaa7a74f200449c8a23d1a18a41a20e"
          ]
        },
        "outputId": "52c50905-b9a0-4c88-bbb5-2de5cd8c0fec"
      },
      "outputs": [
        {
          "output_type": "stream",
          "name": "stderr",
          "text": [
            "The cache for model files in Transformers v4.22.0 has been updated. Migrating your old cache. This is a one-time only operation. You can interrupt this and resume the migration later on by calling `transformers.utils.move_cache()`.\n"
          ]
        },
        {
          "output_type": "display_data",
          "data": {
            "text/plain": [
              "0it [00:00, ?it/s]"
            ],
            "application/vnd.jupyter.widget-view+json": {
              "version_major": 2,
              "version_minor": 0,
              "model_id": "a424678168794b8282757f6579ed6a19"
            }
          },
          "metadata": {}
        },
        {
          "output_type": "display_data",
          "data": {
            "text/plain": [
              "modules.json:   0%|          | 0.00/385 [00:00<?, ?B/s]"
            ],
            "application/vnd.jupyter.widget-view+json": {
              "version_major": 2,
              "version_minor": 0,
              "model_id": "c82f49a2588b464485226e98fa647e8f"
            }
          },
          "metadata": {}
        },
        {
          "output_type": "display_data",
          "data": {
            "text/plain": [
              "README.md: 0.00B [00:00, ?B/s]"
            ],
            "application/vnd.jupyter.widget-view+json": {
              "version_major": 2,
              "version_minor": 0,
              "model_id": "ec72f4c724c34132942b929d0823ac9c"
            }
          },
          "metadata": {}
        },
        {
          "output_type": "display_data",
          "data": {
            "text/plain": [
              "sentence_bert_config.json:   0%|          | 0.00/57.0 [00:00<?, ?B/s]"
            ],
            "application/vnd.jupyter.widget-view+json": {
              "version_major": 2,
              "version_minor": 0,
              "model_id": "dda521006b5a4acdab96815d0e69fd60"
            }
          },
          "metadata": {}
        },
        {
          "output_type": "display_data",
          "data": {
            "text/plain": [
              "config.json:   0%|          | 0.00/619 [00:00<?, ?B/s]"
            ],
            "application/vnd.jupyter.widget-view+json": {
              "version_major": 2,
              "version_minor": 0,
              "model_id": "7c096af60e3947de8a049d4627a64648"
            }
          },
          "metadata": {}
        },
        {
          "output_type": "display_data",
          "data": {
            "text/plain": [
              "model.safetensors:   0%|          | 0.00/670M [00:00<?, ?B/s]"
            ],
            "application/vnd.jupyter.widget-view+json": {
              "version_major": 2,
              "version_minor": 0,
              "model_id": "04ac4f2d568043c89b3f6c8c8c90f070"
            }
          },
          "metadata": {}
        },
        {
          "output_type": "display_data",
          "data": {
            "text/plain": [
              "tokenizer_config.json:   0%|          | 0.00/342 [00:00<?, ?B/s]"
            ],
            "application/vnd.jupyter.widget-view+json": {
              "version_major": 2,
              "version_minor": 0,
              "model_id": "f3bcc15e94654b06a5e363b88975c7d2"
            }
          },
          "metadata": {}
        },
        {
          "output_type": "display_data",
          "data": {
            "text/plain": [
              "vocab.txt: 0.00B [00:00, ?B/s]"
            ],
            "application/vnd.jupyter.widget-view+json": {
              "version_major": 2,
              "version_minor": 0,
              "model_id": "fa78e8beb325481abadf50fd5363ead8"
            }
          },
          "metadata": {}
        },
        {
          "output_type": "display_data",
          "data": {
            "text/plain": [
              "tokenizer.json: 0.00B [00:00, ?B/s]"
            ],
            "application/vnd.jupyter.widget-view+json": {
              "version_major": 2,
              "version_minor": 0,
              "model_id": "1dfab2a35d8448b3a8bc2d9543cb8878"
            }
          },
          "metadata": {}
        },
        {
          "output_type": "display_data",
          "data": {
            "text/plain": [
              "special_tokens_map.json:   0%|          | 0.00/125 [00:00<?, ?B/s]"
            ],
            "application/vnd.jupyter.widget-view+json": {
              "version_major": 2,
              "version_minor": 0,
              "model_id": "be15f9883609449bbd1874f06ef87881"
            }
          },
          "metadata": {}
        },
        {
          "output_type": "display_data",
          "data": {
            "text/plain": [
              "config.json:   0%|          | 0.00/191 [00:00<?, ?B/s]"
            ],
            "application/vnd.jupyter.widget-view+json": {
              "version_major": 2,
              "version_minor": 0,
              "model_id": "a3f7d2f4674e4577b22e1a2575f5210e"
            }
          },
          "metadata": {}
        }
      ],
      "source": [
        "#set up embedding model\n",
        "embedding_model = SentenceTransformerEmbeddings(model_name='thenlper/gte-large')"
      ]
    },
    {
      "cell_type": "code",
      "execution_count": null,
      "metadata": {
        "id": "OrP0ELWJ0tIV"
      },
      "outputs": [],
      "source": [
        "#embed some chunks\n",
        "embedding_1 = embedding_model.embed_query(document_chunks[0].page_content)\n",
        "embedding_2 = embedding_model.embed_query(document_chunks[1].page_content)"
      ]
    },
    {
      "cell_type": "code",
      "execution_count": null,
      "metadata": {
        "id": "ZvATYXGY04Ea",
        "colab": {
          "base_uri": "https://localhost:8080/"
        },
        "outputId": "1e219bdf-0b74-4f9a-a8f7-d882be32122b"
      },
      "outputs": [
        {
          "output_type": "stream",
          "name": "stdout",
          "text": [
            "Dimension of the embedding vector  1024\n"
          ]
        },
        {
          "output_type": "execute_result",
          "data": {
            "text/plain": [
              "True"
            ]
          },
          "metadata": {},
          "execution_count": 64
        }
      ],
      "source": [
        "#inspect the embeddings and make sure they are the same size\n",
        "print(\"Dimension of the embedding vector \",len(embedding_1))\n",
        "len(embedding_1) == len(embedding_2)"
      ]
    },
    {
      "cell_type": "markdown",
      "metadata": {
        "id": "B6irDznWbHMC"
      },
      "source": [
        "### Vector Database"
      ]
    },
    {
      "cell_type": "code",
      "execution_count": null,
      "metadata": {
        "id": "H3ebt-5QbHMD"
      },
      "outputs": [],
      "source": [
        "#saving vector databases to Google Drive so they don't have to be rebuilt\n",
        "out_dir = \"/content/drive/My Drive/AI Cert Course/NLP with AI/Project 4/med_diag_manual_db\"\n",
        "\n",
        "if not os.path.exists(out_dir):\n",
        "  os.makedirs(out_dir)"
      ]
    },
    {
      "cell_type": "code",
      "execution_count": null,
      "metadata": {
        "id": "r-rIJIiCbHMD"
      },
      "outputs": [],
      "source": [
        "#saving vector databases to Google Drive so they don't have to be rebuilt\n",
        "out_dir2 = \"/content/drive/My Drive/AI Cert Course/NLP with AI/Project 4/med_diag_manual_db_2\"\n",
        "\n",
        "if not os.path.exists(out_dir2):\n",
        "  os.makedirs(out_dir2)"
      ]
    },
    {
      "cell_type": "code",
      "execution_count": null,
      "metadata": {
        "id": "tc41UnxmbHMD",
        "colab": {
          "base_uri": "https://localhost:8080/",
          "height": 52
        },
        "outputId": "e6449e0a-113c-4128-c938-527aa437c02b"
      },
      "outputs": [
        {
          "output_type": "execute_result",
          "data": {
            "text/plain": [
              "'\\nprint(\"Building vector database 1\")\\nvectorstore = Chroma.from_documents(\\n    document_chunks,\\n    embedding_model,\\n    persist_directory = out_dir\\n)\\nprint(\"Vector database 1 built and saved to disk\")\\n'"
            ],
            "application/vnd.google.colaboratory.intrinsic+json": {
              "type": "string"
            }
          },
          "metadata": {},
          "execution_count": 67
        }
      ],
      "source": [
        "#build the vector database and put it in the \"persist directory\"\n",
        "#COMMENT THIS OUT AFTER FIRST NOTEBOOK RUN\n",
        "'''\n",
        "print(\"Building vector database 1\")\n",
        "vectorstore = Chroma.from_documents(\n",
        "    document_chunks,\n",
        "    embedding_model,\n",
        "    persist_directory = out_dir\n",
        ")\n",
        "print(\"Vector database 1 built and saved to disk\")\n",
        "'''"
      ]
    },
    {
      "cell_type": "code",
      "execution_count": null,
      "metadata": {
        "id": "R5Feo_H1bHMD",
        "colab": {
          "base_uri": "https://localhost:8080/",
          "height": 52
        },
        "outputId": "605b66e9-09e9-4316-830e-fc23a361d441"
      },
      "outputs": [
        {
          "output_type": "execute_result",
          "data": {
            "text/plain": [
              "'\\nprint(\"Building vector database 2\")\\nvectorstore2 = Chroma.from_documents(\\n    document_chunks2,\\n    embedding_model,\\n    persist_directory = out_dir2\\n)\\nprint(\"Vector database 2 built and saved to disk\")\\n'"
            ],
            "application/vnd.google.colaboratory.intrinsic+json": {
              "type": "string"
            }
          },
          "metadata": {},
          "execution_count": 68
        }
      ],
      "source": [
        "#build the vector database and put it in the \"persist directory\"\n",
        "#COMMENT THIS OUT AFTER FIRST NOTEBOOK RUN\n",
        "'''\n",
        "print(\"Building vector database 2\")\n",
        "vectorstore2 = Chroma.from_documents(\n",
        "    document_chunks2,\n",
        "    embedding_model,\n",
        "    persist_directory = out_dir2\n",
        ")\n",
        "print(\"Vector database 2 built and saved to disk\")\n",
        "'''"
      ]
    },
    {
      "cell_type": "code",
      "execution_count": null,
      "metadata": {
        "id": "4GKI1N8zbHMD",
        "colab": {
          "base_uri": "https://localhost:8080/"
        },
        "outputId": "78bd73dc-8e9b-402b-d8a0-baaf59f4d481"
      },
      "outputs": [
        {
          "output_type": "stream",
          "name": "stdout",
          "text": [
            "Loading vector database 1\n"
          ]
        },
        {
          "output_type": "stream",
          "name": "stderr",
          "text": [
            "ERROR:chromadb.telemetry.product.posthog:Failed to send telemetry event ClientStartEvent: capture() takes 1 positional argument but 3 were given\n",
            "ERROR:chromadb.telemetry.product.posthog:Failed to send telemetry event ClientCreateCollectionEvent: capture() takes 1 positional argument but 3 were given\n"
          ]
        },
        {
          "output_type": "stream",
          "name": "stdout",
          "text": [
            "Vector database 1 loaded\n"
          ]
        }
      ],
      "source": [
        "#loading the vector database from the \"persist directory\"\n",
        "#UNCOMMENT AFTER FIRST NOTEBOOK RUN\n",
        "\n",
        "print(\"Loading vector database 1\")\n",
        "vectorstore = Chroma(persist_directory = out_dir, embedding_function = embedding_model)\n",
        "print(\"Vector database 1 loaded\")\n"
      ]
    },
    {
      "cell_type": "code",
      "execution_count": null,
      "metadata": {
        "id": "3FUvk_zFbHMD",
        "colab": {
          "base_uri": "https://localhost:8080/"
        },
        "outputId": "d710e45d-06b7-4d8e-957c-bb9d3aecdb94"
      },
      "outputs": [
        {
          "output_type": "stream",
          "name": "stdout",
          "text": [
            "Loading vector database 2\n"
          ]
        },
        {
          "output_type": "stream",
          "name": "stderr",
          "text": [
            "ERROR:chromadb.telemetry.product.posthog:Failed to send telemetry event ClientStartEvent: capture() takes 1 positional argument but 3 were given\n",
            "ERROR:chromadb.telemetry.product.posthog:Failed to send telemetry event ClientCreateCollectionEvent: capture() takes 1 positional argument but 3 were given\n"
          ]
        },
        {
          "output_type": "stream",
          "name": "stdout",
          "text": [
            "Vector database 2 loaded\n"
          ]
        }
      ],
      "source": [
        "#loading the vector database from the \"persist directory\"\n",
        "#UNCOMMENT AFTER FIRST NOTEBOOK RUN\n",
        "\n",
        "print(\"Loading vector database 2\")\n",
        "vectorstore2 = Chroma(persist_directory = out_dir2, embedding_function = embedding_model)\n",
        "print(\"Vector database 2 loaded\")\n"
      ]
    },
    {
      "cell_type": "markdown",
      "metadata": {
        "id": "_Zjfr4embHMD"
      },
      "source": [
        "The errors displayed are harmless and the vector database was successfully created."
      ]
    },
    {
      "cell_type": "code",
      "execution_count": null,
      "metadata": {
        "id": "C8zE5DVabHME",
        "colab": {
          "base_uri": "https://localhost:8080/"
        },
        "outputId": "fc36f7e6-38b3-4841-cfc6-6d82d308b6e1"
      },
      "outputs": [
        {
          "output_type": "execute_result",
          "data": {
            "text/plain": [
              "HuggingFaceEmbeddings(client=SentenceTransformer(\n",
              "  (0): Transformer({'max_seq_length': 512, 'do_lower_case': False}) with Transformer model: BertModel \n",
              "  (1): Pooling({'word_embedding_dimension': 1024, 'pooling_mode_cls_token': False, 'pooling_mode_mean_tokens': True, 'pooling_mode_max_tokens': False, 'pooling_mode_mean_sqrt_len_tokens': False, 'pooling_mode_weightedmean_tokens': False, 'pooling_mode_lasttoken': False})\n",
              "  (2): Normalize()\n",
              "), model_name='thenlper/gte-large', cache_folder=None, model_kwargs={}, encode_kwargs={}, multi_process=False)"
            ]
          },
          "metadata": {},
          "execution_count": 71
        }
      ],
      "source": [
        "vectorstore.embeddings"
      ]
    },
    {
      "cell_type": "code",
      "execution_count": null,
      "metadata": {
        "id": "SZmL5BP7bHME",
        "colab": {
          "base_uri": "https://localhost:8080/"
        },
        "outputId": "5f4c2482-1eb0-4413-f31b-5e02ccc2ff57"
      },
      "outputs": [
        {
          "output_type": "execute_result",
          "data": {
            "text/plain": [
              "HuggingFaceEmbeddings(client=SentenceTransformer(\n",
              "  (0): Transformer({'max_seq_length': 512, 'do_lower_case': False}) with Transformer model: BertModel \n",
              "  (1): Pooling({'word_embedding_dimension': 1024, 'pooling_mode_cls_token': False, 'pooling_mode_mean_tokens': True, 'pooling_mode_max_tokens': False, 'pooling_mode_mean_sqrt_len_tokens': False, 'pooling_mode_weightedmean_tokens': False, 'pooling_mode_lasttoken': False})\n",
              "  (2): Normalize()\n",
              "), model_name='thenlper/gte-large', cache_folder=None, model_kwargs={}, encode_kwargs={}, multi_process=False)"
            ]
          },
          "metadata": {},
          "execution_count": 72
        }
      ],
      "source": [
        "vectorstore2.embeddings"
      ]
    },
    {
      "cell_type": "markdown",
      "metadata": {
        "id": "uEa5sKc41T1z"
      },
      "source": [
        "### Retriever"
      ]
    },
    {
      "cell_type": "code",
      "execution_count": null,
      "metadata": {
        "id": "wBlQUGx3RWUD"
      },
      "outputs": [],
      "source": [
        "#set up retriever that pulls the top 5 docs relevant docs\n",
        "retriever = vectorstore.as_retriever(\n",
        "    search_type='similarity',\n",
        "    search_kwargs={'k': 5}\n",
        ")"
      ]
    },
    {
      "cell_type": "code",
      "execution_count": null,
      "metadata": {
        "id": "uzMTSEzCcd44"
      },
      "outputs": [],
      "source": [
        "#set up second retriever that pulls the top 8 docs relevant docs\n",
        "retriever2 = vectorstore2.as_retriever(\n",
        "    search_type='similarity',\n",
        "    search_kwargs={'k': 8}\n",
        ")"
      ]
    },
    {
      "cell_type": "code",
      "execution_count": null,
      "metadata": {
        "id": "a-G0wasDK-Hg",
        "colab": {
          "base_uri": "https://localhost:8080/"
        },
        "outputId": "708d3155-5ca2-4607-8499-c2a2f66f7219"
      },
      "outputs": [
        {
          "output_type": "stream",
          "name": "stderr",
          "text": [
            "ERROR:chromadb.telemetry.product.posthog:Failed to send telemetry event CollectionQueryEvent: capture() takes 1 positional argument but 3 were given\n"
          ]
        }
      ],
      "source": [
        "#test the retriever\n",
        "user_prompt = \"What is the protocol for managing sepsis in a critical care unit?\"\n",
        "relevant_document_chunks = retriever.get_relevant_documents(user_prompt)"
      ]
    },
    {
      "cell_type": "code",
      "execution_count": null,
      "metadata": {
        "id": "r8Ck5J-PcizA",
        "colab": {
          "base_uri": "https://localhost:8080/"
        },
        "outputId": "77472c1b-9909-47c5-8837-7de82e87cc45"
      },
      "outputs": [
        {
          "output_type": "stream",
          "name": "stderr",
          "text": [
            "ERROR:chromadb.telemetry.product.posthog:Failed to send telemetry event CollectionQueryEvent: capture() takes 1 positional argument but 3 were given\n"
          ]
        }
      ],
      "source": [
        "#test the retriever\n",
        "user_prompt = \"What is the protocol for managing sepsis in a critical care unit?\"\n",
        "relevant_document_chunks2 = retriever2.get_relevant_documents(user_prompt)"
      ]
    },
    {
      "cell_type": "code",
      "execution_count": null,
      "metadata": {
        "id": "Z8VqMSXBLKrL",
        "colab": {
          "base_uri": "https://localhost:8080/"
        },
        "outputId": "8c9ecf10-5498-4864-9e59-e06a4bf49447"
      },
      "outputs": [
        {
          "output_type": "execute_result",
          "data": {
            "text/plain": [
              "5"
            ]
          },
          "metadata": {},
          "execution_count": 77
        }
      ],
      "source": [
        "#see how many relevant docs it found\n",
        "len(relevant_document_chunks)"
      ]
    },
    {
      "cell_type": "code",
      "execution_count": null,
      "metadata": {
        "id": "yk3h87YOcs82",
        "colab": {
          "base_uri": "https://localhost:8080/"
        },
        "outputId": "9912b51c-72de-4cf4-8139-2ff7939662bc"
      },
      "outputs": [
        {
          "output_type": "execute_result",
          "data": {
            "text/plain": [
              "8"
            ]
          },
          "metadata": {},
          "execution_count": 78
        }
      ],
      "source": [
        "#see how many relevant docs it found\n",
        "len(relevant_document_chunks2)"
      ]
    },
    {
      "cell_type": "markdown",
      "source": [
        "Both retrievers were able to track down the max number of relevant chunks for the query."
      ],
      "metadata": {
        "id": "f2nqXNayxd7g"
      }
    },
    {
      "cell_type": "code",
      "execution_count": null,
      "metadata": {
        "id": "BDcg9olALOWY",
        "colab": {
          "base_uri": "https://localhost:8080/"
        },
        "outputId": "77119096-5a4f-4349-9f3f-414a544aec5c"
      },
      "outputs": [
        {
          "output_type": "execute_result",
          "data": {
            "text/plain": [
              "[Document(page_content=\"16 - Critical Care Medicine\\nChapter 222. Approach to the Critically Ill Patient\\nIntroduction\\nCritical care medicine specializes in caring for the most seriously ill patients. These patients are best\\ntreated in an ICU staffed by experienced personnel. Some hospitals maintain separate units for special\\npopulations (eg, cardiac, surgical, neurologic, pediatric, or neonatal patients). ICUs have a high\\nnurse:patient ratio to provide the necessary high intensity \\nof service, including treatment and monitoring\\nof physiologic parameters.\\nSupportive care for the ICU patient includes provision of adequate nutrition (see p. \\n21\\n) and prevention of\\ninfection, stress ulcers and gastritis (see p. \\n131\\n), and pulmonary embolism (see p. \\n1920\\n). Because 15 to\\n25% of patients admitted to ICUs die there, physicians should know how to minimize suffering and help\\ndying patients maintain dignity (see p. \\n3480\\n).\\nPatient Monitoring and Testing\\nSome monitoring is manual (ie, by direct observation and physical examination) and intermittent, with the\\nfrequency depending on the patient's illness. This monitoring usually includes measurement of vital signs\\n(temperature, BP, pulse, and respiration rate), quantification of all fluid intake and output, and often daily\\nweight. BP may be recorded by an automated sphygmomanometer; a transcutaneous sensor for pulse\\noximetry is used as well.\\nOther monitoring is ongoing and continuous, provided by complex devices that require special training\\nand experience to operate. Most such devices generate an alarm if certain physiologic parameters are\\nexceeded. Every ICU should strictly follow protocols for investigating alarms.\\nBlood Tests\\nAlthough frequent blood draws can destroy veins, cause pain, and lead to anemia, ICU patients typically\\nhave routine daily blood tests to help detect problems early. Generally, patients need a daily set of\\nelectrolytes and a CBC. Patients with arrhythmias should also have Mg, phosphate, and Ca levels\\nmeasured. Patients receiving TPN need weekly liver enzymes and coagulation profiles. Other tests (eg,\\nblood culture for fever, CBC after a bleeding episode) are done as needed.\\nPoint-of-care testing uses miniaturized, highly automated devices to do certain blood tests at the patient's\\nbedside or unit (particularly ICU, emergency department, and operating room). Commonly available tests\", metadata={'page': 2400, 'source': '/content/drive/My Drive/AI Cert Course/NLP with AI/Project 4/medical_diagnosis_manual.pdf'}),\n",
              " Document(page_content=\"Parenteral antibiotics should be given after specimens of blood, body fluids, and wound sites have been\\ntaken for Gram stain and culture. Very prompt empiric therapy, started immediately after suspecting\\nsepsis, is essential and may be lifesaving. Antibiotic selection requires an educated guess based on the\\nsuspected source, clinical setting, knowledge or suspicion of causative organisms and of sensitivity\\npatterns common to that specific inpatient unit, and previous culture results.\\nOne regimen for septic shock of unknown cause is gentamicin or tobramycin 5.1 mg/kg IV once/day plus\\na 3rd-generation cephalosporin (cefotaxime 2 g q 6 to 8 h or ceftriaxone 2 g once/day or, if \\nPseudomonas\\nis suspected, ceftazidime 2 g IV q 8 h). Alternatively, ceftazidime plus a fluoroquinolone (eg, ciprofloxacin)\\nmay be used. Monotherapy with maximal therapeutic doses of ceftazidime (2 g IV q 8 h) or imipenem (1 g\\nIV q 6 h) may be effective but is not recommended.\\nVancomycin must be added if resistant staphylococci or enterococci are suspected. If there is an\\nabdominal source, a drug effective against anaerobes (eg, metronidazole) should be included. When\\nculture and sensitivity results are available, the antibiotic regimen is changed accordingly. Antibiotics are\\ncontinued for at least 5 days after shock resolves and evidence of infection subsides.\\nAbscesses must be drained, and necrotic tissues (eg, infarcted bowel, gangrenous gall-bladder,\\nabscessed uterus) must be surgically excised. The patient's condition will continue to deteriorate despite\\nantibiotic therapy unless septic foci are eliminated.\\nNormalization of blood glucose improves outcome in critically ill patients, even those not known to be\\ndiabetic. A continuous IV insulin infusion (crystalline zinc 1 to 4 U/h) is titrated to maintain glucose\\nbetween 80 to 110 mg/dL (4.4 to 6.1 mmol/L). This approach necessitates frequent (eg, q 1 to 4 h)\\nglucose measurement.\", metadata={'page': 2456, 'source': '/content/drive/My Drive/AI Cert Course/NLP with AI/Project 4/medical_diagnosis_manual.pdf'}),\n",
              " Document(page_content='Chapter 227. Sepsis and Septic Shock\\nIntroduction\\n(See also \\nCh. 226\\n.)\\nSepsis, severe sepsis, and septic shock are inflammatory states resulting from the systemic\\nresponse to bacterial infection. In severe sepsis and septic shock, there is critical reduction in\\ntissue perfusion. Common causes include gram-negative organisms, staphylococci, and\\nmeningococci. Symptoms often begin with shaking chills and include fever, hypotension,\\noliguria, and confusion. Acute failure of multiple organs, including the lungs, kidneys, and liver,\\ncan occur. Treatment is aggressive fluid resuscitation, antibiotics, surgical excision of infected\\nor necrotic tissues and drainage of pus, supportive care, and sometimes intensive control of\\nblood glucose and administration of corticosteroids and activated protein C.\\nA spectrum of severity exists (see\\nTable 227-1\\n).\\nSepsis\\n is infection accompanied by an acute inflammatory reaction with systemic manifestations\\nassociated with release into the bloodstream of numerous endogenous mediators of inflammation. Acute\\npancreatitis and major trauma, including burns, may manifest with signs of sepsis. The inflammatory\\nreaction typically manifests with ≥ 2 of the following:\\n• Temperature > 38°C or < 36°C\\n• \\nHeart rate > 90 beats/min\\n• Respiratory rate > 20 breaths/min or PaCO\\n2\\n < 32 mm Hg\\n• WBC count > 12,000 cells/\\nμ\\nL or < 4,000 cells/\\nμ\\nL or > 10% immature forms\\nHowever, these criteria are now viewed as suggestive but not sufficiently precise to be diagnostic.\\nSevere sepsis\\n is sepsis accompanied by signs of failure of at least one organ. Cardiovascular failure is\\ntypically manifested by hypotension, respiratory failure by hypoxemia, renal failure by oliguria, and\\nhematologic failure by coagulopathy.\\nSeptic shock\\n is severe sepsis with organ hypoperfusion and hypotension that are poorly responsive to\\ninitial fluid resuscitation.\\nEtiology\\nMost cases of septic shock are caused by hospital-acquired gram-negative bacilli or gram-positive cocci\\nand often occur in immunocompromised patients and patients with chronic and debilitating diseases.\\nRarely, it is caused by', metadata={'page': 2453, 'source': '/content/drive/My Drive/AI Cert Course/NLP with AI/Project 4/medical_diagnosis_manual.pdf'}),\n",
              " Document(page_content='Chapter 222. Approach to the Critically Ill Patient\\n2395christopher.a.peralta@gmail.com\\nJ8VR75WB2D\\nThis file is meant for personal use by christopher.a.peralta@gmail.com only.\\nSharing or publishing the contents in part or full is liable for legal action.', metadata={'page': 2404, 'source': '/content/drive/My Drive/AI Cert Course/NLP with AI/Project 4/medical_diagnosis_manual.pdf'}),\n",
              " Document(page_content='glucose measurement.\\nCorticosteroid therapy seems beneficial. Treatment is with replacement doses rather than pharmacologic\\ndoses. One regimen consists of hydrocortisone 50 mg IV q 6 h (or 100 mg q 8 h) plus fludrocortisone 50\\nμ\\ng po once/day during hemodynamic instability and for 3 days thereafter.\\nActivated protein C (drotrecogin alfa), a recombinant drug with fibrinolytic and anti-inflammatory activity,\\nseems beneficial for severe sepsis and septic shock if it is begun early; benefit has been shown only in\\npatients with significant risk of death as defined by an APACHE II score of > 25 (see\\nTable 222-4\\n on p. \\n2248\\n). Dosage is 24 \\nμ\\ng/kg/h by continuous IV infusion for 96 h. Bleeding is the most\\ncommon complication; thus, contraindications include hemorrhagic stroke within 3 mo, spinal or\\nintracranial surgery within 2 mo, acute trauma with a risk of bleeding, and intracranial neoplasm. Risk-\\nbenefit assessment is required in other patients with increased risk of serious bleeding (eg, with\\nthrombocytopenia or recent GI bleeding, receiving concurrent heparin, or with recent aspirin or other\\nanticoagulant use).\\nOther emerging therapies for severe sepsis include cooling for hyperthermia and early treatment of renal\\nfailure (eg, with continuous venovenous hemofiltration).\\nTrials of monoclonal antibodies to the lipid A fraction of endotoxin, antileukotrienes, and antibodies to\\ntumor necrosis factor have been unsuccessful.The Merck Manual of Diagnosis & Therapy, 19th Edition\\nChapter 227. Sepsis & Septic Shock\\n2447christopher.a.peralta@gmail.com\\nJ8VR75WB2D\\nThis file is meant for personal use by christopher.a.peralta@gmail.com only.\\nSharing or publishing the contents in part or full is liable for legal action.', metadata={'page': 2456, 'source': '/content/drive/My Drive/AI Cert Course/NLP with AI/Project 4/medical_diagnosis_manual.pdf'})]"
            ]
          },
          "metadata": {},
          "execution_count": 79
        }
      ],
      "source": [
        "#inspect the relevant doc chunks\n",
        "relevant_document_chunks"
      ]
    },
    {
      "cell_type": "code",
      "execution_count": null,
      "metadata": {
        "id": "gZywcedJcu67",
        "colab": {
          "base_uri": "https://localhost:8080/"
        },
        "outputId": "5102239f-6590-4c4c-ff2e-0ef48f70fdcd"
      },
      "outputs": [
        {
          "output_type": "execute_result",
          "data": {
            "text/plain": [
              "[Document(page_content=\"16 - Critical Care Medicine\\nChapter 222. Approach to the Critically Ill Patient\\nIntroduction\\nCritical care medicine specializes in caring for the most seriously ill patients. These patients are best\\ntreated in an ICU staffed by experienced personnel. Some hospitals maintain separate units for special\\npopulations (eg, cardiac, surgical, neurologic, pediatric, or neonatal patients). ICUs have a high\\nnurse:patient ratio to provide the necessary high intensity \\nof service, including treatment and monitoring\\nof physiologic parameters.\\nSupportive care for the ICU patient includes provision of adequate nutrition (see p. \\n21\\n) and prevention of\\ninfection, stress ulcers and gastritis (see p. \\n131\\n), and pulmonary embolism (see p. \\n1920\\n). Because 15 to\\n25% of patients admitted to ICUs die there, physicians should know how to minimize suffering and help\\ndying patients maintain dignity (see p. \\n3480\\n).\\nPatient Monitoring and Testing\\nSome monitoring is manual (ie, by direct observation and physical examination) and intermittent, with the\\nfrequency depending on the patient's illness. This monitoring usually includes measurement of vital signs\\n(temperature, BP, pulse, and respiration rate), quantification of all fluid intake and output, and often daily\\nweight. BP may be recorded by an automated sphygmomanometer; a transcutaneous sensor for pulse\\noximetry is used as well.\\nOther monitoring is ongoing and continuous, provided by complex devices that require special training\\nand experience to operate. Most such devices generate an alarm if certain physiologic parameters are\", metadata={'page': 2400, 'source': '/content/drive/My Drive/AI Cert Course/NLP with AI/Project 4/medical_diagnosis_manual.pdf'}),\n",
              " Document(page_content='Overall mortality in patients with septic shock is decreasing and now averages 40% (range 10 to 90%,\\ndepending on patient characteristics). Poor outcomes often follow failure to institute early aggressive\\ntherapy (eg, within 6 h of suspected diagnosis). Once severe lactic acidosis with decompensated\\nmetabolic acidosis becomes established, especially in conjunction with multiorgan failure, septic shock is\\nlikely to be irreversible and fatal.\\nTreatment\\n• Fluid resuscitation with 0.9% normal saline\\n• O\\n2\\n• Broad-spectrum antibiotics (modified by culture results)\\n• Drainage of abscesses and excision of necrotic tissue\\n• Normalization of blood glucose levels\\n• Replacement-dose corticosteroids\\nPatients with septic shock should be treated in an ICU. The following should be monitored frequently (see\\nalso p. \\n2244\\n): systemic pressure; CVP, PAOP, or both; pulse oximetry; ABGs; blood glucose, lactate, and\\nelectrolyte levels; renal function, and possibly sublingual PCO\\n2\\n. Urine output, a good indicator of \\nrenal\\nperfusion, should be measured, usually with an indwelling catheter.\\nFluid resuscitation with 0.9% saline should be given until CVP reaches 8 mm Hg (10 cm H\\n2\\nO) or PAOP\\nreaches 12 to 15 mm Hg. Oliguria with hypotension is not a contraindication to vigorous fluid', metadata={'page': 2455, 'source': '/content/drive/My Drive/AI Cert Course/NLP with AI/Project 4/medical_diagnosis_manual.pdf'}),\n",
              " Document(page_content='Parenteral antibiotics should be given after specimens of blood, body fluids, and wound sites have been\\ntaken for Gram stain and culture. Very prompt empiric therapy, started immediately after suspecting\\nsepsis, is essential and may be lifesaving. Antibiotic selection requires an educated guess based on the\\nsuspected source, clinical setting, knowledge or suspicion of causative organisms and of sensitivity\\npatterns common to that specific inpatient unit, and previous culture results.\\nOne regimen for septic shock of unknown cause is gentamicin or tobramycin 5.1 mg/kg IV once/day plus\\na 3rd-generation cephalosporin (cefotaxime 2 g q 6 to 8 h or ceftriaxone 2 g once/day or, if \\nPseudomonas\\nis suspected, ceftazidime 2 g IV q 8 h). Alternatively, ceftazidime plus a fluoroquinolone (eg, ciprofloxacin)\\nmay be used. Monotherapy with maximal therapeutic doses of ceftazidime (2 g IV q 8 h) or imipenem (1 g\\nIV q 6 h) may be effective but is not recommended.\\nVancomycin must be added if resistant staphylococci or enterococci are suspected. If there is an\\nabdominal source, a drug effective against anaerobes (eg, metronidazole) should be included. When\\nculture and sensitivity results are available, the antibiotic regimen is changed accordingly. Antibiotics are\\ncontinued for at least 5 days after shock resolves and evidence of infection subsides.', metadata={'page': 2456, 'source': '/content/drive/My Drive/AI Cert Course/NLP with AI/Project 4/medical_diagnosis_manual.pdf'}),\n",
              " Document(page_content=\"culture and sensitivity results are available, the antibiotic regimen is changed accordingly. Antibiotics are\\ncontinued for at least 5 days after shock resolves and evidence of infection subsides.\\nAbscesses must be drained, and necrotic tissues (eg, infarcted bowel, gangrenous gall-bladder,\\nabscessed uterus) must be surgically excised. The patient's condition will continue to deteriorate despite\\nantibiotic therapy unless septic foci are eliminated.\\nNormalization of blood glucose improves outcome in critically ill patients, even those not known to be\\ndiabetic. A continuous IV insulin infusion (crystalline zinc 1 to 4 U/h) is titrated to maintain glucose\\nbetween 80 to 110 mg/dL (4.4 to 6.1 mmol/L). This approach necessitates frequent (eg, q 1 to 4 h)\\nglucose measurement.\\nCorticosteroid therapy seems beneficial. Treatment is with replacement doses rather than pharmacologic\\ndoses. One regimen consists of hydrocortisone 50 mg IV q 6 h (or 100 mg q 8 h) plus fludrocortisone 50\\nμ\\ng po once/day during hemodynamic instability and for 3 days thereafter.\\nActivated protein C (drotrecogin alfa), a recombinant drug with fibrinolytic and anti-inflammatory activity,\\nseems beneficial for severe sepsis and septic shock if it is begun early; benefit has been shown only in\\npatients with significant risk of death as defined by an APACHE II score of > 25 (see\\nTable 222-4\", metadata={'page': 2456, 'source': '/content/drive/My Drive/AI Cert Course/NLP with AI/Project 4/medical_diagnosis_manual.pdf'}),\n",
              " Document(page_content='Chapter 222. Approach to the Critically Ill Patient\\n2395christopher.a.peralta@gmail.com\\nJ8VR75WB2D\\nThis file is meant for personal use by christopher.a.peralta@gmail.com only.\\nSharing or publishing the contents in part or full is liable for legal action.', metadata={'page': 2404, 'source': '/content/drive/My Drive/AI Cert Course/NLP with AI/Project 4/medical_diagnosis_manual.pdf'}),\n",
              " Document(page_content='Chapter 227. Sepsis and Septic Shock\\nIntroduction\\n(See also \\nCh. 226\\n.)\\nSepsis, severe sepsis, and septic shock are inflammatory states resulting from the systemic\\nresponse to bacterial infection. In severe sepsis and septic shock, there is critical reduction in\\ntissue perfusion. Common causes include gram-negative organisms, staphylococci, and\\nmeningococci. Symptoms often begin with shaking chills and include fever, hypotension,\\noliguria, and confusion. Acute failure of multiple organs, including the lungs, kidneys, and liver,\\ncan occur. Treatment is aggressive fluid resuscitation, antibiotics, surgical excision of infected\\nor necrotic tissues and drainage of pus, supportive care, and sometimes intensive control of\\nblood glucose and administration of corticosteroids and activated protein C.\\nA spectrum of severity exists (see\\nTable 227-1\\n).\\nSepsis\\n is infection accompanied by an acute inflammatory reaction with systemic manifestations\\nassociated with release into the bloodstream of numerous endogenous mediators of inflammation. Acute\\npancreatitis and major trauma, including burns, may manifest with signs of sepsis. The inflammatory\\nreaction typically manifests with ≥ 2 of the following:\\n• Temperature > 38°C or < 36°C\\n• \\nHeart rate > 90 beats/min\\n• Respiratory rate > 20 breaths/min or PaCO\\n2\\n < 32 mm Hg\\n• WBC count > 12,000 cells/\\nμ\\nL or < 4,000 cells/\\nμ', metadata={'page': 2453, 'source': '/content/drive/My Drive/AI Cert Course/NLP with AI/Project 4/medical_diagnosis_manual.pdf'}),\n",
              " Document(page_content='2\\n < 32 mm Hg\\n• WBC count > 12,000 cells/\\nμ\\nL or < 4,000 cells/\\nμ\\nL or > 10% immature forms\\nHowever, these criteria are now viewed as suggestive but not sufficiently precise to be diagnostic.\\nSevere sepsis\\n is sepsis accompanied by signs of failure of at least one organ. Cardiovascular failure is\\ntypically manifested by hypotension, respiratory failure by hypoxemia, renal failure by oliguria, and\\nhematologic failure by coagulopathy.\\nSeptic shock\\n is severe sepsis with organ hypoperfusion and hypotension that are poorly responsive to\\ninitial fluid resuscitation.\\nEtiology\\nMost cases of septic shock are caused by hospital-acquired gram-negative bacilli or gram-positive cocci\\nand often occur in immunocompromised patients and patients with chronic and debilitating diseases.\\nRarely, it is caused by \\nCandida\\n or other fungi. A unique form of shock caused by staphylococcal and\\nstreptococcal toxins is called toxic shock (see p. \\n1235\\n).\\nSeptic shock occurs more often in neonates (see p. \\n2832\\n), patients > 35 yr, and pregnant women.\\nPredisposing factors include diabetes mellitus; cirrhosis; leukopenia, especially that associated with\\ncancer or treatment with cytotoxic drugs; invasive devices, including endotracheal tubes, vascular or\\nurinary catheters, drainage tubes, and other foreign materials; and prior treatment with antibiotics or', metadata={'page': 2453, 'source': '/content/drive/My Drive/AI Cert Course/NLP with AI/Project 4/medical_diagnosis_manual.pdf'}),\n",
              " Document(page_content='shaking chills, persistent fever, altered sensorium, hypotension, and GI symptoms (abdominal pain,\\nnausea, vomiting, diarrhea) suggests sepsis or septic shock. Septic shock develops in 25 to 40% of\\npatients with significant bacteremia.\\nDiagnosis\\nIf bacteremia, sepsis, or septic shock is suspected, cultures are obtained of blood and any other\\nappropriate specimens (see p. \\n1166\\n).\\nTreatment\\n• Antibiotics\\nIn patients with suspected bacteremia, empiric antibiotics are given after appropriate cultures are\\nobtained. Early treatment of bacteremia with an appropriate antimicrobial regimen appears to improve\\nsurvival. Continuing therapy involves adjusting antibiotics according to the results of culture and\\nsusceptibility testing, surgically draining any abscesses, and usually removing any internal devices that\\nare the suspected source of bacteria.\\nBiological Warfare and Terrorism\\nBiological warfare is the use of microbiological agents for hostile purposes. Such use is contrary to\\ninternational law and has rarely taken place during formal warfare in modern history, despite the extensive\\npreparations and stockpiling of biological agents carried out during the 20th century by most major\\npowers. For a variety of reasons (including uncertain military efficacy and the threat of massive\\nretaliation), experts consider the use of biological agents in formal warfare unlikely. The area of most\\nconcern is the use of such agents by terrorist groups. Biological agents are thought by some people to be\\nan ideal weapon for terrorists. These agents may be delivered clandestinely, and they have delayed\\neffects, allowing the user to remain undetected.', metadata={'page': 1307, 'source': '/content/drive/My Drive/AI Cert Course/NLP with AI/Project 4/medical_diagnosis_manual.pdf'})]"
            ]
          },
          "metadata": {},
          "execution_count": 80
        }
      ],
      "source": [
        "#inspect the relevant doc chunks\n",
        "relevant_document_chunks2"
      ]
    },
    {
      "cell_type": "markdown",
      "metadata": {
        "id": "vw8qcwq66B0C"
      },
      "source": [
        "### System and User Prompt Template"
      ]
    },
    {
      "cell_type": "code",
      "source": [
        "#system message instructions and user prompt template combined for mistral instruct\n",
        "qna_mistral_rag = \"\"\"\n",
        "[INST]\n",
        "You are an assistant whose work is to review the report and provide the appropriate answers from the context.\n",
        "User input will have the context required by you to answer user questions.\n",
        "This context will begin with the token: ###Context.\n",
        "The context contains references to specific portions of a document relevant to the user query.\n",
        "\n",
        "User questions will begin with the token: ###Question.\n",
        "\n",
        "Please answer only using the context provided in the input. Do not mention anything about the context in your final answer.\n",
        "\n",
        "If the answer is not found in the context, respond \"I don't know\".\n",
        "\n",
        "---\n",
        "\n",
        "###Context\n",
        "Here are some documents that are relevant to the question mentioned below.\n",
        "{context}\n",
        "\n",
        "---\n",
        "\n",
        "###Question\n",
        "{question}\n",
        "[/INST]\n",
        "\"\"\""
      ],
      "metadata": {
        "id": "tDx1b8897UtC"
      },
      "execution_count": null,
      "outputs": []
    },
    {
      "cell_type": "markdown",
      "metadata": {
        "id": "TkIteX4m6mny"
      },
      "source": [
        "### Response Function"
      ]
    },
    {
      "cell_type": "markdown",
      "source": [
        "I made some edits to the provided notebook template function for Mistral Instruct."
      ],
      "metadata": {
        "id": "NGdBajPQyFWV"
      }
    },
    {
      "cell_type": "code",
      "execution_count": null,
      "metadata": {
        "id": "5jFvGnOJRXZx"
      },
      "outputs": [],
      "source": [
        "def generate_rag_response(user_input,k=3,max_tokens=128,temperature=0,top_p=0.95,top_k=50):\n",
        "    global qna_mistral_rag #changed this to mistral-specific template\n",
        "    # Retrieve relevant document chunks\n",
        "    relevant_document_chunks = retriever.get_relevant_documents(query=user_input,k=k)\n",
        "    context_list = [d.page_content for d in relevant_document_chunks]\n",
        "\n",
        "    # Combine document chunks into a single context\n",
        "    context_for_query = \". \".join(context_list)\n",
        "\n",
        "    #original lines from notebook template function:\n",
        "    #user_message = qna_user_message_template.replace('{context}', context_for_query)\n",
        "    #user_message = user_message.replace('{question}', user_input)\n",
        "\n",
        "    #prompt = qna_system_message + '\\n' + user_message\n",
        "\n",
        "\n",
        "#tweaks for mistral:\n",
        "\n",
        "    user_message = qna_mistral_rag.replace('{context}', context_for_query)\n",
        "    user_message = user_message.replace('{question}', user_input)\n",
        "\n",
        "    prompt = user_message\n",
        "\n",
        "    # Generate the response\n",
        "    try:\n",
        "        response = llm(\n",
        "                  prompt=prompt,\n",
        "                  max_tokens=max_tokens,\n",
        "                  temperature=temperature,\n",
        "                  top_p=top_p,\n",
        "                  top_k=top_k\n",
        "                  )\n",
        "\n",
        "        # Extract and print the model's response\n",
        "        response = response['choices'][0]['text'].strip()\n",
        "    except Exception as e:\n",
        "        response = f'Sorry, I encountered the following error: \\n {e}'\n",
        "\n",
        "    return response"
      ]
    },
    {
      "cell_type": "markdown",
      "source": [
        "I made a second rag response function that would use the second retriever with the smaller document chunks."
      ],
      "metadata": {
        "id": "g4yyky3XyNck"
      }
    },
    {
      "cell_type": "code",
      "execution_count": null,
      "metadata": {
        "id": "vA0BNmOUcyy7"
      },
      "outputs": [],
      "source": [
        "def generate_rag_response2(user_input,k=3,max_tokens=128,temperature=0,top_p=0.95,top_k=50):\n",
        "    global qna_mistral_rag #changed this to mistral-specific template\n",
        "    # Retrieve relevant document chunks\n",
        "    relevant_document_chunks = retriever2.get_relevant_documents(query=user_input,k=k)\n",
        "    context_list = [d.page_content for d in relevant_document_chunks]\n",
        "\n",
        "    # Combine document chunks into a single context\n",
        "    context_for_query = \". \".join(context_list)\n",
        "\n",
        "    #original lines from notebook template function:\n",
        "    #user_message = qna_user_message_template.replace('{context}', context_for_query)\n",
        "    #user_message = user_message.replace('{question}', user_input)\n",
        "\n",
        "    #prompt = qna_system_message + '\\n' + user_message\n",
        "\n",
        "#tweaks for mistral:\n",
        "\n",
        "    user_message = qna_mistral_rag.replace('{context}', context_for_query)\n",
        "    user_message = user_message.replace('{question}', user_input)\n",
        "\n",
        "    prompt = user_message\n",
        "\n",
        "    # Generate the response\n",
        "    try:\n",
        "        response = llm(\n",
        "                  prompt=prompt,\n",
        "                  max_tokens=max_tokens,\n",
        "                  temperature=temperature,\n",
        "                  top_p=top_p,\n",
        "                  top_k=top_k\n",
        "                  )\n",
        "\n",
        "        # Extract and print the model's response\n",
        "        response = response['choices'][0]['text'].strip()\n",
        "    except Exception as e:\n",
        "        response = f'Sorry, I encountered the following error: \\n {e}'\n",
        "\n",
        "    return response"
      ]
    },
    {
      "cell_type": "markdown",
      "metadata": {
        "id": "ffP1SRYbPQHN"
      },
      "source": [
        "## Question Answering using RAG"
      ]
    },
    {
      "cell_type": "markdown",
      "metadata": {
        "id": "JjajBEj06B0E"
      },
      "source": [
        "### Query 1: What is the protocol for managing sepsis in a critical care unit?"
      ]
    },
    {
      "cell_type": "code",
      "execution_count": null,
      "metadata": {
        "id": "Nlo9sMpPRbTP",
        "colab": {
          "base_uri": "https://localhost:8080/"
        },
        "outputId": "0985f508-4fc7-4761-9148-ab341ea6c993"
      },
      "outputs": [
        {
          "output_type": "stream",
          "name": "stderr",
          "text": [
            "Llama.generate: prefix-match hit\n"
          ]
        },
        {
          "output_type": "stream",
          "name": "stdout",
          "text": [
            "The protocol for managing sepsis in a critical care unit includes aggressive fluid resuscitation, antibiotics, surgical excision of infected or necrotic tissues and drainage of pus, supportive care, normalization of blood glucose, and sometimes intensive control of blood glucose and administration of corticosteroids and activated protein C. Antibiotic selection requires an educated guess based on the suspected source, clinical setting, knowledge or suspicion of causative organisms and of sensitivity patterns common to that specific inpatient unit, and previous culture results. One regimen for septic shock of unknown\n"
          ]
        }
      ],
      "source": [
        "user_prompt = \"What is the protocol for managing sepsis in a critical care unit?\"\n",
        "print(generate_rag_response(user_prompt))"
      ]
    },
    {
      "cell_type": "markdown",
      "source": [
        "As expected, the response was much more high-level, technical, and specialized than the earlier ones that relied on the LLM's pretraining. It did run out of tokens again though."
      ],
      "metadata": {
        "id": "QmByo3vNyb2B"
      }
    },
    {
      "cell_type": "markdown",
      "metadata": {
        "id": "QDw8zXuq6B0F"
      },
      "source": [
        "### Query 2: What are the common symptoms for appendicitis, and can it be cured via medicine? If not, what surgical procedure should be followed to treat it?"
      ]
    },
    {
      "cell_type": "code",
      "execution_count": null,
      "metadata": {
        "id": "PVReF4G8RbzR",
        "colab": {
          "base_uri": "https://localhost:8080/"
        },
        "outputId": "79faca2b-5e10-4dd1-c9c9-5aeb93a1ce3d"
      },
      "outputs": [
        {
          "output_type": "stream",
          "name": "stderr",
          "text": [
            "Llama.generate: prefix-match hit\n"
          ]
        },
        {
          "output_type": "stream",
          "name": "stdout",
          "text": [
            "The common symptoms for appendicitis include epigastric or periumbilical pain followed by brief nausea, vomiting, and anorexia. After a few hours, the pain shifts to the right lower quadrant. Pain increases with cough and motion. Classic signs are right lower quadrant direct and rebound tenderness located at McBurney's point. However, these classic findings appear in less than 50% of patients, and many variations of symptoms and signs occur.\n",
            "\n",
            "Appendicitis cannot be cured via medicine alone. The standard treatment for appendicitis is surgical removal\n"
          ]
        }
      ],
      "source": [
        "user_prompt = \"What are the common symptoms for appendicitis, and can it be cured via medicine? If not, what surgical procedure should be followed to treat it?\"\n",
        "print(generate_rag_response(user_prompt))"
      ]
    },
    {
      "cell_type": "markdown",
      "source": [
        "As before, the response is much more technical -- like a response a doctor would provide to another doctor. The answer was again cut off."
      ],
      "metadata": {
        "id": "dKPQdNtPy6w4"
      }
    },
    {
      "cell_type": "markdown",
      "metadata": {
        "id": "TggYyQPL6B0G"
      },
      "source": [
        "### Query 3: What are the effective treatments or solutions for addressing sudden patchy hair loss, commonly seen as localized bald spots on the scalp, and what could be the possible causes behind it?"
      ]
    },
    {
      "cell_type": "code",
      "execution_count": null,
      "metadata": {
        "id": "0aRbadGtRcX0",
        "colab": {
          "base_uri": "https://localhost:8080/"
        },
        "outputId": "855a60df-fc83-4d9f-b799-350cd8b5b77c"
      },
      "outputs": [
        {
          "output_type": "stream",
          "name": "stderr",
          "text": [
            "Llama.generate: prefix-match hit\n"
          ]
        },
        {
          "output_type": "stream",
          "name": "stdout",
          "text": [
            "The effective treatments for addressing sudden patchy hair loss, also known as alopecia areata, include topical or intralesional corticosteroids, topical anthralin, minoxidil, topical immunotherapy (diphencyprone or squaric acid dibutylester), or psoralen plus ultraviolet A (PUVA). Corticosteroids can be injected intradermally for small lesions or used as potent topical applications. Oral corticosteroids are also effective but have adverse effects and hair loss recurs after cessation\n"
          ]
        }
      ],
      "source": [
        "user_prompt = \"What are the effective treatments or solutions for addressing sudden patchy hair loss, commonly seen as localized bald spots on the scalp, and what could be the possible causes behind it?\"\n",
        "print(generate_rag_response(user_prompt))"
      ]
    },
    {
      "cell_type": "markdown",
      "source": [
        "This response mentions the same solutions mentioned in the earlier responses, but they're fleshed out with more medical terminology. This response was also cut off."
      ],
      "metadata": {
        "id": "M2JOSQrwzJ2I"
      }
    },
    {
      "cell_type": "markdown",
      "metadata": {
        "id": "1TgxdI-_6B0G"
      },
      "source": [
        "### Query 4:  What treatments are recommended for a person who has sustained a physical injury to brain tissue, resulting in temporary or permanent impairment of brain function?"
      ]
    },
    {
      "cell_type": "code",
      "execution_count": null,
      "metadata": {
        "id": "0vzRX1TcRc29",
        "colab": {
          "base_uri": "https://localhost:8080/"
        },
        "outputId": "3f2fe68d-7fde-42f0-cfa4-b23b19a75614"
      },
      "outputs": [
        {
          "output_type": "stream",
          "name": "stderr",
          "text": [
            "Llama.generate: prefix-match hit\n"
          ]
        },
        {
          "output_type": "stream",
          "name": "stdout",
          "text": [
            "The context suggests that the initial treatment for a person with traumatic brain injury (TBI) includes ensuring a reliable airway and maintaining adequate ventilation, oxygenation, and blood pressure. Surgery may be needed for patients with more severe injuries to place monitors or decompress the brain. In the first few days after the injury, maintaining adequate brain perfusion and oxygenation and preventing complications are important. Subsequently, many patients require rehabilitation. Supportive care should include preventing systemic complications, providing good nutrition, preventing pressure ulcers, and providing physical therapy to prevent limb contractures. Seizures\n"
          ]
        }
      ],
      "source": [
        "user_prompt = \"What treatments are recommended for a person who has sustained a physical injury to brain tissue, resulting in temporary or permanent impairment of brain function?\"\n",
        "print(generate_rag_response(user_prompt))"
      ]
    },
    {
      "cell_type": "markdown",
      "source": [
        "The LLM began mentioning the context now, despite the instructions asking it not to. This answer was also cut off."
      ],
      "metadata": {
        "id": "FR4ZkgHczXBD"
      }
    },
    {
      "cell_type": "markdown",
      "metadata": {
        "id": "FlHXYCkm6B0H"
      },
      "source": [
        "### Query 5: What are the necessary precautions and treatment steps for a person who has fractured their leg during a hiking trip, and what should be considered for their care and recovery?"
      ]
    },
    {
      "cell_type": "code",
      "execution_count": null,
      "metadata": {
        "id": "sarpUibcRdhq",
        "colab": {
          "base_uri": "https://localhost:8080/"
        },
        "outputId": "eea85c3d-d1ba-4302-fe44-6e7d35499c95"
      },
      "outputs": [
        {
          "output_type": "stream",
          "name": "stderr",
          "text": [
            "Llama.generate: prefix-match hit\n"
          ]
        },
        {
          "output_type": "stream",
          "name": "stdout",
          "text": [
            "The context provides information on the symptoms, diagnosis, and treatment of fractures. The person with a fractured leg should first seek medical attention. In the meantime, they can apply analgesics to manage pain. Once in the hospital, they will receive immobilization through the use of a cast or splint to prevent further injury and facilitate healing. It is important for them to keep the cast dry, inspect the edges and skin around it daily, and pad any rough edges with soft material to prevent discomfort. They should also elevate the injured limb above heart level for the first 48 hours to minimize swelling.\n"
          ]
        }
      ],
      "source": [
        "user_prompt = \"What are the necessary precautions and treatment steps for a person who has fractured their leg during a hiking trip, and what should be considered for their care and recovery?\"\n",
        "print(generate_rag_response(user_prompt))"
      ]
    },
    {
      "cell_type": "markdown",
      "source": [
        "The LLM again mentioned the context despite the instructions. This response looked very similar to the earlier ones for the same question that relied on pretraining; it didn't seem as high level as some of other rag responses. This response was also complete."
      ],
      "metadata": {
        "id": "Fo69o4tSzlY8"
      }
    },
    {
      "cell_type": "markdown",
      "metadata": {
        "id": "K7TYrqycEITB"
      },
      "source": [
        "### Fine-tuning"
      ]
    },
    {
      "cell_type": "markdown",
      "metadata": {
        "id": "Oy5t7L1alsEG"
      },
      "source": [
        "Parameter tuning testing strategy to run on each query, on both chunking/vector database/retrievers (the second has smaller chunks):\n",
        "- max_tokens = 500, k = 3 (vanilla)\n",
        "- max_tokens = 500, k = 1 (less context)\n",
        "- max_tokens = 500, k = 5 (more context)"
      ]
    },
    {
      "cell_type": "markdown",
      "metadata": {
        "id": "vyM4CJrzfmiU"
      },
      "source": [
        "Query 1: What is the protocol for managing sepsis in a critical care unit?"
      ]
    },
    {
      "cell_type": "markdown",
      "metadata": {
        "id": "JKrRb6_hosAo"
      },
      "source": [
        "#### First vector database"
      ]
    },
    {
      "cell_type": "code",
      "execution_count": null,
      "metadata": {
        "id": "GQLmAMHWb8_M",
        "colab": {
          "base_uri": "https://localhost:8080/"
        },
        "outputId": "e6823aee-ab53-4f7a-e972-eaa5e006b831"
      },
      "outputs": [
        {
          "output_type": "stream",
          "name": "stderr",
          "text": [
            "Llama.generate: prefix-match hit\n"
          ]
        },
        {
          "output_type": "stream",
          "name": "stdout",
          "text": [
            "The protocol for managing sepsis in a critical care unit includes aggressive fluid resuscitation, antibiotics, surgical excision of infected or necrotic tissues and drainage of pus, supportive care, normalization of blood glucose (if necessary), and sometimes intensive control of blood glucose and administration of corticosteroids and activated protein C. Antibiotic selection requires an educated guess based on the suspected source, clinical setting, knowledge or suspicion of causative organisms and of sensitivity patterns common to that specific inpatient unit, and previous culture results. One regimen for septic shock of unknown cause is gentamicin or tobramycin 5.1 mg/kg IV once/day plus a 3rd-generation cephalosporin (cefotaxime 2 g q 6 to 8 h or ceftriaxone 2 g once/day), or ceftazidime plus a fluoroquinolone (eg, ciprofloxacin). Vancomycin must be added if resistant staphylococci or enterococci are suspected. Abscesses must be drained, and necrotic tissues must be surgically excised. The patient's condition will continue to deteriorate despite antibiotic therapy unless septic foci are eliminated. Corticosteroid therapy seems beneficial for severe sepsis and septic shock, with a regimen consisting of hydrocortisone 50 mg IV q 6 h (or 100 mg q 8 h) plus fludrocortisone 50 μg po once/day during hemodynamic instability and for 3 days thereafter. Activated protein C (drotrecogin alfa), a recombinant drug with fibrinolytic and anti-inflammatory activity, seems beneficial for severe sepsis and septic shock if it is begun early. Other emerging therapies include cooling for hyperthermia and early treatment of renal failure (eg, with continuous venovenous hemofiltration).\n"
          ]
        }
      ],
      "source": [
        "#increasing max tokens\n",
        "user_prompt = \"What is the protocol for managing sepsis in a critical care unit?\"\n",
        "print(generate_rag_response(user_prompt, max_tokens = 500))"
      ]
    },
    {
      "cell_type": "code",
      "execution_count": null,
      "metadata": {
        "id": "XgyuyHxrk8C4",
        "colab": {
          "base_uri": "https://localhost:8080/"
        },
        "outputId": "5d0796e6-f1f3-42de-d2f8-5d293073fb95"
      },
      "outputs": [
        {
          "output_type": "stream",
          "name": "stderr",
          "text": [
            "Llama.generate: prefix-match hit\n"
          ]
        },
        {
          "output_type": "stream",
          "name": "stdout",
          "text": [
            "The protocol for managing sepsis in a critical care unit includes aggressive fluid resuscitation, antibiotics, surgical excision of infected or necrotic tissues and drainage of pus, supportive care, normalization of blood glucose (if necessary), and sometimes intensive control of blood glucose and administration of corticosteroids and activated protein C. Antibiotic selection requires an educated guess based on the suspected source, clinical setting, knowledge or suspicion of causative organisms and of sensitivity patterns common to that specific inpatient unit, and previous culture results. One regimen for septic shock of unknown cause is gentamicin or tobramycin 5.1 mg/kg IV once/day plus a 3rd-generation cephalosporin (cefotaxime 2 g q 6 to 8 h or ceftriaxone 2 g once/day), or ceftazidime plus a fluoroquinolone (eg, ciprofloxacin). Vancomycin must be added if resistant staphylococci or enterococci are suspected. Abscesses must be drained, and necrotic tissues must be surgically excised. The patient's condition will continue to deteriorate despite antibiotic therapy unless septic foci are eliminated. Corticosteroid therapy seems beneficial for severe sepsis and septic shock, with a regimen consisting of hydrocortisone 50 mg IV q 6 h (or 100 mg q 8 h) plus fludrocortisone 50 μg po once/day during hemodynamic instability and for 3 days thereafter. Activated protein C (drotrecogin alfa), a recombinant drug with fibrinolytic and anti-inflammatory activity, seems beneficial for severe sepsis and septic shock if it is begun early. Other emerging therapies include cooling for hyperthermia and early treatment of renal failure (eg, with continuous venovenous hemofiltration).\n"
          ]
        }
      ],
      "source": [
        "#increasing max tokens, lower k\n",
        "user_prompt = \"What is the protocol for managing sepsis in a critical care unit?\"\n",
        "print(generate_rag_response(user_prompt, max_tokens = 500, k = 1))"
      ]
    },
    {
      "cell_type": "code",
      "execution_count": null,
      "metadata": {
        "id": "IwLhyOgXonf5",
        "colab": {
          "base_uri": "https://localhost:8080/"
        },
        "outputId": "261feedb-8c24-4c85-82b5-65b0ea3a87e6"
      },
      "outputs": [
        {
          "output_type": "stream",
          "name": "stderr",
          "text": [
            "Llama.generate: prefix-match hit\n"
          ]
        },
        {
          "output_type": "stream",
          "name": "stdout",
          "text": [
            "The protocol for managing sepsis in a critical care unit includes aggressive fluid resuscitation, antibiotics, surgical excision of infected or necrotic tissues and drainage of pus, supportive care, normalization of blood glucose (if necessary), and sometimes intensive control of blood glucose and administration of corticosteroids and activated protein C. Antibiotic selection requires an educated guess based on the suspected source, clinical setting, knowledge or suspicion of causative organisms and of sensitivity patterns common to that specific inpatient unit, and previous culture results. One regimen for septic shock of unknown cause is gentamicin or tobramycin 5.1 mg/kg IV once/day plus a 3rd-generation cephalosporin (cefotaxime 2 g q 6 to 8 h or ceftriaxone 2 g once/day), or ceftazidime plus a fluoroquinolone (eg, ciprofloxacin). Vancomycin must be added if resistant staphylococci or enterococci are suspected. Abscesses must be drained, and necrotic tissues must be surgically excised. The patient's condition will continue to deteriorate despite antibiotic therapy unless septic foci are eliminated. Corticosteroid therapy seems beneficial for severe sepsis and septic shock, with a regimen consisting of hydrocortisone 50 mg IV q 6 h (or 100 mg q 8 h) plus fludrocortisone 50 μg po once/day during hemodynamic instability and for 3 days thereafter. Activated protein C (drotrecogin alfa), a recombinant drug with fibrinolytic and anti-inflammatory activity, seems beneficial for severe sepsis and septic shock if it is begun early. Other emerging therapies include cooling for hyperthermia and early treatment of renal failure (eg, with continuous venovenous hemofiltration).\n"
          ]
        }
      ],
      "source": [
        "#increasing max tokens, higher k\n",
        "user_prompt = \"What is the protocol for managing sepsis in a critical care unit?\"\n",
        "print(generate_rag_response(user_prompt, max_tokens = 500, k = 5))"
      ]
    },
    {
      "cell_type": "markdown",
      "source": [
        "The responses are all exactly the same -- which could imply that all the context the LLM needed was in one chunk."
      ],
      "metadata": {
        "id": "VHQJl_HN1-wc"
      }
    },
    {
      "cell_type": "markdown",
      "metadata": {
        "id": "KBTqqv8EoxOV"
      },
      "source": [
        "#### Second vector database"
      ]
    },
    {
      "cell_type": "code",
      "execution_count": null,
      "metadata": {
        "id": "wD8xT_oMdLLa",
        "colab": {
          "base_uri": "https://localhost:8080/"
        },
        "outputId": "5db4fd6b-73c5-4864-c544-42a2bbf537e1"
      },
      "outputs": [
        {
          "output_type": "stream",
          "name": "stderr",
          "text": [
            "Llama.generate: prefix-match hit\n"
          ]
        },
        {
          "output_type": "stream",
          "name": "stdout",
          "text": [
            "The protocol for managing sepsis in a critical care unit includes aggressive fluid resuscitation with 0.9% normal saline, administration of broad-spectrum antibiotics based on suspected source and culture results, drainage of abscesses and excision of necrotic tissue, normalization of blood glucose levels, replacement-dose corticosteroids, and close monitoring of various physiologic parameters such as systemic pressure, CVP or PAOP, pulse oximetry, ABGs, blood glucose, lactate, electrolyte levels, renal function, and possibly sublingual PCO2. Prompt empiric therapy is essential and may be lifesaving. Antibiotic selection requires an educated guess based on the suspected source, clinical setting, knowledge or suspicion of causative organisms and sensitivity patterns common to that specific inpatient unit, and previous culture results. Once culture and sensitivity results are available, the antibiotic regimen is changed accordingly. Abscesses must be drained, and necrotic tissues must be surgically excised. Normalization of blood glucose improves outcome in critically ill patients. Corticosteroid therapy seems beneficial for severe sepsis and septic shock if begun early. Activated protein C (drotrecogin alfa) may also be considered for severe sepsis and septic shock if the patient has a significant risk of death as defined by an APACHE II score of > 25.\n"
          ]
        }
      ],
      "source": [
        "#increasing max tokens\n",
        "user_prompt = \"What is the protocol for managing sepsis in a critical care unit?\"\n",
        "print(generate_rag_response2(user_prompt, max_tokens = 500))"
      ]
    },
    {
      "cell_type": "code",
      "execution_count": null,
      "metadata": {
        "id": "9v6PR-zgo6Rb",
        "colab": {
          "base_uri": "https://localhost:8080/"
        },
        "outputId": "5b6f108a-d695-4df9-d3c9-799628e3131b"
      },
      "outputs": [
        {
          "output_type": "stream",
          "name": "stderr",
          "text": [
            "Llama.generate: prefix-match hit\n"
          ]
        },
        {
          "output_type": "stream",
          "name": "stdout",
          "text": [
            "The protocol for managing sepsis in a critical care unit includes aggressive fluid resuscitation with 0.9% normal saline, administration of broad-spectrum antibiotics based on suspected source and culture results, drainage of abscesses and excision of necrotic tissue, normalization of blood glucose levels, replacement-dose corticosteroids, and close monitoring of various physiologic parameters such as systemic pressure, CVP or PAOP, pulse oximetry, ABGs, blood glucose, lactate, electrolyte levels, renal function, and possibly sublingual PCO2. Prompt empiric therapy is essential and may be lifesaving. Antibiotic selection requires an educated guess based on the suspected source, clinical setting, knowledge or suspicion of causative organisms and sensitivity patterns common to that specific inpatient unit, and previous culture results. Once culture and sensitivity results are available, the antibiotic regimen is changed accordingly. Abscesses must be drained, and necrotic tissues must be surgically excised. Normalization of blood glucose improves outcome in critically ill patients. Corticosteroid therapy seems beneficial for severe sepsis and septic shock if begun early. Activated protein C (drotrecogin alfa) may also be considered for severe sepsis and septic shock if the patient has a significant risk of death as defined by an APACHE II score of > 25.\n"
          ]
        }
      ],
      "source": [
        "#increasing max tokens, lower k\n",
        "user_prompt = \"What is the protocol for managing sepsis in a critical care unit?\"\n",
        "print(generate_rag_response2(user_prompt, max_tokens = 500, k = 1))"
      ]
    },
    {
      "cell_type": "code",
      "execution_count": null,
      "metadata": {
        "id": "wxyrHIIAo6Rb",
        "colab": {
          "base_uri": "https://localhost:8080/"
        },
        "outputId": "dac4e8f3-22b3-4d60-80eb-15d1af844c46"
      },
      "outputs": [
        {
          "output_type": "stream",
          "name": "stderr",
          "text": [
            "Llama.generate: prefix-match hit\n"
          ]
        },
        {
          "output_type": "stream",
          "name": "stdout",
          "text": [
            "The protocol for managing sepsis in a critical care unit includes aggressive fluid resuscitation with 0.9% normal saline, administration of broad-spectrum antibiotics based on suspected source and culture results, drainage of abscesses and excision of necrotic tissue, normalization of blood glucose levels, replacement-dose corticosteroids, and close monitoring of various physiologic parameters such as systemic pressure, CVP or PAOP, pulse oximetry, ABGs, blood glucose, lactate, electrolyte levels, renal function, and possibly sublingual PCO2. Prompt empiric therapy is essential and may be lifesaving. Antibiotic selection requires an educated guess based on the suspected source, clinical setting, knowledge or suspicion of causative organisms and sensitivity patterns common to that specific inpatient unit, and previous culture results. Once culture and sensitivity results are available, the antibiotic regimen is changed accordingly. Abscesses must be drained, and necrotic tissues must be surgically excised. Normalization of blood glucose improves outcome in critically ill patients. Corticosteroid therapy seems beneficial for severe sepsis and septic shock if begun early. Activated protein C (drotrecogin alfa) may also be considered for severe sepsis and septic shock if the patient has a significant risk of death as defined by an APACHE II score of > 25.\n"
          ]
        }
      ],
      "source": [
        "#increasing max tokens, higher k\n",
        "user_prompt = \"What is the protocol for managing sepsis in a critical care unit?\"\n",
        "print(generate_rag_response2(user_prompt, max_tokens = 500, k = 5))"
      ]
    },
    {
      "cell_type": "markdown",
      "source": [
        "The three responses using the second vector database are exactly the same, but the LLM's responses using the second vector database with smaller chunks seem to have allowed it to draw more context, because the answers are more detailed -- saline level, physiologic parameters to monitor, etc."
      ],
      "metadata": {
        "id": "HL7vm1Dj3GgK"
      }
    },
    {
      "cell_type": "markdown",
      "metadata": {
        "id": "lVh9jljBfmZa"
      },
      "source": [
        "Query 2: What are the common symptoms for appendicitis, and can it be cured via medicine? If not, what surgical procedure should be followed to treat it?"
      ]
    },
    {
      "cell_type": "code",
      "execution_count": null,
      "metadata": {
        "id": "vTM52koPdWJ4",
        "colab": {
          "base_uri": "https://localhost:8080/"
        },
        "outputId": "4cf9b2ed-297f-4681-8ae4-435fa67ac45b"
      },
      "outputs": [
        {
          "output_type": "stream",
          "name": "stderr",
          "text": [
            "Llama.generate: prefix-match hit\n"
          ]
        },
        {
          "output_type": "stream",
          "name": "stdout",
          "text": [
            "The common symptoms for appendicitis include epigastric or periumbilical pain followed by brief nausea, vomiting, and anorexia. After a few hours, the pain shifts to the right lower quadrant. Pain increases with cough and motion. Classic signs are right lower quadrant direct and rebound tenderness located at McBurney's point. However, these classic findings appear in less than 50% of patients, and many variations of symptoms and signs occur.\n",
            "\n",
            "Appendicitis cannot be cured via medicine alone. The standard treatment for appendicitis is surgical removal of the appendix through an open or laparoscopic appendectomy. If surgery is impossible due to complications such as a large inflammatory mass, antibiotics may be used to improve survival rate but are not curative.\n"
          ]
        }
      ],
      "source": [
        "#increasing max tokens\n",
        "user_prompt = \"What are the common symptoms for appendicitis, and can it be cured via medicine? If not, what surgical procedure should be followed to treat it?\"\n",
        "print(generate_rag_response(user_prompt, max_tokens = 500))"
      ]
    },
    {
      "cell_type": "code",
      "execution_count": null,
      "metadata": {
        "id": "kT3ZyO5ApSlA",
        "colab": {
          "base_uri": "https://localhost:8080/"
        },
        "outputId": "70931feb-3c5d-4eef-a978-5e2c4b52775a"
      },
      "outputs": [
        {
          "output_type": "stream",
          "name": "stderr",
          "text": [
            "Llama.generate: prefix-match hit\n"
          ]
        },
        {
          "output_type": "stream",
          "name": "stdout",
          "text": [
            "The common symptoms for appendicitis include epigastric or periumbilical pain followed by brief nausea, vomiting, and anorexia. After a few hours, the pain shifts to the right lower quadrant. Pain increases with cough and motion. Classic signs are right lower quadrant direct and rebound tenderness located at McBurney's point. However, these classic findings appear in less than 50% of patients, and many variations of symptoms and signs occur.\n",
            "\n",
            "Appendicitis cannot be cured via medicine alone. The standard treatment for appendicitis is surgical removal of the appendix through an open or laparoscopic appendectomy. If surgery is impossible due to complications such as a large inflammatory mass, antibiotics may be used to improve survival rate but are not curative.\n"
          ]
        }
      ],
      "source": [
        "#increasing max tokens, lower k\n",
        "user_prompt = \"What are the common symptoms for appendicitis, and can it be cured via medicine? If not, what surgical procedure should be followed to treat it?\"\n",
        "print(generate_rag_response(user_prompt, max_tokens = 500, k = 1))"
      ]
    },
    {
      "cell_type": "code",
      "execution_count": null,
      "metadata": {
        "id": "lHyGUisQpSlA",
        "colab": {
          "base_uri": "https://localhost:8080/"
        },
        "outputId": "165f9f17-af63-4b70-bf04-f185e0668a24"
      },
      "outputs": [
        {
          "output_type": "stream",
          "name": "stderr",
          "text": [
            "Llama.generate: prefix-match hit\n"
          ]
        },
        {
          "output_type": "stream",
          "name": "stdout",
          "text": [
            "The common symptoms for appendicitis include epigastric or periumbilical pain followed by brief nausea, vomiting, and anorexia. After a few hours, the pain shifts to the right lower quadrant. Pain increases with cough and motion. Classic signs are right lower quadrant direct and rebound tenderness located at McBurney's point. However, these classic findings appear in less than 50% of patients, and many variations of symptoms and signs occur.\n",
            "\n",
            "Appendicitis cannot be cured via medicine alone. The standard treatment for appendicitis is surgical removal of the appendix through an open or laparoscopic appendectomy. If surgery is impossible due to complications such as a large inflammatory mass, antibiotics may be used to improve survival rate but are not curative.\n"
          ]
        }
      ],
      "source": [
        "#increasing max tokens, higher k\n",
        "user_prompt = \"What are the common symptoms for appendicitis, and can it be cured via medicine? If not, what surgical procedure should be followed to treat it?\"\n",
        "print(generate_rag_response(user_prompt, max_tokens = 500, k = 5))"
      ]
    },
    {
      "cell_type": "markdown",
      "source": [
        "The three responses are exactly the same once again."
      ],
      "metadata": {
        "id": "BW8HdTSb3gGV"
      }
    },
    {
      "cell_type": "markdown",
      "metadata": {
        "id": "cqfrJ_S_pZrR"
      },
      "source": [
        "#### Second vector database"
      ]
    },
    {
      "cell_type": "code",
      "execution_count": null,
      "metadata": {
        "id": "yD1UHoJNdoWy",
        "colab": {
          "base_uri": "https://localhost:8080/"
        },
        "outputId": "043d58e7-dcf8-475a-cfc0-efb6ee485733"
      },
      "outputs": [
        {
          "output_type": "stream",
          "name": "stderr",
          "text": [
            "Llama.generate: prefix-match hit\n"
          ]
        },
        {
          "output_type": "stream",
          "name": "stdout",
          "text": [
            "The common symptoms for appendicitis include epigastric or periumbilical pain followed by brief nausea, vomiting, and anorexia, which shifts to the right lower quadrant after a few hours. Pain increases with cough and motion. Classical signs are direct and rebound tenderness located at McBurney's point. However, these symptoms may not appear in over 50% of patients, especially in infants, children, elderly individuals, and pregnant women.\n",
            "\n",
            "Appendicitis cannot be cured via medicine alone; surgery is the only effective treatment. The surgical procedure for treating appendicitis is an appendectomy, which involves removing the inflamed appendix. If a perforation is present, the procedure may include drainage of any abscesses or inflammatory masses. Immediate surgery is necessary to prevent complications and reduce mortality caused by peritonitis.\n"
          ]
        }
      ],
      "source": [
        "#increasing max tokens\n",
        "user_prompt = \"What are the common symptoms for appendicitis, and can it be cured via medicine? If not, what surgical procedure should be followed to treat it?\"\n",
        "print(generate_rag_response2(user_prompt, max_tokens = 500))"
      ]
    },
    {
      "cell_type": "code",
      "execution_count": null,
      "metadata": {
        "id": "G7dIbBfTpZrR",
        "colab": {
          "base_uri": "https://localhost:8080/"
        },
        "outputId": "7123c070-0f34-4d33-8dfc-394cb3016101"
      },
      "outputs": [
        {
          "output_type": "stream",
          "name": "stderr",
          "text": [
            "Llama.generate: prefix-match hit\n"
          ]
        },
        {
          "output_type": "stream",
          "name": "stdout",
          "text": [
            "The common symptoms for appendicitis include epigastric or periumbilical pain followed by brief nausea, vomiting, and anorexia, which shifts to the right lower quadrant after a few hours. Pain increases with cough and motion. Classical signs are direct and rebound tenderness located at McBurney's point. However, these symptoms may not appear in over 50% of patients, especially in infants, children, elderly individuals, and pregnant women.\n",
            "\n",
            "Appendicitis cannot be cured via medicine alone; surgery is the only effective treatment. The surgical procedure for treating appendicitis is an appendectomy, which involves removing the inflamed appendix. If a perforation is present, the procedure may include drainage of any abscesses or inflammatory masses. Immediate surgery is necessary to prevent complications and reduce mortality caused by peritonitis.\n"
          ]
        }
      ],
      "source": [
        "#increasing max tokens, lower k\n",
        "user_prompt = \"What are the common symptoms for appendicitis, and can it be cured via medicine? If not, what surgical procedure should be followed to treat it?\"\n",
        "print(generate_rag_response2(user_prompt, max_tokens = 500, k = 1))"
      ]
    },
    {
      "cell_type": "code",
      "execution_count": null,
      "metadata": {
        "id": "M6fBdsLSpZrR",
        "colab": {
          "base_uri": "https://localhost:8080/"
        },
        "outputId": "d314445c-695f-4abd-93a3-1b42bc101061"
      },
      "outputs": [
        {
          "output_type": "stream",
          "name": "stderr",
          "text": [
            "Llama.generate: prefix-match hit\n"
          ]
        },
        {
          "output_type": "stream",
          "name": "stdout",
          "text": [
            "The common symptoms for appendicitis include epigastric or periumbilical pain followed by brief nausea, vomiting, and anorexia, which shifts to the right lower quadrant after a few hours. Pain increases with cough and motion. Classical signs are direct and rebound tenderness located at McBurney's point. However, these symptoms may not appear in over 50% of patients, especially in infants, children, elderly individuals, and pregnant women.\n",
            "\n",
            "Appendicitis cannot be cured via medicine alone; surgery is the only effective treatment. The surgical procedure for treating appendicitis is an appendectomy, which involves removing the inflamed appendix. If a perforation is present, the procedure may include drainage of any abscesses or inflammatory masses. Immediate surgery is necessary to prevent complications and reduce mortality caused by peritonitis.\n"
          ]
        }
      ],
      "source": [
        "#increasing max tokens, higher k\n",
        "user_prompt = \"What are the common symptoms for appendicitis, and can it be cured via medicine? If not, what surgical procedure should be followed to treat it?\"\n",
        "print(generate_rag_response2(user_prompt, max_tokens = 500, k = 5))"
      ]
    },
    {
      "cell_type": "markdown",
      "source": [
        "The three responses are exactly the same again. The second vector database yielded more detailed responses again."
      ],
      "metadata": {
        "id": "W-wWWt2o3n7L"
      }
    },
    {
      "cell_type": "markdown",
      "metadata": {
        "id": "K-wRmZHLfmMd"
      },
      "source": [
        "Query 3: What are the effective treatments or solutions for addressing sudden patchy hair loss, commonly seen as localized bald spots on the scalp, and what could be the possible causes behind it?"
      ]
    },
    {
      "cell_type": "code",
      "execution_count": null,
      "metadata": {
        "id": "2tSEtvJAps2Z",
        "colab": {
          "base_uri": "https://localhost:8080/"
        },
        "outputId": "f4568256-2aa6-41a5-b031-731d2ae457aa"
      },
      "outputs": [
        {
          "output_type": "stream",
          "name": "stderr",
          "text": [
            "Llama.generate: prefix-match hit\n"
          ]
        },
        {
          "output_type": "stream",
          "name": "stdout",
          "text": [
            "The effective treatments for addressing sudden patchy hair loss, also known as alopecia areata, include topical or intralesional corticosteroids, topical anthralin, minoxidil, topical immunotherapy (diphencyprone or squaric acid dibutylester), or psoralen plus ultraviolet A (PUVA). Corticosteroids can be injected intradermally for small lesions or used as potent topical applications. Oral corticosteroids are also effective but have adverse effects and hair loss recurs after cessation of therapy. Topical anthralin and/or minoxidil may be used in combination with corticosteroids. Induction of allergic contact dermatitis using diphencyprone or squaric acid dibutylester leads to hair growth due to unknown mechanisms but is best reserved for patients with diffuse involvement who have not responded to other therapies. The possible causes behind sudden patchy hair loss include autoimmune disorders, stress, and certain medications. It's important to note that alopecia areata may spontaneously regress, become chronic, or spread diffusely. Risk factors for chronicity include extensive involvement, onset before adolescence, atopy, and involvement of the peripheral scalp (ophiasis).\n"
          ]
        }
      ],
      "source": [
        "#increasing max tokens\n",
        "user_prompt = \"What are the effective treatments or solutions for addressing sudden patchy hair loss, commonly seen as localized bald spots on the scalp, and what could be the possible causes behind it?\"\n",
        "print(generate_rag_response(user_prompt, max_tokens = 500))"
      ]
    },
    {
      "cell_type": "code",
      "execution_count": null,
      "metadata": {
        "id": "d2I4P8Amps2a",
        "colab": {
          "base_uri": "https://localhost:8080/"
        },
        "outputId": "55511296-af91-4097-a4db-8306131c0f3e"
      },
      "outputs": [
        {
          "output_type": "stream",
          "name": "stderr",
          "text": [
            "Llama.generate: prefix-match hit\n"
          ]
        },
        {
          "output_type": "stream",
          "name": "stdout",
          "text": [
            "The effective treatments for addressing sudden patchy hair loss, also known as alopecia areata, include topical or intralesional corticosteroids, topical anthralin, minoxidil, topical immunotherapy (diphencyprone or squaric acid dibutylester), or psoralen plus ultraviolet A (PUVA). Corticosteroids can be injected intradermally for small lesions or used as potent topical applications. Oral corticosteroids are also effective but have adverse effects and hair loss recurs after cessation of therapy. Topical anthralin and/or minoxidil may be used in combination with corticosteroids. Induction of allergic contact dermatitis using diphencyprone or squaric acid dibutylester leads to hair growth due to unknown mechanisms but is best reserved for patients with diffuse involvement who have not responded to other therapies. The possible causes behind sudden patchy hair loss include autoimmune disorders, stress, and certain medications. It's important to note that alopecia areata may spontaneously regress, become chronic, or spread diffusely. Risk factors for chronicity include extensive involvement, onset before adolescence, atopy, and involvement of the peripheral scalp (ophiasis).\n"
          ]
        }
      ],
      "source": [
        "#increasing max tokens, lower k\n",
        "user_prompt = \"What are the effective treatments or solutions for addressing sudden patchy hair loss, commonly seen as localized bald spots on the scalp, and what could be the possible causes behind it?\"\n",
        "print(generate_rag_response(user_prompt, max_tokens = 500, k = 1))"
      ]
    },
    {
      "cell_type": "code",
      "execution_count": null,
      "metadata": {
        "id": "fBB3QNwxps2a",
        "colab": {
          "base_uri": "https://localhost:8080/"
        },
        "outputId": "5d9ed894-35b1-4ce0-e2dc-7300fb05becf"
      },
      "outputs": [
        {
          "output_type": "stream",
          "name": "stderr",
          "text": [
            "Llama.generate: prefix-match hit\n"
          ]
        },
        {
          "output_type": "stream",
          "name": "stdout",
          "text": [
            "The effective treatments for addressing sudden patchy hair loss, also known as alopecia areata, include topical or intralesional corticosteroids, topical anthralin, minoxidil, topical immunotherapy (diphencyprone or squaric acid dibutylester), or psoralen plus ultraviolet A (PUVA). Corticosteroids can be injected intradermally for small lesions or used as potent topical applications. Oral corticosteroids are also effective but have adverse effects and hair loss recurs after cessation of therapy. Topical anthralin and/or minoxidil may be used in combination with corticosteroids. Induction of allergic contact dermatitis using diphencyprone or squaric acid dibutylester leads to hair growth due to unknown mechanisms but is best reserved for patients with diffuse involvement who have not responded to other therapies. The possible causes behind sudden patchy hair loss include autoimmune disorders, stress, and certain medications. It's important to note that alopecia areata may spontaneously regress, become chronic, or spread diffusely. Risk factors for chronicity include extensive involvement, onset before adolescence, atopy, and involvement of the peripheral scalp (ophiasis).\n"
          ]
        }
      ],
      "source": [
        "#increasing max tokens, higher k\n",
        "user_prompt = \"What are the effective treatments or solutions for addressing sudden patchy hair loss, commonly seen as localized bald spots on the scalp, and what could be the possible causes behind it?\"\n",
        "print(generate_rag_response(user_prompt, max_tokens = 500, k = 5))"
      ]
    },
    {
      "cell_type": "markdown",
      "source": [
        "All three responses are identical."
      ],
      "metadata": {
        "id": "XDdRfcQm7HyZ"
      }
    },
    {
      "cell_type": "markdown",
      "metadata": {
        "id": "kq26kimsps2a"
      },
      "source": [
        "#### Second vector database"
      ]
    },
    {
      "cell_type": "code",
      "execution_count": null,
      "metadata": {
        "id": "Aa2lWXI5ps2a",
        "colab": {
          "base_uri": "https://localhost:8080/"
        },
        "outputId": "d187c6ff-a83b-4574-e209-54397f78bdf7"
      },
      "outputs": [
        {
          "output_type": "stream",
          "name": "stderr",
          "text": [
            "Llama.generate: prefix-match hit\n"
          ]
        },
        {
          "output_type": "stream",
          "name": "stdout",
          "text": [
            "Sudden patchy hair loss, also known as alopecia areata, can be treated with various methods. Some effective treatments include:\n",
            "\n",
            "1. Topical corticosteroids: These medications can help reduce inflammation and stimulate hair regrowth. They can be applied directly to the affected area in the form of creams or ointments.\n",
            "2. Intralesional corticosteroid injections: This treatment involves injecting corticosteroids directly into the affected area using a small needle. It is more effective than topical treatments but may cause more side effects.\n",
            "3. Topical minoxidil: Minoxidil is a medication that can help prolong the anagen growth phase and stimulate hair regrowth. It is applied topically to the affected area twice daily.\n",
            "4. Immunotherapy: This treatment involves using agents such as diphencyprone or squaric acid dibutylester to stimulate an immune response, which can help promote hair regrowth.\n",
            "5. Psoralen plus ultraviolet A (PUVA): This treatment involves using a combination of psoralen, a photosensitizing agent, and ultraviolet A light to promote hair regrowth. It is typically used in severe cases of alopecia areata.\n",
            "\n",
            "The possible causes behind sudden patchy hair loss include autoimmune disorders, genetics, stress, or environmental triggers. In some cases, the underlying cause may not be identified. It is important to consult a healthcare professional for an accurate diagnosis and treatment plan.\n"
          ]
        }
      ],
      "source": [
        "#increasing max tokens\n",
        "user_prompt = \"What are the effective treatments or solutions for addressing sudden patchy hair loss, commonly seen as localized bald spots on the scalp, and what could be the possible causes behind it?\"\n",
        "print(generate_rag_response2(user_prompt, max_tokens = 500))"
      ]
    },
    {
      "cell_type": "code",
      "execution_count": null,
      "metadata": {
        "id": "zK098OqTps2a",
        "colab": {
          "base_uri": "https://localhost:8080/"
        },
        "outputId": "e418296f-9c13-4806-aa45-85d15591f099"
      },
      "outputs": [
        {
          "output_type": "stream",
          "name": "stderr",
          "text": [
            "Llama.generate: prefix-match hit\n"
          ]
        },
        {
          "output_type": "stream",
          "name": "stdout",
          "text": [
            "Sudden patchy hair loss, also known as alopecia areata, can be treated with various methods. Some effective treatments include:\n",
            "\n",
            "1. Topical corticosteroids: These medications can help reduce inflammation and stimulate hair regrowth. They can be applied directly to the affected area in the form of creams, lotions, or solutions.\n",
            "2. Intralesional corticosteroid injections: This treatment involves injecting corticosteroids directly into the affected area using a small needle. It is more effective than topical applications and can help promote hair regrowth faster.\n",
            "3. Topical minoxidil: Minoxidil is a medication that can stimulate hair growth by prolonging the anagen phase of the hair growth cycle. It is available in various forms, including solutions and foams, and can be applied directly to the affected area.\n",
            "4. Systemic corticosteroids: In severe cases of alopecia areata, systemic corticosteroids may be prescribed to help reduce inflammation and promote hair regrowth. However, this treatment carries a higher risk of side effects than topical or intralesional treatments.\n",
            "5. Immunotherapy: This involves the use of contact sensitizers such as diphencyprone or squaric acid dibutylester to stimulate an immune response and promote hair regrowth. It is typically used in severe cases that do not respond to other treatments.\n",
            "\n",
            "The possible causes behind sudden patchy hair loss include autoimmune disorders, stress, genetics, and certain medications or infections. An evaluation by a healthcare professional can help determine the underlying cause and guide treatment options.\n"
          ]
        }
      ],
      "source": [
        "#increasing max tokens, lower k\n",
        "user_prompt = \"What are the effective treatments or solutions for addressing sudden patchy hair loss, commonly seen as localized bald spots on the scalp, and what could be the possible causes behind it?\"\n",
        "print(generate_rag_response2(user_prompt, max_tokens = 500, k = 1))"
      ]
    },
    {
      "cell_type": "code",
      "execution_count": null,
      "metadata": {
        "id": "-e-G1A_Wps2a",
        "colab": {
          "base_uri": "https://localhost:8080/"
        },
        "outputId": "56b7f7c6-4bed-4168-de38-a9cb83aa62c0"
      },
      "outputs": [
        {
          "output_type": "stream",
          "name": "stderr",
          "text": [
            "Llama.generate: prefix-match hit\n"
          ]
        },
        {
          "output_type": "stream",
          "name": "stdout",
          "text": [
            "Sudden patchy hair loss, also known as alopecia areata, can be treated with various methods. Some effective treatments include:\n",
            "\n",
            "1. Topical corticosteroids: These medications can help reduce inflammation and stimulate hair regrowth. They can be applied directly to the affected area in the form of creams, lotions, or solutions.\n",
            "2. Intralesional corticosteroid injections: This treatment involves injecting corticosteroids directly into the affected area using a small needle. It is more effective than topical applications and can help promote hair regrowth faster.\n",
            "3. Topical minoxidil: Minoxidil is a medication that can stimulate hair growth by prolonging the anagen phase of the hair growth cycle. It is available in various forms, including solutions and foams, and can be applied directly to the affected area.\n",
            "4. Systemic corticosteroids: In severe cases of alopecia areata, systemic corticosteroids may be prescribed to help reduce inflammation and promote hair regrowth. However, this treatment carries a higher risk of side effects than topical or intralesional treatments.\n",
            "5. Immunotherapy: This involves the use of contact sensitizers such as diphencyprone or squaric acid dibutylester to stimulate an immune response and promote hair regrowth. It is typically used in severe cases that do not respond to other treatments.\n",
            "\n",
            "The possible causes behind sudden patchy hair loss include autoimmune disorders, stress, genetics, and certain medications or infections. An evaluation by a healthcare professional can help determine the underlying cause and guide treatment options.\n"
          ]
        }
      ],
      "source": [
        "#increasing max tokens, higher k\n",
        "user_prompt = \"What are the effective treatments or solutions for addressing sudden patchy hair loss, commonly seen as localized bald spots on the scalp, and what could be the possible causes behind it?\"\n",
        "print(generate_rag_response2(user_prompt, max_tokens = 500, k = 5))"
      ]
    },
    {
      "cell_type": "markdown",
      "source": [
        "The second and third responses are the same, but all three responses are structured similarly with a numbers list, comapred to the responses using the first vector database -- which makes them easier to follow."
      ],
      "metadata": {
        "id": "n5Xrtyjs7df3"
      }
    },
    {
      "cell_type": "markdown",
      "metadata": {
        "id": "Yqf9sug7flXv"
      },
      "source": [
        "Query 4: What treatments are recommended for a person who has sustained a physical injury to brain tissue, resulting in temporary or permanent impairment of brain function?"
      ]
    },
    {
      "cell_type": "code",
      "execution_count": null,
      "metadata": {
        "id": "qbBcTDDhqCrQ",
        "colab": {
          "base_uri": "https://localhost:8080/"
        },
        "outputId": "2df78317-18b4-455f-98a8-9e337f1090a0"
      },
      "outputs": [
        {
          "output_type": "stream",
          "name": "stderr",
          "text": [
            "Llama.generate: prefix-match hit\n"
          ]
        },
        {
          "output_type": "stream",
          "name": "stdout",
          "text": [
            "The context suggests that the initial treatment for a person with traumatic brain injury (TBI) includes ensuring a reliable airway and maintaining adequate ventilation, oxygenation, and blood pressure. Surgery may be needed for patients with more severe injuries to place monitors or decompress the brain. In the first few days after the injury, maintaining adequate brain perfusion and oxygenation and preventing complications are important. Subsequently, many patients require rehabilitation. Supportive care should include preventing systemic complications, providing good nutrition, preventing pressure ulcers, and providing physical therapy to prevent limb contractures. Seizures should be treated promptly with anticonvulsants if necessary. There is no specific treatment for TBI, but various neuroprotective agents are being studied. Corticosteroids are not recommended as they were associated with a worse outcome in a recent study. Therapeutic systemic hypothermia has not proved helpful.\n"
          ]
        }
      ],
      "source": [
        "#increasing max tokens\n",
        "user_prompt = \"What treatments are recommended for a person who has sustained a physical injury to brain tissue, resulting in temporary or permanent impairment of brain function?\"\n",
        "print(generate_rag_response(user_prompt, max_tokens = 500))"
      ]
    },
    {
      "cell_type": "code",
      "execution_count": null,
      "metadata": {
        "id": "Gs69EAIeqCrQ",
        "colab": {
          "base_uri": "https://localhost:8080/"
        },
        "outputId": "917f8662-2b1e-4be0-8762-4d6ba198f903"
      },
      "outputs": [
        {
          "output_type": "stream",
          "name": "stderr",
          "text": [
            "Llama.generate: prefix-match hit\n"
          ]
        },
        {
          "output_type": "stream",
          "name": "stdout",
          "text": [
            "The context suggests that the initial treatment for a person with traumatic brain injury (TBI) includes ensuring a reliable airway and maintaining adequate ventilation, oxygenation, and blood pressure. Surgery may be needed for patients with more severe injuries to place monitors or decompress the brain. In the first few days after the injury, maintaining adequate brain perfusion and oxygenation and preventing complications are important. Subsequently, many patients require rehabilitation. Supportive care should include preventing systemic complications, providing good nutrition, preventing pressure ulcers, and providing physical therapy to prevent limb contractures. Seizures should be treated promptly with anticonvulsants if necessary. There is no specific treatment for TBI, but various neuroprotective agents are being studied. Corticosteroids are not recommended as they were associated with a worse outcome in a recent study. Therapeutic systemic hypothermia has not proved helpful.\n"
          ]
        }
      ],
      "source": [
        "#increasing max tokens, lower k\n",
        "user_prompt = \"What treatments are recommended for a person who has sustained a physical injury to brain tissue, resulting in temporary or permanent impairment of brain function?\"\n",
        "print(generate_rag_response(user_prompt, max_tokens = 500, k = 1))"
      ]
    },
    {
      "cell_type": "code",
      "execution_count": null,
      "metadata": {
        "id": "ANsuHbz2qCrQ",
        "colab": {
          "base_uri": "https://localhost:8080/"
        },
        "outputId": "1ba25772-913c-48c2-fc41-fb6a73b17840"
      },
      "outputs": [
        {
          "output_type": "stream",
          "name": "stderr",
          "text": [
            "Llama.generate: prefix-match hit\n"
          ]
        },
        {
          "output_type": "stream",
          "name": "stdout",
          "text": [
            "The context suggests that the initial treatment for a person with traumatic brain injury (TBI) includes ensuring a reliable airway and maintaining adequate ventilation, oxygenation, and blood pressure. Surgery may be needed for patients with more severe injuries to place monitors or decompress the brain. In the first few days after the injury, maintaining adequate brain perfusion and oxygenation and preventing complications are important. Subsequently, many patients require rehabilitation. Supportive care should include preventing systemic complications, providing good nutrition, preventing pressure ulcers, and providing physical therapy to prevent limb contractures. Seizures should be treated promptly with anticonvulsants if necessary. There is no specific treatment for TBI, but various neuroprotective agents are being studied. Corticosteroids are not recommended as they were associated with a worse outcome in a recent study. Therapeutic systemic hypothermia has not proved helpful.\n"
          ]
        }
      ],
      "source": [
        "#increasing max tokens, higher k\n",
        "user_prompt = \"What treatments are recommended for a person who has sustained a physical injury to brain tissue, resulting in temporary or permanent impairment of brain function?\"\n",
        "print(generate_rag_response(user_prompt, max_tokens = 500, k = 5))"
      ]
    },
    {
      "cell_type": "markdown",
      "source": [
        "The three responses are the same, and the LLM mentioned the context despite instructions asking it not to. In the earlier set of questioning, it began mentioning the context at query 4 as well."
      ],
      "metadata": {
        "id": "c8H2Etlr8VDh"
      }
    },
    {
      "cell_type": "markdown",
      "metadata": {
        "id": "Ui5AmSEOqCrQ"
      },
      "source": [
        "#### Second vector database"
      ]
    },
    {
      "cell_type": "code",
      "execution_count": null,
      "metadata": {
        "id": "pBCENmb8qCrQ",
        "colab": {
          "base_uri": "https://localhost:8080/"
        },
        "outputId": "9dde40e9-d010-40d2-dab1-984969132f2f"
      },
      "outputs": [
        {
          "output_type": "stream",
          "name": "stderr",
          "text": [
            "Llama.generate: prefix-match hit\n"
          ]
        },
        {
          "output_type": "stream",
          "name": "stdout",
          "text": [
            "The context suggests that initial treatment for a person with a traumatic brain injury (TBI) includes ensuring a reliable airway and maintaining adequate ventilation, oxygenation, and blood pressure. Surgery may be needed to place monitors to track and treat intracranial pressure, decompress the brain if intracranial pressure is increased, or remove intracranial hematomas. In the first few days after the injury, maintaining adequate brain perfusion and oxygenation and preventing complications are important. Subsequently, many patients require rehabilitation. For mild injuries, discharge and observation are recommended. For moderate and severe injuries, optimization of ventilation, oxygenation, and brain perfusion; treatment of complications such as increased intracranial pressure (ICP), seizures, and hematomas; and rehabilitation are necessary. Patients with severe cognitive dysfunction require extensive cognitive therapy, which is often begun immediately after injury and continued for months or years. In the hospital, patients should be evaluated by specialists to establish baseline findings and reevaluated before starting rehabilitation therapy. Patients with intractable increased ICP may be considered for pentobarbital coma, but corticosteroids are not recommended. Seizures should be treated promptly to prevent worsening of brain damage and increasing intracranial pressure.\n"
          ]
        }
      ],
      "source": [
        "#increasing max tokens\n",
        "user_prompt = \"What treatments are recommended for a person who has sustained a physical injury to brain tissue, resulting in temporary or permanent impairment of brain function?\"\n",
        "print(generate_rag_response2(user_prompt, max_tokens = 500))"
      ]
    },
    {
      "cell_type": "code",
      "execution_count": null,
      "metadata": {
        "id": "mXWz58X1qCrQ",
        "colab": {
          "base_uri": "https://localhost:8080/"
        },
        "outputId": "9d8df92d-5bc3-4c47-eb82-5c374ecaa140"
      },
      "outputs": [
        {
          "output_type": "stream",
          "name": "stderr",
          "text": [
            "Llama.generate: prefix-match hit\n"
          ]
        },
        {
          "output_type": "stream",
          "name": "stdout",
          "text": [
            "The context suggests that initial treatment for a person with a traumatic brain injury (TBI) includes ensuring a reliable airway and maintaining adequate ventilation, oxygenation, and blood pressure. Surgery may be needed to place monitors to track and treat intracranial pressure, decompress the brain if intracranial pressure is increased, or remove intracranial hematomas. In the first few days after the injury, maintaining adequate brain perfusion and oxygenation and preventing complications are important. Subsequently, many patients require rehabilitation. For mild injuries, discharge and observation are recommended. For moderate and severe injuries, optimization of ventilation, oxygenation, and brain perfusion; treatment of complications such as increased intracranial pressure (ICP), seizures, and hematomas; and rehabilitation are necessary. Patients with severe cognitive dysfunction require extensive cognitive therapy, which is often begun immediately after injury and continued for months or years. In the hospital, patients should be evaluated by specialists to establish baseline findings and reevaluated before starting rehabilitation therapy. Patients with intractable increased ICP may be considered for pentobarbital coma, but corticosteroids are not recommended. Seizures should be treated promptly to prevent worsening of brain damage and increasing intracranial pressure.\n"
          ]
        }
      ],
      "source": [
        "#increasing max tokens, lower k\n",
        "user_prompt = \"What treatments are recommended for a person who has sustained a physical injury to brain tissue, resulting in temporary or permanent impairment of brain function?\"\n",
        "print(generate_rag_response2(user_prompt, max_tokens = 500, k = 1))"
      ]
    },
    {
      "cell_type": "code",
      "execution_count": null,
      "metadata": {
        "id": "sCVs9apqqCrR",
        "colab": {
          "base_uri": "https://localhost:8080/"
        },
        "outputId": "8765e805-48a7-431e-eaac-10e66e847e1d"
      },
      "outputs": [
        {
          "output_type": "stream",
          "name": "stderr",
          "text": [
            "Llama.generate: prefix-match hit\n"
          ]
        },
        {
          "output_type": "stream",
          "name": "stdout",
          "text": [
            "The context suggests that initial treatment for a person with a traumatic brain injury (TBI) includes ensuring a reliable airway and maintaining adequate ventilation, oxygenation, and blood pressure. Surgery may be needed to place monitors to track and treat intracranial pressure, decompress the brain if intracranial pressure is increased, or remove intracranial hematomas. In the first few days after the injury, maintaining adequate brain perfusion and oxygenation and preventing complications are important. Subsequently, many patients require rehabilitation. For mild injuries, discharge and observation are recommended. For moderate and severe injuries, optimization of ventilation, oxygenation, and brain perfusion; treatment of complications such as increased intracranial pressure (ICP), seizures, and hematomas; and rehabilitation are necessary. Patients with severe cognitive dysfunction require extensive cognitive therapy, which is often begun immediately after injury and continued for months or years. In the hospital, patients should be evaluated by specialists to establish baseline findings and reevaluated before starting rehabilitation therapy. Patients with intractable increased ICP may be considered for pentobarbital coma, but corticosteroids are not recommended. Seizures should be treated promptly to prevent worsening of brain damage and increasing intracranial pressure.\n"
          ]
        }
      ],
      "source": [
        "#increasing max tokens, higher k\n",
        "user_prompt = \"What treatments are recommended for a person who has sustained a physical injury to brain tissue, resulting in temporary or permanent impairment of brain function?\"\n",
        "print(generate_rag_response2(user_prompt, max_tokens = 500, k = 5))"
      ]
    },
    {
      "cell_type": "markdown",
      "source": [
        "These responses are all the same, and as before, they are more detailed than the responses using the first vector database."
      ],
      "metadata": {
        "id": "9PfyuuCqAjoq"
      }
    },
    {
      "cell_type": "markdown",
      "metadata": {
        "id": "FbF5bB7cfZaW"
      },
      "source": [
        "Query 5: What are the necessary precautions and treatment steps for a person who has fractured their leg during a hiking trip, and what should be considered for their care and recovery?"
      ]
    },
    {
      "cell_type": "code",
      "execution_count": null,
      "metadata": {
        "id": "O7ZB2bj1qatK",
        "colab": {
          "base_uri": "https://localhost:8080/"
        },
        "outputId": "80ecc735-98de-4ae9-8e1f-a8bfe1992265"
      },
      "outputs": [
        {
          "output_type": "stream",
          "name": "stderr",
          "text": [
            "Llama.generate: prefix-match hit\n"
          ]
        },
        {
          "output_type": "stream",
          "name": "stdout",
          "text": [
            "The context provides information on the symptoms, diagnosis, and treatment of fractures. The person with a fractured leg should first seek medical attention. In the meantime, they can apply analgesics to manage pain. Once in the hospital, they will receive immobilization through the use of a cast or splint to prevent further injury and facilitate healing. It is important for them to keep the cast dry, inspect the edges and skin around it daily, and pad any rough edges with soft material to prevent discomfort. They should also elevate the injured limb above heart level for the first 48 hours to minimize swelling. If severe swelling is likely, the cast may be cut open from end to end medially and laterally (bivalved) to prevent compartment syndrome. The person should be advised to seek medical care immediately if they notice an odor coming from within the cast or develop a fever, which could indicate infection. For recovery, it's essential to maintain good hygiene and follow any instructions provided by their healthcare professional.\n"
          ]
        }
      ],
      "source": [
        "#increasing max tokens\n",
        "user_prompt = \"What are the necessary precautions and treatment steps for a person who has fractured their leg during a hiking trip, and what should be considered for their care and recovery?\"\n",
        "print(generate_rag_response(user_prompt, max_tokens = 500))"
      ]
    },
    {
      "cell_type": "code",
      "execution_count": null,
      "metadata": {
        "id": "ucHuItqMqatK",
        "colab": {
          "base_uri": "https://localhost:8080/"
        },
        "outputId": "8a71875d-cb2f-4a8e-dbd2-9d0b550437bf"
      },
      "outputs": [
        {
          "output_type": "stream",
          "name": "stderr",
          "text": [
            "Llama.generate: prefix-match hit\n"
          ]
        },
        {
          "output_type": "stream",
          "name": "stdout",
          "text": [
            "The context provides information on the symptoms, diagnosis, and treatment of fractures. The person with a fractured leg should first seek medical attention. In the meantime, they can apply analgesics to manage pain. Once in the hospital, they will receive immobilization through the use of a cast or splint to prevent further injury and facilitate healing. It is important for them to keep the cast dry, inspect the skin around it daily, and pad any rough edges to prevent discomfort. They should also elevate the injured limb above heart level for the first 48 hours to minimize swelling. If severe swelling is likely, the cast may be cut open from end to end medially and laterally (bivalved) to relieve pressure. After the fracture has healed, they will need to have the cast removed and undergo rehabilitation to regain full function of the leg. It is also mentioned that prolonged immobilization can lead to complications such as stiffness, contractures, and muscle atrophy, so early mobilization may be beneficial for some injuries.\n"
          ]
        }
      ],
      "source": [
        "#increasing max tokens, lower k\n",
        "user_prompt = \"What are the necessary precautions and treatment steps for a person who has fractured their leg during a hiking trip, and what should be considered for their care and recovery?\"\n",
        "print(generate_rag_response(user_prompt, max_tokens = 500, k = 1))"
      ]
    },
    {
      "cell_type": "code",
      "execution_count": null,
      "metadata": {
        "id": "QQ98J3GkqatK",
        "colab": {
          "base_uri": "https://localhost:8080/"
        },
        "outputId": "ceab6868-b95d-4e81-8af6-6830d53b3ab7"
      },
      "outputs": [
        {
          "output_type": "stream",
          "name": "stderr",
          "text": [
            "Llama.generate: prefix-match hit\n"
          ]
        },
        {
          "output_type": "stream",
          "name": "stdout",
          "text": [
            "The context provides information on the symptoms, diagnosis, and treatment of fractures. The person with a fractured leg should first seek medical attention. In the meantime, they can apply analgesics to manage pain. Once in the hospital, they will receive immobilization through the use of a cast or splint to prevent further injury and facilitate healing. It is important for them to keep the cast dry, inspect the skin around it daily, and pad any rough edges to prevent discomfort. They should also elevate the injured limb above heart level for the first 48 hours to minimize swelling. If severe swelling is likely, the cast may be cut open from end to end medially and laterally (bivalved) to relieve pressure. After the fracture has healed, they will need to have the cast removed and undergo rehabilitation to regain full function of the leg. It is also mentioned that prolonged immobilization can lead to complications such as stiffness, contractures, and muscle atrophy, so early mobilization may be beneficial for some injuries.\n"
          ]
        }
      ],
      "source": [
        "#increasing max tokens, higher k\n",
        "user_prompt = \"What are the necessary precautions and treatment steps for a person who has fractured their leg during a hiking trip, and what should be considered for their care and recovery?\"\n",
        "print(generate_rag_response(user_prompt, max_tokens = 500, k = 5))"
      ]
    },
    {
      "cell_type": "markdown",
      "source": [
        "The second two responses are the same. The first mentions the importance of monitoring the smell of the cast or if the patient develops a fever, which could indicate infection."
      ],
      "metadata": {
        "id": "lBxFf5RcBlRd"
      }
    },
    {
      "cell_type": "markdown",
      "metadata": {
        "id": "aqO-Xlo8qatK"
      },
      "source": [
        "#### Second vector database"
      ]
    },
    {
      "cell_type": "code",
      "execution_count": null,
      "metadata": {
        "id": "gCM-Q0S9qatK",
        "colab": {
          "base_uri": "https://localhost:8080/"
        },
        "outputId": "70095e89-0bd1-4474-fe72-49896acb1c4e"
      },
      "outputs": [
        {
          "output_type": "stream",
          "name": "stderr",
          "text": [
            "Llama.generate: prefix-match hit\n"
          ]
        },
        {
          "output_type": "stream",
          "name": "stdout",
          "text": [
            "The context provides information on the RICE method for soft-tissue injuries and immobilization for fractures. For a person who has fractured their leg during a hiking trip, the following steps should be taken:\n",
            "\n",
            "1. Rest: The person should avoid putting weight on the injured leg to prevent further injury and allow healing to begin.\n",
            "2. Ice: Apply ice intermittently for 15 to 20 minutes as often as possible within the first 24 to 48 hours to minimize swelling and pain. Use a plastic bag or towel to enclose the ice.\n",
            "3. Compression: Wrap the injured leg with an elastic bandage, splint, or Jones dressing to help reduce swelling and provide support.\n",
            "4. Elevation: Keep the injured leg elevated above heart level for the first 2 days to minimize swelling and promote drainage of edema fluid.\n",
            "5. Immobilization: Depending on the severity of the fracture, immobilization may be necessary using a cast or surgical hardware such as pins, screws, plates, or external fixators. Joints proximal and distal to the injury should also be immobilized.\n",
            "6. Pain relief: Analgesics, including opioids, can be used to manage pain during rewarming and thawing of frozen tissue.\n",
            "7. Prevention of complications: To prevent deep vein thrombosis (DVT), patients should move their legs periodically or use compression devices or stockings. Patients at higher risk of DVT require additional preventive treatment.\n",
            "8. Wound care: Keep the wound clean and dry, apply nonadherent and impermeable dressings, and inspect it regularly for signs of infection.\n",
            "9. Aftercare: Seek medical care if an odor emanates from within the cast or if a fever develops. Maintain good hygiene and follow any additional instructions provided by healthcare professionals.\n",
            "10. Rehabilitation: Once the fracture has healed, begin rehabilitation exercises to regain strength, flexibility, and mobility in the affected leg. This may include physical therapy, crutches, or other assistive devices.\n"
          ]
        }
      ],
      "source": [
        "#increasing max tokens\n",
        "user_prompt = \"What are the necessary precautions and treatment steps for a person who has fractured their leg during a hiking trip, and what should be considered for their care and recovery?\"\n",
        "print(generate_rag_response2(user_prompt, max_tokens = 500))"
      ]
    },
    {
      "cell_type": "code",
      "execution_count": null,
      "metadata": {
        "id": "S1nHeeybqatL",
        "colab": {
          "base_uri": "https://localhost:8080/"
        },
        "outputId": "ff52ca4d-6ca4-4704-d1e0-16abb3366e86"
      },
      "outputs": [
        {
          "output_type": "stream",
          "name": "stderr",
          "text": [
            "Llama.generate: prefix-match hit\n"
          ]
        },
        {
          "output_type": "stream",
          "name": "stdout",
          "text": [
            "The context provides information on the RICE method (rest, ice, compression, elevation) for soft-tissue injuries, immobilization to prevent further injury and facilitate healing, and the importance of preventing deep venous thrombosis through movement and medical treatment. For a person who has fractured their leg during a hiking trip, the following steps should be taken:\n",
            "\n",
            "1. Rest the injured leg to prevent further damage and speed up healing.\n",
            "2. Apply ice intermittently for 15-20 minutes as often as possible within the first 24-48 hours to minimize swelling and pain. Use a splint, elastic bandage, or Jones dressing for compression.\n",
            "3. Elevate the injured leg above heart level for the first two days to help drain edema fluid and minimize swelling. After 48 hours, apply warmth (e.g., heating pad) for 15-20 minutes to relieve pain and speed up healing.\n",
            "4. Immobilize the joints proximal and distal to the injury using a cane or crutches to prevent further injury and facilitate healing.\n",
            "5. Prevent deep venous thrombosis by moving the affected part, elevating the legs, and avoiding sitting in chairs. Consider additional preventive treatments like low-dose UFH, LMWH, warfarin, compression devices or stockings, or a combination depending on the patient's risk level and local practice.\n",
            "6. Ensure meticulous wound care by keeping the wound clean and dry, applying nonadherent and impermeable dressings, and inspecting it regularly for signs of infection (odor or fever).\n",
            "7. Seek medical care at once if an odor emanates from within the cast or if a fever develops.\n",
            "8. Encourage good hygiene to prevent infection.\n",
            "9. Consider tetanus immunization if necessary.\n",
            "10. Apply topical antibiotic ointment daily to reduce the risk of infection and help maintain a moist wound environment that optimizes healing, but avoid using it over tissue adhesives or adhesive strips.\n",
            "11. Provide adequate pain management with analgesics as needed.\n",
            "12. Encourage early mobilization for rapidly healing injuries to minimize contractures and muscle atrophy,\n"
          ]
        }
      ],
      "source": [
        "#increasing max tokens, lower k\n",
        "user_prompt = \"What are the necessary precautions and treatment steps for a person who has fractured their leg during a hiking trip, and what should be considered for their care and recovery?\"\n",
        "print(generate_rag_response2(user_prompt, max_tokens = 500, k = 1))"
      ]
    },
    {
      "cell_type": "code",
      "execution_count": null,
      "metadata": {
        "id": "2FSp-nXUqatL",
        "colab": {
          "base_uri": "https://localhost:8080/"
        },
        "outputId": "f1e4bc6f-a113-42ca-ce9e-1f7ce6d525b2"
      },
      "outputs": [
        {
          "output_type": "stream",
          "name": "stderr",
          "text": [
            "Llama.generate: prefix-match hit\n"
          ]
        },
        {
          "output_type": "stream",
          "name": "stdout",
          "text": [
            "The context provides information on the RICE method (rest, ice, compression, elevation) for soft-tissue injuries, immobilization to prevent further injury and facilitate healing, and the importance of preventing deep venous thrombosis through movement and medical treatment. For a person who has fractured their leg during a hiking trip, the following steps should be taken:\n",
            "\n",
            "1. Rest the injured leg to prevent further damage and speed up healing.\n",
            "2. Apply ice intermittently for 15-20 minutes as often as possible within the first 24-48 hours to minimize swelling and pain. Use a splint, elastic bandage, or Jones dressing for compression.\n",
            "3. Elevate the injured leg above heart level for the first two days to help drain edema fluid and minimize swelling. After 48 hours, apply warmth (e.g., heating pad) for 15-20 minutes to relieve pain and speed up healing.\n",
            "4. Immobilize the joints proximal and distal to the injury using a cane or crutches to prevent further injury and facilitate healing.\n",
            "5. Prevent deep venous thrombosis by moving the affected part, elevating the legs, and avoiding sitting in chairs. Consider additional preventive treatments like low-dose UFH, LMWH, warfarin, compression devices or stockings, or a combination depending on the patient's risk level and local practice.\n",
            "6. Ensure meticulous wound care by keeping the wound clean and dry, applying nonadherent and impermeable dressings, and inspecting it regularly for signs of infection (odor or fever).\n",
            "7. Seek medical care at once if an odor emanates from within the cast or if a fever develops.\n",
            "8. Encourage good hygiene to prevent infection.\n",
            "9. Consider tetanus immunization if necessary.\n",
            "10. Apply topical antibiotic ointment daily to reduce the risk of infection and help maintain a moist wound environment that optimizes healing, but avoid using it over tissue adhesives or adhesive strips.\n",
            "11. Provide adequate pain management with analgesics as needed.\n",
            "12. Encourage early mobilization for rapidly healing injuries to minimize contractures and muscle atrophy,\n"
          ]
        }
      ],
      "source": [
        "#increasing max tokens, higher k\n",
        "user_prompt = \"What are the necessary precautions and treatment steps for a person who has fractured their leg during a hiking trip, and what should be considered for their care and recovery?\"\n",
        "print(generate_rag_response2(user_prompt, max_tokens = 500, k = 5))"
      ]
    },
    {
      "cell_type": "markdown",
      "source": [
        "The second two responses are the same once again, and have more recommendations than the first, but got cut off. The responses using the second vector database are also structured better than the responses using the first vector database."
      ],
      "metadata": {
        "id": "_hh5-eaCB9Y2"
      }
    },
    {
      "cell_type": "markdown",
      "metadata": {
        "id": "yyQrTipNfuBN"
      },
      "source": [
        "## Output Evaluation"
      ]
    },
    {
      "cell_type": "markdown",
      "metadata": {
        "id": "HbXMSxqa-65E"
      },
      "source": [
        "Let us now use the LLM-as-a-judge method to check the quality of the RAG system on two parameters - retrieval and generation. We illustrate this evaluation based on the answeres generated to the question from the previous section.\n",
        "\n",
        "- We are using the same Mistral model for evaluation, so basically here the llm is rating itself on how well he has performed in the task."
      ]
    },
    {
      "cell_type": "code",
      "execution_count": null,
      "metadata": {
        "id": "IHbfLAxAGdhW"
      },
      "outputs": [],
      "source": [
        "groundedness_rater_system_message  = \"\"\"\n",
        "You are tasked with rating AI generated answers to questions posed by users.\n",
        "You will be presented a question, context used by the AI system to generate the answer and an AI generated answer to the question.\n",
        "In the input, the question will begin with ###Question, the context will begin with ###Context while the AI generated answer will begin with ###Answer.\n",
        "\n",
        "Evaluation criteria:\n",
        "The task is to judge the extent to which the metric is followed by the answer.\n",
        "1 - The metric is not followed at all\n",
        "2 - The metric is followed only to a limited extent\n",
        "3 - The metric is followed to a good extent\n",
        "4 - The metric is followed mostly\n",
        "5 - The metric is followed completely\n",
        "\n",
        "Metric:\n",
        "The answer should be derived only from the information presented in the context\n",
        "\n",
        "Instructions:\n",
        "1. First write down the steps that are needed to evaluate the answer as per the metric.\n",
        "2. Give a step-by-step explanation if the answer adheres to the metric considering the question and context as the input.\n",
        "3. Next, evaluate the extent to which the metric is followed.\n",
        "4. Use the previous information to rate the answer using the evaluaton criteria and assign a score.\n",
        "\"\"\""
      ]
    },
    {
      "cell_type": "code",
      "execution_count": null,
      "metadata": {
        "id": "159OZZa0Rinv"
      },
      "outputs": [],
      "source": [
        "relevance_rater_system_message = \"\"\"\n",
        "You are tasked with rating AI generated answers to questions posed by users.\n",
        "You will be presented a question, context used by the AI system to generate the answer and an AI generated answer to the question.\n",
        "In the input, the question will begin with ###Question, the context will begin with ###Context while the AI generated answer will begin with ###Answer.\n",
        "\n",
        "Evaluation criteria:\n",
        "The task is to judge the extent to which the metric is followed by the answer.\n",
        "1 - The metric is not followed at all\n",
        "2 - The metric is followed only to a limited extent\n",
        "3 - The metric is followed to a good extent\n",
        "4 - The metric is followed mostly\n",
        "5 - The metric is followed completely\n",
        "\n",
        "Metric:\n",
        "Relevance measures how well the answer addresses the main aspects of the question, based on the context.\n",
        "Consider whether all and only the important aspects are contained in the answer when evaluating relevance.\n",
        "\n",
        "Instructions:\n",
        "1. First write down the steps that are needed to evaluate the context as per the metric.\n",
        "2. Give a step-by-step explanation if the context adheres to the metric considering the question as the input.\n",
        "3. Next, evaluate the extent to which the metric is followed.\n",
        "4. Use the previous information to rate the context using the evaluaton criteria and assign a score.\n",
        "\"\"\""
      ]
    },
    {
      "cell_type": "code",
      "execution_count": null,
      "metadata": {
        "id": "RLqiSn-iRwSl"
      },
      "outputs": [],
      "source": [
        "user_message_template = \"\"\"\n",
        "###Question\n",
        "{question}\n",
        "\n",
        "###Context\n",
        "{context}\n",
        "\n",
        "###Answer\n",
        "{answer}\n",
        "\"\"\""
      ]
    },
    {
      "cell_type": "code",
      "execution_count": null,
      "metadata": {
        "id": "XIbZybyuRi2p"
      },
      "outputs": [],
      "source": [
        "#set max_tokens to 500\n",
        "def generate_ground_relevance_response(user_input,k=3,max_tokens=500,temperature=0,top_p=0.95,top_k=50):\n",
        "    #replaced these with mistral rag\n",
        "    #global qna_system_message,qna_user_message_template\n",
        "\n",
        "    #fixed\n",
        "    global qna_mistral_rag\n",
        "\n",
        "    # Retrieve relevant document chunks\n",
        "    relevant_document_chunks = retriever.get_relevant_documents(query=user_input,k=3)\n",
        "    context_list = [d.page_content for d in relevant_document_chunks]\n",
        "    context_for_query = \". \".join(context_list)\n",
        "\n",
        "    #replacing this with \"tweaks for mistral\"\n",
        "    # Combine user_prompt and system_message to create the prompt\n",
        "    #prompt = f\"\"\"[INST]{qna_system_message}\\n\n",
        "    #            {'user'}: {qna_user_message_template.format(context=context_for_query, question=user_input)}\n",
        "    #            [/INST]\"\"\"\n",
        "\n",
        "\n",
        "    #tweaks for mistral:\n",
        "    user_message = qna_mistral_rag.replace('{context}', context_for_query)\n",
        "    user_message = user_message.replace('{question}', user_input)\n",
        "\n",
        "    prompt = user_message\n",
        "\n",
        "    response = llm(\n",
        "            prompt=prompt,\n",
        "            max_tokens=max_tokens,\n",
        "            temperature=temperature,\n",
        "            top_p=top_p,\n",
        "            top_k=top_k,\n",
        "            stop=['INST'],\n",
        "            )\n",
        "\n",
        "    answer =  response[\"choices\"][0][\"text\"]\n",
        "\n",
        "    # Combine user_prompt and system_message to create the prompt\n",
        "    groundedness_prompt = f\"\"\"[INST]{groundedness_rater_system_message}\\n\n",
        "                {'user'}: {user_message_template.format(context=context_for_query, question=user_input, answer=answer)}\n",
        "                [/INST]\"\"\"\n",
        "\n",
        "    # Combine user_prompt and system_message to create the prompt\n",
        "    relevance_prompt = f\"\"\"[INST]{relevance_rater_system_message}\\n\n",
        "                {'user'}: {user_message_template.format(context=context_for_query, question=user_input, answer=answer)}\n",
        "                [/INST]\"\"\"\n",
        "\n",
        "    response_1 = llm(\n",
        "            prompt=groundedness_prompt,\n",
        "            max_tokens=max_tokens,\n",
        "            temperature=temperature,\n",
        "            top_p=top_p,\n",
        "            top_k=top_k,\n",
        "            stop=['INST'],\n",
        "            )\n",
        "\n",
        "    response_2 = llm(\n",
        "            prompt=relevance_prompt,\n",
        "            max_tokens=max_tokens,\n",
        "            temperature=temperature,\n",
        "            top_p=top_p,\n",
        "            top_k=top_k,\n",
        "            stop=['INST'],\n",
        "            )\n",
        "\n",
        "    return response_1['choices'][0]['text'],response_2['choices'][0]['text']"
      ]
    },
    {
      "cell_type": "markdown",
      "metadata": {
        "id": "f6qxqyJLYA2x"
      },
      "source": [
        "### Query 1: What is the protocol for managing sepsis in a critical care unit?"
      ]
    },
    {
      "cell_type": "code",
      "execution_count": null,
      "metadata": {
        "id": "ANzurSjuYA2x",
        "colab": {
          "base_uri": "https://localhost:8080/"
        },
        "outputId": "1be59894-13cc-45dd-8627-36e1d0311320"
      },
      "outputs": [
        {
          "output_type": "stream",
          "name": "stderr",
          "text": [
            "Llama.generate: prefix-match hit\n"
          ]
        }
      ],
      "source": [
        "#ask the question again with default params\n",
        "user_prompt = \"What is the protocol for managing sepsis in a critical care unit?\"\n",
        "answer = generate_rag_response(user_prompt)"
      ]
    },
    {
      "cell_type": "code",
      "execution_count": null,
      "metadata": {
        "id": "oXaSgivqiWvA",
        "colab": {
          "base_uri": "https://localhost:8080/"
        },
        "outputId": "7164b297-7602-4689-d77a-5d6d1a42b69b"
      },
      "outputs": [
        {
          "output_type": "stream",
          "name": "stdout",
          "text": [
            "The protocol for managing sepsis in a critical care unit includes aggressive fluid resuscitation, antibiotics, surgical excision of infected or necrotic tissues and drainage of pus, supportive care, normalization of blood glucose (if necessary), and sometimes intensive control of blood glucose and administration of corticosteroids and activated protein C. Antibiotic selection requires an educated guess based on the suspected source, clinical setting, knowledge or suspicion of causative organisms and of sensitivity patterns common to that specific inpatient unit, and previous culture results. One regimen for septic\n"
          ]
        }
      ],
      "source": [
        "#check the answer\n",
        "print(answer)"
      ]
    },
    {
      "cell_type": "code",
      "execution_count": null,
      "metadata": {
        "id": "zngh8aoNi3Dj",
        "colab": {
          "base_uri": "https://localhost:8080/"
        },
        "outputId": "2e115ee2-3a35-49dd-cab8-13916524d0dc"
      },
      "outputs": [
        {
          "output_type": "stream",
          "name": "stderr",
          "text": [
            "Llama.generate: prefix-match hit\n",
            "Llama.generate: prefix-match hit\n",
            "Llama.generate: prefix-match hit\n"
          ]
        }
      ],
      "source": [
        "#run the llm-as-judge function\n",
        "groundedness_report, relevance_report = generate_ground_relevance_response(user_prompt, answer)"
      ]
    },
    {
      "cell_type": "code",
      "execution_count": null,
      "metadata": {
        "id": "dggsp3JyjJ1I",
        "colab": {
          "base_uri": "https://localhost:8080/"
        },
        "outputId": "637f391e-2d50-4283-d826-4ec663fdca9a"
      },
      "outputs": [
        {
          "output_type": "stream",
          "name": "stdout",
          "text": [
            " Steps to evaluate the answer:\n",
            "1. Identify the key information in the context related to managing sepsis in a critical care unit.\n",
            "2. Compare the information in the context to the answer provided by the AI system.\n",
            "3. Determine if the answer is derived only from the information presented in the context.\n",
            "\n",
            "Evaluation:\n",
            "The answer adheres to the metric as it includes information directly from the context about aggressive fluid resuscitation, antibiotics, surgical excision of infected or necrotic tissues and drainage of pus, supportive care, normalization of blood glucose (if necessary), and sometimes intensive control of blood glucose and administration of corticosteroids and activated protein C. The answer also mentions the importance of antibiotic selection based on suspected source, clinical setting, knowledge or suspicion of causative organisms and sensitivity patterns, which is also mentioned in the context.\n",
            "\n",
            "Rating:\n",
            "Based on the evaluation, I would rate the answer as 5 - The metric is followed completely. \n",
            "\n",
            "  Steps to evaluate the context as per the relevance metric:\n",
            "1. Identify the main aspects of the question which are managing sepsis in a critical care unit and following protocols.\n",
            "2. Search for information related to sepsis management protocols in the context.\n",
            "3. Check if all important aspects of sepsis management are present in the context, including fluid resuscitation, antibiotics, surgical intervention, supportive care, normalization of blood glucose (if necessary), and emerging therapies.\n",
            "4. Evaluate if any irrelevant information is included in the context that does not contribute to answering the question.\n",
            "\n",
            "The context adheres to the relevance metric considering the question as follows:\n",
            "1. The context provides detailed information about sepsis, severe sepsis, and septic shock, including their causes, symptoms, and treatment options.\n",
            "2. It specifically mentions managing sepsis in a critical care unit and discusses various aspects of the protocol, such as fluid resuscitation, antibiotics, surgical intervention, supportive care, normalization of blood glucose (if necessary), and emerging therapies.\n",
            "3. The context includes information on following strict protocols for investigating alarms, routine daily blood tests, point-of-care testing, and empiric therapy for sepsis.\n",
            "4. It also mentions the importance of draining abscesses and excising necrotic tissues to eliminate septic foci.\n",
            "5. The context does not include any irrelevant information that does not contribute to answering the question.\n",
            "\n",
            "The metric is followed mostly in the context as it covers all important aspects of sepsis management in a critical care unit and provides detailed information on each aspect. However, there are some additional details included in the context that are not directly related to managing sepsis protocols but provide valuable background information on critical care medicine and ICU patient care.\n",
            "\n",
            "Based on the evaluation criteria:\n",
            "1 - The metric is not followed at all: 1\n",
            "2 - The metric is followed only to a limited extent: 2\n",
            "3 - The metric is followed to a good extent: 3\n",
            "4 - The metric is followed mostly: 4\n",
            "5 - The metric is followed completely: 5\n",
            "\n",
            "Rating for the context based on relevance: 4 (The metric is followed mostly)\n"
          ]
        }
      ],
      "source": [
        "#see the reports\n",
        "print(groundedness_report, '\\n\\n', relevance_report)"
      ]
    },
    {
      "cell_type": "markdown",
      "source": [
        "The LLM scored well in groundedness and mostly well in relevance, but lost a point because it didn't provide enough context. Since the answer was cut off a bit, there's a possibility it would have received full credit if the max tokens parameter was higher, and the full answer had been outputted."
      ],
      "metadata": {
        "id": "qaAcMr8pWHlC"
      }
    },
    {
      "cell_type": "markdown",
      "metadata": {
        "id": "7A60Q6x3YA2y"
      },
      "source": [
        "### Query 2: What are the common symptoms for appendicitis, and can it be cured via medicine? If not, what surgical procedure should be followed to treat it?"
      ]
    },
    {
      "cell_type": "code",
      "execution_count": null,
      "metadata": {
        "id": "LOZQyoLwYA2y",
        "colab": {
          "base_uri": "https://localhost:8080/"
        },
        "outputId": "cbeee33d-cdfe-4368-beb1-4665f1f33d3d"
      },
      "outputs": [
        {
          "output_type": "stream",
          "name": "stderr",
          "text": [
            "Llama.generate: prefix-match hit\n"
          ]
        }
      ],
      "source": [
        "#ask the question again with default params\n",
        "user_prompt = \"What are the common symptoms for appendicitis, and can it be cured via medicine? If not, what surgical procedure should be followed to treat it?\"\n",
        "answer = generate_rag_response(user_prompt)"
      ]
    },
    {
      "cell_type": "code",
      "execution_count": null,
      "metadata": {
        "id": "lilxA90ziYcm",
        "colab": {
          "base_uri": "https://localhost:8080/"
        },
        "outputId": "0179173f-ddf7-4379-b289-86a30e2dfe97"
      },
      "outputs": [
        {
          "output_type": "stream",
          "name": "stdout",
          "text": [
            "The common symptoms for appendicitis include epigastric or periumbilical pain followed by brief nausea, vomiting, and anorexia. After a few hours, the pain shifts to the right lower quadrant. Pain increases with cough and motion. Classic signs are right lower quadrant direct and rebound tenderness located at McBurney's point. However, these classic findings appear in less than 50% of patients, and many variations of symptoms and signs occur.\n",
            "\n",
            "Appendicitis cannot be cured via medicine alone. The standard treatment for appendicitis is surgical removal\n"
          ]
        }
      ],
      "source": [
        "#check that the answer matches what we got earlier\n",
        "print(answer)"
      ]
    },
    {
      "cell_type": "code",
      "execution_count": null,
      "metadata": {
        "id": "cvPdClIYjmwL",
        "colab": {
          "base_uri": "https://localhost:8080/"
        },
        "outputId": "d743b4d0-43b6-4957-f1d1-e4945781cea9"
      },
      "outputs": [
        {
          "output_type": "stream",
          "name": "stderr",
          "text": [
            "Llama.generate: prefix-match hit\n",
            "Llama.generate: prefix-match hit\n",
            "Llama.generate: prefix-match hit\n"
          ]
        }
      ],
      "source": [
        "#run the llm-as-judge function\n",
        "groundedness_report, relevance_report = generate_ground_relevance_response(user_prompt, answer)"
      ]
    },
    {
      "cell_type": "code",
      "execution_count": null,
      "metadata": {
        "id": "EAVAXNjjjnsc",
        "colab": {
          "base_uri": "https://localhost:8080/"
        },
        "outputId": "ee4f34fe-ee65-4d46-c7f2-0956f5817f55"
      },
      "outputs": [
        {
          "output_type": "stream",
          "name": "stdout",
          "text": [
            " Steps to evaluate the answer:\n",
            "1. Identify the information in the context related to appendicitis and its symptoms.\n",
            "2. Check if the AI generated answer includes only the common symptoms for appendicitis mentioned in the context.\n",
            "3. Verify that the AI generated answer does not include any additional or incorrect information.\n",
            "4. Determine if the statement about curability of appendicitis is accurate based on the context.\n",
            "\n",
            "Explanation:\n",
            "The AI generated answer correctly identifies the common symptoms for appendicitis, which are epigastric or periumbilical pain followed by brief nausea, vomiting, and anorexia, with the pain shifting to the right lower quadrant after a few hours. The answer also mentions that these classic findings appear in less than 50% of patients and that many variations of symptoms and signs occur.\n",
            "\n",
            "The context states that treatment for appendicitis is surgical removal through an open or laparoscopic appendectomy, and antibiotics are used only if the appendix is perforated or surgery is impossible. The AI generated answer correctly states that appendicitis cannot be cured via medicine alone.\n",
            "\n",
            "Therefore, the metric is followed completely as the answer is derived solely from the information presented in the context and does not include any additional or incorrect information.\n",
            "\n",
            "Rating: 5 (The metric is followed completely) \n",
            "\n",
            "  Steps to evaluate context as per the metric:\n",
            "1. Identify the main aspects of the question: common symptoms for appendicitis and whether it can be cured via medicine or if surgery is required.\n",
            "2. Determine if the context provides information on these main aspects.\n",
            "3. Check if all important aspects are contained in the context and if any irrelevant information is present.\n",
            "\n",
            "The context adheres to the metric considering the question as follows:\n",
            "1. The context mentions common symptoms for appendicitis, which includes epigastric or periumbilical pain followed by brief nausea, vomiting, and anorexia, and after a few hours, the pain shifts to the right lower quadrant. It also states that classic signs are right lower quadrant direct and rebound tenderness located at McBurney's point.\n",
            "2. The context provides information on how appendicitis cannot be cured via medicine alone and requires surgical removal of the appendix through an open or laparoscopic appendectomy. It also mentions that antibiotics may be used to improve survival rate but are not curative if surgery is impossible due to complications such as a large inflammatory mass.\n",
            "3. The context does not contain any irrelevant information regarding hernias, abdominal wall, or groin hernias.\n",
            "\n",
            "The metric is followed mostly in the context. It provides all the necessary information on common symptoms for appendicitis and the treatment options, including both surgery and antibiotics. However, it could be improved by providing a clearer distinction between when antibiotics are used and when they are not curative. Overall, I would rate the context as a 4 out of 5 based on the relevance metric.\n"
          ]
        }
      ],
      "source": [
        "#see the reports\n",
        "print(groundedness_report, '\\n\\n', relevance_report)"
      ]
    },
    {
      "cell_type": "markdown",
      "source": [
        "The LLM again scored well on groundedness but lost a point in relevance because it didn't discuss when antibiotics are used and when they are not curative -- which seems odd since the LLM and the LLM-as-judge point out appendicitis cannot be cured via medicine alone. Perhaps there is more information in the context about rare cases when antibiotics alone can be used."
      ],
      "metadata": {
        "id": "Z7VgHLBGYOwz"
      }
    },
    {
      "cell_type": "markdown",
      "metadata": {
        "id": "ZmYnriTdYA2z"
      },
      "source": [
        "### Query 3: What are the effective treatments or solutions for addressing sudden patchy hair loss, commonly seen as localized bald spots on the scalp, and what could be the possible causes behind it?"
      ]
    },
    {
      "cell_type": "code",
      "execution_count": null,
      "metadata": {
        "id": "Qp898M2iYA2z",
        "colab": {
          "base_uri": "https://localhost:8080/"
        },
        "outputId": "2c01d758-8442-48d4-bcca-357ccc8bff3a"
      },
      "outputs": [
        {
          "output_type": "stream",
          "name": "stderr",
          "text": [
            "Llama.generate: prefix-match hit\n"
          ]
        }
      ],
      "source": [
        "#ask the question again with default params\n",
        "user_prompt = \"What are the effective treatments or solutions for addressing sudden patchy hair loss, commonly seen as localized bald spots on the scalp, and what could be the possible causes behind it?\"\n",
        "answer = generate_rag_response(user_prompt)"
      ]
    },
    {
      "cell_type": "code",
      "execution_count": null,
      "metadata": {
        "id": "_APenB_8iY6T",
        "colab": {
          "base_uri": "https://localhost:8080/"
        },
        "outputId": "9ca26726-8614-4e03-f7c4-fc7012841b02"
      },
      "outputs": [
        {
          "output_type": "stream",
          "name": "stdout",
          "text": [
            "The effective treatments for addressing sudden patchy hair loss, also known as alopecia areata, include topical or intralesional corticosteroids, topical anthralin, minoxidil, topical immunotherapy (diphencyprone or squaric acid dibutylester), or psoralen plus ultraviolet A (PUVA). Corticosteroids can be injected intradermally for small lesions or used as potent topical applications. Oral corticosteroids are also effective but have adverse effects and hair loss recurs after cessation\n"
          ]
        }
      ],
      "source": [
        "#check that the answer matches what we got earlier\n",
        "print(answer)"
      ]
    },
    {
      "cell_type": "code",
      "execution_count": null,
      "metadata": {
        "id": "Ey_vMN13jsSz",
        "colab": {
          "base_uri": "https://localhost:8080/"
        },
        "outputId": "4d0b1243-f8c3-46f9-953a-d2171089ddab"
      },
      "outputs": [
        {
          "output_type": "stream",
          "name": "stderr",
          "text": [
            "Llama.generate: prefix-match hit\n",
            "Llama.generate: prefix-match hit\n",
            "Llama.generate: prefix-match hit\n"
          ]
        }
      ],
      "source": [
        "#run the llm-as-judge function\n",
        "groundedness_report, relevance_report = generate_ground_relevance_response(user_prompt, answer)"
      ]
    },
    {
      "cell_type": "code",
      "execution_count": null,
      "metadata": {
        "id": "fpc65-rHjv1r",
        "colab": {
          "base_uri": "https://localhost:8080/"
        },
        "outputId": "83a3bd17-5b2e-4b7a-d42b-9a7732158fed"
      },
      "outputs": [
        {
          "output_type": "stream",
          "name": "stdout",
          "text": [
            " Steps to evaluate the answer:\n",
            "1. Identify the main topic of the question and context.\n",
            "2. Understand the specific information being asked for in the question.\n",
            "3. Determine if the answer is derived only from the context provided.\n",
            "4. Check if the answer includes any additional or irrelevant information.\n",
            "\n",
            "Evaluation:\n",
            "The answer adheres to the metric as it mentions the effective treatments and possible causes of sudden patchy hair loss based solely on the context provided. The answer does not include any additional or irrelevant information.\n",
            "\n",
            "Rating:\n",
            "Based on the evaluation, I would rate the answer as a 5 (The metric is followed completely). \n",
            "\n",
            "  Steps to evaluate context as per relevance metric:\n",
            "1. Identify key information related to effective treatments or solutions for sudden patchy hair loss (alopecia areata) from the context.\n",
            "2. Determine if all important aspects of the question are addressed in the identified information.\n",
            "3. Check if any irrelevant information is present and if it affects the relevance of the answer.\n",
            "\n",
            "The context adheres to the metric considering the question as follows:\n",
            "1. The context provides a list of effective treatments or solutions for sudden patchy hair loss, including topical or intralesional corticosteroids, topical anthralin, minoxidil, topical immunotherapy (diphencyprone or squaric acid dibutylester), or psoralen plus ultraviolet A (PUVA).\n",
            "2. The context also mentions the possible causes behind sudden patchy hair loss, which includes autoimmune disorders, stress, and certain medications.\n",
            "3. No irrelevant information is present in the context that affects the relevance of the answer.\n",
            "\n",
            "The metric is followed mostly as the context provides all important aspects of the question and no irrelevant information is present.\n",
            "\n",
            "Therefore, I would rate the context a 4 on the evaluation criteria scale.\n"
          ]
        }
      ],
      "source": [
        "#see the reports\n",
        "print(groundedness_report, '\\n\\n', relevance_report)"
      ]
    },
    {
      "cell_type": "markdown",
      "source": [
        "The LLM again scored well on groundedness and mostly well on relevance, but this time it's unclear why it lost a point on relevance. The answer was cut off by the token limit, so it may be due to missing context once again -- but we don't know for sure since the LLM-as-judge never specified."
      ],
      "metadata": {
        "id": "7vNCDWF5ZzVk"
      }
    },
    {
      "cell_type": "markdown",
      "metadata": {
        "id": "jz-lGsVxYA2z"
      },
      "source": [
        "### Query 4: What treatments are recommended for a person who has sustained a physical injury to brain tissue, resulting in temporary or permanent impairment of brain function?"
      ]
    },
    {
      "cell_type": "code",
      "execution_count": null,
      "metadata": {
        "id": "gBRTYnFVYA2z",
        "colab": {
          "base_uri": "https://localhost:8080/"
        },
        "outputId": "5370d5bd-6a91-45dd-a1d8-22b29b4ba5ea"
      },
      "outputs": [
        {
          "output_type": "stream",
          "name": "stderr",
          "text": [
            "Llama.generate: prefix-match hit\n"
          ]
        }
      ],
      "source": [
        "#ask the question again with default params\n",
        "user_prompt = \"What treatments are recommended for a person who has sustained a physical injury to brain tissue, resulting in temporary or permanent impairment of brain function?\"\n",
        "answer = generate_rag_response(user_prompt)"
      ]
    },
    {
      "cell_type": "code",
      "execution_count": null,
      "metadata": {
        "id": "Qf0b5gRCiZjk",
        "colab": {
          "base_uri": "https://localhost:8080/"
        },
        "outputId": "50b5fb5b-237f-4be8-d7d2-98e5a254e702"
      },
      "outputs": [
        {
          "output_type": "stream",
          "name": "stdout",
          "text": [
            "The context suggests that the initial treatment for a person with traumatic brain injury (TBI) includes ensuring a reliable airway and maintaining adequate ventilation, oxygenation, and blood pressure. Surgery may be needed for patients with more severe injuries to place monitors or decompress the brain. In the first few days after the injury, maintaining adequate brain perfusion and oxygenation and preventing complications are important. Subsequently, many patients require rehabilitation.\n",
            "\n",
            "Supportive care is recommended, which includes preventing systemic complications due to immobilization, providing good nutrition, preventing pressure ulcers, and providing physical therapy\n"
          ]
        }
      ],
      "source": [
        "#check that the answer matches what we got earlier\n",
        "print(answer)"
      ]
    },
    {
      "cell_type": "code",
      "execution_count": null,
      "metadata": {
        "id": "tgwbsaCAj0Bs",
        "colab": {
          "base_uri": "https://localhost:8080/"
        },
        "outputId": "ce37035f-f6e2-4ab2-d6e2-07d4e4304ebb"
      },
      "outputs": [
        {
          "output_type": "stream",
          "name": "stderr",
          "text": [
            "Llama.generate: prefix-match hit\n",
            "Llama.generate: prefix-match hit\n",
            "Llama.generate: prefix-match hit\n"
          ]
        }
      ],
      "source": [
        "#run the llm-as-judge function\n",
        "groundedness_report, relevance_report = generate_ground_relevance_response(user_prompt, answer)"
      ]
    },
    {
      "cell_type": "code",
      "execution_count": null,
      "metadata": {
        "id": "WF2VMj-hj1KX",
        "colab": {
          "base_uri": "https://localhost:8080/"
        },
        "outputId": "d2d360e8-649e-4e60-bf8f-fef61b95dfdd"
      },
      "outputs": [
        {
          "output_type": "stream",
          "name": "stdout",
          "text": [
            " Steps to evaluate the answer:\n",
            "1. Identify the key information related to treatments for traumatic brain injury (TBI) from the context.\n",
            "2. Compare the identified information with the AI generated answer to check if the answer is derived only from the context.\n",
            "\n",
            "Explanation:\n",
            "The AI generated answer mentions supportive care, prevention of complications, seizure control, and rehabilitation as the recommended treatments for TBI. The context discusses these treatments in detail under the section \"Treatment\" and \"Supportive care.\" Therefore, the answer is derived from the information presented in the context.\n",
            "\n",
            "Evaluation:\n",
            "The metric is followed completely.\n",
            "\n",
            "Rating:\n",
            "Based on the evaluation criteria, I would rate the answer as 5 (The metric is followed completely). \n",
            "\n",
            "  Steps to evaluate context as per relevance metric:\n",
            "1. Identify the main aspects of the question: The question asks about the recommended treatments for a person with brain injury resulting in impairment of brain function.\n",
            "2. Determine if all important aspects are covered in the context: The context discusses the initial treatment, which includes ensuring a reliable airway and maintaining adequate ventilation, oxygenation, and blood pressure. It also mentions surgery for more severe injuries, supportive care to prevent complications, seizure control, and rehabilitation. All these aspects are relevant to answering the question.\n",
            "3. Evaluate if only irrelevant information is present: The context does not contain any irrelevant information that detracts from answering the question.\n",
            "\n",
            "The metric is followed mostly as all important aspects of the question are covered in the context and no irrelevant information is present.\n",
            "\n",
            "Rating: 4 (The metric is followed mostly)\n"
          ]
        }
      ],
      "source": [
        "#see the reports\n",
        "print(groundedness_report, '\\n\\n', relevance_report)"
      ]
    },
    {
      "cell_type": "markdown",
      "source": [
        "The LLM again scored well in groundedness and mostly well in relevance, but as in query 3, it's not clear why it lost a point for relevance. The answer was cut off again though, so it's possible additional context the LLM wanted to provide that would have earned it the extra point was simply not outputted."
      ],
      "metadata": {
        "id": "EomQM3RodU6h"
      }
    },
    {
      "cell_type": "markdown",
      "metadata": {
        "id": "x2WxSxzDYA2z"
      },
      "source": [
        "### Query 5: What are the necessary precautions and treatment steps for a person who has fractured their leg during a hiking trip, and what should be considered for their care and recovery?"
      ]
    },
    {
      "cell_type": "code",
      "execution_count": null,
      "metadata": {
        "id": "mKCq09_YYA20",
        "colab": {
          "base_uri": "https://localhost:8080/"
        },
        "outputId": "82c56204-2761-4263-fe9c-afab3e822eb5"
      },
      "outputs": [
        {
          "output_type": "stream",
          "name": "stderr",
          "text": [
            "Llama.generate: prefix-match hit\n"
          ]
        }
      ],
      "source": [
        "#ask the question again with default params\n",
        "user_prompt = \"What are the necessary precautions and treatment steps for a person who has fractured their leg during a hiking trip, and what should be considered for their care and recovery?\"\n",
        "answer = generate_rag_response(user_prompt)"
      ]
    },
    {
      "cell_type": "code",
      "execution_count": null,
      "metadata": {
        "id": "_RrlIcjPiaE8",
        "colab": {
          "base_uri": "https://localhost:8080/"
        },
        "outputId": "e57bef42-0a11-493a-ac55-169c14ae3532"
      },
      "outputs": [
        {
          "output_type": "stream",
          "name": "stdout",
          "text": [
            "The context provides information on the symptoms, diagnosis, and treatment of fractures. The person with a fractured leg should first seek medical attention. In the meantime, they can apply analgesics to manage pain. Once in the hospital, they will receive immobilization through the use of a cast or splint to prevent further injury and facilitate healing. It is important for them to keep the cast dry, inspect the edges and skin around it daily, and pad any rough edges with soft material to prevent discomfort. They should also elevate the injured limb above heart level for the first 48 hours to minimize swelling.\n"
          ]
        }
      ],
      "source": [
        "#check that the answer matches what we got earlier\n",
        "print(answer)"
      ]
    },
    {
      "cell_type": "code",
      "execution_count": null,
      "metadata": {
        "id": "F0q5tQqVj4uH",
        "colab": {
          "base_uri": "https://localhost:8080/"
        },
        "outputId": "c104ec7e-6c6e-43d0-c0fc-d489df68528a"
      },
      "outputs": [
        {
          "output_type": "stream",
          "name": "stderr",
          "text": [
            "Llama.generate: prefix-match hit\n",
            "Llama.generate: prefix-match hit\n",
            "Llama.generate: prefix-match hit\n"
          ]
        }
      ],
      "source": [
        "#run the llm-as-judge function\n",
        "groundedness_report, relevance_report = generate_ground_relevance_response(user_prompt, answer)"
      ]
    },
    {
      "cell_type": "code",
      "execution_count": null,
      "metadata": {
        "id": "-94smRnUj5uD",
        "colab": {
          "base_uri": "https://localhost:8080/"
        },
        "outputId": "bfbb6b20-b6e5-4c12-a6ba-c1c9195b15a9"
      },
      "outputs": [
        {
          "output_type": "stream",
          "name": "stdout",
          "text": [
            " Steps to evaluate the answer:\n",
            "1. Identify the information in the context related to fractures, precautions, and treatment steps.\n",
            "2. Check if the AI generated answer only uses the information from the context to derive the necessary precautions and treatment steps for a person with a fractured leg.\n",
            "\n",
            "The AI generated answer adheres to the metric as it is derived solely from the information presented in the context regarding the symptoms, diagnosis, and treatment of fractures, and the precautions and treatment steps for a person with a fractured leg. The answer mentions seeking medical attention, applying analgesics for pain management, immobilization through cast or splint, keeping the cast dry, inspecting the edges and skin around it daily, padding any rough edges, elevating the injured limb above heart level, and seeking medical care immediately if an odor comes from within the cast or a fever develops. All of these points are directly taken from the context.\n",
            "\n",
            "Rating:\n",
            "5 - The metric is followed completely. \n",
            "\n",
            "  Steps to evaluate context as per relevance metric:\n",
            "1. Identify the main aspects of the question: necessary precautions and treatment steps for a person with a fractured leg, care and recovery considerations.\n",
            "2. Determine if the context addresses all and only these important aspects:\n",
            "   - Yes, the context discusses symptoms (pain, swelling), diagnosis (clinical criteria, x-rays), immobilization techniques (casts, splints), precautions for cast care, and recovery considerations (elevation, hygiene).\n",
            "3. Evaluate the extent to which the metric is followed:\n",
            "   - The metric is followed mostly as all important aspects are addressed in detail.\n",
            "4. Based on the above information, rate the context using the evaluation criteria:\n",
            "   - Relevance: 5 (The metric is followed completely)\n",
            "\n",
            "Therefore, the context receives a relevance score of 5.\n"
          ]
        }
      ],
      "source": [
        "#see the reports\n",
        "print(groundedness_report, '\\n\\n', relevance_report)"
      ]
    },
    {
      "cell_type": "markdown",
      "source": [
        "The LLM got top scores on groundedness and relevance. The answer did output in full, so perhaps that helped this time. Interestingly, though, when evaluating relevance, the LLM-as-judge indicated the metric was \"followed mostly\" (which in past answers earned the LLM a 4), but somehow it ended up awarding a 5."
      ],
      "metadata": {
        "id": "tE23i7DweNyG"
      }
    },
    {
      "cell_type": "markdown",
      "metadata": {
        "id": "Y7QICRU-njdj"
      },
      "source": [
        "## Actionable Insights and Business Recommendations"
      ]
    },
    {
      "cell_type": "markdown",
      "metadata": {
        "id": "z8Cw9qF9j7wK"
      },
      "source": [
        "* It is important to select an LLM that fits the realities and capabilities available to the business. Llama 2 chat with 13 billion parameters was too big/intense for the realities and capabilities available in the free version of Colab, and upgrading to Colab Pro, while not prohibitively expensive, resulted in more problems because of compatibility issues between the notebook template and the processing units. Mistral Instruct with 7 billion parameters worked within the limits of the free version of Google Colab and performed well. Additionally, Mistral Instruct is known to do well with structured conversations that involve rules, which made it a great option for this task.\n",
        "* Once an LLM is selected, it's important to also make sure the approach is customized to the LLM, so the business benefits from the LLM's unique strengths. In the case of Mistral Instruct, the LLM is known to perform well when it comes to following directions -- but for that to happen, the system instructions, user message template, and prompts all have to be structured in a specific way unique to Mistral. As one website consulted put it, you have to \"speak Mistral\" to it, and talk to it \"in its native tongue\" -- i.e., format the instructions and prompts in the way they were formatted during its training.\n",
        "* Regarding paraemeter tuning, it is very important in this case to make sure the LLM has a high enough max tokens parameter so that its output can be seen in full, since the medical subject matter is technical and detailed, and any question would likely result in a technical and detailed answer. Otherwise, the prompt should specify that the LLM should provide a short answer (\"answer in 100 words or less\") to ensure the full answer is printed.\n",
        "* The LLM using RAG did very well in pulling detailed, high-level and technical context from the provided document, and did not appear to hallucinate anything.\n",
        "* The LLM using RAG provided better, more detailed answers when using the vector database with smaller chunks.\n",
        "* In prompt engineering, giving the LLM the opportunity to ask relevant questions was particularly effective, as the LLM came up with numerous relevant follow-up questions about the patient condition and circumstances of the injury. In a medical setting, this would be very helpful to make sure the LLM gives the best possible answer regarding treatment and care.\n"
      ]
    },
    {
      "cell_type": "markdown",
      "metadata": {
        "id": "ybRlzaIhWaM9"
      },
      "source": [
        "<font size=6 color='blue'>Power Ahead</font>\n",
        "___"
      ]
    }
  ],
  "metadata": {
    "accelerator": "GPU",
    "colab": {
      "gpuType": "T4",
      "machine_shape": "hm",
      "toc_visible": true,
      "provenance": []
    },
    "kernel_info": {
      "name": "python310-sdkv2"
    },
    "kernelspec": {
      "display_name": "Python 3",
      "name": "python3"
    },
    "language_info": {
      "name": "python"
    },
    "microsoft": {
      "host": {
        "AzureML": {
          "notebookHasBeenCompleted": true
        }
      },
      "ms_spell_check": {
        "ms_spell_check_language": "en"
      }
    },
    "nteract": {
      "version": "nteract-front-end@1.0.0"
    },
    "widgets": {
      "application/vnd.jupyter.widget-state+json": {
        "c48417efbfe249b0b919c525f9801317": {
          "model_module": "@jupyter-widgets/controls",
          "model_name": "HBoxModel",
          "model_module_version": "1.5.0",
          "state": {
            "_dom_classes": [],
            "_model_module": "@jupyter-widgets/controls",
            "_model_module_version": "1.5.0",
            "_model_name": "HBoxModel",
            "_view_count": null,
            "_view_module": "@jupyter-widgets/controls",
            "_view_module_version": "1.5.0",
            "_view_name": "HBoxView",
            "box_style": "",
            "children": [
              "IPY_MODEL_53276a3ec9c44136a430786692e49eea",
              "IPY_MODEL_1693abc125bf4c3289e577e745ef0902",
              "IPY_MODEL_090d6c273e91494280c3df6c6b755af5"
            ],
            "layout": "IPY_MODEL_75176037769f4b8caaf71f3af2267594"
          }
        },
        "53276a3ec9c44136a430786692e49eea": {
          "model_module": "@jupyter-widgets/controls",
          "model_name": "HTMLModel",
          "model_module_version": "1.5.0",
          "state": {
            "_dom_classes": [],
            "_model_module": "@jupyter-widgets/controls",
            "_model_module_version": "1.5.0",
            "_model_name": "HTMLModel",
            "_view_count": null,
            "_view_module": "@jupyter-widgets/controls",
            "_view_module_version": "1.5.0",
            "_view_name": "HTMLView",
            "description": "",
            "description_tooltip": null,
            "layout": "IPY_MODEL_906b07c744a94863af59e98b65794ba1",
            "placeholder": "​",
            "style": "IPY_MODEL_76992247c24e48a2bae57713ef51d7cb",
            "value": "mistral-7b-instruct-v0.2.Q6_K.gguf: 100%"
          }
        },
        "1693abc125bf4c3289e577e745ef0902": {
          "model_module": "@jupyter-widgets/controls",
          "model_name": "FloatProgressModel",
          "model_module_version": "1.5.0",
          "state": {
            "_dom_classes": [],
            "_model_module": "@jupyter-widgets/controls",
            "_model_module_version": "1.5.0",
            "_model_name": "FloatProgressModel",
            "_view_count": null,
            "_view_module": "@jupyter-widgets/controls",
            "_view_module_version": "1.5.0",
            "_view_name": "ProgressView",
            "bar_style": "success",
            "description": "",
            "description_tooltip": null,
            "layout": "IPY_MODEL_89488f61d61f4effba28515fc135a32c",
            "max": 5942065440,
            "min": 0,
            "orientation": "horizontal",
            "style": "IPY_MODEL_8cb67a584339429cbb0337b7fef7929b",
            "value": 5942065440
          }
        },
        "090d6c273e91494280c3df6c6b755af5": {
          "model_module": "@jupyter-widgets/controls",
          "model_name": "HTMLModel",
          "model_module_version": "1.5.0",
          "state": {
            "_dom_classes": [],
            "_model_module": "@jupyter-widgets/controls",
            "_model_module_version": "1.5.0",
            "_model_name": "HTMLModel",
            "_view_count": null,
            "_view_module": "@jupyter-widgets/controls",
            "_view_module_version": "1.5.0",
            "_view_name": "HTMLView",
            "description": "",
            "description_tooltip": null,
            "layout": "IPY_MODEL_36e69a9d7e064329a2250748d11fd2d3",
            "placeholder": "​",
            "style": "IPY_MODEL_940c1f926d514641abbdbf3dab2f7fe7",
            "value": " 5.94G/5.94G [00:30&lt;00:00, 211MB/s]"
          }
        },
        "75176037769f4b8caaf71f3af2267594": {
          "model_module": "@jupyter-widgets/base",
          "model_name": "LayoutModel",
          "model_module_version": "1.2.0",
          "state": {
            "_model_module": "@jupyter-widgets/base",
            "_model_module_version": "1.2.0",
            "_model_name": "LayoutModel",
            "_view_count": null,
            "_view_module": "@jupyter-widgets/base",
            "_view_module_version": "1.2.0",
            "_view_name": "LayoutView",
            "align_content": null,
            "align_items": null,
            "align_self": null,
            "border": null,
            "bottom": null,
            "display": null,
            "flex": null,
            "flex_flow": null,
            "grid_area": null,
            "grid_auto_columns": null,
            "grid_auto_flow": null,
            "grid_auto_rows": null,
            "grid_column": null,
            "grid_gap": null,
            "grid_row": null,
            "grid_template_areas": null,
            "grid_template_columns": null,
            "grid_template_rows": null,
            "height": null,
            "justify_content": null,
            "justify_items": null,
            "left": null,
            "margin": null,
            "max_height": null,
            "max_width": null,
            "min_height": null,
            "min_width": null,
            "object_fit": null,
            "object_position": null,
            "order": null,
            "overflow": null,
            "overflow_x": null,
            "overflow_y": null,
            "padding": null,
            "right": null,
            "top": null,
            "visibility": null,
            "width": null
          }
        },
        "906b07c744a94863af59e98b65794ba1": {
          "model_module": "@jupyter-widgets/base",
          "model_name": "LayoutModel",
          "model_module_version": "1.2.0",
          "state": {
            "_model_module": "@jupyter-widgets/base",
            "_model_module_version": "1.2.0",
            "_model_name": "LayoutModel",
            "_view_count": null,
            "_view_module": "@jupyter-widgets/base",
            "_view_module_version": "1.2.0",
            "_view_name": "LayoutView",
            "align_content": null,
            "align_items": null,
            "align_self": null,
            "border": null,
            "bottom": null,
            "display": null,
            "flex": null,
            "flex_flow": null,
            "grid_area": null,
            "grid_auto_columns": null,
            "grid_auto_flow": null,
            "grid_auto_rows": null,
            "grid_column": null,
            "grid_gap": null,
            "grid_row": null,
            "grid_template_areas": null,
            "grid_template_columns": null,
            "grid_template_rows": null,
            "height": null,
            "justify_content": null,
            "justify_items": null,
            "left": null,
            "margin": null,
            "max_height": null,
            "max_width": null,
            "min_height": null,
            "min_width": null,
            "object_fit": null,
            "object_position": null,
            "order": null,
            "overflow": null,
            "overflow_x": null,
            "overflow_y": null,
            "padding": null,
            "right": null,
            "top": null,
            "visibility": null,
            "width": null
          }
        },
        "76992247c24e48a2bae57713ef51d7cb": {
          "model_module": "@jupyter-widgets/controls",
          "model_name": "DescriptionStyleModel",
          "model_module_version": "1.5.0",
          "state": {
            "_model_module": "@jupyter-widgets/controls",
            "_model_module_version": "1.5.0",
            "_model_name": "DescriptionStyleModel",
            "_view_count": null,
            "_view_module": "@jupyter-widgets/base",
            "_view_module_version": "1.2.0",
            "_view_name": "StyleView",
            "description_width": ""
          }
        },
        "89488f61d61f4effba28515fc135a32c": {
          "model_module": "@jupyter-widgets/base",
          "model_name": "LayoutModel",
          "model_module_version": "1.2.0",
          "state": {
            "_model_module": "@jupyter-widgets/base",
            "_model_module_version": "1.2.0",
            "_model_name": "LayoutModel",
            "_view_count": null,
            "_view_module": "@jupyter-widgets/base",
            "_view_module_version": "1.2.0",
            "_view_name": "LayoutView",
            "align_content": null,
            "align_items": null,
            "align_self": null,
            "border": null,
            "bottom": null,
            "display": null,
            "flex": null,
            "flex_flow": null,
            "grid_area": null,
            "grid_auto_columns": null,
            "grid_auto_flow": null,
            "grid_auto_rows": null,
            "grid_column": null,
            "grid_gap": null,
            "grid_row": null,
            "grid_template_areas": null,
            "grid_template_columns": null,
            "grid_template_rows": null,
            "height": null,
            "justify_content": null,
            "justify_items": null,
            "left": null,
            "margin": null,
            "max_height": null,
            "max_width": null,
            "min_height": null,
            "min_width": null,
            "object_fit": null,
            "object_position": null,
            "order": null,
            "overflow": null,
            "overflow_x": null,
            "overflow_y": null,
            "padding": null,
            "right": null,
            "top": null,
            "visibility": null,
            "width": null
          }
        },
        "8cb67a584339429cbb0337b7fef7929b": {
          "model_module": "@jupyter-widgets/controls",
          "model_name": "ProgressStyleModel",
          "model_module_version": "1.5.0",
          "state": {
            "_model_module": "@jupyter-widgets/controls",
            "_model_module_version": "1.5.0",
            "_model_name": "ProgressStyleModel",
            "_view_count": null,
            "_view_module": "@jupyter-widgets/base",
            "_view_module_version": "1.2.0",
            "_view_name": "StyleView",
            "bar_color": null,
            "description_width": ""
          }
        },
        "36e69a9d7e064329a2250748d11fd2d3": {
          "model_module": "@jupyter-widgets/base",
          "model_name": "LayoutModel",
          "model_module_version": "1.2.0",
          "state": {
            "_model_module": "@jupyter-widgets/base",
            "_model_module_version": "1.2.0",
            "_model_name": "LayoutModel",
            "_view_count": null,
            "_view_module": "@jupyter-widgets/base",
            "_view_module_version": "1.2.0",
            "_view_name": "LayoutView",
            "align_content": null,
            "align_items": null,
            "align_self": null,
            "border": null,
            "bottom": null,
            "display": null,
            "flex": null,
            "flex_flow": null,
            "grid_area": null,
            "grid_auto_columns": null,
            "grid_auto_flow": null,
            "grid_auto_rows": null,
            "grid_column": null,
            "grid_gap": null,
            "grid_row": null,
            "grid_template_areas": null,
            "grid_template_columns": null,
            "grid_template_rows": null,
            "height": null,
            "justify_content": null,
            "justify_items": null,
            "left": null,
            "margin": null,
            "max_height": null,
            "max_width": null,
            "min_height": null,
            "min_width": null,
            "object_fit": null,
            "object_position": null,
            "order": null,
            "overflow": null,
            "overflow_x": null,
            "overflow_y": null,
            "padding": null,
            "right": null,
            "top": null,
            "visibility": null,
            "width": null
          }
        },
        "940c1f926d514641abbdbf3dab2f7fe7": {
          "model_module": "@jupyter-widgets/controls",
          "model_name": "DescriptionStyleModel",
          "model_module_version": "1.5.0",
          "state": {
            "_model_module": "@jupyter-widgets/controls",
            "_model_module_version": "1.5.0",
            "_model_name": "DescriptionStyleModel",
            "_view_count": null,
            "_view_module": "@jupyter-widgets/base",
            "_view_module_version": "1.2.0",
            "_view_name": "StyleView",
            "description_width": ""
          }
        },
        "a424678168794b8282757f6579ed6a19": {
          "model_module": "@jupyter-widgets/controls",
          "model_name": "HBoxModel",
          "model_module_version": "1.5.0",
          "state": {
            "_dom_classes": [],
            "_model_module": "@jupyter-widgets/controls",
            "_model_module_version": "1.5.0",
            "_model_name": "HBoxModel",
            "_view_count": null,
            "_view_module": "@jupyter-widgets/controls",
            "_view_module_version": "1.5.0",
            "_view_name": "HBoxView",
            "box_style": "",
            "children": [
              "IPY_MODEL_1192cc3fa925486aa5d60d8f72fc22bb",
              "IPY_MODEL_078f83017f4a49a8a058f6bb7cc27b07",
              "IPY_MODEL_1505be541c114468816da831a82d84a7"
            ],
            "layout": "IPY_MODEL_669a94cd580343aa8d0bb891091a8fe9"
          }
        },
        "1192cc3fa925486aa5d60d8f72fc22bb": {
          "model_module": "@jupyter-widgets/controls",
          "model_name": "HTMLModel",
          "model_module_version": "1.5.0",
          "state": {
            "_dom_classes": [],
            "_model_module": "@jupyter-widgets/controls",
            "_model_module_version": "1.5.0",
            "_model_name": "HTMLModel",
            "_view_count": null,
            "_view_module": "@jupyter-widgets/controls",
            "_view_module_version": "1.5.0",
            "_view_name": "HTMLView",
            "description": "",
            "description_tooltip": null,
            "layout": "IPY_MODEL_ad1a030706d346da839c01c5c31b0c07",
            "placeholder": "​",
            "style": "IPY_MODEL_d5e811b4d70841dca1c02474e5c6ad58",
            "value": ""
          }
        },
        "078f83017f4a49a8a058f6bb7cc27b07": {
          "model_module": "@jupyter-widgets/controls",
          "model_name": "FloatProgressModel",
          "model_module_version": "1.5.0",
          "state": {
            "_dom_classes": [],
            "_model_module": "@jupyter-widgets/controls",
            "_model_module_version": "1.5.0",
            "_model_name": "FloatProgressModel",
            "_view_count": null,
            "_view_module": "@jupyter-widgets/controls",
            "_view_module_version": "1.5.0",
            "_view_name": "ProgressView",
            "bar_style": "success",
            "description": "",
            "description_tooltip": null,
            "layout": "IPY_MODEL_9f466d8fa3f34439824d75628650c2cf",
            "max": 1,
            "min": 0,
            "orientation": "horizontal",
            "style": "IPY_MODEL_ebce877352fa4469acbacdcd48311b4b",
            "value": 0
          }
        },
        "1505be541c114468816da831a82d84a7": {
          "model_module": "@jupyter-widgets/controls",
          "model_name": "HTMLModel",
          "model_module_version": "1.5.0",
          "state": {
            "_dom_classes": [],
            "_model_module": "@jupyter-widgets/controls",
            "_model_module_version": "1.5.0",
            "_model_name": "HTMLModel",
            "_view_count": null,
            "_view_module": "@jupyter-widgets/controls",
            "_view_module_version": "1.5.0",
            "_view_name": "HTMLView",
            "description": "",
            "description_tooltip": null,
            "layout": "IPY_MODEL_88f2637877d54ff5bd3988d10204d77e",
            "placeholder": "​",
            "style": "IPY_MODEL_913a5c7ff6c942e0a763023d0e3e519b",
            "value": " 0/0 [00:00&lt;?, ?it/s]"
          }
        },
        "669a94cd580343aa8d0bb891091a8fe9": {
          "model_module": "@jupyter-widgets/base",
          "model_name": "LayoutModel",
          "model_module_version": "1.2.0",
          "state": {
            "_model_module": "@jupyter-widgets/base",
            "_model_module_version": "1.2.0",
            "_model_name": "LayoutModel",
            "_view_count": null,
            "_view_module": "@jupyter-widgets/base",
            "_view_module_version": "1.2.0",
            "_view_name": "LayoutView",
            "align_content": null,
            "align_items": null,
            "align_self": null,
            "border": null,
            "bottom": null,
            "display": null,
            "flex": null,
            "flex_flow": null,
            "grid_area": null,
            "grid_auto_columns": null,
            "grid_auto_flow": null,
            "grid_auto_rows": null,
            "grid_column": null,
            "grid_gap": null,
            "grid_row": null,
            "grid_template_areas": null,
            "grid_template_columns": null,
            "grid_template_rows": null,
            "height": null,
            "justify_content": null,
            "justify_items": null,
            "left": null,
            "margin": null,
            "max_height": null,
            "max_width": null,
            "min_height": null,
            "min_width": null,
            "object_fit": null,
            "object_position": null,
            "order": null,
            "overflow": null,
            "overflow_x": null,
            "overflow_y": null,
            "padding": null,
            "right": null,
            "top": null,
            "visibility": null,
            "width": null
          }
        },
        "ad1a030706d346da839c01c5c31b0c07": {
          "model_module": "@jupyter-widgets/base",
          "model_name": "LayoutModel",
          "model_module_version": "1.2.0",
          "state": {
            "_model_module": "@jupyter-widgets/base",
            "_model_module_version": "1.2.0",
            "_model_name": "LayoutModel",
            "_view_count": null,
            "_view_module": "@jupyter-widgets/base",
            "_view_module_version": "1.2.0",
            "_view_name": "LayoutView",
            "align_content": null,
            "align_items": null,
            "align_self": null,
            "border": null,
            "bottom": null,
            "display": null,
            "flex": null,
            "flex_flow": null,
            "grid_area": null,
            "grid_auto_columns": null,
            "grid_auto_flow": null,
            "grid_auto_rows": null,
            "grid_column": null,
            "grid_gap": null,
            "grid_row": null,
            "grid_template_areas": null,
            "grid_template_columns": null,
            "grid_template_rows": null,
            "height": null,
            "justify_content": null,
            "justify_items": null,
            "left": null,
            "margin": null,
            "max_height": null,
            "max_width": null,
            "min_height": null,
            "min_width": null,
            "object_fit": null,
            "object_position": null,
            "order": null,
            "overflow": null,
            "overflow_x": null,
            "overflow_y": null,
            "padding": null,
            "right": null,
            "top": null,
            "visibility": null,
            "width": null
          }
        },
        "d5e811b4d70841dca1c02474e5c6ad58": {
          "model_module": "@jupyter-widgets/controls",
          "model_name": "DescriptionStyleModel",
          "model_module_version": "1.5.0",
          "state": {
            "_model_module": "@jupyter-widgets/controls",
            "_model_module_version": "1.5.0",
            "_model_name": "DescriptionStyleModel",
            "_view_count": null,
            "_view_module": "@jupyter-widgets/base",
            "_view_module_version": "1.2.0",
            "_view_name": "StyleView",
            "description_width": ""
          }
        },
        "9f466d8fa3f34439824d75628650c2cf": {
          "model_module": "@jupyter-widgets/base",
          "model_name": "LayoutModel",
          "model_module_version": "1.2.0",
          "state": {
            "_model_module": "@jupyter-widgets/base",
            "_model_module_version": "1.2.0",
            "_model_name": "LayoutModel",
            "_view_count": null,
            "_view_module": "@jupyter-widgets/base",
            "_view_module_version": "1.2.0",
            "_view_name": "LayoutView",
            "align_content": null,
            "align_items": null,
            "align_self": null,
            "border": null,
            "bottom": null,
            "display": null,
            "flex": null,
            "flex_flow": null,
            "grid_area": null,
            "grid_auto_columns": null,
            "grid_auto_flow": null,
            "grid_auto_rows": null,
            "grid_column": null,
            "grid_gap": null,
            "grid_row": null,
            "grid_template_areas": null,
            "grid_template_columns": null,
            "grid_template_rows": null,
            "height": null,
            "justify_content": null,
            "justify_items": null,
            "left": null,
            "margin": null,
            "max_height": null,
            "max_width": null,
            "min_height": null,
            "min_width": null,
            "object_fit": null,
            "object_position": null,
            "order": null,
            "overflow": null,
            "overflow_x": null,
            "overflow_y": null,
            "padding": null,
            "right": null,
            "top": null,
            "visibility": null,
            "width": "20px"
          }
        },
        "ebce877352fa4469acbacdcd48311b4b": {
          "model_module": "@jupyter-widgets/controls",
          "model_name": "ProgressStyleModel",
          "model_module_version": "1.5.0",
          "state": {
            "_model_module": "@jupyter-widgets/controls",
            "_model_module_version": "1.5.0",
            "_model_name": "ProgressStyleModel",
            "_view_count": null,
            "_view_module": "@jupyter-widgets/base",
            "_view_module_version": "1.2.0",
            "_view_name": "StyleView",
            "bar_color": null,
            "description_width": ""
          }
        },
        "88f2637877d54ff5bd3988d10204d77e": {
          "model_module": "@jupyter-widgets/base",
          "model_name": "LayoutModel",
          "model_module_version": "1.2.0",
          "state": {
            "_model_module": "@jupyter-widgets/base",
            "_model_module_version": "1.2.0",
            "_model_name": "LayoutModel",
            "_view_count": null,
            "_view_module": "@jupyter-widgets/base",
            "_view_module_version": "1.2.0",
            "_view_name": "LayoutView",
            "align_content": null,
            "align_items": null,
            "align_self": null,
            "border": null,
            "bottom": null,
            "display": null,
            "flex": null,
            "flex_flow": null,
            "grid_area": null,
            "grid_auto_columns": null,
            "grid_auto_flow": null,
            "grid_auto_rows": null,
            "grid_column": null,
            "grid_gap": null,
            "grid_row": null,
            "grid_template_areas": null,
            "grid_template_columns": null,
            "grid_template_rows": null,
            "height": null,
            "justify_content": null,
            "justify_items": null,
            "left": null,
            "margin": null,
            "max_height": null,
            "max_width": null,
            "min_height": null,
            "min_width": null,
            "object_fit": null,
            "object_position": null,
            "order": null,
            "overflow": null,
            "overflow_x": null,
            "overflow_y": null,
            "padding": null,
            "right": null,
            "top": null,
            "visibility": null,
            "width": null
          }
        },
        "913a5c7ff6c942e0a763023d0e3e519b": {
          "model_module": "@jupyter-widgets/controls",
          "model_name": "DescriptionStyleModel",
          "model_module_version": "1.5.0",
          "state": {
            "_model_module": "@jupyter-widgets/controls",
            "_model_module_version": "1.5.0",
            "_model_name": "DescriptionStyleModel",
            "_view_count": null,
            "_view_module": "@jupyter-widgets/base",
            "_view_module_version": "1.2.0",
            "_view_name": "StyleView",
            "description_width": ""
          }
        },
        "c82f49a2588b464485226e98fa647e8f": {
          "model_module": "@jupyter-widgets/controls",
          "model_name": "HBoxModel",
          "model_module_version": "1.5.0",
          "state": {
            "_dom_classes": [],
            "_model_module": "@jupyter-widgets/controls",
            "_model_module_version": "1.5.0",
            "_model_name": "HBoxModel",
            "_view_count": null,
            "_view_module": "@jupyter-widgets/controls",
            "_view_module_version": "1.5.0",
            "_view_name": "HBoxView",
            "box_style": "",
            "children": [
              "IPY_MODEL_052d321ff8a549c79648e257e30e897d",
              "IPY_MODEL_e5d45a7aab614a74aedc115c990ee88f",
              "IPY_MODEL_9b092276492a49daa49180f4214fae0c"
            ],
            "layout": "IPY_MODEL_192b3412e5ce45a2b65be479ed80b076"
          }
        },
        "052d321ff8a549c79648e257e30e897d": {
          "model_module": "@jupyter-widgets/controls",
          "model_name": "HTMLModel",
          "model_module_version": "1.5.0",
          "state": {
            "_dom_classes": [],
            "_model_module": "@jupyter-widgets/controls",
            "_model_module_version": "1.5.0",
            "_model_name": "HTMLModel",
            "_view_count": null,
            "_view_module": "@jupyter-widgets/controls",
            "_view_module_version": "1.5.0",
            "_view_name": "HTMLView",
            "description": "",
            "description_tooltip": null,
            "layout": "IPY_MODEL_fcc54752114a4dc3b18d3c9fac935e93",
            "placeholder": "​",
            "style": "IPY_MODEL_236a5bb676454df086f3eefc40413916",
            "value": "modules.json: 100%"
          }
        },
        "e5d45a7aab614a74aedc115c990ee88f": {
          "model_module": "@jupyter-widgets/controls",
          "model_name": "FloatProgressModel",
          "model_module_version": "1.5.0",
          "state": {
            "_dom_classes": [],
            "_model_module": "@jupyter-widgets/controls",
            "_model_module_version": "1.5.0",
            "_model_name": "FloatProgressModel",
            "_view_count": null,
            "_view_module": "@jupyter-widgets/controls",
            "_view_module_version": "1.5.0",
            "_view_name": "ProgressView",
            "bar_style": "success",
            "description": "",
            "description_tooltip": null,
            "layout": "IPY_MODEL_20279636e8f74fbe82a466fb5dbb115c",
            "max": 385,
            "min": 0,
            "orientation": "horizontal",
            "style": "IPY_MODEL_b5e0be3fd82f4ad19b30c1d9355b5fa9",
            "value": 385
          }
        },
        "9b092276492a49daa49180f4214fae0c": {
          "model_module": "@jupyter-widgets/controls",
          "model_name": "HTMLModel",
          "model_module_version": "1.5.0",
          "state": {
            "_dom_classes": [],
            "_model_module": "@jupyter-widgets/controls",
            "_model_module_version": "1.5.0",
            "_model_name": "HTMLModel",
            "_view_count": null,
            "_view_module": "@jupyter-widgets/controls",
            "_view_module_version": "1.5.0",
            "_view_name": "HTMLView",
            "description": "",
            "description_tooltip": null,
            "layout": "IPY_MODEL_7cc85b42275640b48fa5325cbfa5e020",
            "placeholder": "​",
            "style": "IPY_MODEL_645b07e409ac4d5fbac3cd85e86fa955",
            "value": " 385/385 [00:00&lt;00:00, 44.9kB/s]"
          }
        },
        "192b3412e5ce45a2b65be479ed80b076": {
          "model_module": "@jupyter-widgets/base",
          "model_name": "LayoutModel",
          "model_module_version": "1.2.0",
          "state": {
            "_model_module": "@jupyter-widgets/base",
            "_model_module_version": "1.2.0",
            "_model_name": "LayoutModel",
            "_view_count": null,
            "_view_module": "@jupyter-widgets/base",
            "_view_module_version": "1.2.0",
            "_view_name": "LayoutView",
            "align_content": null,
            "align_items": null,
            "align_self": null,
            "border": null,
            "bottom": null,
            "display": null,
            "flex": null,
            "flex_flow": null,
            "grid_area": null,
            "grid_auto_columns": null,
            "grid_auto_flow": null,
            "grid_auto_rows": null,
            "grid_column": null,
            "grid_gap": null,
            "grid_row": null,
            "grid_template_areas": null,
            "grid_template_columns": null,
            "grid_template_rows": null,
            "height": null,
            "justify_content": null,
            "justify_items": null,
            "left": null,
            "margin": null,
            "max_height": null,
            "max_width": null,
            "min_height": null,
            "min_width": null,
            "object_fit": null,
            "object_position": null,
            "order": null,
            "overflow": null,
            "overflow_x": null,
            "overflow_y": null,
            "padding": null,
            "right": null,
            "top": null,
            "visibility": null,
            "width": null
          }
        },
        "fcc54752114a4dc3b18d3c9fac935e93": {
          "model_module": "@jupyter-widgets/base",
          "model_name": "LayoutModel",
          "model_module_version": "1.2.0",
          "state": {
            "_model_module": "@jupyter-widgets/base",
            "_model_module_version": "1.2.0",
            "_model_name": "LayoutModel",
            "_view_count": null,
            "_view_module": "@jupyter-widgets/base",
            "_view_module_version": "1.2.0",
            "_view_name": "LayoutView",
            "align_content": null,
            "align_items": null,
            "align_self": null,
            "border": null,
            "bottom": null,
            "display": null,
            "flex": null,
            "flex_flow": null,
            "grid_area": null,
            "grid_auto_columns": null,
            "grid_auto_flow": null,
            "grid_auto_rows": null,
            "grid_column": null,
            "grid_gap": null,
            "grid_row": null,
            "grid_template_areas": null,
            "grid_template_columns": null,
            "grid_template_rows": null,
            "height": null,
            "justify_content": null,
            "justify_items": null,
            "left": null,
            "margin": null,
            "max_height": null,
            "max_width": null,
            "min_height": null,
            "min_width": null,
            "object_fit": null,
            "object_position": null,
            "order": null,
            "overflow": null,
            "overflow_x": null,
            "overflow_y": null,
            "padding": null,
            "right": null,
            "top": null,
            "visibility": null,
            "width": null
          }
        },
        "236a5bb676454df086f3eefc40413916": {
          "model_module": "@jupyter-widgets/controls",
          "model_name": "DescriptionStyleModel",
          "model_module_version": "1.5.0",
          "state": {
            "_model_module": "@jupyter-widgets/controls",
            "_model_module_version": "1.5.0",
            "_model_name": "DescriptionStyleModel",
            "_view_count": null,
            "_view_module": "@jupyter-widgets/base",
            "_view_module_version": "1.2.0",
            "_view_name": "StyleView",
            "description_width": ""
          }
        },
        "20279636e8f74fbe82a466fb5dbb115c": {
          "model_module": "@jupyter-widgets/base",
          "model_name": "LayoutModel",
          "model_module_version": "1.2.0",
          "state": {
            "_model_module": "@jupyter-widgets/base",
            "_model_module_version": "1.2.0",
            "_model_name": "LayoutModel",
            "_view_count": null,
            "_view_module": "@jupyter-widgets/base",
            "_view_module_version": "1.2.0",
            "_view_name": "LayoutView",
            "align_content": null,
            "align_items": null,
            "align_self": null,
            "border": null,
            "bottom": null,
            "display": null,
            "flex": null,
            "flex_flow": null,
            "grid_area": null,
            "grid_auto_columns": null,
            "grid_auto_flow": null,
            "grid_auto_rows": null,
            "grid_column": null,
            "grid_gap": null,
            "grid_row": null,
            "grid_template_areas": null,
            "grid_template_columns": null,
            "grid_template_rows": null,
            "height": null,
            "justify_content": null,
            "justify_items": null,
            "left": null,
            "margin": null,
            "max_height": null,
            "max_width": null,
            "min_height": null,
            "min_width": null,
            "object_fit": null,
            "object_position": null,
            "order": null,
            "overflow": null,
            "overflow_x": null,
            "overflow_y": null,
            "padding": null,
            "right": null,
            "top": null,
            "visibility": null,
            "width": null
          }
        },
        "b5e0be3fd82f4ad19b30c1d9355b5fa9": {
          "model_module": "@jupyter-widgets/controls",
          "model_name": "ProgressStyleModel",
          "model_module_version": "1.5.0",
          "state": {
            "_model_module": "@jupyter-widgets/controls",
            "_model_module_version": "1.5.0",
            "_model_name": "ProgressStyleModel",
            "_view_count": null,
            "_view_module": "@jupyter-widgets/base",
            "_view_module_version": "1.2.0",
            "_view_name": "StyleView",
            "bar_color": null,
            "description_width": ""
          }
        },
        "7cc85b42275640b48fa5325cbfa5e020": {
          "model_module": "@jupyter-widgets/base",
          "model_name": "LayoutModel",
          "model_module_version": "1.2.0",
          "state": {
            "_model_module": "@jupyter-widgets/base",
            "_model_module_version": "1.2.0",
            "_model_name": "LayoutModel",
            "_view_count": null,
            "_view_module": "@jupyter-widgets/base",
            "_view_module_version": "1.2.0",
            "_view_name": "LayoutView",
            "align_content": null,
            "align_items": null,
            "align_self": null,
            "border": null,
            "bottom": null,
            "display": null,
            "flex": null,
            "flex_flow": null,
            "grid_area": null,
            "grid_auto_columns": null,
            "grid_auto_flow": null,
            "grid_auto_rows": null,
            "grid_column": null,
            "grid_gap": null,
            "grid_row": null,
            "grid_template_areas": null,
            "grid_template_columns": null,
            "grid_template_rows": null,
            "height": null,
            "justify_content": null,
            "justify_items": null,
            "left": null,
            "margin": null,
            "max_height": null,
            "max_width": null,
            "min_height": null,
            "min_width": null,
            "object_fit": null,
            "object_position": null,
            "order": null,
            "overflow": null,
            "overflow_x": null,
            "overflow_y": null,
            "padding": null,
            "right": null,
            "top": null,
            "visibility": null,
            "width": null
          }
        },
        "645b07e409ac4d5fbac3cd85e86fa955": {
          "model_module": "@jupyter-widgets/controls",
          "model_name": "DescriptionStyleModel",
          "model_module_version": "1.5.0",
          "state": {
            "_model_module": "@jupyter-widgets/controls",
            "_model_module_version": "1.5.0",
            "_model_name": "DescriptionStyleModel",
            "_view_count": null,
            "_view_module": "@jupyter-widgets/base",
            "_view_module_version": "1.2.0",
            "_view_name": "StyleView",
            "description_width": ""
          }
        },
        "ec72f4c724c34132942b929d0823ac9c": {
          "model_module": "@jupyter-widgets/controls",
          "model_name": "HBoxModel",
          "model_module_version": "1.5.0",
          "state": {
            "_dom_classes": [],
            "_model_module": "@jupyter-widgets/controls",
            "_model_module_version": "1.5.0",
            "_model_name": "HBoxModel",
            "_view_count": null,
            "_view_module": "@jupyter-widgets/controls",
            "_view_module_version": "1.5.0",
            "_view_name": "HBoxView",
            "box_style": "",
            "children": [
              "IPY_MODEL_51c66877d57645b8a851eed75bc40e03",
              "IPY_MODEL_7b4bee1730214964843bdcb90372a8cc",
              "IPY_MODEL_632d272811384dfc8ce7598d6ba791a2"
            ],
            "layout": "IPY_MODEL_8c11fccd213f4adfa481193f2564cc41"
          }
        },
        "51c66877d57645b8a851eed75bc40e03": {
          "model_module": "@jupyter-widgets/controls",
          "model_name": "HTMLModel",
          "model_module_version": "1.5.0",
          "state": {
            "_dom_classes": [],
            "_model_module": "@jupyter-widgets/controls",
            "_model_module_version": "1.5.0",
            "_model_name": "HTMLModel",
            "_view_count": null,
            "_view_module": "@jupyter-widgets/controls",
            "_view_module_version": "1.5.0",
            "_view_name": "HTMLView",
            "description": "",
            "description_tooltip": null,
            "layout": "IPY_MODEL_81498c9cdc604c588f117cd317c4b9f0",
            "placeholder": "​",
            "style": "IPY_MODEL_885408ae9d9645e599614994d23d6835",
            "value": "README.md: "
          }
        },
        "7b4bee1730214964843bdcb90372a8cc": {
          "model_module": "@jupyter-widgets/controls",
          "model_name": "FloatProgressModel",
          "model_module_version": "1.5.0",
          "state": {
            "_dom_classes": [],
            "_model_module": "@jupyter-widgets/controls",
            "_model_module_version": "1.5.0",
            "_model_name": "FloatProgressModel",
            "_view_count": null,
            "_view_module": "@jupyter-widgets/controls",
            "_view_module_version": "1.5.0",
            "_view_name": "ProgressView",
            "bar_style": "success",
            "description": "",
            "description_tooltip": null,
            "layout": "IPY_MODEL_308a7c0184cb4bddb4621ffc585846b5",
            "max": 1,
            "min": 0,
            "orientation": "horizontal",
            "style": "IPY_MODEL_c5182dc2cc0c451cb0c264ae9d1cf37e",
            "value": 1
          }
        },
        "632d272811384dfc8ce7598d6ba791a2": {
          "model_module": "@jupyter-widgets/controls",
          "model_name": "HTMLModel",
          "model_module_version": "1.5.0",
          "state": {
            "_dom_classes": [],
            "_model_module": "@jupyter-widgets/controls",
            "_model_module_version": "1.5.0",
            "_model_name": "HTMLModel",
            "_view_count": null,
            "_view_module": "@jupyter-widgets/controls",
            "_view_module_version": "1.5.0",
            "_view_name": "HTMLView",
            "description": "",
            "description_tooltip": null,
            "layout": "IPY_MODEL_4d4e8ead78b84856801ae0823100e4fd",
            "placeholder": "​",
            "style": "IPY_MODEL_35e9fa884ba248e0bfb440323ada1e88",
            "value": " 67.9k/? [00:00&lt;00:00, 6.37MB/s]"
          }
        },
        "8c11fccd213f4adfa481193f2564cc41": {
          "model_module": "@jupyter-widgets/base",
          "model_name": "LayoutModel",
          "model_module_version": "1.2.0",
          "state": {
            "_model_module": "@jupyter-widgets/base",
            "_model_module_version": "1.2.0",
            "_model_name": "LayoutModel",
            "_view_count": null,
            "_view_module": "@jupyter-widgets/base",
            "_view_module_version": "1.2.0",
            "_view_name": "LayoutView",
            "align_content": null,
            "align_items": null,
            "align_self": null,
            "border": null,
            "bottom": null,
            "display": null,
            "flex": null,
            "flex_flow": null,
            "grid_area": null,
            "grid_auto_columns": null,
            "grid_auto_flow": null,
            "grid_auto_rows": null,
            "grid_column": null,
            "grid_gap": null,
            "grid_row": null,
            "grid_template_areas": null,
            "grid_template_columns": null,
            "grid_template_rows": null,
            "height": null,
            "justify_content": null,
            "justify_items": null,
            "left": null,
            "margin": null,
            "max_height": null,
            "max_width": null,
            "min_height": null,
            "min_width": null,
            "object_fit": null,
            "object_position": null,
            "order": null,
            "overflow": null,
            "overflow_x": null,
            "overflow_y": null,
            "padding": null,
            "right": null,
            "top": null,
            "visibility": null,
            "width": null
          }
        },
        "81498c9cdc604c588f117cd317c4b9f0": {
          "model_module": "@jupyter-widgets/base",
          "model_name": "LayoutModel",
          "model_module_version": "1.2.0",
          "state": {
            "_model_module": "@jupyter-widgets/base",
            "_model_module_version": "1.2.0",
            "_model_name": "LayoutModel",
            "_view_count": null,
            "_view_module": "@jupyter-widgets/base",
            "_view_module_version": "1.2.0",
            "_view_name": "LayoutView",
            "align_content": null,
            "align_items": null,
            "align_self": null,
            "border": null,
            "bottom": null,
            "display": null,
            "flex": null,
            "flex_flow": null,
            "grid_area": null,
            "grid_auto_columns": null,
            "grid_auto_flow": null,
            "grid_auto_rows": null,
            "grid_column": null,
            "grid_gap": null,
            "grid_row": null,
            "grid_template_areas": null,
            "grid_template_columns": null,
            "grid_template_rows": null,
            "height": null,
            "justify_content": null,
            "justify_items": null,
            "left": null,
            "margin": null,
            "max_height": null,
            "max_width": null,
            "min_height": null,
            "min_width": null,
            "object_fit": null,
            "object_position": null,
            "order": null,
            "overflow": null,
            "overflow_x": null,
            "overflow_y": null,
            "padding": null,
            "right": null,
            "top": null,
            "visibility": null,
            "width": null
          }
        },
        "885408ae9d9645e599614994d23d6835": {
          "model_module": "@jupyter-widgets/controls",
          "model_name": "DescriptionStyleModel",
          "model_module_version": "1.5.0",
          "state": {
            "_model_module": "@jupyter-widgets/controls",
            "_model_module_version": "1.5.0",
            "_model_name": "DescriptionStyleModel",
            "_view_count": null,
            "_view_module": "@jupyter-widgets/base",
            "_view_module_version": "1.2.0",
            "_view_name": "StyleView",
            "description_width": ""
          }
        },
        "308a7c0184cb4bddb4621ffc585846b5": {
          "model_module": "@jupyter-widgets/base",
          "model_name": "LayoutModel",
          "model_module_version": "1.2.0",
          "state": {
            "_model_module": "@jupyter-widgets/base",
            "_model_module_version": "1.2.0",
            "_model_name": "LayoutModel",
            "_view_count": null,
            "_view_module": "@jupyter-widgets/base",
            "_view_module_version": "1.2.0",
            "_view_name": "LayoutView",
            "align_content": null,
            "align_items": null,
            "align_self": null,
            "border": null,
            "bottom": null,
            "display": null,
            "flex": null,
            "flex_flow": null,
            "grid_area": null,
            "grid_auto_columns": null,
            "grid_auto_flow": null,
            "grid_auto_rows": null,
            "grid_column": null,
            "grid_gap": null,
            "grid_row": null,
            "grid_template_areas": null,
            "grid_template_columns": null,
            "grid_template_rows": null,
            "height": null,
            "justify_content": null,
            "justify_items": null,
            "left": null,
            "margin": null,
            "max_height": null,
            "max_width": null,
            "min_height": null,
            "min_width": null,
            "object_fit": null,
            "object_position": null,
            "order": null,
            "overflow": null,
            "overflow_x": null,
            "overflow_y": null,
            "padding": null,
            "right": null,
            "top": null,
            "visibility": null,
            "width": "20px"
          }
        },
        "c5182dc2cc0c451cb0c264ae9d1cf37e": {
          "model_module": "@jupyter-widgets/controls",
          "model_name": "ProgressStyleModel",
          "model_module_version": "1.5.0",
          "state": {
            "_model_module": "@jupyter-widgets/controls",
            "_model_module_version": "1.5.0",
            "_model_name": "ProgressStyleModel",
            "_view_count": null,
            "_view_module": "@jupyter-widgets/base",
            "_view_module_version": "1.2.0",
            "_view_name": "StyleView",
            "bar_color": null,
            "description_width": ""
          }
        },
        "4d4e8ead78b84856801ae0823100e4fd": {
          "model_module": "@jupyter-widgets/base",
          "model_name": "LayoutModel",
          "model_module_version": "1.2.0",
          "state": {
            "_model_module": "@jupyter-widgets/base",
            "_model_module_version": "1.2.0",
            "_model_name": "LayoutModel",
            "_view_count": null,
            "_view_module": "@jupyter-widgets/base",
            "_view_module_version": "1.2.0",
            "_view_name": "LayoutView",
            "align_content": null,
            "align_items": null,
            "align_self": null,
            "border": null,
            "bottom": null,
            "display": null,
            "flex": null,
            "flex_flow": null,
            "grid_area": null,
            "grid_auto_columns": null,
            "grid_auto_flow": null,
            "grid_auto_rows": null,
            "grid_column": null,
            "grid_gap": null,
            "grid_row": null,
            "grid_template_areas": null,
            "grid_template_columns": null,
            "grid_template_rows": null,
            "height": null,
            "justify_content": null,
            "justify_items": null,
            "left": null,
            "margin": null,
            "max_height": null,
            "max_width": null,
            "min_height": null,
            "min_width": null,
            "object_fit": null,
            "object_position": null,
            "order": null,
            "overflow": null,
            "overflow_x": null,
            "overflow_y": null,
            "padding": null,
            "right": null,
            "top": null,
            "visibility": null,
            "width": null
          }
        },
        "35e9fa884ba248e0bfb440323ada1e88": {
          "model_module": "@jupyter-widgets/controls",
          "model_name": "DescriptionStyleModel",
          "model_module_version": "1.5.0",
          "state": {
            "_model_module": "@jupyter-widgets/controls",
            "_model_module_version": "1.5.0",
            "_model_name": "DescriptionStyleModel",
            "_view_count": null,
            "_view_module": "@jupyter-widgets/base",
            "_view_module_version": "1.2.0",
            "_view_name": "StyleView",
            "description_width": ""
          }
        },
        "dda521006b5a4acdab96815d0e69fd60": {
          "model_module": "@jupyter-widgets/controls",
          "model_name": "HBoxModel",
          "model_module_version": "1.5.0",
          "state": {
            "_dom_classes": [],
            "_model_module": "@jupyter-widgets/controls",
            "_model_module_version": "1.5.0",
            "_model_name": "HBoxModel",
            "_view_count": null,
            "_view_module": "@jupyter-widgets/controls",
            "_view_module_version": "1.5.0",
            "_view_name": "HBoxView",
            "box_style": "",
            "children": [
              "IPY_MODEL_720cc285b1c84d3aa366d76ac1c754bb",
              "IPY_MODEL_d575302ef71247d6afd3cd4e818aeda9",
              "IPY_MODEL_eb8368484e8e4b30ae0f64a844a5a987"
            ],
            "layout": "IPY_MODEL_a80d03e2680d4e138bc89d171568612f"
          }
        },
        "720cc285b1c84d3aa366d76ac1c754bb": {
          "model_module": "@jupyter-widgets/controls",
          "model_name": "HTMLModel",
          "model_module_version": "1.5.0",
          "state": {
            "_dom_classes": [],
            "_model_module": "@jupyter-widgets/controls",
            "_model_module_version": "1.5.0",
            "_model_name": "HTMLModel",
            "_view_count": null,
            "_view_module": "@jupyter-widgets/controls",
            "_view_module_version": "1.5.0",
            "_view_name": "HTMLView",
            "description": "",
            "description_tooltip": null,
            "layout": "IPY_MODEL_cd70a2087d4d46628425d5386874af59",
            "placeholder": "​",
            "style": "IPY_MODEL_f4de034d3d91456a88cec95a37a96d16",
            "value": "sentence_bert_config.json: 100%"
          }
        },
        "d575302ef71247d6afd3cd4e818aeda9": {
          "model_module": "@jupyter-widgets/controls",
          "model_name": "FloatProgressModel",
          "model_module_version": "1.5.0",
          "state": {
            "_dom_classes": [],
            "_model_module": "@jupyter-widgets/controls",
            "_model_module_version": "1.5.0",
            "_model_name": "FloatProgressModel",
            "_view_count": null,
            "_view_module": "@jupyter-widgets/controls",
            "_view_module_version": "1.5.0",
            "_view_name": "ProgressView",
            "bar_style": "success",
            "description": "",
            "description_tooltip": null,
            "layout": "IPY_MODEL_eaea174cc7a44be282d134296c82c555",
            "max": 57,
            "min": 0,
            "orientation": "horizontal",
            "style": "IPY_MODEL_59fa0bb8b1544e87919a75472c9f4fa9",
            "value": 57
          }
        },
        "eb8368484e8e4b30ae0f64a844a5a987": {
          "model_module": "@jupyter-widgets/controls",
          "model_name": "HTMLModel",
          "model_module_version": "1.5.0",
          "state": {
            "_dom_classes": [],
            "_model_module": "@jupyter-widgets/controls",
            "_model_module_version": "1.5.0",
            "_model_name": "HTMLModel",
            "_view_count": null,
            "_view_module": "@jupyter-widgets/controls",
            "_view_module_version": "1.5.0",
            "_view_name": "HTMLView",
            "description": "",
            "description_tooltip": null,
            "layout": "IPY_MODEL_b6c919d839224e9d99b8868471fb1f35",
            "placeholder": "​",
            "style": "IPY_MODEL_e9927a57be1f489aa50a8c8a0bc0ea51",
            "value": " 57.0/57.0 [00:00&lt;00:00, 7.57kB/s]"
          }
        },
        "a80d03e2680d4e138bc89d171568612f": {
          "model_module": "@jupyter-widgets/base",
          "model_name": "LayoutModel",
          "model_module_version": "1.2.0",
          "state": {
            "_model_module": "@jupyter-widgets/base",
            "_model_module_version": "1.2.0",
            "_model_name": "LayoutModel",
            "_view_count": null,
            "_view_module": "@jupyter-widgets/base",
            "_view_module_version": "1.2.0",
            "_view_name": "LayoutView",
            "align_content": null,
            "align_items": null,
            "align_self": null,
            "border": null,
            "bottom": null,
            "display": null,
            "flex": null,
            "flex_flow": null,
            "grid_area": null,
            "grid_auto_columns": null,
            "grid_auto_flow": null,
            "grid_auto_rows": null,
            "grid_column": null,
            "grid_gap": null,
            "grid_row": null,
            "grid_template_areas": null,
            "grid_template_columns": null,
            "grid_template_rows": null,
            "height": null,
            "justify_content": null,
            "justify_items": null,
            "left": null,
            "margin": null,
            "max_height": null,
            "max_width": null,
            "min_height": null,
            "min_width": null,
            "object_fit": null,
            "object_position": null,
            "order": null,
            "overflow": null,
            "overflow_x": null,
            "overflow_y": null,
            "padding": null,
            "right": null,
            "top": null,
            "visibility": null,
            "width": null
          }
        },
        "cd70a2087d4d46628425d5386874af59": {
          "model_module": "@jupyter-widgets/base",
          "model_name": "LayoutModel",
          "model_module_version": "1.2.0",
          "state": {
            "_model_module": "@jupyter-widgets/base",
            "_model_module_version": "1.2.0",
            "_model_name": "LayoutModel",
            "_view_count": null,
            "_view_module": "@jupyter-widgets/base",
            "_view_module_version": "1.2.0",
            "_view_name": "LayoutView",
            "align_content": null,
            "align_items": null,
            "align_self": null,
            "border": null,
            "bottom": null,
            "display": null,
            "flex": null,
            "flex_flow": null,
            "grid_area": null,
            "grid_auto_columns": null,
            "grid_auto_flow": null,
            "grid_auto_rows": null,
            "grid_column": null,
            "grid_gap": null,
            "grid_row": null,
            "grid_template_areas": null,
            "grid_template_columns": null,
            "grid_template_rows": null,
            "height": null,
            "justify_content": null,
            "justify_items": null,
            "left": null,
            "margin": null,
            "max_height": null,
            "max_width": null,
            "min_height": null,
            "min_width": null,
            "object_fit": null,
            "object_position": null,
            "order": null,
            "overflow": null,
            "overflow_x": null,
            "overflow_y": null,
            "padding": null,
            "right": null,
            "top": null,
            "visibility": null,
            "width": null
          }
        },
        "f4de034d3d91456a88cec95a37a96d16": {
          "model_module": "@jupyter-widgets/controls",
          "model_name": "DescriptionStyleModel",
          "model_module_version": "1.5.0",
          "state": {
            "_model_module": "@jupyter-widgets/controls",
            "_model_module_version": "1.5.0",
            "_model_name": "DescriptionStyleModel",
            "_view_count": null,
            "_view_module": "@jupyter-widgets/base",
            "_view_module_version": "1.2.0",
            "_view_name": "StyleView",
            "description_width": ""
          }
        },
        "eaea174cc7a44be282d134296c82c555": {
          "model_module": "@jupyter-widgets/base",
          "model_name": "LayoutModel",
          "model_module_version": "1.2.0",
          "state": {
            "_model_module": "@jupyter-widgets/base",
            "_model_module_version": "1.2.0",
            "_model_name": "LayoutModel",
            "_view_count": null,
            "_view_module": "@jupyter-widgets/base",
            "_view_module_version": "1.2.0",
            "_view_name": "LayoutView",
            "align_content": null,
            "align_items": null,
            "align_self": null,
            "border": null,
            "bottom": null,
            "display": null,
            "flex": null,
            "flex_flow": null,
            "grid_area": null,
            "grid_auto_columns": null,
            "grid_auto_flow": null,
            "grid_auto_rows": null,
            "grid_column": null,
            "grid_gap": null,
            "grid_row": null,
            "grid_template_areas": null,
            "grid_template_columns": null,
            "grid_template_rows": null,
            "height": null,
            "justify_content": null,
            "justify_items": null,
            "left": null,
            "margin": null,
            "max_height": null,
            "max_width": null,
            "min_height": null,
            "min_width": null,
            "object_fit": null,
            "object_position": null,
            "order": null,
            "overflow": null,
            "overflow_x": null,
            "overflow_y": null,
            "padding": null,
            "right": null,
            "top": null,
            "visibility": null,
            "width": null
          }
        },
        "59fa0bb8b1544e87919a75472c9f4fa9": {
          "model_module": "@jupyter-widgets/controls",
          "model_name": "ProgressStyleModel",
          "model_module_version": "1.5.0",
          "state": {
            "_model_module": "@jupyter-widgets/controls",
            "_model_module_version": "1.5.0",
            "_model_name": "ProgressStyleModel",
            "_view_count": null,
            "_view_module": "@jupyter-widgets/base",
            "_view_module_version": "1.2.0",
            "_view_name": "StyleView",
            "bar_color": null,
            "description_width": ""
          }
        },
        "b6c919d839224e9d99b8868471fb1f35": {
          "model_module": "@jupyter-widgets/base",
          "model_name": "LayoutModel",
          "model_module_version": "1.2.0",
          "state": {
            "_model_module": "@jupyter-widgets/base",
            "_model_module_version": "1.2.0",
            "_model_name": "LayoutModel",
            "_view_count": null,
            "_view_module": "@jupyter-widgets/base",
            "_view_module_version": "1.2.0",
            "_view_name": "LayoutView",
            "align_content": null,
            "align_items": null,
            "align_self": null,
            "border": null,
            "bottom": null,
            "display": null,
            "flex": null,
            "flex_flow": null,
            "grid_area": null,
            "grid_auto_columns": null,
            "grid_auto_flow": null,
            "grid_auto_rows": null,
            "grid_column": null,
            "grid_gap": null,
            "grid_row": null,
            "grid_template_areas": null,
            "grid_template_columns": null,
            "grid_template_rows": null,
            "height": null,
            "justify_content": null,
            "justify_items": null,
            "left": null,
            "margin": null,
            "max_height": null,
            "max_width": null,
            "min_height": null,
            "min_width": null,
            "object_fit": null,
            "object_position": null,
            "order": null,
            "overflow": null,
            "overflow_x": null,
            "overflow_y": null,
            "padding": null,
            "right": null,
            "top": null,
            "visibility": null,
            "width": null
          }
        },
        "e9927a57be1f489aa50a8c8a0bc0ea51": {
          "model_module": "@jupyter-widgets/controls",
          "model_name": "DescriptionStyleModel",
          "model_module_version": "1.5.0",
          "state": {
            "_model_module": "@jupyter-widgets/controls",
            "_model_module_version": "1.5.0",
            "_model_name": "DescriptionStyleModel",
            "_view_count": null,
            "_view_module": "@jupyter-widgets/base",
            "_view_module_version": "1.2.0",
            "_view_name": "StyleView",
            "description_width": ""
          }
        },
        "7c096af60e3947de8a049d4627a64648": {
          "model_module": "@jupyter-widgets/controls",
          "model_name": "HBoxModel",
          "model_module_version": "1.5.0",
          "state": {
            "_dom_classes": [],
            "_model_module": "@jupyter-widgets/controls",
            "_model_module_version": "1.5.0",
            "_model_name": "HBoxModel",
            "_view_count": null,
            "_view_module": "@jupyter-widgets/controls",
            "_view_module_version": "1.5.0",
            "_view_name": "HBoxView",
            "box_style": "",
            "children": [
              "IPY_MODEL_8cc7d13a09e043dab100b624973dd477",
              "IPY_MODEL_ccf5bb3a04654c4f867a6fd44b5bbf7c",
              "IPY_MODEL_fb23e0cef16c45cda5760bf8f438d180"
            ],
            "layout": "IPY_MODEL_02f8d714be694d48a1dd968e7d4c3ed5"
          }
        },
        "8cc7d13a09e043dab100b624973dd477": {
          "model_module": "@jupyter-widgets/controls",
          "model_name": "HTMLModel",
          "model_module_version": "1.5.0",
          "state": {
            "_dom_classes": [],
            "_model_module": "@jupyter-widgets/controls",
            "_model_module_version": "1.5.0",
            "_model_name": "HTMLModel",
            "_view_count": null,
            "_view_module": "@jupyter-widgets/controls",
            "_view_module_version": "1.5.0",
            "_view_name": "HTMLView",
            "description": "",
            "description_tooltip": null,
            "layout": "IPY_MODEL_acea319242134bf09616a24ab11802ab",
            "placeholder": "​",
            "style": "IPY_MODEL_76f9a020895843279ac6d98cda707fc0",
            "value": "config.json: 100%"
          }
        },
        "ccf5bb3a04654c4f867a6fd44b5bbf7c": {
          "model_module": "@jupyter-widgets/controls",
          "model_name": "FloatProgressModel",
          "model_module_version": "1.5.0",
          "state": {
            "_dom_classes": [],
            "_model_module": "@jupyter-widgets/controls",
            "_model_module_version": "1.5.0",
            "_model_name": "FloatProgressModel",
            "_view_count": null,
            "_view_module": "@jupyter-widgets/controls",
            "_view_module_version": "1.5.0",
            "_view_name": "ProgressView",
            "bar_style": "success",
            "description": "",
            "description_tooltip": null,
            "layout": "IPY_MODEL_090ce69a9f684b9699bad03e479c22e2",
            "max": 619,
            "min": 0,
            "orientation": "horizontal",
            "style": "IPY_MODEL_ca3736d1a1e847b3b341077fe42b722b",
            "value": 619
          }
        },
        "fb23e0cef16c45cda5760bf8f438d180": {
          "model_module": "@jupyter-widgets/controls",
          "model_name": "HTMLModel",
          "model_module_version": "1.5.0",
          "state": {
            "_dom_classes": [],
            "_model_module": "@jupyter-widgets/controls",
            "_model_module_version": "1.5.0",
            "_model_name": "HTMLModel",
            "_view_count": null,
            "_view_module": "@jupyter-widgets/controls",
            "_view_module_version": "1.5.0",
            "_view_name": "HTMLView",
            "description": "",
            "description_tooltip": null,
            "layout": "IPY_MODEL_cf6bc604534d413882664477651e1dbf",
            "placeholder": "​",
            "style": "IPY_MODEL_259f1c1a1a43400f90c4873d677d4bc0",
            "value": " 619/619 [00:00&lt;00:00, 66.6kB/s]"
          }
        },
        "02f8d714be694d48a1dd968e7d4c3ed5": {
          "model_module": "@jupyter-widgets/base",
          "model_name": "LayoutModel",
          "model_module_version": "1.2.0",
          "state": {
            "_model_module": "@jupyter-widgets/base",
            "_model_module_version": "1.2.0",
            "_model_name": "LayoutModel",
            "_view_count": null,
            "_view_module": "@jupyter-widgets/base",
            "_view_module_version": "1.2.0",
            "_view_name": "LayoutView",
            "align_content": null,
            "align_items": null,
            "align_self": null,
            "border": null,
            "bottom": null,
            "display": null,
            "flex": null,
            "flex_flow": null,
            "grid_area": null,
            "grid_auto_columns": null,
            "grid_auto_flow": null,
            "grid_auto_rows": null,
            "grid_column": null,
            "grid_gap": null,
            "grid_row": null,
            "grid_template_areas": null,
            "grid_template_columns": null,
            "grid_template_rows": null,
            "height": null,
            "justify_content": null,
            "justify_items": null,
            "left": null,
            "margin": null,
            "max_height": null,
            "max_width": null,
            "min_height": null,
            "min_width": null,
            "object_fit": null,
            "object_position": null,
            "order": null,
            "overflow": null,
            "overflow_x": null,
            "overflow_y": null,
            "padding": null,
            "right": null,
            "top": null,
            "visibility": null,
            "width": null
          }
        },
        "acea319242134bf09616a24ab11802ab": {
          "model_module": "@jupyter-widgets/base",
          "model_name": "LayoutModel",
          "model_module_version": "1.2.0",
          "state": {
            "_model_module": "@jupyter-widgets/base",
            "_model_module_version": "1.2.0",
            "_model_name": "LayoutModel",
            "_view_count": null,
            "_view_module": "@jupyter-widgets/base",
            "_view_module_version": "1.2.0",
            "_view_name": "LayoutView",
            "align_content": null,
            "align_items": null,
            "align_self": null,
            "border": null,
            "bottom": null,
            "display": null,
            "flex": null,
            "flex_flow": null,
            "grid_area": null,
            "grid_auto_columns": null,
            "grid_auto_flow": null,
            "grid_auto_rows": null,
            "grid_column": null,
            "grid_gap": null,
            "grid_row": null,
            "grid_template_areas": null,
            "grid_template_columns": null,
            "grid_template_rows": null,
            "height": null,
            "justify_content": null,
            "justify_items": null,
            "left": null,
            "margin": null,
            "max_height": null,
            "max_width": null,
            "min_height": null,
            "min_width": null,
            "object_fit": null,
            "object_position": null,
            "order": null,
            "overflow": null,
            "overflow_x": null,
            "overflow_y": null,
            "padding": null,
            "right": null,
            "top": null,
            "visibility": null,
            "width": null
          }
        },
        "76f9a020895843279ac6d98cda707fc0": {
          "model_module": "@jupyter-widgets/controls",
          "model_name": "DescriptionStyleModel",
          "model_module_version": "1.5.0",
          "state": {
            "_model_module": "@jupyter-widgets/controls",
            "_model_module_version": "1.5.0",
            "_model_name": "DescriptionStyleModel",
            "_view_count": null,
            "_view_module": "@jupyter-widgets/base",
            "_view_module_version": "1.2.0",
            "_view_name": "StyleView",
            "description_width": ""
          }
        },
        "090ce69a9f684b9699bad03e479c22e2": {
          "model_module": "@jupyter-widgets/base",
          "model_name": "LayoutModel",
          "model_module_version": "1.2.0",
          "state": {
            "_model_module": "@jupyter-widgets/base",
            "_model_module_version": "1.2.0",
            "_model_name": "LayoutModel",
            "_view_count": null,
            "_view_module": "@jupyter-widgets/base",
            "_view_module_version": "1.2.0",
            "_view_name": "LayoutView",
            "align_content": null,
            "align_items": null,
            "align_self": null,
            "border": null,
            "bottom": null,
            "display": null,
            "flex": null,
            "flex_flow": null,
            "grid_area": null,
            "grid_auto_columns": null,
            "grid_auto_flow": null,
            "grid_auto_rows": null,
            "grid_column": null,
            "grid_gap": null,
            "grid_row": null,
            "grid_template_areas": null,
            "grid_template_columns": null,
            "grid_template_rows": null,
            "height": null,
            "justify_content": null,
            "justify_items": null,
            "left": null,
            "margin": null,
            "max_height": null,
            "max_width": null,
            "min_height": null,
            "min_width": null,
            "object_fit": null,
            "object_position": null,
            "order": null,
            "overflow": null,
            "overflow_x": null,
            "overflow_y": null,
            "padding": null,
            "right": null,
            "top": null,
            "visibility": null,
            "width": null
          }
        },
        "ca3736d1a1e847b3b341077fe42b722b": {
          "model_module": "@jupyter-widgets/controls",
          "model_name": "ProgressStyleModel",
          "model_module_version": "1.5.0",
          "state": {
            "_model_module": "@jupyter-widgets/controls",
            "_model_module_version": "1.5.0",
            "_model_name": "ProgressStyleModel",
            "_view_count": null,
            "_view_module": "@jupyter-widgets/base",
            "_view_module_version": "1.2.0",
            "_view_name": "StyleView",
            "bar_color": null,
            "description_width": ""
          }
        },
        "cf6bc604534d413882664477651e1dbf": {
          "model_module": "@jupyter-widgets/base",
          "model_name": "LayoutModel",
          "model_module_version": "1.2.0",
          "state": {
            "_model_module": "@jupyter-widgets/base",
            "_model_module_version": "1.2.0",
            "_model_name": "LayoutModel",
            "_view_count": null,
            "_view_module": "@jupyter-widgets/base",
            "_view_module_version": "1.2.0",
            "_view_name": "LayoutView",
            "align_content": null,
            "align_items": null,
            "align_self": null,
            "border": null,
            "bottom": null,
            "display": null,
            "flex": null,
            "flex_flow": null,
            "grid_area": null,
            "grid_auto_columns": null,
            "grid_auto_flow": null,
            "grid_auto_rows": null,
            "grid_column": null,
            "grid_gap": null,
            "grid_row": null,
            "grid_template_areas": null,
            "grid_template_columns": null,
            "grid_template_rows": null,
            "height": null,
            "justify_content": null,
            "justify_items": null,
            "left": null,
            "margin": null,
            "max_height": null,
            "max_width": null,
            "min_height": null,
            "min_width": null,
            "object_fit": null,
            "object_position": null,
            "order": null,
            "overflow": null,
            "overflow_x": null,
            "overflow_y": null,
            "padding": null,
            "right": null,
            "top": null,
            "visibility": null,
            "width": null
          }
        },
        "259f1c1a1a43400f90c4873d677d4bc0": {
          "model_module": "@jupyter-widgets/controls",
          "model_name": "DescriptionStyleModel",
          "model_module_version": "1.5.0",
          "state": {
            "_model_module": "@jupyter-widgets/controls",
            "_model_module_version": "1.5.0",
            "_model_name": "DescriptionStyleModel",
            "_view_count": null,
            "_view_module": "@jupyter-widgets/base",
            "_view_module_version": "1.2.0",
            "_view_name": "StyleView",
            "description_width": ""
          }
        },
        "04ac4f2d568043c89b3f6c8c8c90f070": {
          "model_module": "@jupyter-widgets/controls",
          "model_name": "HBoxModel",
          "model_module_version": "1.5.0",
          "state": {
            "_dom_classes": [],
            "_model_module": "@jupyter-widgets/controls",
            "_model_module_version": "1.5.0",
            "_model_name": "HBoxModel",
            "_view_count": null,
            "_view_module": "@jupyter-widgets/controls",
            "_view_module_version": "1.5.0",
            "_view_name": "HBoxView",
            "box_style": "",
            "children": [
              "IPY_MODEL_409633a5c2a244b1920b73309809292f",
              "IPY_MODEL_19a99fb0766343df8803ea0e02582174",
              "IPY_MODEL_aca3de71f64a443483371326eba22710"
            ],
            "layout": "IPY_MODEL_671169d629564a43be6960db8397c8fd"
          }
        },
        "409633a5c2a244b1920b73309809292f": {
          "model_module": "@jupyter-widgets/controls",
          "model_name": "HTMLModel",
          "model_module_version": "1.5.0",
          "state": {
            "_dom_classes": [],
            "_model_module": "@jupyter-widgets/controls",
            "_model_module_version": "1.5.0",
            "_model_name": "HTMLModel",
            "_view_count": null,
            "_view_module": "@jupyter-widgets/controls",
            "_view_module_version": "1.5.0",
            "_view_name": "HTMLView",
            "description": "",
            "description_tooltip": null,
            "layout": "IPY_MODEL_c3cfd26e22144d8e8d2fd61e12ba682b",
            "placeholder": "​",
            "style": "IPY_MODEL_6686312e6c5a419b8e6a2d1a49eaccf2",
            "value": "model.safetensors: 100%"
          }
        },
        "19a99fb0766343df8803ea0e02582174": {
          "model_module": "@jupyter-widgets/controls",
          "model_name": "FloatProgressModel",
          "model_module_version": "1.5.0",
          "state": {
            "_dom_classes": [],
            "_model_module": "@jupyter-widgets/controls",
            "_model_module_version": "1.5.0",
            "_model_name": "FloatProgressModel",
            "_view_count": null,
            "_view_module": "@jupyter-widgets/controls",
            "_view_module_version": "1.5.0",
            "_view_name": "ProgressView",
            "bar_style": "success",
            "description": "",
            "description_tooltip": null,
            "layout": "IPY_MODEL_0fe1de3d38b8488d8b4e82d070a90c55",
            "max": 670332568,
            "min": 0,
            "orientation": "horizontal",
            "style": "IPY_MODEL_00c2b7bc67024438a3cacddeaa79fc18",
            "value": 670332568
          }
        },
        "aca3de71f64a443483371326eba22710": {
          "model_module": "@jupyter-widgets/controls",
          "model_name": "HTMLModel",
          "model_module_version": "1.5.0",
          "state": {
            "_dom_classes": [],
            "_model_module": "@jupyter-widgets/controls",
            "_model_module_version": "1.5.0",
            "_model_name": "HTMLModel",
            "_view_count": null,
            "_view_module": "@jupyter-widgets/controls",
            "_view_module_version": "1.5.0",
            "_view_name": "HTMLView",
            "description": "",
            "description_tooltip": null,
            "layout": "IPY_MODEL_5223efc107634641975f9df77f5d59cc",
            "placeholder": "​",
            "style": "IPY_MODEL_21c10847e0e34a9998945aafadbb9082",
            "value": " 670M/670M [00:10&lt;00:00, 66.8MB/s]"
          }
        },
        "671169d629564a43be6960db8397c8fd": {
          "model_module": "@jupyter-widgets/base",
          "model_name": "LayoutModel",
          "model_module_version": "1.2.0",
          "state": {
            "_model_module": "@jupyter-widgets/base",
            "_model_module_version": "1.2.0",
            "_model_name": "LayoutModel",
            "_view_count": null,
            "_view_module": "@jupyter-widgets/base",
            "_view_module_version": "1.2.0",
            "_view_name": "LayoutView",
            "align_content": null,
            "align_items": null,
            "align_self": null,
            "border": null,
            "bottom": null,
            "display": null,
            "flex": null,
            "flex_flow": null,
            "grid_area": null,
            "grid_auto_columns": null,
            "grid_auto_flow": null,
            "grid_auto_rows": null,
            "grid_column": null,
            "grid_gap": null,
            "grid_row": null,
            "grid_template_areas": null,
            "grid_template_columns": null,
            "grid_template_rows": null,
            "height": null,
            "justify_content": null,
            "justify_items": null,
            "left": null,
            "margin": null,
            "max_height": null,
            "max_width": null,
            "min_height": null,
            "min_width": null,
            "object_fit": null,
            "object_position": null,
            "order": null,
            "overflow": null,
            "overflow_x": null,
            "overflow_y": null,
            "padding": null,
            "right": null,
            "top": null,
            "visibility": null,
            "width": null
          }
        },
        "c3cfd26e22144d8e8d2fd61e12ba682b": {
          "model_module": "@jupyter-widgets/base",
          "model_name": "LayoutModel",
          "model_module_version": "1.2.0",
          "state": {
            "_model_module": "@jupyter-widgets/base",
            "_model_module_version": "1.2.0",
            "_model_name": "LayoutModel",
            "_view_count": null,
            "_view_module": "@jupyter-widgets/base",
            "_view_module_version": "1.2.0",
            "_view_name": "LayoutView",
            "align_content": null,
            "align_items": null,
            "align_self": null,
            "border": null,
            "bottom": null,
            "display": null,
            "flex": null,
            "flex_flow": null,
            "grid_area": null,
            "grid_auto_columns": null,
            "grid_auto_flow": null,
            "grid_auto_rows": null,
            "grid_column": null,
            "grid_gap": null,
            "grid_row": null,
            "grid_template_areas": null,
            "grid_template_columns": null,
            "grid_template_rows": null,
            "height": null,
            "justify_content": null,
            "justify_items": null,
            "left": null,
            "margin": null,
            "max_height": null,
            "max_width": null,
            "min_height": null,
            "min_width": null,
            "object_fit": null,
            "object_position": null,
            "order": null,
            "overflow": null,
            "overflow_x": null,
            "overflow_y": null,
            "padding": null,
            "right": null,
            "top": null,
            "visibility": null,
            "width": null
          }
        },
        "6686312e6c5a419b8e6a2d1a49eaccf2": {
          "model_module": "@jupyter-widgets/controls",
          "model_name": "DescriptionStyleModel",
          "model_module_version": "1.5.0",
          "state": {
            "_model_module": "@jupyter-widgets/controls",
            "_model_module_version": "1.5.0",
            "_model_name": "DescriptionStyleModel",
            "_view_count": null,
            "_view_module": "@jupyter-widgets/base",
            "_view_module_version": "1.2.0",
            "_view_name": "StyleView",
            "description_width": ""
          }
        },
        "0fe1de3d38b8488d8b4e82d070a90c55": {
          "model_module": "@jupyter-widgets/base",
          "model_name": "LayoutModel",
          "model_module_version": "1.2.0",
          "state": {
            "_model_module": "@jupyter-widgets/base",
            "_model_module_version": "1.2.0",
            "_model_name": "LayoutModel",
            "_view_count": null,
            "_view_module": "@jupyter-widgets/base",
            "_view_module_version": "1.2.0",
            "_view_name": "LayoutView",
            "align_content": null,
            "align_items": null,
            "align_self": null,
            "border": null,
            "bottom": null,
            "display": null,
            "flex": null,
            "flex_flow": null,
            "grid_area": null,
            "grid_auto_columns": null,
            "grid_auto_flow": null,
            "grid_auto_rows": null,
            "grid_column": null,
            "grid_gap": null,
            "grid_row": null,
            "grid_template_areas": null,
            "grid_template_columns": null,
            "grid_template_rows": null,
            "height": null,
            "justify_content": null,
            "justify_items": null,
            "left": null,
            "margin": null,
            "max_height": null,
            "max_width": null,
            "min_height": null,
            "min_width": null,
            "object_fit": null,
            "object_position": null,
            "order": null,
            "overflow": null,
            "overflow_x": null,
            "overflow_y": null,
            "padding": null,
            "right": null,
            "top": null,
            "visibility": null,
            "width": null
          }
        },
        "00c2b7bc67024438a3cacddeaa79fc18": {
          "model_module": "@jupyter-widgets/controls",
          "model_name": "ProgressStyleModel",
          "model_module_version": "1.5.0",
          "state": {
            "_model_module": "@jupyter-widgets/controls",
            "_model_module_version": "1.5.0",
            "_model_name": "ProgressStyleModel",
            "_view_count": null,
            "_view_module": "@jupyter-widgets/base",
            "_view_module_version": "1.2.0",
            "_view_name": "StyleView",
            "bar_color": null,
            "description_width": ""
          }
        },
        "5223efc107634641975f9df77f5d59cc": {
          "model_module": "@jupyter-widgets/base",
          "model_name": "LayoutModel",
          "model_module_version": "1.2.0",
          "state": {
            "_model_module": "@jupyter-widgets/base",
            "_model_module_version": "1.2.0",
            "_model_name": "LayoutModel",
            "_view_count": null,
            "_view_module": "@jupyter-widgets/base",
            "_view_module_version": "1.2.0",
            "_view_name": "LayoutView",
            "align_content": null,
            "align_items": null,
            "align_self": null,
            "border": null,
            "bottom": null,
            "display": null,
            "flex": null,
            "flex_flow": null,
            "grid_area": null,
            "grid_auto_columns": null,
            "grid_auto_flow": null,
            "grid_auto_rows": null,
            "grid_column": null,
            "grid_gap": null,
            "grid_row": null,
            "grid_template_areas": null,
            "grid_template_columns": null,
            "grid_template_rows": null,
            "height": null,
            "justify_content": null,
            "justify_items": null,
            "left": null,
            "margin": null,
            "max_height": null,
            "max_width": null,
            "min_height": null,
            "min_width": null,
            "object_fit": null,
            "object_position": null,
            "order": null,
            "overflow": null,
            "overflow_x": null,
            "overflow_y": null,
            "padding": null,
            "right": null,
            "top": null,
            "visibility": null,
            "width": null
          }
        },
        "21c10847e0e34a9998945aafadbb9082": {
          "model_module": "@jupyter-widgets/controls",
          "model_name": "DescriptionStyleModel",
          "model_module_version": "1.5.0",
          "state": {
            "_model_module": "@jupyter-widgets/controls",
            "_model_module_version": "1.5.0",
            "_model_name": "DescriptionStyleModel",
            "_view_count": null,
            "_view_module": "@jupyter-widgets/base",
            "_view_module_version": "1.2.0",
            "_view_name": "StyleView",
            "description_width": ""
          }
        },
        "f3bcc15e94654b06a5e363b88975c7d2": {
          "model_module": "@jupyter-widgets/controls",
          "model_name": "HBoxModel",
          "model_module_version": "1.5.0",
          "state": {
            "_dom_classes": [],
            "_model_module": "@jupyter-widgets/controls",
            "_model_module_version": "1.5.0",
            "_model_name": "HBoxModel",
            "_view_count": null,
            "_view_module": "@jupyter-widgets/controls",
            "_view_module_version": "1.5.0",
            "_view_name": "HBoxView",
            "box_style": "",
            "children": [
              "IPY_MODEL_ade5c52edb2d48eeaf23b443913fbdf0",
              "IPY_MODEL_9338eee58fe748a7ba19368a066cc2a5",
              "IPY_MODEL_c34d64176f2148688c57d362e6e0bc58"
            ],
            "layout": "IPY_MODEL_496d013fc1e741a885929dbf8ce3781a"
          }
        },
        "ade5c52edb2d48eeaf23b443913fbdf0": {
          "model_module": "@jupyter-widgets/controls",
          "model_name": "HTMLModel",
          "model_module_version": "1.5.0",
          "state": {
            "_dom_classes": [],
            "_model_module": "@jupyter-widgets/controls",
            "_model_module_version": "1.5.0",
            "_model_name": "HTMLModel",
            "_view_count": null,
            "_view_module": "@jupyter-widgets/controls",
            "_view_module_version": "1.5.0",
            "_view_name": "HTMLView",
            "description": "",
            "description_tooltip": null,
            "layout": "IPY_MODEL_683fff1c0644438aa6f059f161e5bc7f",
            "placeholder": "​",
            "style": "IPY_MODEL_e70a4f63f59946af8cdd09d6a1aef39b",
            "value": "tokenizer_config.json: 100%"
          }
        },
        "9338eee58fe748a7ba19368a066cc2a5": {
          "model_module": "@jupyter-widgets/controls",
          "model_name": "FloatProgressModel",
          "model_module_version": "1.5.0",
          "state": {
            "_dom_classes": [],
            "_model_module": "@jupyter-widgets/controls",
            "_model_module_version": "1.5.0",
            "_model_name": "FloatProgressModel",
            "_view_count": null,
            "_view_module": "@jupyter-widgets/controls",
            "_view_module_version": "1.5.0",
            "_view_name": "ProgressView",
            "bar_style": "success",
            "description": "",
            "description_tooltip": null,
            "layout": "IPY_MODEL_55d4f89b520c491dadd9caba6f6adffb",
            "max": 342,
            "min": 0,
            "orientation": "horizontal",
            "style": "IPY_MODEL_0be2b5ec7e6547079fac4a7beddaf004",
            "value": 342
          }
        },
        "c34d64176f2148688c57d362e6e0bc58": {
          "model_module": "@jupyter-widgets/controls",
          "model_name": "HTMLModel",
          "model_module_version": "1.5.0",
          "state": {
            "_dom_classes": [],
            "_model_module": "@jupyter-widgets/controls",
            "_model_module_version": "1.5.0",
            "_model_name": "HTMLModel",
            "_view_count": null,
            "_view_module": "@jupyter-widgets/controls",
            "_view_module_version": "1.5.0",
            "_view_name": "HTMLView",
            "description": "",
            "description_tooltip": null,
            "layout": "IPY_MODEL_7c03ae55b77c4712b45dd581f88a76fb",
            "placeholder": "​",
            "style": "IPY_MODEL_bc6e4d01d7f34967b696574349242e54",
            "value": " 342/342 [00:00&lt;00:00, 39.7kB/s]"
          }
        },
        "496d013fc1e741a885929dbf8ce3781a": {
          "model_module": "@jupyter-widgets/base",
          "model_name": "LayoutModel",
          "model_module_version": "1.2.0",
          "state": {
            "_model_module": "@jupyter-widgets/base",
            "_model_module_version": "1.2.0",
            "_model_name": "LayoutModel",
            "_view_count": null,
            "_view_module": "@jupyter-widgets/base",
            "_view_module_version": "1.2.0",
            "_view_name": "LayoutView",
            "align_content": null,
            "align_items": null,
            "align_self": null,
            "border": null,
            "bottom": null,
            "display": null,
            "flex": null,
            "flex_flow": null,
            "grid_area": null,
            "grid_auto_columns": null,
            "grid_auto_flow": null,
            "grid_auto_rows": null,
            "grid_column": null,
            "grid_gap": null,
            "grid_row": null,
            "grid_template_areas": null,
            "grid_template_columns": null,
            "grid_template_rows": null,
            "height": null,
            "justify_content": null,
            "justify_items": null,
            "left": null,
            "margin": null,
            "max_height": null,
            "max_width": null,
            "min_height": null,
            "min_width": null,
            "object_fit": null,
            "object_position": null,
            "order": null,
            "overflow": null,
            "overflow_x": null,
            "overflow_y": null,
            "padding": null,
            "right": null,
            "top": null,
            "visibility": null,
            "width": null
          }
        },
        "683fff1c0644438aa6f059f161e5bc7f": {
          "model_module": "@jupyter-widgets/base",
          "model_name": "LayoutModel",
          "model_module_version": "1.2.0",
          "state": {
            "_model_module": "@jupyter-widgets/base",
            "_model_module_version": "1.2.0",
            "_model_name": "LayoutModel",
            "_view_count": null,
            "_view_module": "@jupyter-widgets/base",
            "_view_module_version": "1.2.0",
            "_view_name": "LayoutView",
            "align_content": null,
            "align_items": null,
            "align_self": null,
            "border": null,
            "bottom": null,
            "display": null,
            "flex": null,
            "flex_flow": null,
            "grid_area": null,
            "grid_auto_columns": null,
            "grid_auto_flow": null,
            "grid_auto_rows": null,
            "grid_column": null,
            "grid_gap": null,
            "grid_row": null,
            "grid_template_areas": null,
            "grid_template_columns": null,
            "grid_template_rows": null,
            "height": null,
            "justify_content": null,
            "justify_items": null,
            "left": null,
            "margin": null,
            "max_height": null,
            "max_width": null,
            "min_height": null,
            "min_width": null,
            "object_fit": null,
            "object_position": null,
            "order": null,
            "overflow": null,
            "overflow_x": null,
            "overflow_y": null,
            "padding": null,
            "right": null,
            "top": null,
            "visibility": null,
            "width": null
          }
        },
        "e70a4f63f59946af8cdd09d6a1aef39b": {
          "model_module": "@jupyter-widgets/controls",
          "model_name": "DescriptionStyleModel",
          "model_module_version": "1.5.0",
          "state": {
            "_model_module": "@jupyter-widgets/controls",
            "_model_module_version": "1.5.0",
            "_model_name": "DescriptionStyleModel",
            "_view_count": null,
            "_view_module": "@jupyter-widgets/base",
            "_view_module_version": "1.2.0",
            "_view_name": "StyleView",
            "description_width": ""
          }
        },
        "55d4f89b520c491dadd9caba6f6adffb": {
          "model_module": "@jupyter-widgets/base",
          "model_name": "LayoutModel",
          "model_module_version": "1.2.0",
          "state": {
            "_model_module": "@jupyter-widgets/base",
            "_model_module_version": "1.2.0",
            "_model_name": "LayoutModel",
            "_view_count": null,
            "_view_module": "@jupyter-widgets/base",
            "_view_module_version": "1.2.0",
            "_view_name": "LayoutView",
            "align_content": null,
            "align_items": null,
            "align_self": null,
            "border": null,
            "bottom": null,
            "display": null,
            "flex": null,
            "flex_flow": null,
            "grid_area": null,
            "grid_auto_columns": null,
            "grid_auto_flow": null,
            "grid_auto_rows": null,
            "grid_column": null,
            "grid_gap": null,
            "grid_row": null,
            "grid_template_areas": null,
            "grid_template_columns": null,
            "grid_template_rows": null,
            "height": null,
            "justify_content": null,
            "justify_items": null,
            "left": null,
            "margin": null,
            "max_height": null,
            "max_width": null,
            "min_height": null,
            "min_width": null,
            "object_fit": null,
            "object_position": null,
            "order": null,
            "overflow": null,
            "overflow_x": null,
            "overflow_y": null,
            "padding": null,
            "right": null,
            "top": null,
            "visibility": null,
            "width": null
          }
        },
        "0be2b5ec7e6547079fac4a7beddaf004": {
          "model_module": "@jupyter-widgets/controls",
          "model_name": "ProgressStyleModel",
          "model_module_version": "1.5.0",
          "state": {
            "_model_module": "@jupyter-widgets/controls",
            "_model_module_version": "1.5.0",
            "_model_name": "ProgressStyleModel",
            "_view_count": null,
            "_view_module": "@jupyter-widgets/base",
            "_view_module_version": "1.2.0",
            "_view_name": "StyleView",
            "bar_color": null,
            "description_width": ""
          }
        },
        "7c03ae55b77c4712b45dd581f88a76fb": {
          "model_module": "@jupyter-widgets/base",
          "model_name": "LayoutModel",
          "model_module_version": "1.2.0",
          "state": {
            "_model_module": "@jupyter-widgets/base",
            "_model_module_version": "1.2.0",
            "_model_name": "LayoutModel",
            "_view_count": null,
            "_view_module": "@jupyter-widgets/base",
            "_view_module_version": "1.2.0",
            "_view_name": "LayoutView",
            "align_content": null,
            "align_items": null,
            "align_self": null,
            "border": null,
            "bottom": null,
            "display": null,
            "flex": null,
            "flex_flow": null,
            "grid_area": null,
            "grid_auto_columns": null,
            "grid_auto_flow": null,
            "grid_auto_rows": null,
            "grid_column": null,
            "grid_gap": null,
            "grid_row": null,
            "grid_template_areas": null,
            "grid_template_columns": null,
            "grid_template_rows": null,
            "height": null,
            "justify_content": null,
            "justify_items": null,
            "left": null,
            "margin": null,
            "max_height": null,
            "max_width": null,
            "min_height": null,
            "min_width": null,
            "object_fit": null,
            "object_position": null,
            "order": null,
            "overflow": null,
            "overflow_x": null,
            "overflow_y": null,
            "padding": null,
            "right": null,
            "top": null,
            "visibility": null,
            "width": null
          }
        },
        "bc6e4d01d7f34967b696574349242e54": {
          "model_module": "@jupyter-widgets/controls",
          "model_name": "DescriptionStyleModel",
          "model_module_version": "1.5.0",
          "state": {
            "_model_module": "@jupyter-widgets/controls",
            "_model_module_version": "1.5.0",
            "_model_name": "DescriptionStyleModel",
            "_view_count": null,
            "_view_module": "@jupyter-widgets/base",
            "_view_module_version": "1.2.0",
            "_view_name": "StyleView",
            "description_width": ""
          }
        },
        "fa78e8beb325481abadf50fd5363ead8": {
          "model_module": "@jupyter-widgets/controls",
          "model_name": "HBoxModel",
          "model_module_version": "1.5.0",
          "state": {
            "_dom_classes": [],
            "_model_module": "@jupyter-widgets/controls",
            "_model_module_version": "1.5.0",
            "_model_name": "HBoxModel",
            "_view_count": null,
            "_view_module": "@jupyter-widgets/controls",
            "_view_module_version": "1.5.0",
            "_view_name": "HBoxView",
            "box_style": "",
            "children": [
              "IPY_MODEL_f5d98527c77d47a28c49b42de3056b37",
              "IPY_MODEL_634d71698bff47c4ac58d23e09be2b3a",
              "IPY_MODEL_972a399f6d55445c90cc439d96cc8607"
            ],
            "layout": "IPY_MODEL_713e24999193441a9533dced810257fe"
          }
        },
        "f5d98527c77d47a28c49b42de3056b37": {
          "model_module": "@jupyter-widgets/controls",
          "model_name": "HTMLModel",
          "model_module_version": "1.5.0",
          "state": {
            "_dom_classes": [],
            "_model_module": "@jupyter-widgets/controls",
            "_model_module_version": "1.5.0",
            "_model_name": "HTMLModel",
            "_view_count": null,
            "_view_module": "@jupyter-widgets/controls",
            "_view_module_version": "1.5.0",
            "_view_name": "HTMLView",
            "description": "",
            "description_tooltip": null,
            "layout": "IPY_MODEL_480d875412a74c618f0144ec1f8cbcaa",
            "placeholder": "​",
            "style": "IPY_MODEL_938651bd56f74afbb5c721cd3adcfeab",
            "value": "vocab.txt: "
          }
        },
        "634d71698bff47c4ac58d23e09be2b3a": {
          "model_module": "@jupyter-widgets/controls",
          "model_name": "FloatProgressModel",
          "model_module_version": "1.5.0",
          "state": {
            "_dom_classes": [],
            "_model_module": "@jupyter-widgets/controls",
            "_model_module_version": "1.5.0",
            "_model_name": "FloatProgressModel",
            "_view_count": null,
            "_view_module": "@jupyter-widgets/controls",
            "_view_module_version": "1.5.0",
            "_view_name": "ProgressView",
            "bar_style": "success",
            "description": "",
            "description_tooltip": null,
            "layout": "IPY_MODEL_ba98129d17a24af09455cc9f2e990115",
            "max": 1,
            "min": 0,
            "orientation": "horizontal",
            "style": "IPY_MODEL_6d4894deb5ab439f98dea8acf878a971",
            "value": 1
          }
        },
        "972a399f6d55445c90cc439d96cc8607": {
          "model_module": "@jupyter-widgets/controls",
          "model_name": "HTMLModel",
          "model_module_version": "1.5.0",
          "state": {
            "_dom_classes": [],
            "_model_module": "@jupyter-widgets/controls",
            "_model_module_version": "1.5.0",
            "_model_name": "HTMLModel",
            "_view_count": null,
            "_view_module": "@jupyter-widgets/controls",
            "_view_module_version": "1.5.0",
            "_view_name": "HTMLView",
            "description": "",
            "description_tooltip": null,
            "layout": "IPY_MODEL_3b7550ceb61c40d29fa4e79382407823",
            "placeholder": "​",
            "style": "IPY_MODEL_c1063435df334ebd835c926656636606",
            "value": " 232k/? [00:00&lt;00:00, 5.68MB/s]"
          }
        },
        "713e24999193441a9533dced810257fe": {
          "model_module": "@jupyter-widgets/base",
          "model_name": "LayoutModel",
          "model_module_version": "1.2.0",
          "state": {
            "_model_module": "@jupyter-widgets/base",
            "_model_module_version": "1.2.0",
            "_model_name": "LayoutModel",
            "_view_count": null,
            "_view_module": "@jupyter-widgets/base",
            "_view_module_version": "1.2.0",
            "_view_name": "LayoutView",
            "align_content": null,
            "align_items": null,
            "align_self": null,
            "border": null,
            "bottom": null,
            "display": null,
            "flex": null,
            "flex_flow": null,
            "grid_area": null,
            "grid_auto_columns": null,
            "grid_auto_flow": null,
            "grid_auto_rows": null,
            "grid_column": null,
            "grid_gap": null,
            "grid_row": null,
            "grid_template_areas": null,
            "grid_template_columns": null,
            "grid_template_rows": null,
            "height": null,
            "justify_content": null,
            "justify_items": null,
            "left": null,
            "margin": null,
            "max_height": null,
            "max_width": null,
            "min_height": null,
            "min_width": null,
            "object_fit": null,
            "object_position": null,
            "order": null,
            "overflow": null,
            "overflow_x": null,
            "overflow_y": null,
            "padding": null,
            "right": null,
            "top": null,
            "visibility": null,
            "width": null
          }
        },
        "480d875412a74c618f0144ec1f8cbcaa": {
          "model_module": "@jupyter-widgets/base",
          "model_name": "LayoutModel",
          "model_module_version": "1.2.0",
          "state": {
            "_model_module": "@jupyter-widgets/base",
            "_model_module_version": "1.2.0",
            "_model_name": "LayoutModel",
            "_view_count": null,
            "_view_module": "@jupyter-widgets/base",
            "_view_module_version": "1.2.0",
            "_view_name": "LayoutView",
            "align_content": null,
            "align_items": null,
            "align_self": null,
            "border": null,
            "bottom": null,
            "display": null,
            "flex": null,
            "flex_flow": null,
            "grid_area": null,
            "grid_auto_columns": null,
            "grid_auto_flow": null,
            "grid_auto_rows": null,
            "grid_column": null,
            "grid_gap": null,
            "grid_row": null,
            "grid_template_areas": null,
            "grid_template_columns": null,
            "grid_template_rows": null,
            "height": null,
            "justify_content": null,
            "justify_items": null,
            "left": null,
            "margin": null,
            "max_height": null,
            "max_width": null,
            "min_height": null,
            "min_width": null,
            "object_fit": null,
            "object_position": null,
            "order": null,
            "overflow": null,
            "overflow_x": null,
            "overflow_y": null,
            "padding": null,
            "right": null,
            "top": null,
            "visibility": null,
            "width": null
          }
        },
        "938651bd56f74afbb5c721cd3adcfeab": {
          "model_module": "@jupyter-widgets/controls",
          "model_name": "DescriptionStyleModel",
          "model_module_version": "1.5.0",
          "state": {
            "_model_module": "@jupyter-widgets/controls",
            "_model_module_version": "1.5.0",
            "_model_name": "DescriptionStyleModel",
            "_view_count": null,
            "_view_module": "@jupyter-widgets/base",
            "_view_module_version": "1.2.0",
            "_view_name": "StyleView",
            "description_width": ""
          }
        },
        "ba98129d17a24af09455cc9f2e990115": {
          "model_module": "@jupyter-widgets/base",
          "model_name": "LayoutModel",
          "model_module_version": "1.2.0",
          "state": {
            "_model_module": "@jupyter-widgets/base",
            "_model_module_version": "1.2.0",
            "_model_name": "LayoutModel",
            "_view_count": null,
            "_view_module": "@jupyter-widgets/base",
            "_view_module_version": "1.2.0",
            "_view_name": "LayoutView",
            "align_content": null,
            "align_items": null,
            "align_self": null,
            "border": null,
            "bottom": null,
            "display": null,
            "flex": null,
            "flex_flow": null,
            "grid_area": null,
            "grid_auto_columns": null,
            "grid_auto_flow": null,
            "grid_auto_rows": null,
            "grid_column": null,
            "grid_gap": null,
            "grid_row": null,
            "grid_template_areas": null,
            "grid_template_columns": null,
            "grid_template_rows": null,
            "height": null,
            "justify_content": null,
            "justify_items": null,
            "left": null,
            "margin": null,
            "max_height": null,
            "max_width": null,
            "min_height": null,
            "min_width": null,
            "object_fit": null,
            "object_position": null,
            "order": null,
            "overflow": null,
            "overflow_x": null,
            "overflow_y": null,
            "padding": null,
            "right": null,
            "top": null,
            "visibility": null,
            "width": "20px"
          }
        },
        "6d4894deb5ab439f98dea8acf878a971": {
          "model_module": "@jupyter-widgets/controls",
          "model_name": "ProgressStyleModel",
          "model_module_version": "1.5.0",
          "state": {
            "_model_module": "@jupyter-widgets/controls",
            "_model_module_version": "1.5.0",
            "_model_name": "ProgressStyleModel",
            "_view_count": null,
            "_view_module": "@jupyter-widgets/base",
            "_view_module_version": "1.2.0",
            "_view_name": "StyleView",
            "bar_color": null,
            "description_width": ""
          }
        },
        "3b7550ceb61c40d29fa4e79382407823": {
          "model_module": "@jupyter-widgets/base",
          "model_name": "LayoutModel",
          "model_module_version": "1.2.0",
          "state": {
            "_model_module": "@jupyter-widgets/base",
            "_model_module_version": "1.2.0",
            "_model_name": "LayoutModel",
            "_view_count": null,
            "_view_module": "@jupyter-widgets/base",
            "_view_module_version": "1.2.0",
            "_view_name": "LayoutView",
            "align_content": null,
            "align_items": null,
            "align_self": null,
            "border": null,
            "bottom": null,
            "display": null,
            "flex": null,
            "flex_flow": null,
            "grid_area": null,
            "grid_auto_columns": null,
            "grid_auto_flow": null,
            "grid_auto_rows": null,
            "grid_column": null,
            "grid_gap": null,
            "grid_row": null,
            "grid_template_areas": null,
            "grid_template_columns": null,
            "grid_template_rows": null,
            "height": null,
            "justify_content": null,
            "justify_items": null,
            "left": null,
            "margin": null,
            "max_height": null,
            "max_width": null,
            "min_height": null,
            "min_width": null,
            "object_fit": null,
            "object_position": null,
            "order": null,
            "overflow": null,
            "overflow_x": null,
            "overflow_y": null,
            "padding": null,
            "right": null,
            "top": null,
            "visibility": null,
            "width": null
          }
        },
        "c1063435df334ebd835c926656636606": {
          "model_module": "@jupyter-widgets/controls",
          "model_name": "DescriptionStyleModel",
          "model_module_version": "1.5.0",
          "state": {
            "_model_module": "@jupyter-widgets/controls",
            "_model_module_version": "1.5.0",
            "_model_name": "DescriptionStyleModel",
            "_view_count": null,
            "_view_module": "@jupyter-widgets/base",
            "_view_module_version": "1.2.0",
            "_view_name": "StyleView",
            "description_width": ""
          }
        },
        "1dfab2a35d8448b3a8bc2d9543cb8878": {
          "model_module": "@jupyter-widgets/controls",
          "model_name": "HBoxModel",
          "model_module_version": "1.5.0",
          "state": {
            "_dom_classes": [],
            "_model_module": "@jupyter-widgets/controls",
            "_model_module_version": "1.5.0",
            "_model_name": "HBoxModel",
            "_view_count": null,
            "_view_module": "@jupyter-widgets/controls",
            "_view_module_version": "1.5.0",
            "_view_name": "HBoxView",
            "box_style": "",
            "children": [
              "IPY_MODEL_a618c5f5df1a4cac826e2fdcaf2ce863",
              "IPY_MODEL_3cec19904e644a3e979eb1821a6f7e99",
              "IPY_MODEL_52ab88942a974f80b2e27576b01b8bc1"
            ],
            "layout": "IPY_MODEL_30db2e680de241209ecc2560222a8ece"
          }
        },
        "a618c5f5df1a4cac826e2fdcaf2ce863": {
          "model_module": "@jupyter-widgets/controls",
          "model_name": "HTMLModel",
          "model_module_version": "1.5.0",
          "state": {
            "_dom_classes": [],
            "_model_module": "@jupyter-widgets/controls",
            "_model_module_version": "1.5.0",
            "_model_name": "HTMLModel",
            "_view_count": null,
            "_view_module": "@jupyter-widgets/controls",
            "_view_module_version": "1.5.0",
            "_view_name": "HTMLView",
            "description": "",
            "description_tooltip": null,
            "layout": "IPY_MODEL_5cb09cd9154d4b6aaf570088a048f45a",
            "placeholder": "​",
            "style": "IPY_MODEL_1f6b8149387d458eb3aa26fa8ead43a9",
            "value": "tokenizer.json: "
          }
        },
        "3cec19904e644a3e979eb1821a6f7e99": {
          "model_module": "@jupyter-widgets/controls",
          "model_name": "FloatProgressModel",
          "model_module_version": "1.5.0",
          "state": {
            "_dom_classes": [],
            "_model_module": "@jupyter-widgets/controls",
            "_model_module_version": "1.5.0",
            "_model_name": "FloatProgressModel",
            "_view_count": null,
            "_view_module": "@jupyter-widgets/controls",
            "_view_module_version": "1.5.0",
            "_view_name": "ProgressView",
            "bar_style": "success",
            "description": "",
            "description_tooltip": null,
            "layout": "IPY_MODEL_052df1b4bdc6434cb5c37cc9b428f3a9",
            "max": 1,
            "min": 0,
            "orientation": "horizontal",
            "style": "IPY_MODEL_6d7d3fb73d9841a28cd3b664eb384908",
            "value": 1
          }
        },
        "52ab88942a974f80b2e27576b01b8bc1": {
          "model_module": "@jupyter-widgets/controls",
          "model_name": "HTMLModel",
          "model_module_version": "1.5.0",
          "state": {
            "_dom_classes": [],
            "_model_module": "@jupyter-widgets/controls",
            "_model_module_version": "1.5.0",
            "_model_name": "HTMLModel",
            "_view_count": null,
            "_view_module": "@jupyter-widgets/controls",
            "_view_module_version": "1.5.0",
            "_view_name": "HTMLView",
            "description": "",
            "description_tooltip": null,
            "layout": "IPY_MODEL_90c10abbc215416c95ccb463ef30efb4",
            "placeholder": "​",
            "style": "IPY_MODEL_baef53d53c884854bb5bde6279ae823d",
            "value": " 712k/? [00:00&lt;00:00, 33.6MB/s]"
          }
        },
        "30db2e680de241209ecc2560222a8ece": {
          "model_module": "@jupyter-widgets/base",
          "model_name": "LayoutModel",
          "model_module_version": "1.2.0",
          "state": {
            "_model_module": "@jupyter-widgets/base",
            "_model_module_version": "1.2.0",
            "_model_name": "LayoutModel",
            "_view_count": null,
            "_view_module": "@jupyter-widgets/base",
            "_view_module_version": "1.2.0",
            "_view_name": "LayoutView",
            "align_content": null,
            "align_items": null,
            "align_self": null,
            "border": null,
            "bottom": null,
            "display": null,
            "flex": null,
            "flex_flow": null,
            "grid_area": null,
            "grid_auto_columns": null,
            "grid_auto_flow": null,
            "grid_auto_rows": null,
            "grid_column": null,
            "grid_gap": null,
            "grid_row": null,
            "grid_template_areas": null,
            "grid_template_columns": null,
            "grid_template_rows": null,
            "height": null,
            "justify_content": null,
            "justify_items": null,
            "left": null,
            "margin": null,
            "max_height": null,
            "max_width": null,
            "min_height": null,
            "min_width": null,
            "object_fit": null,
            "object_position": null,
            "order": null,
            "overflow": null,
            "overflow_x": null,
            "overflow_y": null,
            "padding": null,
            "right": null,
            "top": null,
            "visibility": null,
            "width": null
          }
        },
        "5cb09cd9154d4b6aaf570088a048f45a": {
          "model_module": "@jupyter-widgets/base",
          "model_name": "LayoutModel",
          "model_module_version": "1.2.0",
          "state": {
            "_model_module": "@jupyter-widgets/base",
            "_model_module_version": "1.2.0",
            "_model_name": "LayoutModel",
            "_view_count": null,
            "_view_module": "@jupyter-widgets/base",
            "_view_module_version": "1.2.0",
            "_view_name": "LayoutView",
            "align_content": null,
            "align_items": null,
            "align_self": null,
            "border": null,
            "bottom": null,
            "display": null,
            "flex": null,
            "flex_flow": null,
            "grid_area": null,
            "grid_auto_columns": null,
            "grid_auto_flow": null,
            "grid_auto_rows": null,
            "grid_column": null,
            "grid_gap": null,
            "grid_row": null,
            "grid_template_areas": null,
            "grid_template_columns": null,
            "grid_template_rows": null,
            "height": null,
            "justify_content": null,
            "justify_items": null,
            "left": null,
            "margin": null,
            "max_height": null,
            "max_width": null,
            "min_height": null,
            "min_width": null,
            "object_fit": null,
            "object_position": null,
            "order": null,
            "overflow": null,
            "overflow_x": null,
            "overflow_y": null,
            "padding": null,
            "right": null,
            "top": null,
            "visibility": null,
            "width": null
          }
        },
        "1f6b8149387d458eb3aa26fa8ead43a9": {
          "model_module": "@jupyter-widgets/controls",
          "model_name": "DescriptionStyleModel",
          "model_module_version": "1.5.0",
          "state": {
            "_model_module": "@jupyter-widgets/controls",
            "_model_module_version": "1.5.0",
            "_model_name": "DescriptionStyleModel",
            "_view_count": null,
            "_view_module": "@jupyter-widgets/base",
            "_view_module_version": "1.2.0",
            "_view_name": "StyleView",
            "description_width": ""
          }
        },
        "052df1b4bdc6434cb5c37cc9b428f3a9": {
          "model_module": "@jupyter-widgets/base",
          "model_name": "LayoutModel",
          "model_module_version": "1.2.0",
          "state": {
            "_model_module": "@jupyter-widgets/base",
            "_model_module_version": "1.2.0",
            "_model_name": "LayoutModel",
            "_view_count": null,
            "_view_module": "@jupyter-widgets/base",
            "_view_module_version": "1.2.0",
            "_view_name": "LayoutView",
            "align_content": null,
            "align_items": null,
            "align_self": null,
            "border": null,
            "bottom": null,
            "display": null,
            "flex": null,
            "flex_flow": null,
            "grid_area": null,
            "grid_auto_columns": null,
            "grid_auto_flow": null,
            "grid_auto_rows": null,
            "grid_column": null,
            "grid_gap": null,
            "grid_row": null,
            "grid_template_areas": null,
            "grid_template_columns": null,
            "grid_template_rows": null,
            "height": null,
            "justify_content": null,
            "justify_items": null,
            "left": null,
            "margin": null,
            "max_height": null,
            "max_width": null,
            "min_height": null,
            "min_width": null,
            "object_fit": null,
            "object_position": null,
            "order": null,
            "overflow": null,
            "overflow_x": null,
            "overflow_y": null,
            "padding": null,
            "right": null,
            "top": null,
            "visibility": null,
            "width": "20px"
          }
        },
        "6d7d3fb73d9841a28cd3b664eb384908": {
          "model_module": "@jupyter-widgets/controls",
          "model_name": "ProgressStyleModel",
          "model_module_version": "1.5.0",
          "state": {
            "_model_module": "@jupyter-widgets/controls",
            "_model_module_version": "1.5.0",
            "_model_name": "ProgressStyleModel",
            "_view_count": null,
            "_view_module": "@jupyter-widgets/base",
            "_view_module_version": "1.2.0",
            "_view_name": "StyleView",
            "bar_color": null,
            "description_width": ""
          }
        },
        "90c10abbc215416c95ccb463ef30efb4": {
          "model_module": "@jupyter-widgets/base",
          "model_name": "LayoutModel",
          "model_module_version": "1.2.0",
          "state": {
            "_model_module": "@jupyter-widgets/base",
            "_model_module_version": "1.2.0",
            "_model_name": "LayoutModel",
            "_view_count": null,
            "_view_module": "@jupyter-widgets/base",
            "_view_module_version": "1.2.0",
            "_view_name": "LayoutView",
            "align_content": null,
            "align_items": null,
            "align_self": null,
            "border": null,
            "bottom": null,
            "display": null,
            "flex": null,
            "flex_flow": null,
            "grid_area": null,
            "grid_auto_columns": null,
            "grid_auto_flow": null,
            "grid_auto_rows": null,
            "grid_column": null,
            "grid_gap": null,
            "grid_row": null,
            "grid_template_areas": null,
            "grid_template_columns": null,
            "grid_template_rows": null,
            "height": null,
            "justify_content": null,
            "justify_items": null,
            "left": null,
            "margin": null,
            "max_height": null,
            "max_width": null,
            "min_height": null,
            "min_width": null,
            "object_fit": null,
            "object_position": null,
            "order": null,
            "overflow": null,
            "overflow_x": null,
            "overflow_y": null,
            "padding": null,
            "right": null,
            "top": null,
            "visibility": null,
            "width": null
          }
        },
        "baef53d53c884854bb5bde6279ae823d": {
          "model_module": "@jupyter-widgets/controls",
          "model_name": "DescriptionStyleModel",
          "model_module_version": "1.5.0",
          "state": {
            "_model_module": "@jupyter-widgets/controls",
            "_model_module_version": "1.5.0",
            "_model_name": "DescriptionStyleModel",
            "_view_count": null,
            "_view_module": "@jupyter-widgets/base",
            "_view_module_version": "1.2.0",
            "_view_name": "StyleView",
            "description_width": ""
          }
        },
        "be15f9883609449bbd1874f06ef87881": {
          "model_module": "@jupyter-widgets/controls",
          "model_name": "HBoxModel",
          "model_module_version": "1.5.0",
          "state": {
            "_dom_classes": [],
            "_model_module": "@jupyter-widgets/controls",
            "_model_module_version": "1.5.0",
            "_model_name": "HBoxModel",
            "_view_count": null,
            "_view_module": "@jupyter-widgets/controls",
            "_view_module_version": "1.5.0",
            "_view_name": "HBoxView",
            "box_style": "",
            "children": [
              "IPY_MODEL_ced21927a81c4a769e8084a4e7506e5a",
              "IPY_MODEL_24b6084c56854647a1c813892673b108",
              "IPY_MODEL_079d3f242689412c877678908a564c73"
            ],
            "layout": "IPY_MODEL_3505a58ca90d4727833547ff0d0f7276"
          }
        },
        "ced21927a81c4a769e8084a4e7506e5a": {
          "model_module": "@jupyter-widgets/controls",
          "model_name": "HTMLModel",
          "model_module_version": "1.5.0",
          "state": {
            "_dom_classes": [],
            "_model_module": "@jupyter-widgets/controls",
            "_model_module_version": "1.5.0",
            "_model_name": "HTMLModel",
            "_view_count": null,
            "_view_module": "@jupyter-widgets/controls",
            "_view_module_version": "1.5.0",
            "_view_name": "HTMLView",
            "description": "",
            "description_tooltip": null,
            "layout": "IPY_MODEL_90b83c798ef0458a8419ffbf2b2ec60b",
            "placeholder": "​",
            "style": "IPY_MODEL_ddfb74610f8848518c7ccc6d3ad124ea",
            "value": "special_tokens_map.json: 100%"
          }
        },
        "24b6084c56854647a1c813892673b108": {
          "model_module": "@jupyter-widgets/controls",
          "model_name": "FloatProgressModel",
          "model_module_version": "1.5.0",
          "state": {
            "_dom_classes": [],
            "_model_module": "@jupyter-widgets/controls",
            "_model_module_version": "1.5.0",
            "_model_name": "FloatProgressModel",
            "_view_count": null,
            "_view_module": "@jupyter-widgets/controls",
            "_view_module_version": "1.5.0",
            "_view_name": "ProgressView",
            "bar_style": "success",
            "description": "",
            "description_tooltip": null,
            "layout": "IPY_MODEL_9e03c7aee72b41ba81f9c850aab34b1d",
            "max": 125,
            "min": 0,
            "orientation": "horizontal",
            "style": "IPY_MODEL_37162380eead4baca3d4b0af348a1737",
            "value": 125
          }
        },
        "079d3f242689412c877678908a564c73": {
          "model_module": "@jupyter-widgets/controls",
          "model_name": "HTMLModel",
          "model_module_version": "1.5.0",
          "state": {
            "_dom_classes": [],
            "_model_module": "@jupyter-widgets/controls",
            "_model_module_version": "1.5.0",
            "_model_name": "HTMLModel",
            "_view_count": null,
            "_view_module": "@jupyter-widgets/controls",
            "_view_module_version": "1.5.0",
            "_view_name": "HTMLView",
            "description": "",
            "description_tooltip": null,
            "layout": "IPY_MODEL_757063b1d9b348b78b889612f8246025",
            "placeholder": "​",
            "style": "IPY_MODEL_20e5367f2ff64a8e928d76455086cec4",
            "value": " 125/125 [00:00&lt;00:00, 13.9kB/s]"
          }
        },
        "3505a58ca90d4727833547ff0d0f7276": {
          "model_module": "@jupyter-widgets/base",
          "model_name": "LayoutModel",
          "model_module_version": "1.2.0",
          "state": {
            "_model_module": "@jupyter-widgets/base",
            "_model_module_version": "1.2.0",
            "_model_name": "LayoutModel",
            "_view_count": null,
            "_view_module": "@jupyter-widgets/base",
            "_view_module_version": "1.2.0",
            "_view_name": "LayoutView",
            "align_content": null,
            "align_items": null,
            "align_self": null,
            "border": null,
            "bottom": null,
            "display": null,
            "flex": null,
            "flex_flow": null,
            "grid_area": null,
            "grid_auto_columns": null,
            "grid_auto_flow": null,
            "grid_auto_rows": null,
            "grid_column": null,
            "grid_gap": null,
            "grid_row": null,
            "grid_template_areas": null,
            "grid_template_columns": null,
            "grid_template_rows": null,
            "height": null,
            "justify_content": null,
            "justify_items": null,
            "left": null,
            "margin": null,
            "max_height": null,
            "max_width": null,
            "min_height": null,
            "min_width": null,
            "object_fit": null,
            "object_position": null,
            "order": null,
            "overflow": null,
            "overflow_x": null,
            "overflow_y": null,
            "padding": null,
            "right": null,
            "top": null,
            "visibility": null,
            "width": null
          }
        },
        "90b83c798ef0458a8419ffbf2b2ec60b": {
          "model_module": "@jupyter-widgets/base",
          "model_name": "LayoutModel",
          "model_module_version": "1.2.0",
          "state": {
            "_model_module": "@jupyter-widgets/base",
            "_model_module_version": "1.2.0",
            "_model_name": "LayoutModel",
            "_view_count": null,
            "_view_module": "@jupyter-widgets/base",
            "_view_module_version": "1.2.0",
            "_view_name": "LayoutView",
            "align_content": null,
            "align_items": null,
            "align_self": null,
            "border": null,
            "bottom": null,
            "display": null,
            "flex": null,
            "flex_flow": null,
            "grid_area": null,
            "grid_auto_columns": null,
            "grid_auto_flow": null,
            "grid_auto_rows": null,
            "grid_column": null,
            "grid_gap": null,
            "grid_row": null,
            "grid_template_areas": null,
            "grid_template_columns": null,
            "grid_template_rows": null,
            "height": null,
            "justify_content": null,
            "justify_items": null,
            "left": null,
            "margin": null,
            "max_height": null,
            "max_width": null,
            "min_height": null,
            "min_width": null,
            "object_fit": null,
            "object_position": null,
            "order": null,
            "overflow": null,
            "overflow_x": null,
            "overflow_y": null,
            "padding": null,
            "right": null,
            "top": null,
            "visibility": null,
            "width": null
          }
        },
        "ddfb74610f8848518c7ccc6d3ad124ea": {
          "model_module": "@jupyter-widgets/controls",
          "model_name": "DescriptionStyleModel",
          "model_module_version": "1.5.0",
          "state": {
            "_model_module": "@jupyter-widgets/controls",
            "_model_module_version": "1.5.0",
            "_model_name": "DescriptionStyleModel",
            "_view_count": null,
            "_view_module": "@jupyter-widgets/base",
            "_view_module_version": "1.2.0",
            "_view_name": "StyleView",
            "description_width": ""
          }
        },
        "9e03c7aee72b41ba81f9c850aab34b1d": {
          "model_module": "@jupyter-widgets/base",
          "model_name": "LayoutModel",
          "model_module_version": "1.2.0",
          "state": {
            "_model_module": "@jupyter-widgets/base",
            "_model_module_version": "1.2.0",
            "_model_name": "LayoutModel",
            "_view_count": null,
            "_view_module": "@jupyter-widgets/base",
            "_view_module_version": "1.2.0",
            "_view_name": "LayoutView",
            "align_content": null,
            "align_items": null,
            "align_self": null,
            "border": null,
            "bottom": null,
            "display": null,
            "flex": null,
            "flex_flow": null,
            "grid_area": null,
            "grid_auto_columns": null,
            "grid_auto_flow": null,
            "grid_auto_rows": null,
            "grid_column": null,
            "grid_gap": null,
            "grid_row": null,
            "grid_template_areas": null,
            "grid_template_columns": null,
            "grid_template_rows": null,
            "height": null,
            "justify_content": null,
            "justify_items": null,
            "left": null,
            "margin": null,
            "max_height": null,
            "max_width": null,
            "min_height": null,
            "min_width": null,
            "object_fit": null,
            "object_position": null,
            "order": null,
            "overflow": null,
            "overflow_x": null,
            "overflow_y": null,
            "padding": null,
            "right": null,
            "top": null,
            "visibility": null,
            "width": null
          }
        },
        "37162380eead4baca3d4b0af348a1737": {
          "model_module": "@jupyter-widgets/controls",
          "model_name": "ProgressStyleModel",
          "model_module_version": "1.5.0",
          "state": {
            "_model_module": "@jupyter-widgets/controls",
            "_model_module_version": "1.5.0",
            "_model_name": "ProgressStyleModel",
            "_view_count": null,
            "_view_module": "@jupyter-widgets/base",
            "_view_module_version": "1.2.0",
            "_view_name": "StyleView",
            "bar_color": null,
            "description_width": ""
          }
        },
        "757063b1d9b348b78b889612f8246025": {
          "model_module": "@jupyter-widgets/base",
          "model_name": "LayoutModel",
          "model_module_version": "1.2.0",
          "state": {
            "_model_module": "@jupyter-widgets/base",
            "_model_module_version": "1.2.0",
            "_model_name": "LayoutModel",
            "_view_count": null,
            "_view_module": "@jupyter-widgets/base",
            "_view_module_version": "1.2.0",
            "_view_name": "LayoutView",
            "align_content": null,
            "align_items": null,
            "align_self": null,
            "border": null,
            "bottom": null,
            "display": null,
            "flex": null,
            "flex_flow": null,
            "grid_area": null,
            "grid_auto_columns": null,
            "grid_auto_flow": null,
            "grid_auto_rows": null,
            "grid_column": null,
            "grid_gap": null,
            "grid_row": null,
            "grid_template_areas": null,
            "grid_template_columns": null,
            "grid_template_rows": null,
            "height": null,
            "justify_content": null,
            "justify_items": null,
            "left": null,
            "margin": null,
            "max_height": null,
            "max_width": null,
            "min_height": null,
            "min_width": null,
            "object_fit": null,
            "object_position": null,
            "order": null,
            "overflow": null,
            "overflow_x": null,
            "overflow_y": null,
            "padding": null,
            "right": null,
            "top": null,
            "visibility": null,
            "width": null
          }
        },
        "20e5367f2ff64a8e928d76455086cec4": {
          "model_module": "@jupyter-widgets/controls",
          "model_name": "DescriptionStyleModel",
          "model_module_version": "1.5.0",
          "state": {
            "_model_module": "@jupyter-widgets/controls",
            "_model_module_version": "1.5.0",
            "_model_name": "DescriptionStyleModel",
            "_view_count": null,
            "_view_module": "@jupyter-widgets/base",
            "_view_module_version": "1.2.0",
            "_view_name": "StyleView",
            "description_width": ""
          }
        },
        "a3f7d2f4674e4577b22e1a2575f5210e": {
          "model_module": "@jupyter-widgets/controls",
          "model_name": "HBoxModel",
          "model_module_version": "1.5.0",
          "state": {
            "_dom_classes": [],
            "_model_module": "@jupyter-widgets/controls",
            "_model_module_version": "1.5.0",
            "_model_name": "HBoxModel",
            "_view_count": null,
            "_view_module": "@jupyter-widgets/controls",
            "_view_module_version": "1.5.0",
            "_view_name": "HBoxView",
            "box_style": "",
            "children": [
              "IPY_MODEL_ed98d695c3264299a2277e9d75073f78",
              "IPY_MODEL_ee94b9e0f6d14a28821d265e7a5992c0",
              "IPY_MODEL_4fbcf1d9e23d424185dfe59586b009b8"
            ],
            "layout": "IPY_MODEL_cc07519eb8864085b21d8b1493658c45"
          }
        },
        "ed98d695c3264299a2277e9d75073f78": {
          "model_module": "@jupyter-widgets/controls",
          "model_name": "HTMLModel",
          "model_module_version": "1.5.0",
          "state": {
            "_dom_classes": [],
            "_model_module": "@jupyter-widgets/controls",
            "_model_module_version": "1.5.0",
            "_model_name": "HTMLModel",
            "_view_count": null,
            "_view_module": "@jupyter-widgets/controls",
            "_view_module_version": "1.5.0",
            "_view_name": "HTMLView",
            "description": "",
            "description_tooltip": null,
            "layout": "IPY_MODEL_db20bf74ae3447beb903cf76756887fe",
            "placeholder": "​",
            "style": "IPY_MODEL_61d68383ff804e97ba74caf52911fd30",
            "value": "config.json: 100%"
          }
        },
        "ee94b9e0f6d14a28821d265e7a5992c0": {
          "model_module": "@jupyter-widgets/controls",
          "model_name": "FloatProgressModel",
          "model_module_version": "1.5.0",
          "state": {
            "_dom_classes": [],
            "_model_module": "@jupyter-widgets/controls",
            "_model_module_version": "1.5.0",
            "_model_name": "FloatProgressModel",
            "_view_count": null,
            "_view_module": "@jupyter-widgets/controls",
            "_view_module_version": "1.5.0",
            "_view_name": "ProgressView",
            "bar_style": "success",
            "description": "",
            "description_tooltip": null,
            "layout": "IPY_MODEL_f1ca7e542a5447f1861cf2b7945bca07",
            "max": 191,
            "min": 0,
            "orientation": "horizontal",
            "style": "IPY_MODEL_c69304474c404525885fb760dfdf1bd8",
            "value": 191
          }
        },
        "4fbcf1d9e23d424185dfe59586b009b8": {
          "model_module": "@jupyter-widgets/controls",
          "model_name": "HTMLModel",
          "model_module_version": "1.5.0",
          "state": {
            "_dom_classes": [],
            "_model_module": "@jupyter-widgets/controls",
            "_model_module_version": "1.5.0",
            "_model_name": "HTMLModel",
            "_view_count": null,
            "_view_module": "@jupyter-widgets/controls",
            "_view_module_version": "1.5.0",
            "_view_name": "HTMLView",
            "description": "",
            "description_tooltip": null,
            "layout": "IPY_MODEL_a06bd0d2387b4d3ebc30fbff228219db",
            "placeholder": "​",
            "style": "IPY_MODEL_eeaa7a74f200449c8a23d1a18a41a20e",
            "value": " 191/191 [00:00&lt;00:00, 21.6kB/s]"
          }
        },
        "cc07519eb8864085b21d8b1493658c45": {
          "model_module": "@jupyter-widgets/base",
          "model_name": "LayoutModel",
          "model_module_version": "1.2.0",
          "state": {
            "_model_module": "@jupyter-widgets/base",
            "_model_module_version": "1.2.0",
            "_model_name": "LayoutModel",
            "_view_count": null,
            "_view_module": "@jupyter-widgets/base",
            "_view_module_version": "1.2.0",
            "_view_name": "LayoutView",
            "align_content": null,
            "align_items": null,
            "align_self": null,
            "border": null,
            "bottom": null,
            "display": null,
            "flex": null,
            "flex_flow": null,
            "grid_area": null,
            "grid_auto_columns": null,
            "grid_auto_flow": null,
            "grid_auto_rows": null,
            "grid_column": null,
            "grid_gap": null,
            "grid_row": null,
            "grid_template_areas": null,
            "grid_template_columns": null,
            "grid_template_rows": null,
            "height": null,
            "justify_content": null,
            "justify_items": null,
            "left": null,
            "margin": null,
            "max_height": null,
            "max_width": null,
            "min_height": null,
            "min_width": null,
            "object_fit": null,
            "object_position": null,
            "order": null,
            "overflow": null,
            "overflow_x": null,
            "overflow_y": null,
            "padding": null,
            "right": null,
            "top": null,
            "visibility": null,
            "width": null
          }
        },
        "db20bf74ae3447beb903cf76756887fe": {
          "model_module": "@jupyter-widgets/base",
          "model_name": "LayoutModel",
          "model_module_version": "1.2.0",
          "state": {
            "_model_module": "@jupyter-widgets/base",
            "_model_module_version": "1.2.0",
            "_model_name": "LayoutModel",
            "_view_count": null,
            "_view_module": "@jupyter-widgets/base",
            "_view_module_version": "1.2.0",
            "_view_name": "LayoutView",
            "align_content": null,
            "align_items": null,
            "align_self": null,
            "border": null,
            "bottom": null,
            "display": null,
            "flex": null,
            "flex_flow": null,
            "grid_area": null,
            "grid_auto_columns": null,
            "grid_auto_flow": null,
            "grid_auto_rows": null,
            "grid_column": null,
            "grid_gap": null,
            "grid_row": null,
            "grid_template_areas": null,
            "grid_template_columns": null,
            "grid_template_rows": null,
            "height": null,
            "justify_content": null,
            "justify_items": null,
            "left": null,
            "margin": null,
            "max_height": null,
            "max_width": null,
            "min_height": null,
            "min_width": null,
            "object_fit": null,
            "object_position": null,
            "order": null,
            "overflow": null,
            "overflow_x": null,
            "overflow_y": null,
            "padding": null,
            "right": null,
            "top": null,
            "visibility": null,
            "width": null
          }
        },
        "61d68383ff804e97ba74caf52911fd30": {
          "model_module": "@jupyter-widgets/controls",
          "model_name": "DescriptionStyleModel",
          "model_module_version": "1.5.0",
          "state": {
            "_model_module": "@jupyter-widgets/controls",
            "_model_module_version": "1.5.0",
            "_model_name": "DescriptionStyleModel",
            "_view_count": null,
            "_view_module": "@jupyter-widgets/base",
            "_view_module_version": "1.2.0",
            "_view_name": "StyleView",
            "description_width": ""
          }
        },
        "f1ca7e542a5447f1861cf2b7945bca07": {
          "model_module": "@jupyter-widgets/base",
          "model_name": "LayoutModel",
          "model_module_version": "1.2.0",
          "state": {
            "_model_module": "@jupyter-widgets/base",
            "_model_module_version": "1.2.0",
            "_model_name": "LayoutModel",
            "_view_count": null,
            "_view_module": "@jupyter-widgets/base",
            "_view_module_version": "1.2.0",
            "_view_name": "LayoutView",
            "align_content": null,
            "align_items": null,
            "align_self": null,
            "border": null,
            "bottom": null,
            "display": null,
            "flex": null,
            "flex_flow": null,
            "grid_area": null,
            "grid_auto_columns": null,
            "grid_auto_flow": null,
            "grid_auto_rows": null,
            "grid_column": null,
            "grid_gap": null,
            "grid_row": null,
            "grid_template_areas": null,
            "grid_template_columns": null,
            "grid_template_rows": null,
            "height": null,
            "justify_content": null,
            "justify_items": null,
            "left": null,
            "margin": null,
            "max_height": null,
            "max_width": null,
            "min_height": null,
            "min_width": null,
            "object_fit": null,
            "object_position": null,
            "order": null,
            "overflow": null,
            "overflow_x": null,
            "overflow_y": null,
            "padding": null,
            "right": null,
            "top": null,
            "visibility": null,
            "width": null
          }
        },
        "c69304474c404525885fb760dfdf1bd8": {
          "model_module": "@jupyter-widgets/controls",
          "model_name": "ProgressStyleModel",
          "model_module_version": "1.5.0",
          "state": {
            "_model_module": "@jupyter-widgets/controls",
            "_model_module_version": "1.5.0",
            "_model_name": "ProgressStyleModel",
            "_view_count": null,
            "_view_module": "@jupyter-widgets/base",
            "_view_module_version": "1.2.0",
            "_view_name": "StyleView",
            "bar_color": null,
            "description_width": ""
          }
        },
        "a06bd0d2387b4d3ebc30fbff228219db": {
          "model_module": "@jupyter-widgets/base",
          "model_name": "LayoutModel",
          "model_module_version": "1.2.0",
          "state": {
            "_model_module": "@jupyter-widgets/base",
            "_model_module_version": "1.2.0",
            "_model_name": "LayoutModel",
            "_view_count": null,
            "_view_module": "@jupyter-widgets/base",
            "_view_module_version": "1.2.0",
            "_view_name": "LayoutView",
            "align_content": null,
            "align_items": null,
            "align_self": null,
            "border": null,
            "bottom": null,
            "display": null,
            "flex": null,
            "flex_flow": null,
            "grid_area": null,
            "grid_auto_columns": null,
            "grid_auto_flow": null,
            "grid_auto_rows": null,
            "grid_column": null,
            "grid_gap": null,
            "grid_row": null,
            "grid_template_areas": null,
            "grid_template_columns": null,
            "grid_template_rows": null,
            "height": null,
            "justify_content": null,
            "justify_items": null,
            "left": null,
            "margin": null,
            "max_height": null,
            "max_width": null,
            "min_height": null,
            "min_width": null,
            "object_fit": null,
            "object_position": null,
            "order": null,
            "overflow": null,
            "overflow_x": null,
            "overflow_y": null,
            "padding": null,
            "right": null,
            "top": null,
            "visibility": null,
            "width": null
          }
        },
        "eeaa7a74f200449c8a23d1a18a41a20e": {
          "model_module": "@jupyter-widgets/controls",
          "model_name": "DescriptionStyleModel",
          "model_module_version": "1.5.0",
          "state": {
            "_model_module": "@jupyter-widgets/controls",
            "_model_module_version": "1.5.0",
            "_model_name": "DescriptionStyleModel",
            "_view_count": null,
            "_view_module": "@jupyter-widgets/base",
            "_view_module_version": "1.2.0",
            "_view_name": "StyleView",
            "description_width": ""
          }
        }
      }
    }
  },
  "nbformat": 4,
  "nbformat_minor": 0
}